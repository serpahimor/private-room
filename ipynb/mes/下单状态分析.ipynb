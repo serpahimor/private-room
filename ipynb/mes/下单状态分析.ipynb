{
 "cells": [
  {
   "cell_type": "code",
   "execution_count": 1,
   "metadata": {},
   "outputs": [],
   "source": [
    "%matplotlib inline\n",
    "import pandas as pd\n",
    "import cx_Oracle as oracle\n",
    "import matplotlib.pyplot as plt\n",
    "plt.rcParams['font.sans-serif'] = ['SimHei']\n",
    "plt.rcParams['axes.unicode_minus'] = False"
   ]
  },
  {
   "cell_type": "code",
   "execution_count": 20,
   "metadata": {},
   "outputs": [],
   "source": [
    "df_budan_reason=pd.read_excel('data/补单原因.xls')\n",
    "df_time=pd.read_excel('data/华广订单时间统计.xls')\n",
    "df_huaguang_order_num=pd.read_excel('data/华广下单数量.xls')\n",
    "df_yuanfang_order_num=pd.read_excel('data/园方下单数量.xls')"
   ]
  },
  {
   "cell_type": "code",
   "execution_count": 21,
   "metadata": {},
   "outputs": [
    {
     "name": "stdout",
     "output_type": "stream",
     "text": [
      "<class 'pandas.core.frame.DataFrame'>\n",
      "RangeIndex: 129 entries, 0 to 128\n",
      "Data columns (total 5 columns):\n",
      "门店名称     129 non-null object\n",
      "门店号      129 non-null int64\n",
      "圆方下单量    129 non-null int64\n",
      "圆方退回量    114 non-null float64\n",
      "圆方补单量    54 non-null float64\n",
      "dtypes: float64(2), int64(2), object(1)\n",
      "memory usage: 5.1+ KB\n"
     ]
    }
   ],
   "source": [
    "df_yuanfang_order_num.info()"
   ]
  },
  {
   "cell_type": "code",
   "execution_count": 22,
   "metadata": {},
   "outputs": [
    {
     "data": {
      "text/html": [
       "<div>\n",
       "<style scoped>\n",
       "    .dataframe tbody tr th:only-of-type {\n",
       "        vertical-align: middle;\n",
       "    }\n",
       "\n",
       "    .dataframe tbody tr th {\n",
       "        vertical-align: top;\n",
       "    }\n",
       "\n",
       "    .dataframe thead th {\n",
       "        text-align: right;\n",
       "    }\n",
       "</style>\n",
       "<table border=\"1\" class=\"dataframe\">\n",
       "  <thead>\n",
       "    <tr style=\"text-align: right;\">\n",
       "      <th></th>\n",
       "      <th>门店名称</th>\n",
       "      <th>门店号</th>\n",
       "      <th>圆方下单量</th>\n",
       "      <th>圆方退回量</th>\n",
       "      <th>圆方补单量</th>\n",
       "    </tr>\n",
       "  </thead>\n",
       "  <tbody>\n",
       "    <tr>\n",
       "      <th>0</th>\n",
       "      <td>河北石家庄红星店</td>\n",
       "      <td>13010001</td>\n",
       "      <td>51</td>\n",
       "      <td>48.0</td>\n",
       "      <td>4.0</td>\n",
       "    </tr>\n",
       "    <tr>\n",
       "      <th>1</th>\n",
       "      <td>河北唐山丰南红星店</td>\n",
       "      <td>13020001</td>\n",
       "      <td>9</td>\n",
       "      <td>8.0</td>\n",
       "      <td>1.0</td>\n",
       "    </tr>\n",
       "    <tr>\n",
       "      <th>2</th>\n",
       "      <td>河北沧州任丘沿街店</td>\n",
       "      <td>13090001</td>\n",
       "      <td>11</td>\n",
       "      <td>6.0</td>\n",
       "      <td>NaN</td>\n",
       "    </tr>\n",
       "    <tr>\n",
       "      <th>3</th>\n",
       "      <td>山西太原雅阁瑞普店</td>\n",
       "      <td>14010001</td>\n",
       "      <td>62</td>\n",
       "      <td>60.0</td>\n",
       "      <td>2.0</td>\n",
       "    </tr>\n",
       "    <tr>\n",
       "      <th>4</th>\n",
       "      <td>内蒙古呼和浩特金盛店</td>\n",
       "      <td>15010001</td>\n",
       "      <td>19</td>\n",
       "      <td>38.0</td>\n",
       "      <td>2.0</td>\n",
       "    </tr>\n",
       "  </tbody>\n",
       "</table>\n",
       "</div>"
      ],
      "text/plain": [
       "         门店名称       门店号  圆方下单量  圆方退回量  圆方补单量\n",
       "0    河北石家庄红星店  13010001     51   48.0    4.0\n",
       "1   河北唐山丰南红星店  13020001      9    8.0    1.0\n",
       "2   河北沧州任丘沿街店  13090001     11    6.0    NaN\n",
       "3   山西太原雅阁瑞普店  14010001     62   60.0    2.0\n",
       "4  内蒙古呼和浩特金盛店  15010001     19   38.0    2.0"
      ]
     },
     "execution_count": 22,
     "metadata": {},
     "output_type": "execute_result"
    }
   ],
   "source": [
    "df_yuanfang_order_num.head()"
   ]
  },
  {
   "cell_type": "code",
   "execution_count": 23,
   "metadata": {},
   "outputs": [],
   "source": [
    "df_use_huaguang=df_yuanfang_order_num.merge(df_huaguang_order_num).dropna(subset=['圆方下单量']).fillna(0)"
   ]
  },
  {
   "cell_type": "code",
   "execution_count": 6,
   "metadata": {},
   "outputs": [
    {
     "name": "stdout",
     "output_type": "stream",
     "text": [
      "0.6046511627906976 use huaguang\n"
     ]
    }
   ],
   "source": [
    "print(str(len(df_use_huaguang)/len(df_yuanfang_order_num))+\" use huaguang\")"
   ]
  },
  {
   "cell_type": "markdown",
   "metadata": {},
   "source": [
    "# 补单比较"
   ]
  },
  {
   "cell_type": "markdown",
   "metadata": {},
   "source": [
    "* 补单效果=同一门店华广单补单率-圆方单补单率\n",
    "* 华广补单率高：补单效果>0华广单补单率更高，且数值越大华广补单率和圆方补单率相差越大\n",
    "* 华广补单率低：补单效果<0华广单补单率更低，且数值越大华广补单率和圆方补单率相差越大\n",
    "* 补单效果=0华广单补单率和圆方单补单率一致"
   ]
  },
  {
   "cell_type": "code",
   "execution_count": 90,
   "metadata": {},
   "outputs": [
    {
     "data": {
      "text/html": [
       "<div>\n",
       "<style scoped>\n",
       "    .dataframe tbody tr th:only-of-type {\n",
       "        vertical-align: middle;\n",
       "    }\n",
       "\n",
       "    .dataframe tbody tr th {\n",
       "        vertical-align: top;\n",
       "    }\n",
       "\n",
       "    .dataframe thead th {\n",
       "        text-align: right;\n",
       "    }\n",
       "</style>\n",
       "<table border=\"1\" class=\"dataframe\">\n",
       "  <thead>\n",
       "    <tr style=\"text-align: right;\">\n",
       "      <th></th>\n",
       "      <th>门店名称</th>\n",
       "      <th>门店号</th>\n",
       "      <th>圆方下单量</th>\n",
       "      <th>圆方退回量</th>\n",
       "      <th>圆方补单量</th>\n",
       "      <th>华广下单量</th>\n",
       "      <th>华广退回量</th>\n",
       "      <th>华广补单量</th>\n",
       "      <th>圆方退回率</th>\n",
       "      <th>华广退回率</th>\n",
       "      <th>圆方补单率</th>\n",
       "      <th>华广补单率</th>\n",
       "      <th>补单效果</th>\n",
       "      <th>退回效果</th>\n",
       "    </tr>\n",
       "  </thead>\n",
       "  <tbody>\n",
       "    <tr>\n",
       "      <th>0</th>\n",
       "      <td>河北唐山丰南红星店</td>\n",
       "      <td>13020001</td>\n",
       "      <td>9</td>\n",
       "      <td>8.0</td>\n",
       "      <td>1.0</td>\n",
       "      <td>1</td>\n",
       "      <td>0.0</td>\n",
       "      <td>0.0</td>\n",
       "      <td>0.888889</td>\n",
       "      <td>0.000000</td>\n",
       "      <td>0.111111</td>\n",
       "      <td>0.000000</td>\n",
       "      <td>-0.111111</td>\n",
       "      <td>-0.888889</td>\n",
       "    </tr>\n",
       "    <tr>\n",
       "      <th>1</th>\n",
       "      <td>山西太原雅阁瑞普店</td>\n",
       "      <td>14010001</td>\n",
       "      <td>62</td>\n",
       "      <td>60.0</td>\n",
       "      <td>2.0</td>\n",
       "      <td>27</td>\n",
       "      <td>18.0</td>\n",
       "      <td>0.0</td>\n",
       "      <td>0.967742</td>\n",
       "      <td>0.666667</td>\n",
       "      <td>0.032258</td>\n",
       "      <td>0.000000</td>\n",
       "      <td>-0.032258</td>\n",
       "      <td>-0.301075</td>\n",
       "    </tr>\n",
       "    <tr>\n",
       "      <th>2</th>\n",
       "      <td>辽宁沈阳居然之家店</td>\n",
       "      <td>21010001</td>\n",
       "      <td>47</td>\n",
       "      <td>78.0</td>\n",
       "      <td>0.0</td>\n",
       "      <td>1</td>\n",
       "      <td>2.0</td>\n",
       "      <td>0.0</td>\n",
       "      <td>1.659574</td>\n",
       "      <td>2.000000</td>\n",
       "      <td>0.000000</td>\n",
       "      <td>0.000000</td>\n",
       "      <td>0.000000</td>\n",
       "      <td>0.340426</td>\n",
       "    </tr>\n",
       "    <tr>\n",
       "      <th>3</th>\n",
       "      <td>上海嘉定区店</td>\n",
       "      <td>31010002</td>\n",
       "      <td>11</td>\n",
       "      <td>22.0</td>\n",
       "      <td>0.0</td>\n",
       "      <td>111</td>\n",
       "      <td>84.0</td>\n",
       "      <td>8.0</td>\n",
       "      <td>2.000000</td>\n",
       "      <td>0.756757</td>\n",
       "      <td>0.000000</td>\n",
       "      <td>0.072072</td>\n",
       "      <td>0.072072</td>\n",
       "      <td>-1.243243</td>\n",
       "    </tr>\n",
       "    <tr>\n",
       "      <th>4</th>\n",
       "      <td>上海松江区乐迎门店</td>\n",
       "      <td>31010005</td>\n",
       "      <td>115</td>\n",
       "      <td>126.0</td>\n",
       "      <td>16.0</td>\n",
       "      <td>8</td>\n",
       "      <td>3.0</td>\n",
       "      <td>0.0</td>\n",
       "      <td>1.095652</td>\n",
       "      <td>0.375000</td>\n",
       "      <td>0.139130</td>\n",
       "      <td>0.000000</td>\n",
       "      <td>-0.139130</td>\n",
       "      <td>-0.720652</td>\n",
       "    </tr>\n",
       "  </tbody>\n",
       "</table>\n",
       "</div>"
      ],
      "text/plain": [
       "        门店名称       门店号  圆方下单量  圆方退回量  圆方补单量  华广下单量  华广退回量  华广补单量     圆方退回率  \\\n",
       "0  河北唐山丰南红星店  13020001      9    8.0    1.0      1    0.0    0.0  0.888889   \n",
       "1  山西太原雅阁瑞普店  14010001     62   60.0    2.0     27   18.0    0.0  0.967742   \n",
       "2  辽宁沈阳居然之家店  21010001     47   78.0    0.0      1    2.0    0.0  1.659574   \n",
       "3     上海嘉定区店  31010002     11   22.0    0.0    111   84.0    8.0  2.000000   \n",
       "4  上海松江区乐迎门店  31010005    115  126.0   16.0      8    3.0    0.0  1.095652   \n",
       "\n",
       "      华广退回率     圆方补单率     华广补单率      补单效果      退回效果  \n",
       "0  0.000000  0.111111  0.000000 -0.111111 -0.888889  \n",
       "1  0.666667  0.032258  0.000000 -0.032258 -0.301075  \n",
       "2  2.000000  0.000000  0.000000  0.000000  0.340426  \n",
       "3  0.756757  0.000000  0.072072  0.072072 -1.243243  \n",
       "4  0.375000  0.139130  0.000000 -0.139130 -0.720652  "
      ]
     },
     "execution_count": 90,
     "metadata": {},
     "output_type": "execute_result"
    }
   ],
   "source": [
    "df_use_huaguang.eval('''\n",
    "                   圆方退回率= 圆方退回量/圆方下单量\n",
    "                   华广退回率= 华广退回量/华广下单量\n",
    "                   圆方补单率=圆方补单量/圆方下单量\n",
    "                   华广补单率=华广补单量/华广下单量\n",
    "                   补单效果=华广补单率-圆方补单率\n",
    "                   退回效果=华广退回率-圆方退回率\n",
    "''',inplace=True)\n",
    "df_use_huaguang.head()"
   ]
  },
  {
   "cell_type": "code",
   "execution_count": 89,
   "metadata": {
    "scrolled": true
   },
   "outputs": [
    {
     "name": "stdout",
     "output_type": "stream",
     "text": [
      "共78家门店\n",
      "24家门店圆方补单率更高,占比30.77%\n",
      "25家门店华广补单率更高,占比32.05%\n",
      "29家门店华广补单率一样,占比37.18%\n"
     ]
    }
   ],
   "source": [
    "all_orders=len(df_use_huaguang)\n",
    "orders_1=len(df_use_huaguang.query('补单效果>0'))\n",
    "orders_2=len(df_use_huaguang.query('补单效果<0'))\n",
    "orders_3=len(df_use_huaguang.query('补单效果==0'))\n",
    "print('共{}家门店'.format(all_orders))\n",
    "print('{}家门店圆方补单率更高,占比{:.2%}'.format(orders_1,orders_1/all_orders))\n",
    "print('{}家门店华广补单率更高,占比{:.2%}'.format(orders_2,orders_2/all_orders))\n",
    "print('{}家门店华广补单率一样,占比{:.2%}'.format(orders_3,orders_3/all_orders))"
   ]
  },
  {
   "cell_type": "markdown",
   "metadata": {},
   "source": [
    "* 共78家门店\n",
    "* 24家门店圆方补单率更高,占比30.77%\n",
    "* 25家门店华广补单率更高,占比32.05%\n",
    "* 29家门店华广补单率一样,占比37.18%"
   ]
  },
  {
   "cell_type": "code",
   "execution_count": 36,
   "metadata": {},
   "outputs": [
    {
     "data": {
      "text/plain": [
       "<matplotlib.axes._subplots.AxesSubplot at 0x28540cb63c8>"
      ]
     },
     "execution_count": 36,
     "metadata": {},
     "output_type": "execute_result"
    },
    {
     "data": {
      "image/png": "[encoded data removed]",
      "text/plain": [
       "<Figure size 432x288 with 1 Axes>"
      ]
     },
     "metadata": {},
     "output_type": "display_data"
    }
   ],
   "source": [
    "df_use_huaguang.sort_values(['门店号'])[['补单效果']].boxplot()"
   ]
  },
  {
   "cell_type": "code",
   "execution_count": 216,
   "metadata": {},
   "outputs": [
    {
     "data": {
      "text/plain": [
       "<matplotlib.axes._subplots.AxesSubplot at 0x15d6b3495f8>"
      ]
     },
     "execution_count": 216,
     "metadata": {},
     "output_type": "execute_result"
    },
    {
     "data": {
      "image/png": "[encoded data removed]",
      "text/plain": [
       "<Figure size 432x288 with 1 Axes>"
      ]
     },
     "metadata": {},
     "output_type": "display_data"
    }
   ],
   "source": [
    "df_use_huaguang[\n",
    "    (df_use_huaguang['补单效果']>mild_outlier)\n",
    "    &\n",
    "    (df_use_huaguang['补单效果']<extreme_outlier)\n",
    "][['补单效果']].boxplot()"
   ]
  },
  {
   "cell_type": "code",
   "execution_count": 37,
   "metadata": {
    "scrolled": true
   },
   "outputs": [
    {
     "data": {
      "text/plain": [
       "<matplotlib.axes._subplots.AxesSubplot at 0x28541272320>"
      ]
     },
     "execution_count": 37,
     "metadata": {},
     "output_type": "execute_result"
    },
    {
     "data": {
      "image/png": "[encoded data removed]",
      "text/plain": [
       "<Figure size 432x288 with 1 Axes>"
      ]
     },
     "metadata": {},
     "output_type": "display_data"
    }
   ],
   "source": [
    "df_use_huaguang.sort_values(['门店号'])[['补单效果']].plot()"
   ]
  },
  {
   "cell_type": "code",
   "execution_count": 38,
   "metadata": {},
   "outputs": [
    {
     "data": {
      "text/plain": [
       "(-0.12920615420615422, 0.15305516555516557)"
      ]
     },
     "execution_count": 38,
     "metadata": {},
     "output_type": "execute_result"
    }
   ],
   "source": [
    "#取得边缘区间\n",
    "tmp=df_use_huaguang.sort_values(['门店号'])[['补单效果']].describe()['补单效果']\n",
    "IQR=tmp[6]-tmp[4]\n",
    "mild_outlier,extreme_outlier=tmp[4]-IQR,tmp[6]+IQR\n",
    "mild_outlier,extreme_outlier"
   ]
  },
  {
   "cell_type": "code",
   "execution_count": 198,
   "metadata": {},
   "outputs": [
    {
     "data": {
      "text/plain": [
       "<matplotlib.axes._subplots.AxesSubplot at 0x15d6a003da0>"
      ]
     },
     "execution_count": 198,
     "metadata": {},
     "output_type": "execute_result"
    },
    {
     "data": {
      "image/png": "[encoded data removed]",
      "text/plain": [
       "<Figure size 432x288 with 1 Axes>"
      ]
     },
     "metadata": {},
     "output_type": "display_data"
    }
   ],
   "source": [
    "df_use_huaguang[\n",
    "    (df_use_huaguang['补单效果']>mild_outlier)\n",
    "    &\n",
    "    (df_use_huaguang['补单效果']<extreme_outlier)\n",
    "][['补单效果']].plot()"
   ]
  },
  {
   "cell_type": "markdown",
   "metadata": {},
   "source": [
    "# 退单比较"
   ]
  },
  {
   "cell_type": "markdown",
   "metadata": {},
   "source": [
    "* 退单效果=同一门店华广单退回率-圆方单退回率\n",
    "* 华广退单率高：退单效果>0华广单退回率更高，且数值越大华广退回率和圆方退回率相差越大\n",
    "* 华广退单率低：退单效果<0华广单退回率更低，且数值越大华广退回率和圆方退回率相差越大\n",
    "* 退单效果=0华广单退回率和圆方单退回率一致"
   ]
  },
  {
   "cell_type": "code",
   "execution_count": 93,
   "metadata": {},
   "outputs": [
    {
     "name": "stdout",
     "output_type": "stream",
     "text": [
      "共78家门店\n",
      "32家门店华广退回率更高,占比41.03%\n",
      "43家门店圆方退回率更高,占比55.13%\n",
      "3家门店华广，圆方退回率一样,占比3.85%\n"
     ]
    }
   ],
   "source": [
    "all_orders=len(df_use_huaguang)\n",
    "orders_1=len(df_use_huaguang.query('退回效果>0'))\n",
    "orders_2=len(df_use_huaguang.query('退回效果<0'))\n",
    "orders_3=len(df_use_huaguang.query('退回效果==0'))\n",
    "print('共{}家门店'.format(all_orders))\n",
    "print('{}家门店华广退回率更高,占比{:.2%}'.format(orders_1,orders_1/all_orders))\n",
    "print('{}家门店圆方退回率更高,占比{:.2%}'.format(orders_2,orders_2/all_orders))\n",
    "print('{}家门店华广，圆方退回率一样,占比{:.2%}'.format(orders_3,orders_3/all_orders))"
   ]
  },
  {
   "cell_type": "markdown",
   "metadata": {},
   "source": [
    "* 共78家门店\n",
    "* 32家门店华广退回率更高,占比41.03%\n",
    "* 43家门店圆方退回率更高,占比55.13%\n",
    "* 3家门店华广，圆方退回率一样,占比3.85%"
   ]
  },
  {
   "cell_type": "code",
   "execution_count": 191,
   "metadata": {},
   "outputs": [
    {
     "data": {
      "text/plain": [
       "<matplotlib.axes._subplots.AxesSubplot at 0x15d69e08588>"
      ]
     },
     "execution_count": 191,
     "metadata": {},
     "output_type": "execute_result"
    },
    {
     "data": {
      "image/png": "[encoded data removed]",
      "text/plain": [
       "<Figure size 432x288 with 1 Axes>"
      ]
     },
     "metadata": {},
     "output_type": "display_data"
    }
   ],
   "source": [
    "df_use_huaguang.sort_values(['门店号'])[['退回效果']].boxplot()"
   ]
  },
  {
   "cell_type": "code",
   "execution_count": 199,
   "metadata": {},
   "outputs": [
    {
     "data": {
      "text/plain": [
       "<matplotlib.axes._subplots.AxesSubplot at 0x15d6a073eb8>"
      ]
     },
     "execution_count": 199,
     "metadata": {},
     "output_type": "execute_result"
    },
    {
     "data": {
      "image/png": "[encoded data removed]",
      "text/plain": [
       "<Figure size 432x288 with 1 Axes>"
      ]
     },
     "metadata": {},
     "output_type": "display_data"
    }
   ],
   "source": [
    "df_use_huaguang.sort_values(['门店号'])[['退回效果']].plot()"
   ]
  },
  {
   "cell_type": "code",
   "execution_count": 192,
   "metadata": {},
   "outputs": [
    {
     "data": {
      "text/plain": [
       "(-1.840085011803056, 1.419092657877212)"
      ]
     },
     "execution_count": 192,
     "metadata": {},
     "output_type": "execute_result"
    }
   ],
   "source": [
    "#取得边缘区间\n",
    "tmp=df_use_huaguang.sort_values(['门店号'])[['退回效果']].describe()['退回效果']\n",
    "IQR=tmp[6]-tmp[4]\n",
    "mild_outlier,extreme_outlier=tmp[4]-IQR,tmp[6]+IQR\n",
    "mild_outlier,extreme_outlier"
   ]
  },
  {
   "cell_type": "code",
   "execution_count": 193,
   "metadata": {},
   "outputs": [
    {
     "data": {
      "text/plain": [
       "<matplotlib.axes._subplots.AxesSubplot at 0x15d69e59b38>"
      ]
     },
     "execution_count": 193,
     "metadata": {},
     "output_type": "execute_result"
    },
    {
     "data": {
      "image/png": "[encoded data removed]",
      "text/plain": [
       "<Figure size 432x288 with 1 Axes>"
      ]
     },
     "metadata": {},
     "output_type": "display_data"
    }
   ],
   "source": [
    "df_use_huaguang[\n",
    "    (df_use_huaguang['退回效果']>mild_outlier)\n",
    "    &\n",
    "    (df_use_huaguang['退回效果']<extreme_outlier)\n",
    "][['退回效果']].plot()"
   ]
  },
  {
   "cell_type": "markdown",
   "metadata": {},
   "source": [
    "# 生产时间"
   ]
  },
  {
   "cell_type": "code",
   "execution_count": 47,
   "metadata": {},
   "outputs": [],
   "source": [
    "df_time['建单_入库']=abs(pd.to_datetime(df_time['建单时间'])-pd.to_datetime(df_time['入库时间'])).dt.days\n",
    "df_time['建单_出库']=abs(pd.to_datetime(df_time['建单时间'])-pd.to_datetime(df_time['出库时间'])).dt.days"
   ]
  },
  {
   "cell_type": "code",
   "execution_count": 48,
   "metadata": {},
   "outputs": [
    {
     "data": {
      "text/html": [
       "<div>\n",
       "<style scoped>\n",
       "    .dataframe tbody tr th:only-of-type {\n",
       "        vertical-align: middle;\n",
       "    }\n",
       "\n",
       "    .dataframe tbody tr th {\n",
       "        vertical-align: top;\n",
       "    }\n",
       "\n",
       "    .dataframe thead th {\n",
       "        text-align: right;\n",
       "    }\n",
       "</style>\n",
       "<table border=\"1\" class=\"dataframe\">\n",
       "  <thead>\n",
       "    <tr style=\"text-align: right;\">\n",
       "      <th></th>\n",
       "      <th>建单_入库</th>\n",
       "    </tr>\n",
       "  </thead>\n",
       "  <tbody>\n",
       "    <tr>\n",
       "      <th>count</th>\n",
       "      <td>673.000000</td>\n",
       "    </tr>\n",
       "    <tr>\n",
       "      <th>mean</th>\n",
       "      <td>44.909361</td>\n",
       "    </tr>\n",
       "    <tr>\n",
       "      <th>std</th>\n",
       "      <td>8.427163</td>\n",
       "    </tr>\n",
       "    <tr>\n",
       "      <th>min</th>\n",
       "      <td>7.000000</td>\n",
       "    </tr>\n",
       "    <tr>\n",
       "      <th>25%</th>\n",
       "      <td>42.000000</td>\n",
       "    </tr>\n",
       "    <tr>\n",
       "      <th>50%</th>\n",
       "      <td>46.000000</td>\n",
       "    </tr>\n",
       "    <tr>\n",
       "      <th>75%</th>\n",
       "      <td>50.000000</td>\n",
       "    </tr>\n",
       "    <tr>\n",
       "      <th>max</th>\n",
       "      <td>63.000000</td>\n",
       "    </tr>\n",
       "  </tbody>\n",
       "</table>\n",
       "</div>"
      ],
      "text/plain": [
       "            建单_入库\n",
       "count  673.000000\n",
       "mean    44.909361\n",
       "std      8.427163\n",
       "min      7.000000\n",
       "25%     42.000000\n",
       "50%     46.000000\n",
       "75%     50.000000\n",
       "max     63.000000"
      ]
     },
     "execution_count": 48,
     "metadata": {},
     "output_type": "execute_result"
    }
   ],
   "source": [
    "df_time[pd.notnull(df_time['建单_入库'])][['建单_入库']].describe()"
   ]
  },
  {
   "cell_type": "code",
   "execution_count": 49,
   "metadata": {},
   "outputs": [
    {
     "data": {
      "text/html": [
       "<div>\n",
       "<style scoped>\n",
       "    .dataframe tbody tr th:only-of-type {\n",
       "        vertical-align: middle;\n",
       "    }\n",
       "\n",
       "    .dataframe tbody tr th {\n",
       "        vertical-align: top;\n",
       "    }\n",
       "\n",
       "    .dataframe thead th {\n",
       "        text-align: right;\n",
       "    }\n",
       "</style>\n",
       "<table border=\"1\" class=\"dataframe\">\n",
       "  <thead>\n",
       "    <tr style=\"text-align: right;\">\n",
       "      <th></th>\n",
       "      <th>订单号</th>\n",
       "      <th>门店名称</th>\n",
       "      <th>门店号</th>\n",
       "      <th>建单时间</th>\n",
       "      <th>入库时间</th>\n",
       "      <th>出库时间</th>\n",
       "      <th>建单-入库</th>\n",
       "      <th>建单-出库</th>\n",
       "      <th>建单_入库</th>\n",
       "      <th>建单_出库</th>\n",
       "    </tr>\n",
       "  </thead>\n",
       "  <tbody>\n",
       "    <tr>\n",
       "      <th>2060</th>\n",
       "      <td>1341500011807080004</td>\n",
       "      <td>安徽六安金安万达店</td>\n",
       "      <td>34150001</td>\n",
       "      <td>7/8/2018 17:12:52</td>\n",
       "      <td>7/16/2018 13:32:51</td>\n",
       "      <td>7/29/2018 08:36:21</td>\n",
       "      <td>7.0</td>\n",
       "      <td>20.0</td>\n",
       "      <td>7.0</td>\n",
       "      <td>20.0</td>\n",
       "    </tr>\n",
       "  </tbody>\n",
       "</table>\n",
       "</div>"
      ],
      "text/plain": [
       "                      订单号       门店名称       门店号               建单时间  \\\n",
       "2060  1341500011807080004  安徽六安金安万达店  34150001  7/8/2018 17:12:52   \n",
       "\n",
       "                    入库时间                出库时间  建单-入库  建单-出库  建单_入库  建单_出库  \n",
       "2060  7/16/2018 13:32:51  7/29/2018 08:36:21    7.0   20.0    7.0   20.0  "
      ]
     },
     "execution_count": 49,
     "metadata": {},
     "output_type": "execute_result"
    }
   ],
   "source": [
    "df_time.query('建单_入库==建单_入库.min()')"
   ]
  },
  {
   "cell_type": "code",
   "execution_count": 50,
   "metadata": {
    "scrolled": true
   },
   "outputs": [
    {
     "data": {
      "text/html": [
       "<div>\n",
       "<style scoped>\n",
       "    .dataframe tbody tr th:only-of-type {\n",
       "        vertical-align: middle;\n",
       "    }\n",
       "\n",
       "    .dataframe tbody tr th {\n",
       "        vertical-align: top;\n",
       "    }\n",
       "\n",
       "    .dataframe thead th {\n",
       "        text-align: right;\n",
       "    }\n",
       "</style>\n",
       "<table border=\"1\" class=\"dataframe\">\n",
       "  <thead>\n",
       "    <tr style=\"text-align: right;\">\n",
       "      <th></th>\n",
       "      <th>订单号</th>\n",
       "      <th>门店名称</th>\n",
       "      <th>门店号</th>\n",
       "      <th>建单时间</th>\n",
       "      <th>入库时间</th>\n",
       "      <th>出库时间</th>\n",
       "      <th>建单-入库</th>\n",
       "      <th>建单-出库</th>\n",
       "      <th>建单_入库</th>\n",
       "      <th>建单_出库</th>\n",
       "    </tr>\n",
       "  </thead>\n",
       "  <tbody>\n",
       "    <tr>\n",
       "      <th>1535</th>\n",
       "      <td>1320900011806070001</td>\n",
       "      <td>江苏盐城建材店</td>\n",
       "      <td>32090001</td>\n",
       "      <td>6/7/2018 20:15:02</td>\n",
       "      <td>8/10/2018 08:40:13</td>\n",
       "      <td>8/11/2018 14:48:16</td>\n",
       "      <td>63.0</td>\n",
       "      <td>64.0</td>\n",
       "      <td>63.0</td>\n",
       "      <td>64.0</td>\n",
       "    </tr>\n",
       "  </tbody>\n",
       "</table>\n",
       "</div>"
      ],
      "text/plain": [
       "                      订单号     门店名称       门店号               建单时间  \\\n",
       "1535  1320900011806070001  江苏盐城建材店  32090001  6/7/2018 20:15:02   \n",
       "\n",
       "                    入库时间                出库时间  建单-入库  建单-出库  建单_入库  建单_出库  \n",
       "1535  8/10/2018 08:40:13  8/11/2018 14:48:16   63.0   64.0   63.0   64.0  "
      ]
     },
     "execution_count": 50,
     "metadata": {},
     "output_type": "execute_result"
    }
   ],
   "source": [
    "df_time.query('建单_入库==建单_入库.max()')"
   ]
  },
  {
   "cell_type": "code",
   "execution_count": 52,
   "metadata": {},
   "outputs": [
    {
     "data": {
      "text/html": [
       "<div>\n",
       "<style scoped>\n",
       "    .dataframe tbody tr th:only-of-type {\n",
       "        vertical-align: middle;\n",
       "    }\n",
       "\n",
       "    .dataframe tbody tr th {\n",
       "        vertical-align: top;\n",
       "    }\n",
       "\n",
       "    .dataframe thead th {\n",
       "        text-align: right;\n",
       "    }\n",
       "</style>\n",
       "<table border=\"1\" class=\"dataframe\">\n",
       "  <thead>\n",
       "    <tr style=\"text-align: right;\">\n",
       "      <th></th>\n",
       "      <th>门店名称</th>\n",
       "      <th>门店号</th>\n",
       "      <th>圆方下单量</th>\n",
       "      <th>圆方退回量</th>\n",
       "      <th>圆方补单量</th>\n",
       "      <th>华广下单量</th>\n",
       "      <th>华广退回量</th>\n",
       "      <th>华广补单量</th>\n",
       "      <th>圆方退回率</th>\n",
       "      <th>华广退回率</th>\n",
       "      <th>圆方补单率</th>\n",
       "      <th>华广补单率</th>\n",
       "      <th>补单效果</th>\n",
       "    </tr>\n",
       "  </thead>\n",
       "  <tbody>\n",
       "    <tr>\n",
       "      <th>0</th>\n",
       "      <td>河北唐山丰南红星店</td>\n",
       "      <td>13020001</td>\n",
       "      <td>9</td>\n",
       "      <td>8.0</td>\n",
       "      <td>1.0</td>\n",
       "      <td>1</td>\n",
       "      <td>0.0</td>\n",
       "      <td>0.0</td>\n",
       "      <td>0.888889</td>\n",
       "      <td>0.0</td>\n",
       "      <td>0.111111</td>\n",
       "      <td>0.0</td>\n",
       "      <td>-0.111111</td>\n",
       "    </tr>\n",
       "  </tbody>\n",
       "</table>\n",
       "</div>"
      ],
      "text/plain": [
       "        门店名称       门店号  圆方下单量  圆方退回量  圆方补单量  华广下单量  华广退回量  华广补单量     圆方退回率  \\\n",
       "0  河北唐山丰南红星店  13020001      9    8.0    1.0      1    0.0    0.0  0.888889   \n",
       "\n",
       "   华广退回率     圆方补单率  华广补单率      补单效果  \n",
       "0    0.0  0.111111    0.0 -0.111111  "
      ]
     },
     "execution_count": 52,
     "metadata": {},
     "output_type": "execute_result"
    }
   ],
   "source": [
    "df_use_huaguang.head(1)"
   ]
  },
  {
   "cell_type": "code",
   "execution_count": 310,
   "metadata": {},
   "outputs": [
    {
     "data": {
      "text/html": [
       "<div>\n",
       "<style scoped>\n",
       "    .dataframe tbody tr th:only-of-type {\n",
       "        vertical-align: middle;\n",
       "    }\n",
       "\n",
       "    .dataframe tbody tr th {\n",
       "        vertical-align: top;\n",
       "    }\n",
       "\n",
       "    .dataframe thead th {\n",
       "        text-align: right;\n",
       "    }\n",
       "</style>\n",
       "<table border=\"1\" class=\"dataframe\">\n",
       "  <thead>\n",
       "    <tr style=\"text-align: right;\">\n",
       "      <th></th>\n",
       "      <th>门店名称</th>\n",
       "      <th>门店号</th>\n",
       "      <th>圆方下单量</th>\n",
       "      <th>圆方退回量</th>\n",
       "      <th>圆方补单量</th>\n",
       "      <th>华广下单量</th>\n",
       "      <th>华广退回量</th>\n",
       "      <th>华广补单量</th>\n",
       "      <th>圆方退回率</th>\n",
       "      <th>华广退回率</th>\n",
       "      <th>圆方补单率</th>\n",
       "      <th>华广补单率</th>\n",
       "      <th>效果</th>\n",
       "      <th>补单效果</th>\n",
       "      <th>退回效果</th>\n",
       "    </tr>\n",
       "  </thead>\n",
       "  <tbody>\n",
       "    <tr>\n",
       "      <th>3</th>\n",
       "      <td>上海嘉定区店</td>\n",
       "      <td>31010002</td>\n",
       "      <td>11</td>\n",
       "      <td>22.0</td>\n",
       "      <td>0.0</td>\n",
       "      <td>111</td>\n",
       "      <td>84.0</td>\n",
       "      <td>8.0</td>\n",
       "      <td>2.0</td>\n",
       "      <td>0.756757</td>\n",
       "      <td>0.0</td>\n",
       "      <td>0.072072</td>\n",
       "      <td>0.072072</td>\n",
       "      <td>0.072072</td>\n",
       "      <td>-1.243243</td>\n",
       "    </tr>\n",
       "  </tbody>\n",
       "</table>\n",
       "</div>"
      ],
      "text/plain": [
       "     门店名称       门店号  圆方下单量  圆方退回量  圆方补单量  华广下单量  华广退回量  华广补单量  圆方退回率  \\\n",
       "3  上海嘉定区店  31010002     11   22.0    0.0    111   84.0    8.0    2.0   \n",
       "\n",
       "      华广退回率  圆方补单率     华广补单率        效果      补单效果      退回效果  \n",
       "3  0.756757    0.0  0.072072  0.072072  0.072072 -1.243243  "
      ]
     },
     "execution_count": 310,
     "metadata": {},
     "output_type": "execute_result"
    }
   ],
   "source": [
    "df_use_huaguang.query('130>华广下单量>100')"
   ]
  },
  {
   "cell_type": "code",
   "execution_count": 313,
   "metadata": {},
   "outputs": [
    {
     "data": {
      "text/html": [
       "<div>\n",
       "<style scoped>\n",
       "    .dataframe tbody tr th:only-of-type {\n",
       "        vertical-align: middle;\n",
       "    }\n",
       "\n",
       "    .dataframe tbody tr th {\n",
       "        vertical-align: top;\n",
       "    }\n",
       "\n",
       "    .dataframe thead th {\n",
       "        text-align: right;\n",
       "    }\n",
       "</style>\n",
       "<table border=\"1\" class=\"dataframe\">\n",
       "  <thead>\n",
       "    <tr style=\"text-align: right;\">\n",
       "      <th></th>\n",
       "      <th>门店名称</th>\n",
       "      <th>门店号</th>\n",
       "      <th>圆方下单量</th>\n",
       "      <th>圆方退回量</th>\n",
       "      <th>圆方补单量</th>\n",
       "      <th>华广下单量</th>\n",
       "      <th>华广退回量</th>\n",
       "      <th>华广补单量</th>\n",
       "      <th>圆方退回率</th>\n",
       "      <th>华广退回率</th>\n",
       "      <th>圆方补单率</th>\n",
       "      <th>华广补单率</th>\n",
       "      <th>效果</th>\n",
       "      <th>补单效果</th>\n",
       "      <th>退回效果</th>\n",
       "    </tr>\n",
       "  </thead>\n",
       "  <tbody>\n",
       "    <tr>\n",
       "      <th>3</th>\n",
       "      <td>上海嘉定区店</td>\n",
       "      <td>31010002</td>\n",
       "      <td>11</td>\n",
       "      <td>22.0</td>\n",
       "      <td>0.0</td>\n",
       "      <td>111</td>\n",
       "      <td>84.0</td>\n",
       "      <td>8.0</td>\n",
       "      <td>2.000000</td>\n",
       "      <td>0.756757</td>\n",
       "      <td>0.000000</td>\n",
       "      <td>0.072072</td>\n",
       "      <td>0.072072</td>\n",
       "      <td>0.072072</td>\n",
       "      <td>-1.243243</td>\n",
       "    </tr>\n",
       "    <tr>\n",
       "      <th>7</th>\n",
       "      <td>江苏无锡锡沪东路店</td>\n",
       "      <td>32020002</td>\n",
       "      <td>141</td>\n",
       "      <td>156.0</td>\n",
       "      <td>7.0</td>\n",
       "      <td>144</td>\n",
       "      <td>69.0</td>\n",
       "      <td>0.0</td>\n",
       "      <td>1.106383</td>\n",
       "      <td>0.479167</td>\n",
       "      <td>0.049645</td>\n",
       "      <td>0.000000</td>\n",
       "      <td>-0.049645</td>\n",
       "      <td>-0.049645</td>\n",
       "      <td>-0.627216</td>\n",
       "    </tr>\n",
       "    <tr>\n",
       "      <th>27</th>\n",
       "      <td>浙江省杭州市萧山区展示设计中心</td>\n",
       "      <td>33010005</td>\n",
       "      <td>879</td>\n",
       "      <td>430.0</td>\n",
       "      <td>2.0</td>\n",
       "      <td>132</td>\n",
       "      <td>70.0</td>\n",
       "      <td>0.0</td>\n",
       "      <td>0.489192</td>\n",
       "      <td>0.530303</td>\n",
       "      <td>0.002275</td>\n",
       "      <td>0.000000</td>\n",
       "      <td>-0.002275</td>\n",
       "      <td>-0.002275</td>\n",
       "      <td>0.041111</td>\n",
       "    </tr>\n",
       "  </tbody>\n",
       "</table>\n",
       "</div>"
      ],
      "text/plain": [
       "               门店名称       门店号  圆方下单量  圆方退回量  圆方补单量  华广下单量  华广退回量  华广补单量  \\\n",
       "3            上海嘉定区店  31010002     11   22.0    0.0    111   84.0    8.0   \n",
       "7         江苏无锡锡沪东路店  32020002    141  156.0    7.0    144   69.0    0.0   \n",
       "27  浙江省杭州市萧山区展示设计中心  33010005    879  430.0    2.0    132   70.0    0.0   \n",
       "\n",
       "       圆方退回率     华广退回率     圆方补单率     华广补单率        效果      补单效果      退回效果  \n",
       "3   2.000000  0.756757  0.000000  0.072072  0.072072  0.072072 -1.243243  \n",
       "7   1.106383  0.479167  0.049645  0.000000 -0.049645 -0.049645 -0.627216  \n",
       "27  0.489192  0.530303  0.002275  0.000000 -0.002275 -0.002275  0.041111  "
      ]
     },
     "execution_count": 313,
     "metadata": {},
     "output_type": "execute_result"
    }
   ],
   "source": [
    "df_use_huaguang.query('华广下单量>100 or 华广下单量<130')"
   ]
  },
  {
   "cell_type": "code",
   "execution_count": 55,
   "metadata": {},
   "outputs": [
    {
     "data": {
      "text/plain": [
       "<matplotlib.axes._subplots.AxesSubplot at 0x285413eb5f8>"
      ]
     },
     "execution_count": 55,
     "metadata": {},
     "output_type": "execute_result"
    },
    {
     "data": {
      "image/png": "[encoded data removed]",
      "text/plain": [
       "<Figure size 432x288 with 1 Axes>"
      ]
     },
     "metadata": {},
     "output_type": "display_data"
    }
   ],
   "source": [
    "df_use_huaguang.eval('补单率=(华广补单量+圆方补单量)/(华广下单量+圆方下单量)').sort_values('补单率').reset_index()[['补单率']].plot()"
   ]
  }
 ],
 "metadata": {
  "hide_input": false,
  "kernelspec": {
   "display_name": "Python 3",
   "language": "python",
   "name": "python3"
  },
  "language_info": {
   "codemirror_mode": {
    "name": "ipython",
    "version": 3
   },
   "file_extension": ".py",
   "mimetype": "text/x-python",
   "name": "python",
   "nbconvert_exporter": "python",
   "pygments_lexer": "ipython3",
   "version": "3.6.4"
  },
  "toc": {
   "base_numbering": 1,
   "nav_menu": {},
   "number_sections": true,
   "sideBar": true,
   "skip_h1_title": false,
   "title_cell": "Table of Contents",
   "title_sidebar": "Contents",
   "toc_cell": false,
   "toc_position": {},
   "toc_section_display": true,
   "toc_window_display": true
  },
  "varInspector": {
   "cols": {
    "lenName": "4",
    "lenType": 16,
    "lenVar": 40
   },
   "kernels_config": {
    "python": {
     "delete_cmd_postfix": "",
     "delete_cmd_prefix": "del ",
     "library": "var_list.py",
     "varRefreshCmd": "print(var_dic_list())"
    },
    "r": {
     "delete_cmd_postfix": ") ",
     "delete_cmd_prefix": "rm(",
     "library": "var_list.r",
     "varRefreshCmd": "cat(var_dic_list()) "
    }
   },
   "types_to_exclude": [
    "module",
    "function",
    "builtin_function_or_method",
    "instance",
    "_Feature"
   ],
   "window_display": false
  }
 },
 "nbformat": 4,
 "nbformat_minor": 2
}
