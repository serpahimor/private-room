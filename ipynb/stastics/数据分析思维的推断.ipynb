{
 "cells": [
  {
   "cell_type": "markdown",
   "metadata": {},
   "source": [
    "# P-value(假设验证）"
   ]
  },
  {
   "cell_type": "markdown",
   "metadata": {},
   "source": [
    "相关概念\n",
    "* 虚无假设（也叫零假设，Null Hypothesis），通常记作H0。\n",
    "* 对立假设（Alternative Hypothesis），通常记作H1。\n",
    "* chi—square （卡方）\n",
    "$$x^2=\\sum_{i=1}^{n}\\frac{(O_i-E_i)^2}{E_i}$$\n",
    "\n",
    "$$O_i:观察值$$\n",
    "$$E_i:期望值$$\n",
    "卡方表\n",
    "\n",
    "![avatar](https://upload-images.jianshu.io/upload_images/3086153-018bccd5938c0294.png?imageMogr2/auto-orient/strip%7CimageView2/2/w/1000/format/webp)\n",
    "$$\n",
    "\\begin{align}\n",
    "&\\alpha:H0成立，H1判断不成立的概率\\\\\n",
    "& n:自由度\\\\\n",
    "\\end{align}\n",
    "$$"
   ]
  },
  {
   "cell_type": "markdown",
   "metadata": {},
   "source": [
    "数据分布与数据分布的相似度计算"
   ]
  },
  {
   "cell_type": "code",
   "execution_count": 82,
   "metadata": {
    "scrolled": true
   },
   "outputs": [
    {
     "data": {
      "text/plain": [
       "<matplotlib.axes._subplots.AxesSubplot at 0x255a0912940>"
      ]
     },
     "execution_count": 82,
     "metadata": {},
     "output_type": "execute_result"
    },
    {
     "data": {
      "image/png": "[encoded data removed]",
      "text/plain": [
       "<Figure size 432x288 with 1 Axes>"
      ]
     },
     "metadata": {},
     "output_type": "display_data"
    }
   ],
   "source": [
    "%matplotlib inline\n",
    "import pandas as pd\n",
    "import matplotlib.pyplot as plt\n",
    "#所有候选合格人的比例，出现在选拔赛中的比例\n",
    "jury = pd.DataFrame(\n",
    "    {'Ethnicity':['Asian', 'Black', 'Latino', 'White', 'Other'],\n",
    "    'Eligible':[ 0.15, 0.18, 0.12, 0.54, 0.01],\n",
    "    'Panels': [0.15, .17, .11, .54, .01]}\n",
    ")\n",
    "jury=jury.set_index(jury['Ethnicity']).drop(labels=['Ethnicity'],axis=1)\n",
    "jury.plot.bar()"
   ]
  },
  {
   "cell_type": "markdown",
   "metadata": {},
   "source": [
    "两个数据分布的距离"
   ]
  },
  {
   "cell_type": "code",
   "execution_count": 26,
   "metadata": {},
   "outputs": [
    {
     "data": {
      "text/plain": [
       "0.03999999999999999"
      ]
     },
     "execution_count": 26,
     "metadata": {},
     "output_type": "execute_result"
    }
   ],
   "source": [
    "jury.eval('Difference=Panels-Eligible')['Difference'].abs().sum()/2\n",
    "table_tvd(jury, 'Eligible', 'Panels')\n",
    "# 两个数据分布的距离"
   ]
  },
  {
   "cell_type": "code",
   "execution_count": 72,
   "metadata": {},
   "outputs": [
    {
     "data": {
      "text/plain": [
       "0.011114934618031666"
      ]
     },
     "execution_count": 72,
     "metadata": {},
     "output_type": "execute_result"
    },
    {
     "data": {
      "image/png": "[encoded data removed]",
      "text/plain": [
       "<Figure size 432x288 with 1 Axes>"
      ]
     },
     "metadata": {},
     "output_type": "display_data"
    }
   ],
   "source": [
    "def total_variation_distance(distribution_1, distribution_2):\n",
    "    return np.abs(distribution_1 - distribution_2).sum()/2\n",
    "def table_tvd(table, label, other):\n",
    "    return total_variation_distance(table[label], table[other])\n",
    "def proportions_from_distribution(table, label, sample_size):\n",
    "    proportions = np.random.multinomial(sample_size, table[label])/sample_size\n",
    "    table['Random Sample']=proportions\n",
    "    return table\n",
    "panel_size = 1453\n",
    "panels_and_sample=proportions_from_distribution(jury, 'Eligible', panel_size)\n",
    "panels_and_sample.plot.bar()\n",
    "table_tvd(panels_and_sample, 'Eligible', 'Random Sample')"
   ]
  },
  {
   "cell_type": "markdown",
   "metadata": {},
   "source": [
    "随机取样500次中值0.016765与样本组0.015类似,说明取随机样本和总体数据分布较类似"
   ]
  },
  {
   "cell_type": "code",
   "execution_count": 83,
   "metadata": {},
   "outputs": [
    {
     "data": {
      "text/plain": [
       "TVD    0.006593\n",
       "dtype: float64"
      ]
     },
     "execution_count": 83,
     "metadata": {},
     "output_type": "execute_result"
    },
    {
     "data": {
      "image/png": "[encoded data removed]",
      "text/plain": [
       "<Figure size 432x288 with 1 Axes>"
      ]
     },
     "metadata": {},
     "output_type": "display_data"
    }
   ],
   "source": [
    "panel_size = 1453\n",
    "repetitions = 5000\n",
    "\n",
    "tvds = pd.DataFrame()\n",
    "\n",
    "for i in np.arange(repetitions):\n",
    "\n",
    "    new_sample = proportions_from_distribution(jury, 'Eligible', panel_size)\n",
    "    tvds = np.append(tvds, table_tvd(new_sample, 'Eligible', 'Random Sample'))\n",
    "\n",
    "results = pd.DataFrame({'TVD':tvds})\n",
    "results.hist(bins=np.arange(0,0.1,0.005))\n",
    "# results.hist(bins=np.arange(0, 0.1, 0.005))\n",
    "abs(results.median()-table_tvd(jury, 'Eligible', 'Panels'))"
   ]
  },
  {
   "cell_type": "code",
   "execution_count": 84,
   "metadata": {},
   "outputs": [
    {
     "name": "stdout",
     "output_type": "stream",
     "text": [
      "5个自由度\n",
      "p-value=[0.00659326]\n"
     ]
    }
   ],
   "source": [
    "print(\"{}个自由度\".format(len(jury)))\n",
    "print(\"p-value={}\".format(abs(results.median()-table_tvd(jury, 'Eligible', 'Panels')).values))"
   ]
  },
  {
   "cell_type": "code",
   "execution_count": 118,
   "metadata": {},
   "outputs": [
    {
     "data": {
      "text/plain": [
       "0.03318651066758429"
      ]
     },
     "execution_count": 118,
     "metadata": {},
     "output_type": "execute_result"
    }
   ],
   "source": [
    "np.percentile(results,50)\n"
   ]
  },
  {
   "cell_type": "code",
   "execution_count": 117,
   "metadata": {},
   "outputs": [
    {
     "data": {
      "text/plain": [
       "TVD    0.016593\n",
       "Name: 0.5, dtype: float64"
      ]
     },
     "execution_count": 117,
     "metadata": {},
     "output_type": "execute_result"
    }
   ],
   "source": [
    "results.quantile(0.5)"
   ]
  },
  {
   "cell_type": "markdown",
   "metadata": {},
   "source": [
    "# 自举法"
   ]
  },
  {
   "cell_type": "markdown",
   "metadata": {},
   "source": [
    " 自举法是在1个容量为n的原始样本中重复抽取一系列容量也是n的随机样本，并保证每次抽样中每一样本观察值被抽取的概率都是1/n(复置抽样)。这种方法可用来检查样本统计数θ的基本性质，估计θ的标准误和确定一定置信系数下θ的置信区间。"
   ]
  },
  {
   "cell_type": "code",
   "execution_count": null,
   "metadata": {},
   "outputs": [],
   "source": []
  }
 ],
 "metadata": {
  "hide_input": false,
  "kernelspec": {
   "display_name": "Python 3",
   "language": "python",
   "name": "python3"
  },
  "language_info": {
   "codemirror_mode": {
    "name": "ipython",
    "version": 3
   },
   "file_extension": ".py",
   "mimetype": "text/x-python",
   "name": "python",
   "nbconvert_exporter": "python",
   "pygments_lexer": "ipython3",
   "version": "3.6.4"
  },
  "toc": {
   "base_numbering": 1,
   "nav_menu": {},
   "number_sections": true,
   "sideBar": true,
   "skip_h1_title": false,
   "title_cell": "Table of Contents",
   "title_sidebar": "Contents",
   "toc_cell": false,
   "toc_position": {},
   "toc_section_display": true,
   "toc_window_display": false
  },
  "varInspector": {
   "cols": {
    "lenName": "4",
    "lenType": 16,
    "lenVar": 40
   },
   "kernels_config": {
    "python": {
     "delete_cmd_postfix": "",
     "delete_cmd_prefix": "del ",
     "library": "var_list.py",
     "varRefreshCmd": "print(var_dic_list())"
    },
    "r": {
     "delete_cmd_postfix": ") ",
     "delete_cmd_prefix": "rm(",
     "library": "var_list.r",
     "varRefreshCmd": "cat(var_dic_list()) "
    }
   },
   "types_to_exclude": [
    "module",
    "function",
    "builtin_function_or_method",
    "instance",
    "_Feature"
   ],
   "window_display": false
  }
 },
 "nbformat": 4,
 "nbformat_minor": 2
}
