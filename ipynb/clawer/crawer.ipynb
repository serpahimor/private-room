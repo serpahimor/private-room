{
 "cells": [
  {
   "cell_type": "code",
   "execution_count": 2,
   "metadata": {},
   "outputs": [
    {
     "data": {
      "text/plain": [
       "(0, 9, 2, None)"
      ]
     },
     "execution_count": 2,
     "metadata": {},
     "output_type": "execute_result"
    }
   ],
   "source": [
    "import pymysql\n",
    "pymysql.VERSION"
   ]
  },
  {
   "cell_type": "markdown",
   "metadata": {},
   "source": [
    "# 前期准备调研工作"
   ]
  },
  {
   "cell_type": "code",
   "execution_count": 43,
   "metadata": {},
   "outputs": [
    {
     "data": {
      "text/plain": [
       "{'javascript-frameworks': ['Prototype', 'RequireJS']}"
      ]
     },
     "execution_count": 43,
     "metadata": {},
     "output_type": "execute_result"
    }
   ],
   "source": [
    "import builtwith\n",
    "builtwith.parse('http://bing.com')"
   ]
  },
  {
   "cell_type": "code",
   "execution_count": 44,
   "metadata": {
    "collapsed": true
   },
   "outputs": [
    {
     "name": "stdout",
     "output_type": "stream",
     "text": [
      "{\n",
      "  \"domain_name\": [\n",
      "    \"SOHU.COM\",\n",
      "    \"sohu.com\"\n",
      "  ],\n",
      "  \"registrar\": \"MarkMonitor, Inc.\",\n",
      "  \"whois_server\": \"whois.markmonitor.com\",\n",
      "  \"referral_url\": null,\n",
      "  \"updated_date\": [\n",
      "    \"2017-10-30 15:05:27\",\n",
      "    \"2017-10-30 07:52:36\"\n",
      "  ],\n",
      "  \"creation_date\": [\n",
      "    \"1998-07-05 04:00:00\",\n",
      "    \"1998-07-04 21:00:00\"\n",
      "  ],\n",
      "  \"expiration_date\": [\n",
      "    \"2019-07-04 04:00:00\",\n",
      "    \"2019-07-03 21:00:00\"\n",
      "  ],\n",
      "  \"name_servers\": [\n",
      "    \"NS11.SOHU.COM\",\n",
      "    \"NS12.SOHU.COM\",\n",
      "    \"NS13.SOHU.COM\",\n",
      "    \"NS14.SOHU.COM\",\n",
      "    \"NS15.SOHU.COM\",\n",
      "    \"NS16.SOHU.COM\",\n",
      "    \"ns14.sohu.com\",\n",
      "    \"ns13.sohu.com\",\n",
      "    \"ns15.sohu.com\",\n",
      "    \"ns16.sohu.com\",\n",
      "    \"ns11.sohu.com\",\n",
      "    \"ns12.sohu.com\"\n",
      "  ],\n",
      "  \"status\": [\n",
      "    \"clientDeleteProhibited https://icann.org/epp#clientDeleteProhibited\",\n",
      "    \"clientTransferProhibited https://icann.org/epp#clientTransferProhibited\",\n",
      "    \"clientUpdateProhibited https://icann.org/epp#clientUpdateProhibited\",\n",
      "    \"serverDeleteProhibited https://icann.org/epp#serverDeleteProhibited\",\n",
      "    \"serverTransferProhibited https://icann.org/epp#serverTransferProhibited\",\n",
      "    \"serverUpdateProhibited https://icann.org/epp#serverUpdateProhibited\",\n",
      "    \"clientUpdateProhibited (https://www.icann.org/epp#clientUpdateProhibited)\",\n",
      "    \"clientTransferProhibited (https://www.icann.org/epp#clientTransferProhibited)\",\n",
      "    \"clientDeleteProhibited (https://www.icann.org/epp#clientDeleteProhibited)\",\n",
      "    \"serverUpdateProhibited (https://www.icann.org/epp#serverUpdateProhibited)\",\n",
      "    \"serverTransferProhibited (https://www.icann.org/epp#serverTransferProhibited)\",\n",
      "    \"serverDeleteProhibited (https://www.icann.org/epp#serverDeleteProhibited)\"\n",
      "  ],\n",
      "  \"emails\": [\n",
      "    \"abusecomplaints@markmonitor.com\",\n",
      "    \"whoisrelay@markmonitor.com\"\n",
      "  ],\n",
      "  \"dnssec\": \"unsigned\",\n",
      "  \"name\": null,\n",
      "  \"org\": \"Beijing Sohu New Media Information Technology Co. Ltd\",\n",
      "  \"address\": null,\n",
      "  \"city\": null,\n",
      "  \"state\": \"Beijing\",\n",
      "  \"zipcode\": null,\n",
      "  \"country\": \"CN\"\n",
      "}\n"
     ]
    },
    {
     "data": {
      "text/plain": [
       "'MarkMonitor, Inc.'"
      ]
     },
     "execution_count": 44,
     "metadata": {},
     "output_type": "execute_result"
    }
   ],
   "source": [
    "import whois as ws\n",
    "txt=ws.whois('http://www.sohu.com')\n",
    "print(txt)\n",
    "txt['registrar']\n"
   ]
  },
  {
   "cell_type": "markdown",
   "metadata": {},
   "source": [
    "# 抓取数据"
   ]
  },
  {
   "cell_type": "markdown",
   "metadata": {},
   "source": [
    "## urllib"
   ]
  },
  {
   "cell_type": "code",
   "execution_count": 7,
   "metadata": {},
   "outputs": [
    {
     "name": "stdout",
     "output_type": "stream",
     "text": [
      "<html>\r\n",
      "<head>\r\n",
      "\t<script>\r\n",
      "\t\tlocation.replace(location.href.replace(\"https://\",\"http://\"));\r\n",
      "\t</script>\r\n",
      "</head>\r\n",
      "<body>\r\n",
      "\t<noscript><meta http-equiv=\"refresh\" content=\"0;url=http://www.baidu.com/\"></noscript>\r\n",
      "</body>\r\n",
      "</html>\n"
     ]
    }
   ],
   "source": [
    "import urllib.request\n",
    "response = urllib.request.urlopen('https://www.baidu.com')\n",
    "print(response.read().decode('utf-8'))"
   ]
  },
  {
   "cell_type": "code",
   "execution_count": 12,
   "metadata": {},
   "outputs": [
    {
     "name": "stdout",
     "output_type": "stream",
     "text": [
      "200\n",
      "[('Accept-Ranges', 'bytes'), ('Cache-Control', 'no-cache'), ('Content-Length', '227'), ('Content-Type', 'text/html'), ('Date', 'Mon, 27 Aug 2018 09:08:04 GMT'), ('Etag', '\"5b7b7f40-e3\"'), ('Last-Modified', 'Tue, 21 Aug 2018 02:56:00 GMT'), ('P3p', 'CP=\" OTI DSP COR IVA OUR IND COM \"'), ('Pragma', 'no-cache'), ('Server', 'BWS/1.1'), ('Set-Cookie', 'BD_NOT_HTTPS=1; path=/; Max-Age=300'), ('Set-Cookie', 'BIDUPSID=92251608FA29C6ECBEE3F3F6BFB0C139; expires=Thu, 31-Dec-37 23:55:55 GMT; max-age=2147483647; path=/; domain=.baidu.com'), ('Set-Cookie', 'PSTM=1535360884; expires=Thu, 31-Dec-37 23:55:55 GMT; max-age=2147483647; path=/; domain=.baidu.com'), ('Strict-Transport-Security', 'max-age=0'), ('X-Ua-Compatible', 'IE=Edge,chrome=1'), ('Connection', 'close')]\n",
      "BWS/1.1\n"
     ]
    }
   ],
   "source": [
    "print(response.status)\n",
    "print(response.getheaders())\n",
    "print(response.getheader('server'))"
   ]
  },
  {
   "cell_type": "markdown",
   "metadata": {},
   "source": [
    "### 构建header"
   ]
  },
  {
   "cell_type": "code",
   "execution_count": null,
   "metadata": {},
   "outputs": [],
   "source": [
    "# from urllib import request, parse\n",
    "\n",
    "url = 'http://httpbin.org/post'\n",
    "headers = {\n",
    "    'User-Agent':'Mozilla/5.0 (Windows NT 10.0; Win64; x64) AppleWebKit/537.36 (KHTML, like Gecko) Chrome/68.0.3440.106 Safari/537.36',\n",
    "    'Host': 'httpbin.org'\n",
    "}\n",
    "dict = {\n",
    "    'name': 'Germey'\n",
    "}\n",
    "data = bytes(parse.urlencode(dict), encoding='utf8')\n",
    "req = request.Request(url=url, data=data, headers=headers, method='POST')\n",
    "response = request.urlopen(req)\n",
    "print(response.read().decode('utf-8'))"
   ]
  },
  {
   "cell_type": "markdown",
   "metadata": {},
   "source": [
    "### password"
   ]
  },
  {
   "cell_type": "code",
   "execution_count": 46,
   "metadata": {},
   "outputs": [
    {
     "name": "stdout",
     "output_type": "stream",
     "text": [
      "[WinError 10061] 由于目标计算机积极拒绝，无法连接。\n"
     ]
    }
   ],
   "source": [
    "from urllib.request import HTTPPasswordMgrWithDefaultRealm, HTTPBasicAuthHandler, build_opener\n",
    "from urllib.error import URLError\n",
    " \n",
    "username = 'username'\n",
    "password = 'password'\n",
    "url = 'http://localhost:5000/'\n",
    " \n",
    "p = HTTPPasswordMgrWithDefaultRealm()\n",
    "p.add_password(None, url, username, password)\n",
    "auth_handler = HTTPBasicAuthHandler(p)\n",
    "opener = build_opener(auth_handler)\n",
    " \n",
    "try:\n",
    "    result = opener.open(url)\n",
    "    html = result.read().decode('utf-8')\n",
    "    print(html)\n",
    "except URLError as e:\n",
    "    print(e.reason)"
   ]
  },
  {
   "cell_type": "markdown",
   "metadata": {},
   "source": [
    "### 代理"
   ]
  },
  {
   "cell_type": "code",
   "execution_count": 8,
   "metadata": {},
   "outputs": [
    {
     "name": "stdout",
     "output_type": "stream",
     "text": [
      "<html>\r\n",
      "<head>\r\n",
      "\t<script>\r\n",
      "\t\tlocation.replace(location.href.replace(\"https://\",\"http://\"));\r\n",
      "\t</script>\r\n",
      "</head>\r\n",
      "<body>\r\n",
      "\t<noscript><meta http-equiv=\"refresh\" content=\"0;url=http://www.baidu.com/\"></noscript>\r\n",
      "</body>\r\n",
      "</html>\n"
     ]
    }
   ],
   "source": [
    "from urllib.error import URLError\n",
    "from urllib.request import ProxyHandler, build_opener\n",
    " \n",
    "proxy_handler = ProxyHandler({\n",
    "#     'http': 'http://127.0.0.1:9743',\n",
    "#     'https': 'https://127.0.0.1:9743'\n",
    "})\n",
    "opener = build_opener(proxy_handler)\n",
    "try:\n",
    "    response = opener.open('https://www.baidu.com')\n",
    "    print(response.read().decode('utf-8'))\n",
    "except URLError as e:\n",
    "    print(e.reason)"
   ]
  },
  {
   "cell_type": "markdown",
   "metadata": {},
   "source": [
    "### Cookies"
   ]
  },
  {
   "cell_type": "code",
   "execution_count": 3,
   "metadata": {},
   "outputs": [
    {
     "name": "stdout",
     "output_type": "stream",
     "text": [
      "BAIDUID=D2D0E1C5ADC47EB3F69FF9761527DCE3:FG=1\n",
      "BIDUPSID=D2D0E1C5ADC47EB3F69FF9761527DCE3\n",
      "H_PS_PSSID=1430_21085_18559_26925_20929\n",
      "PSTM=1535362137\n",
      "BDSVRTM=0\n",
      "BD_HOME=0\n",
      "delPer=0\n"
     ]
    }
   ],
   "source": [
    "import http.cookiejar, urllib.request\n",
    " \n",
    "cookie = http.cookiejar.CookieJar()\n",
    "handler = urllib.request.HTTPCookieProcessor(cookie)\n",
    "opener = urllib.request.build_opener(handler)\n",
    "response = opener.open('http://www.baidu.com')\n",
    "for item in cookie:\n",
    "    print(item.name+\"=\"+item.value)"
   ]
  },
  {
   "cell_type": "code",
   "execution_count": 5,
   "metadata": {},
   "outputs": [],
   "source": [
    "filename = 'cookies.txt'\n",
    "# cookie = http.cookiejar.MozillaCookieJar(filename)\n",
    "cookie = http.cookiejar.LWPCookieJar(filename)\n",
    "handler = urllib.request.HTTPCookieProcessor(cookie)\n",
    "opener = urllib.request.build_opener(handler)\n",
    "response = opener.open('http://www.baidu.com')\n",
    "cookie.save(ignore_discard=True, ignore_expires=True)"
   ]
  },
  {
   "cell_type": "code",
   "execution_count": 6,
   "metadata": {},
   "outputs": [
    {
     "name": "stdout",
     "output_type": "stream",
     "text": [
      "<!DOCTYPE html>\n",
      "<!--STATUS OK-->\n",
      "\r\n",
      "\r\n",
      "\r\n",
      "\r\n",
      "\r\n",
      "\r\n",
      "\r\n",
      "\r\n",
      "\r\n",
      "\r\n",
      "\r\n",
      "\r\n",
      "\r\n",
      "\r\n",
      "\r\n",
      "\r\n",
      "\r\n",
      "\r\n",
      "\r\n",
      "\r\n",
      "\r\n",
      "\r\n",
      "\r\n",
      "\r\n",
      "\r\n",
      "\r\n",
      "\r\n",
      "\r\n",
      "\r\n",
      "\r\n",
      "\r\n",
      "\r\n",
      "\r\n",
      "\r\n",
      "\r\n",
      "\r\n",
      "\r\n",
      "\r\n",
      "\r\n",
      "\r\n",
      "\r\n",
      "\r\n",
      "\r\n",
      "\r\n",
      "\r\n",
      "\r\n",
      "\r\n",
      "\r\n",
      "\r\n",
      "\r\n",
      "\r\n",
      "\r\n",
      "\r\n",
      "\r\n",
      "\r\n",
      "\r\n",
      "\t\r\n",
      "\r\n",
      "\r\n",
      "\r\n",
      "\r\n",
      "\r\n",
      "\r\n",
      "\r\n",
      "\r\n",
      "\r\n",
      "\r\n",
      "\r\n",
      "\r\n",
      "\r\n",
      "\r\n",
      "\r\n",
      "\r\n",
      "\r\n",
      "\r\n",
      "\r\n",
      "\r\n",
      "\r\n",
      "\r\n",
      "\r\n",
      "\r\n",
      "\r\n",
      "\r\n",
      "\r\n",
      "\r\n",
      "\r\n",
      "\r\n",
      "\r\n",
      "\r\n",
      "\t\r\n",
      "        \r\n",
      "\t\t\t        \r\n",
      "\t\r\n",
      "\t\t\t        \r\n",
      "\t\r\n",
      "\t\t\t        \r\n",
      "\t\r\n",
      "\t\t\t        \r\n",
      "\t\t\t    \r\n",
      "\r\n",
      "\t\r\n",
      "        \r\n",
      "\t\t\t        \r\n",
      "\t\r\n",
      "\t\t\t        \r\n",
      "\t\r\n",
      "\t\t\t        \r\n",
      "\t\r\n",
      "\t\t\t        \r\n",
      "\t\t\t    \r\n",
      "\r\n",
      "\r\n",
      "\n",
      "\n",
      "\n",
      "\n",
      "\n",
      "\n",
      "\n",
      "\n",
      "\n",
      "\n",
      "\n",
      "\n",
      "\n",
      "\n",
      "\n",
      "\n",
      "\n",
      "\n",
      "\n",
      "\n",
      "\n",
      "\n",
      "<html>\n",
      "<head>\n",
      "    \n",
      "    <meta http-equiv=\"content-type\" content=\"text/html;charset=utf-8\">\n",
      "    <meta http-equiv=\"X-UA-Compatible\" content=\"IE=Edge\">\n",
      "\t<meta content=\"always\" name=\"referrer\">\n",
      "    <meta name=\"theme-color\" content=\"#2932e1\">\n",
      "    <link rel=\"shortcut icon\" href=\"/favicon.ico\" type=\"image/x-icon\" />\n",
      "    <link rel=\"search\" type=\"application/opensearchdescription+xml\" href=\"/content-search.xml\" title=\"百度搜索\" />\n",
      "    <link rel=\"icon\" sizes=\"any\" mask href=\"//www.baidu.com/img/baidu_85beaf5496f291521eb75ba38eacbd87.svg\">\n",
      "\t\n",
      "\t\n",
      "\t<link rel=\"dns-prefetch\" href=\"//s1.bdstatic.com\"/>\n",
      "\t<link rel=\"dns-prefetch\" href=\"//t1.baidu.com\"/>\n",
      "\t<link rel=\"dns-prefetch\" href=\"//t2.baidu.com\"/>\n",
      "\t<link rel=\"dns-prefetch\" href=\"//t3.baidu.com\"/>\n",
      "\t<link rel=\"dns-prefetch\" href=\"//t10.baidu.com\"/>\n",
      "\t<link rel=\"dns-prefetch\" href=\"//t11.baidu.com\"/>\n",
      "\t<link rel=\"dns-prefetch\" href=\"//t12.baidu.com\"/>\n",
      "\t<link rel=\"dns-prefetch\" href=\"//b1.bdstatic.com\"/>\n",
      "    \n",
      "    <title>百度一下，你就知道</title>\n",
      "    \n",
      "\n",
      "<style id=\"css_index\" index=\"index\" type=\"text/css\">html,body{height:100%}\n",
      "html{overflow-y:auto}\n",
      "body{font:12px arial;text-align:;background:#fff}\n",
      "body,p,form,ul,li{margin:0;padding:0;list-style:none}\n",
      "body,form,#fm{position:relative}\n",
      "td{text-align:left}\n",
      "img{border:0}\n",
      "a{color:#00c}\n",
      "a:active{color:#f60}\n",
      "input{border:0;padding:0}\n",
      "#wrapper{position:relative;_position:;min-height:100%}\n",
      "#head{padding-bottom:100px;text-align:center;*z-index:1}\n",
      "#ftCon{height:50px;position:absolute;bottom:47px;text-align:left;width:100%;margin:0 auto;z-index:0;overflow:hidden}\n",
      ".ftCon-Wrapper{overflow:hidden;margin:0 auto;text-align:center;*width:640px}\n",
      ".qrcodeCon{text-align:center;position:absolute;bottom:140px;height:60px;width:100%}\n",
      "#qrcode{display:inline-block;*float:left;*margin-top:4px}\n",
      "#qrcode .qrcode-item{float:left}\n",
      "#qrcode .qrcode-item-2{margin-left:33px}\n",
      "#qrcode .qrcode-img{width:60px;height:60px}\n",
      "#qrcode .qrcode-item-1 .qrcode-img{background:url(http://s1.bdstatic.com/r/www/cache/static/home/img/qrcode/zbios_efde696.png) 0 0 no-repeat}\n",
      "#qrcode .qrcode-item-2 .qrcode-img{background:url(http://s1.bdstatic.com/r/www/cache/static/home/img/qrcode/nuomi_365eabd.png) 0 0 no-repeat}\n",
      "@media only screen and (-webkit-min-device-pixel-ratio:2){#qrcode .qrcode-item-1 .qrcode-img{background-image:url(http://s1.bdstatic.com/r/www/cache/static/home/img/qrcode/zbios_x2_9d645d9.png);background-size:60px 60px}\n",
      "#qrcode .qrcode-item-2 .qrcode-img{background-image:url(http://s1.bdstatic.com/r/www/cache/static/home/img/qrcode/nuomi_x2_55dc5b7.png);background-size:60px 60px}}\n",
      "#qrcode .qrcode-text{color:#999;line-height:23px;margin:3px 0 0}\n",
      "#qrcode .qrcode-text a{color:#999;text-decoration:none}\n",
      "#qrcode .qrcode-text p{text-align:center}\n",
      "#qrcode .qrcode-text b{color:#666;font-weight:700}\n",
      "#qrcode .qrcode-text span{letter-spacing:1px}\n",
      "#ftConw{display:inline-block;text-align:left;margin-left:33px;line-height:22px;position:relative;top:-2px;*float:right;*margin-left:0;*position:static}\n",
      "#ftConw,#ftConw a{color:#999}\n",
      "#ftConw{text-align:center;margin-left:0}\n",
      ".bg{background-image:url(http://s1.bdstatic.com/r/www/cache/static/global/img/icons_5859e57.png);background-repeat:no-repeat;_background-image:url(http://s1.bdstatic.com/r/www/cache/static/global/img/icons_d5b04cc.gif)}\n",
      ".c-icon{display:inline-block;width:14px;height:14px;vertical-align:text-bottom;font-style:normal;overflow:hidden;background:url(http://s1.bdstatic.com/r/www/cache/static/global/img/icons_5859e57.png) no-repeat 0 0;_background-image:url(http://s1.bdstatic.com/r/www/cache/static/global/img/icons_d5b04cc.gif)}\n",
      ".c-icon-triangle-down-blue{background-position:-480px -168px}\n",
      ".c-icon-chevron-unfold2{background-position:-504px -168px}\n",
      "#m{width:720px;margin:0 auto}\n",
      "#nv a,#nv b,.btn,#lk{font-size:14px}\n",
      "#nv{height:19px;font-size:16px;margin:0 0 4px;text-align:left;text-indent:137px}\n",
      ".s_btn{width:95px;height:32px;padding-top:2px\\9;font-size:14px;background-color:#ddd;background-position:0 -48px;cursor:pointer}\n",
      ".s_btn_h{background-position:-240px -48px}\n",
      ".s_btn_wr{width:97px;height:34px;display:inline-block;background-position:-120px -48px;*position:relative;z-index:0;vertical-align:top}\n",
      "#jgwab{margin-left:19px}\n",
      "#cp .c-icon-icrlogo,.c-icon-jgwablogo{width:14px;height:17px;display:inline-block;overflow:hidden;background:url(http://s1.bdstatic.com/r/www/cache/static/global/img/icons_5859e57.png) no-repeat;_background-image:url(http://s1.bdstatic.com/r/www/cache/static/global/img/icons_d5b04cc.gif)}\n",
      "#cp .c-icon-icrlogo{background-position:-600px -96px;position:relative;top:3px}\n",
      ".c-icon-jgwablogo{background-position:-623px -96px;position:relative;top:3px}\n",
      "#shouji{margin-right:14px}\n",
      "#u{display:none}\n",
      "#c-tips-container{display:none}\n",
      "#wrapper{min-width:810px;height:100%;min-height:600px}\n",
      "#head{position:relative;padding-bottom:0;height:100%;min-height:600px}\n",
      "#head .head_wrapper{height:100%}\n",
      "#m{position:relative}\n",
      "#fm{padding-left:40px;top:-37px}\n",
      "#lh a{margin-left:62px}\n",
      "#lh #seth,#lh #setf{margin-left:0}\n",
      "#lk{position:absolute;display:none;top:0;right:0;margin:33px 0}\n",
      "#lk span{font:14px \"宋体\"}\n",
      "#nv{position:absolute;display:none;top:0;right:0}\n",
      "#lm{color:#666;width:100%;height:60px;margin-top:60px;line-height:15px;font-size:13px;position:absolute;top:0;left:0}\n",
      "#lm a{color:#666}\n",
      "#pad-version{line-height:40px}\n",
      ".s_ipt_wr.bg,.s_btn_wr.bg,#su.bg{background-image:none}\n",
      ".s_btn_wr{width:auto;height:auto;border-bottom:1px solid transparent;*border-bottom:0}\n",
      ".s_btn{width:100px;height:36px;color:#fff;font-size:15px;letter-spacing:1px;background:#3385ff;border-bottom:1px solid #2d78f4;outline:medium;*border-bottom:0;-webkit-appearance:none;-webkit-border-radius:0}\n",
      ".s_btn.btnhover{background:#317ef3;border-bottom:1px solid #2868c8;*border-bottom:0;box-shadow:1px 1px 1px #ccc}\n",
      ".s_btn_h{background:#3075dc;box-shadow:inset 1px 1px 5px #2964bb;-webkit-box-shadow:inset 1px 1px 5px #2964bb;-moz-box-shadow:inset 1px 1px 5px #2964bb;-o-box-shadow:inset 1px 1px 5px #2964bb}\n",
      "#result_logo{display:none}\n",
      "#index_logo img{display:inline-block;width:270px;height:129px}\n",
      "#s_tab{display:none}\n",
      ".s_form{position:relative;top:38.2%}\n",
      ".s_form_wrapper{position:relative;top:-191px}\n",
      ".s_ipt_wr{height:34px}\n",
      "#head .c-icon-bear-round{display:none}\n",
      "#form{margin:22px auto 0;width:641px;text-align:left;z-index:100}\n",
      "#form .bdsug,#fm .bdsug{top:35px}\n",
      ".bdsug{display:none;position:absolute;width:538px;background:#fff;border:1px solid #ccc;_overflow:hidden;box-shadow:1px 1px 3px #ededed;-webkit-box-shadow:1px 1px 3px #ededed;-moz-box-shadow:1px 1px 3px #ededed;-o-box-shadow:1px 1px 3px #ededed}\n",
      ".bdsug.bdsugbg ul{background:url(http://s1.bdstatic.com/r/www/cache/static/home/img/sugbg_1762fe7.png) 100% 100% no-repeat;background-size:100px 110px;background-image:url(http://s1.bdstatic.com/r/www/cache/static/home/img/sugbg_90fc9cf.gif)\\9}\n",
      ".bdsug li{width:522px;color:#000;font:14px arial;line-height:25px;padding:0 8px;position:relative;cursor:default}\n",
      ".bdsug li.bdsug-s{background:#f0f0f0}\n",
      ".bdsug-store span,.bdsug-store b{color:#7A77C8}\n",
      ".bdsug-store-del{font-size:12px;color:#666;text-decoration:underline;position:absolute;right:8px;top:0;cursor:pointer;display:none}\n",
      ".bdsug-s .bdsug-store-del{display:inline-block}\n",
      ".bdsug-ala{display:inline-block;border-bottom:1px solid #e6e6e6}\n",
      ".bdsug-ala h3{line-height:14px;background:url(//www.baidu.com/img/sug_bd.png) no-repeat left center;margin:8px 0 5px;font-size:12px;font-weight:400;color:#7B7B7B;padding-left:20px}\n",
      ".bdsug-ala p{font-size:14px;font-weight:700;padding-left:20px}\n",
      ".bdsug .bdsug-direct{width:auto;padding:0;border-bottom:1px solid #f1f1f1}\n",
      ".bdsug .bdsug-direct p{color:#00c;font-weight:700;line-height:34px;padding:0 8px;cursor:pointer;white-space:nowrap;overflow:hidden}\n",
      ".bdsug .bdsug-direct p img{width:16px;height:16px;margin:7px 6px 9px 0;vertical-align:middle}\n",
      ".bdsug .bdsug-direct p span{margin-left:8px}\n",
      ".bdsug .bdsug-direct p i{font-size:12px;line-height:100%;font-style:normal;font-weight:400;color:#fff;background-color:#2b99ff;display:inline;text-align:center;padding:1px 5px;*padding:2px 5px 0;margin-left:8px;overflow:hidden}\n",
      ".bdsug .bdsug-pcDirect{color:#000;font-size:14px;line-height:30px;height:30px;background-color:#f8f8f8}\n",
      ".bdsug .bdsug-pc-direct-tip{position:absolute;right:15px;top:8px;width:55px;height:15px;display:block;background:url(http://s1.bdstatic.com/r/www/cache/static/global/img/pc_direct_42d6311.png) no-repeat 0 0}\n",
      ".bdsug li.bdsug-pcDirect-s{background-color:#f0f0f0}\n",
      ".bdsug .bdsug-pcDirect-is{color:#000;font-size:14px;line-height:22px;background-color:#f8f8f8}\n",
      ".bdsug .bdsug-pc-direct-tip-is{position:absolute;right:15px;top:3px;width:55px;height:15px;display:block;background:url(http://s1.bdstatic.com/r/www/cache/static/global/img/pc_direct_42d6311.png) no-repeat 0 0}\n",
      ".bdsug li.bdsug-pcDirect-is-s{background-color:#f0f0f0}\n",
      ".bdsug .bdsug-pcDirect-s .bdsug-pc-direct-tip,.bdsug .bdsug-pcDirect-is-s .bdsug-pc-direct-tip-is{background-position:0 -15px}\n",
      ".bdsug .bdsug-newicon{color:#929292;opacity:.7;font-size:12px;display:inline-block;line-height:22px;letter-spacing:2px}\n",
      ".bdsug .bdsug-s .bdsug-newicon{opacity:1}\n",
      ".bdsug .bdsug-newicon i{letter-spacing:0;font-style:normal}\n",
      ".bdsug .bdsug-feedback-wrap{text-align:right;background:#fafafa;color:#666;height:25px;line-height:25px;display:none}\n",
      ".bdsug .bdsug-feedback{margin-right:10px;text-decoration:underline;color:#666}\n",
      ".toggle-underline{text-decoration:none}\n",
      ".toggle-underline:hover{text-decoration:underline}\n",
      ".tools{position:absolute;right:-75px}\n",
      "#mHolder{width:62px;position:relative;z-index:296;display:none}\n",
      "#mCon{height:18px;line-height:18px;position:absolute;cursor:pointer}\n",
      "#mCon span{color:#00c;display:block;width:24px}\n",
      "#mCon .hw{text-decoration:underline;cursor:pointer;display:inline-block}\n",
      "#mCon .pinyin{display:inline-block}\n",
      "#mCon .c-icon-chevron-unfold2{margin-left:5px}\n",
      "#mMenu a{width:100%;height:100%;display:block;line-height:22px;text-indent:6px;text-decoration:none;filter:none\\9}\n",
      "#mMenu,#user ul{box-shadow:1px 1px 2px #ccc;-moz-box-shadow:1px 1px 2px #ccc;-webkit-box-shadow:1px 1px 2px #ccc;filter:progid:DXImageTransform.Microsoft.Shadow(Strength=2, Direction=135, Color=#cccccc)\\9}\n",
      "#mMenu{width:56px;border:1px solid #9b9b9b;list-style:none;position:absolute;right:27px;top:28px;display:none;background:#fff}\n",
      "#mMenu a:hover{background:#ebebeb}\n",
      "#mMenu .ln{height:1px;background:#ebebeb;overflow:hidden;font-size:1px;line-height:1px;margin-top:-1px}\n",
      "#u1 a:link,#u1 a:visited{color:#666;text-decoration:none}\n",
      "#u1 a:hover,#u1 a:active{text-decoration:underline}\n",
      "#u1 a:active{color:#00c}\n",
      "#u1{z-index:2;color:#fff;position:absolute;right:0;top:0;margin:19px 0 5px;padding:0 96px 0 0}\n",
      "#u1 .reg{display:none}\n",
      "#u1 a.pf,#u1 a.pf:visited{display:inline-block;float:left;color:#333;line-height:24px;font-size:13px;margin-left:20px;overflow:hidden;text-decoration:underline}\n",
      "#u1 a.lb,#u1 a.lb:visited,#u1 a.username{display:inline-block;float:left;color:#333;font-size:13px;line-height:24px;margin-left:20px;text-decoration:underline}\n",
      "#u1 a.bri,#u1 a.bri:visited{display:inline-block;position:absolute;right:10px;width:60px;height:23px;float:left;color:#fff;background:#38f;line-height:24px;font-size:13px;text-align:center;overflow:hidden;border-bottom:1px solid #38f;margin-left:19px;margin-right:2px}\n",
      "#u1 a.bri.brihover{display:none;text-decoration:none;color:#333;background:0 0;border-bottom:1px solid transparent;margin-left:19px}\n",
      "#u1 #lm a{color:#00c;text-decoration:underline}\n",
      "#u1 a.mnav,#u1 a.mnav:visited{float:left;color:#333;font-weight:700;line-height:24px;margin-left:20px;font-size:13px;text-decoration:underline}\n",
      "#u1 a.pf:hover,#u1 a.lb:hover,#u1 a.mnav:hover{color:#00c}\n",
      ".briiconsbg{background-repeat:no-repeat;background-size:300px 18px;background-image:url(http://s1.bdstatic.com/r/www/cache/static/home/img/icons_0c37e9b.png);background-image:url(http://s1.bdstatic.com/r/www/cache/static/home/img/icons_809ae65.gif)\\9}\n",
      ".bdpfmenu{background-color:#fff;border:1px solid #d1d1d1;position:absolute;right:160px;width:68px;top:36px;margin-top:-1px;_margin-top:-3px;z-index:2;box-shadow:1px 1px 5px #d1d1d1;-webkit-box-shadow:1px 1px 5px #d1d1d1;-moz-box-shadow:1px 1px 5px #d1d1d1;-o-box-shadow:1px 1px 5px #d1d1d1}\n",
      ".bdpfmenu a{display:block;text-align:left;margin:0!important;padding:0 9px;line-height:26px;text-decoration:none}\n",
      "#wrapper .bdpfmenu a:link,#wrapper .bdpfmenu a:visited{background:#fff;color:#333}\n",
      "#wrapper .bdpfmenu a:hover,#wrapper .bdpfmenu a:active{background:#38f;text-decoration:none;color:#fff}\n",
      "#wrapper .bdnuarrow{width:0;height:0;font-size:0;line-height:0;display:block;position:absolute;top:-10px;left:50%;margin-left:-5px}\n",
      "#wrapper .bdnuarrow em,#wrapper .bdnuarrow i{width:0;height:0;font-size:0;line-height:0;display:block;position:absolute;border:5px solid transparent;border-style:dashed dashed solid}\n",
      "#wrapper .bdnuarrow em{border-bottom-color:#d8d8d8;top:-1px}\n",
      "#wrapper .bdnuarrow i{border-bottom-color:#fff;top:0}\n",
      ".s-isindex-wrap #wrapper .bdnuarrow{height:13px;background:url(http://s1.bdstatic.com/r/www/cache/static/home/img/icons_0c37e9b.png) no-repeat -90px -1px}\n",
      "#wrapper .bdnuarrow.bdbriarrow{right:104px;display:none!important}\n",
      "#wrapper .bdbri{width:85px;min-height:100px;border-left:1px solid #e7e7e7;position:absolute;background-color:#f9f9f9;overflow:hidden;z-index:2;right:0;top:0}\n",
      "#prefpanel{background:#fafafa;display:none;opacity:0;position:fixed;_position:absolute;top:-359px;z-index:1000;width:100%;min-width:960px;border-bottom:1px solid #ebebeb}\n",
      "#prefpanel form{_width:850px}\n",
      "#wrapper .bdbriimgtitle{color:#333;text-align:center;width:66px;height:43px;line-height:43px;padding-top:9px;margin:0 auto;border-bottom:#f0f0f0 1px solid;font-size:13px;cursor:default}\n",
      "#wrapper .briscrollwrapper{overflow:hidden}\n",
      "#wrapper .briscrollwrapperContainer{position:relative}\n",
      "#wrapper .bdbri.bdbriimg .bdmainlink a,#wrapper .bdbri.bdbriimg .bdothlink a{display:block;text-align:center;width:66px;height:76px;margin:0 auto;border-bottom:#f0f0f0 1px solid;color:#666;text-decoration:none;overflow:hidden}\n",
      "#wrapper .bdbri.bdbriimg .bdmainlink a:visited,#wrapper .bdbri.bdbriimg .bdothlink a:visited{color:#666}\n",
      "#wrapper .bdbri.bdbriimg .bdmainlink a:hover,#wrapper .bdbri.bdbriimg .bdothlink a:hover{color:#666;text-decoration:underline}\n",
      "#wrapper .bdbri.bdbriimg .bdmainlink a:active,#wrapper .bdbri.bdbriimg .bdothlink a:active{color:#00c;text-decoration:underline}\n",
      "#wrapper .bdbri.bdbriimg span{width:36px;height:36px;display:block;margin:10px auto 5px;background:url(http://s1.bdstatic.com/r/www/cache/static/home/img/logos/bdbri_icons_194ae06.png) no-repeat;cursor:pointer}\n",
      "#wrapper .bdbri.bdbriimg .bdbrimore,#wrapper .bdbri.bdbriimg .bdbrievenmore{clear:both;text-align:center}\n",
      "#wrapper .bdbri.bdbriimg .bdbrievenmore{margin-top:15px;height:30px;width:85px;overflow:hidden}\n",
      "#wrapper .bdbri.bdbriimg span.bdbriimgitem_1{background-position:0 0}\n",
      "#wrapper .bdbri.bdbriimg span.bdbriimgitem_2{background-position:-36px 0}\n",
      "#wrapper .bdbri.bdbriimg span.bdbriimgitem_3{width:36px;background:url(http://s1.bdstatic.com/r/www/cache/static/home/img/logos/qqjt_9809ca8.png) no-repeat;background-size:cover}\n",
      "#wrapper .bdbri.bdbriimg span.bdbriimgitem_4{background-position:-112px 0}\n",
      "#wrapper .bdbri.bdbriimg span.bdbriimgitem_5{background-position:-148px 0}\n",
      "#wrapper .bdbri.bdbriimg span.bdbriimgitem_6{background-position:-184px 0}\n",
      "#wrapper .bdbri.bdbriimg span.bdbriimgitem_7{background-position:-220px 0}\n",
      "#wrapper .bdbri.bdbriimg .bdbrievenmore a:link,#wrapper .bdbri.bdbriimg .bdbrievenmore a:visited{color:#666;text-decoration:underline}\n",
      "#wrapper .bdbri.bdbriimg .bdbrievenmore a:hover{color:#666;text-decoration:underline}\n",
      "#wrapper .bdbri.bdbriimg .bdbrievenmore a:active{color:#00c}\n",
      ".bdbriscroll-ctrl-scroll{position:absolute;top:10px;right:1px;width:8px;border-top:1px solid #e4e4e4;border-left:1px solid #e4e4e4;cursor:default;-webkit-user-select:none;-moz-user-select:none}\n",
      ".bdbriscroll-ctrl-scroll .bdbriscroll-axis{width:8px;left:0;z-index:0;position:absolute;background:#f2f2f2}\n",
      ".bdbriscroll-ctrl-scroll-touch .bdbriscroll-axis{width:7px;background:#f2f2f2}\n",
      ".bdbriscroll-ctrl-scroll-hover .bdbriscroll-axis{background:#f2f2f2}\n",
      ".bdbriscroll-ctrl-scroll .bdbriscroll-slider{overflow:hidden;width:7px;height:14px;position:absolute;left:0;z-index:10;display:none;background:#d9d9d9;margin-top:-1px;margin-left:-1px;border-right:1px solid #cecece;border-bottom:1px solid #cecece;cursor:default}\n",
      ".bdbriscroll-ctrl-scroll-touch .bdbriscroll-slider,.bdbriscroll-ctrl-scroll-hover .bdbriscroll-slider{background:#b8b8b8;border-right:1px solid #afafaf;border-bottom:1px solid #afafaf}\n",
      ".s_ipt::-webkit-input-placeholder{padding-left:3px;color:#aaa;font-size:13px}\n",
      ".s_ipt::-moz-placeholder{padding-left:3px;color:#aaa;font-size:13px}\n",
      ".s_ipt:-ms-input-placeholder{padding-left:3px;color:#aaa;font-size:13px}\n",
      ".s_ipt::placeholder{padding-left:3px;color:#aaa;font-size:13px}\n",
      ".kw-placeholder{position:absolute;top:0;left:0;color:#aaa;font-size:13px;height:35px;line-height:35px;padding-left:10px;max-width:360px;z-index:99;pointer-events:none}\n",
      ".kw-placeholder.placeholders-hidden{visibility:hidden}</style>\n",
      "\n",
      "<!--[if lte IE 8]>\n",
      "<style index=\"index\" data-compress=\"strip\">\n",
      ".s_form{top:260px}\n",
      "</style>\n",
      "<![endif]-->\n",
      "<!--[if IE 8]>\n",
      "<style index=\"index\" data-compress=\"strip\">\n",
      "#u1 a.mnav,#u1 a.mnav:visited,#u1 a.lb,#u1 a.lb:visited,#u1 a.pf,#u1 a.pf:visited,#u1 a.bri,#u1 a.bri:visited{font-family:simsun;}\n",
      "</style>\n",
      "<![endif]-->\n",
      "<style data-for=\"debug\">\n",
      "#debug{display:none!important;}\n",
      "</style>\n",
      "<style data-for=\"result\" id=\"css_index_result\" type=\"text/css\">#seth{display:inline;behavior:url(#default#homepage)}\n",
      "#setf{display:inline}\n",
      "#sekj{margin-left:14px}\n",
      "#st,#sekj{display:none}\n",
      ".s_ipt_wr{border:1px solid #b6b6b6;border-color:#7b7b7b #b6b6b6 #b6b6b6 #7b7b7b;background:#fff;display:inline-block;vertical-align:top;width:539px;margin-right:0;border-right-width:0;border-color:#b8b8b8 transparent #ccc #b8b8b8;overflow:hidden}\n",
      ".wrapper_s .s_ipt_wr{width:439px}\n",
      ".wrapper_s .s_ipt{width:434px}\n",
      ".wrapper_s .s_ipt_tip{width:434px}\n",
      ".s_ipt_wr:hover,.s_ipt_wr.ipthover{border-color:#999 transparent #b3b3b3 #999}\n",
      ".s_ipt_wr.iptfocus{border-color:#4791ff transparent #4791ff #4791ff}\n",
      ".s_ipt_tip{color:#aaa;position:absolute;z-index:-10;font:16px/22px arial;height:32px;line-height:32px;padding-left:7px;overflow:hidden;width:526px}\n",
      ".s_ipt{width:526px;height:22px;font:16px/18px arial;line-height:22px;margin:6px 0 0 7px;padding:0;background:transparent;border:0;outline:0;-webkit-appearance:none}\n",
      "#kw{position:relative}\n",
      "#u .username i{background-position:-408px -144px}\n",
      ".bdpfmenu,.usermenu{border:1px solid #d1d1d1;position:absolute;width:105px;top:36px;z-index:302;box-shadow:1px 1px 5px #d1d1d1;-webkit-box-shadow:1px 1px 5px #d1d1d1;-moz-box-shadow:1px 1px 5px #d1d1d1;-o-box-shadow:1px 1px 5px #d1d1d1}\n",
      ".bdpfmenu{font-size:12px;background-color:#fff}\n",
      ".bdpfmenu a,.usermenu a{display:block;text-align:left;margin:0!important;padding:0 9px;line-height:26px;text-decoration:none}\n",
      ".briiconsbg{background-repeat:no-repeat;background-size:300px 18px;background-image:url(http://s1.bdstatic.com/r/www/cache/static/home/img/icons_0c37e9b.png);background-image:url(http://s1.bdstatic.com/r/www/cache/static/home/img/icons_809ae65.gif)\\9}\n",
      "#u{z-index:301;position:absolute;right:0;top:0;margin:21px 9px 5px 0;padding:0}\n",
      ".wrapper_s #u{margin-right:3px}\n",
      "#u a{text-decoration:underline;color:#333;margin:0 7px}\n",
      ".wrapper_s #u a{margin-right:0 6px}\n",
      "#u div a{text-decoration:none}\n",
      "#u a:hover{text-decoration:underline}\n",
      "#u .back_org{color:#666;float:left;display:inline-block;height:24px;line-height:24px}\n",
      "#u .bri{display:inline-block;width:24px;height:24px;float:left;line-height:24px;color:transparent;background:url(http://s1.bdstatic.com/r/www/cache/static/home/img/icons_0c37e9b.png) no-repeat 4px 3px;background-size:300px 18px;background-image:url(http://s1.bdstatic.com/r/www/cache/static/home/img/icons_809ae65.gif)\\9;overflow:hidden}\n",
      "#u .bri:hover,#u .bri.brihover{background-position:-18px 3px}\n",
      "#mCon #imeSIcon{background-position:-408px -144px;margin-left:0}\n",
      "#mCon span{color:#333}\n",
      ".bdpfmenu a:link,.bdpfmenu a:visited,#u .usermenu a:link,#u .usermenu a:visited{background:#fff;color:#333}\n",
      ".bdpfmenu a:hover,.bdpfmenu a:active,#u .usermenu a:hover,#u .usermenu a:active{background:#38f;text-decoration:none;color:#fff}\n",
      ".bdpfmenu{width:70px}\n",
      ".usermenu{width:68px;right:8px}\n",
      "#wrapper .bdnuarrow{width:0;height:0;font-size:0;line-height:0;display:block;position:absolute;top:-10px;left:50%;margin-left:-5px}\n",
      "#wrapper .bdnuarrow em,#wrapper .bdnuarrow i{width:0;height:0;font-size:0;line-height:0;display:block;position:absolute;border:5px solid transparent;border-style:dashed dashed solid}\n",
      "#wrapper .bdnuarrow em{border-bottom-color:#d8d8d8;top:-1px}\n",
      "#wrapper .bdnuarrow i{border-bottom-color:#fff;top:0}\n",
      "#prefpanel{background:#fafafa;display:none;opacity:0;position:fixed;_position:absolute;top:-359px;z-index:500;width:100%;min-width:960px;border-bottom:1px solid #ebebeb}\n",
      "#prefpanel form{_width:850px}\n",
      "#kw_tip{cursor:default;display:none;margin-top:1px}\n",
      "#bds-message-wrapper{top:43px}\n",
      ".quickdelete-wrap{position:relative}\n",
      ".quickdelete-wrap input{width:500px}\n",
      ".wrapper_l .quickdelete-wrap input{width:500px}\n",
      ".wrapper_s .quickdelete-wrap input{width:402px}\n",
      "input::-ms-clear{display:none}\n",
      ".quickdelete{width:32px;height:32px;background:url(http://s1.bdstatic.com/r/www/cache/static/global/img/quickdelete_33e3eb8.png) no-repeat;background-position:10px 10px;position:absolute;display:block}\n",
      ".quickdelete:hover{background-position:10px -24px}\n",
      "#lh a{margin-left:25px}\n",
      ".bdbriwrapper-tuiguang{display:none!important}</style>\n",
      "<!--[if IE 8]>\n",
      "<style index=\"index\" data-compress=\"strip\">\n",
      ".s_ipt{background-color:#FFF;}\n",
      "</style>\n",
      "<![endif]-->\n",
      "\n",
      "    \n",
      "<script data-compress=\"strip\">\r\n",
      "function h(obj){\r\n",
      "    obj.style.behavior='url(#default#homepage)';\r\n",
      "\tvar a = obj.setHomePage('//www.baidu.com/');\r\n",
      "}\r\n",
      "</script>\n",
      "\n",
      "<noscript>\n",
      "    <meta http-equiv=\"refresh\" content=\"0; url=/baidu.html?from=noscript\"/>\n",
      "</noscript>\n",
      "\n",
      "    <script>window._ASYNC_START=new Date().getTime();</script>\n",
      "</head>\n",
      "\n",
      "<body link=\"#0000cc\">\n",
      "\t<script>\n",
      "\tif (/Chrome\\/37.0.2062.94/i.test(navigator.userAgent) && (/(windows 7)|(windows nt 6.1)/i.test(navigator.userAgent))) {\n",
      "\t\tvar _chrome_37_fix = document.createElement(\"style\");\n",
      "\t\t_chrome_37_fix.type=\"text/css\";\n",
      "\t\t_chrome_37_fix.setAttribute(\"data-for\",\"result\");\n",
      "\t\t_chrome_37_fix.innerHTML = \".t,.f16,#kw,.s_ipt,.c-title,.c-title-size,.to_zhidao,.to_tieba,.to_zhidao_bottom{font-size:15px;} .ec-hospital-info-main h2,.ad-widget-gx_sck-ylzx-doctor-info h2,.ec-card-main h2,.ad-widget-h1 h2,.ad-widget-title h2,.ad-widget-small-head h2,.ad-widget-small-head h2 a,.ad-widget-header .ec-figcaption h2{font-size: 15px !important;}\";\n",
      "\t\tdocument.getElementsByTagName(\"head\")[0].appendChild(_chrome_37_fix);\n",
      "\t}\n",
      "\t</script>\n",
      "    <div id=\"wrapper\" style=\"display:none;\">\n",
      "        \n",
      "\n",
      "\n",
      "        \n",
      "\n",
      "\n",
      "<script>if(window.bds&&bds.util&&bds.util.setContainerWidth){bds.util.setContainerWidth();}</script><div id=\"head\"><div class=\"head_wrapper\"><div class=\"s_form\"><div class=\"s_form_wrapper\"><style>.index-logo-srcnew {display: none;}@media (-webkit-min-device-pixel-ratio: 2),(min--moz-device-pixel-ratio: 2),(-o-min-device-pixel-ratio: 2),(min-device-pixel-ratio: 2){.index-logo-src {display: none;}.index-logo-srcnew {display: inline;}}</style><div id=\"lg\"><img hidefocus=\"true\" class='index-logo-src' src=\"//www.baidu.com/img/bd_logo1.png\" width=\"270\" height=\"129\" usemap=\"#mp\"><img hidefocus=\"true\" class='index-logo-srcnew' src=\"//www.baidu.com/img/bd_logo1.png?qua=high\" width=\"270\" height=\"129\" usemap=\"#mp\"><map name=\"mp\"><area style=\"outline:none;\" hidefocus=\"true\" shape=\"rect\" coords=\"0,0,270,129\" href=\"//www.baidu.com/s?wd=%E4%BB%8A%E6%97%A5%E6%96%B0%E9%B2%9C%E4%BA%8B&tn=SE_PclogoS_8whnvm25&sa=ire_dl_gh_logo&rsv_dl=igh_logo_pcs\" onmousedown=\"return ns_c({fm: 'tab', tab: 'felogo', rsv_platform: 'wwwhome' })\" target=\"_blank\" title=\"点击一下，了解更多\"onmousedown=\"return ns_c({'fm':'behs','tab':'bdlogo'})\"></map></div><a href=\"/\" id=\"result_logo\" onmousedown=\"return c({'fm':'tab','tab':'logo'})\"><img class='index-logo-src' src=\"//www.baidu.com/img/baidu_jgylogo3.gif\" alt=\"到百度首页\" title=\"到百度首页\"><img class='index-logo-srcnew' src=\"//www.baidu.com/img/baidu_jgylogo3.gif\" alt=\"到百度首页\" title=\"到百度首页\"></a><form id=\"form\" name=\"f\" action=\"/s\" class=\"fm\"><input type=\"hidden\" name=\"ie\" value=\"utf-8\"><input type=\"hidden\" name=\"f\" value=\"8\"><input type=\"hidden\" name=\"rsv_bp\" value=\"1\"><input type=\"hidden\" name=\"rsv_idx\" value=\"1\"><input type=hidden name=ch value=\"\"><input type=hidden name=tn value=\"baidu\"><input type=hidden name=bar value=\"\"><span class=\"bg s_ipt_wr\"><input id=\"kw\" name=\"wd\" class=\"s_ipt\" value=\"\" maxlength=\"255\" autocomplete=\"off\"></span><span class=\"bg s_btn_wr\"><input type=\"submit\" id=\"su\" value=\"百度一下\" class=\"bg s_btn\"></span><span class=\"tools\"><span id=\"mHolder\"><div id=\"mCon\"><span>输入法</span></div><ul id=\"mMenu\"><li><a href=\"javascript:;\" name=\"ime_hw\">手写</a></li><li><a href=\"javascript:;\" name=\"ime_py\">拼音</a></li><li class=\"ln\"></li><li><a href=\"javascript:;\" name=\"ime_cl\">关闭</a></li></ul></span></span><input type=\"hidden\" name=\"rn\" value=\"\"><input type=\"hidden\" name=\"oq\" value=\"\"><input type=\"hidden\" name=\"rsv_pq\" value=\"b0d2c0bb0003f15a\"><input type=\"hidden\" name=\"rsv_t\" value=\"ca77kVxSpD48Gv/VQQLbN6S7pMyb7xMnDnuhFMNFX4RtaFWjccsY33Rjlsg\"><input type=\"hidden\" name=\"rqlang\" value=\"cn\"></form><div id=\"m\"></div></div></div><div id=\"u\"><a class=\"toindex\" href=\"/\">百度首页</a><a href=\"javascript:;\" name=\"tj_settingicon\" class=\"pf\">设置<i class=\"c-icon c-icon-triangle-down\"></i></a><a href=\"https://passport.baidu.com/v2/?login&tpl=mn&u=http%3A%2F%2Fwww.baidu.com%2F&sms=5\" name=\"tj_login\" class=\"lb\" onclick=\"return false;\">登录</a></div><div id=\"u1\"><a href=\"http://news.baidu.com\" name=\"tj_trnews\" class=\"mnav\">新闻</a><a href=\"https://www.hao123.com\" name=\"tj_trhao123\" class=\"mnav\">hao123</a><a href=\"http://map.baidu.com\" name=\"tj_trmap\" class=\"mnav\">地图</a><a href=\"http://v.baidu.com\" name=\"tj_trvideo\" class=\"mnav\">视频</a><a href=\"http://tieba.baidu.com\" name=\"tj_trtieba\" class=\"mnav\">贴吧</a><a href=\"http://xueshu.baidu.com\" name=\"tj_trxueshu\" class=\"mnav\">学术</a><a href=\"https://passport.baidu.com/v2/?login&tpl=mn&u=http%3A%2F%2Fwww.baidu.com%2F&sms=5\" name=\"tj_login\" class=\"lb\" onclick=\"return false;\">登录</a><a href=\"http://www.baidu.com/gaoji/preferences.html\" name=\"tj_settingicon\" class=\"pf\">设置</a><a href=\"http://www.baidu.com/more/\" name=\"tj_briicon\" class=\"bri\" style=\"display: block;\">更多产品</a></div></div></div>\n",
      "\n",
      "\n",
      "\n",
      "<div class=\"s_tab\" id=\"s_tab\">\n",
      "<div class=\"s_tab_inner\">\n",
      "    <b>网页</b>\n",
      "    <a href=\"//www.baidu.com/s?rtt=1&bsst=1&cl=2&tn=news&word=\" wdfield=\"word\"  onmousedown=\"return c({'fm':'tab','tab':'news'})\" sync=\"true\">资讯</a>\n",
      "    <a href=\"http://tieba.baidu.com/f?kw=&fr=wwwt\" wdfield=\"kw\"  onmousedown=\"return c({'fm':'tab','tab':'tieba'})\">贴吧</a>\n",
      "    <a href=\"http://zhidao.baidu.com/q?ct=17&pn=0&tn=ikaslist&rn=10&word=&fr=wwwt\" wdfield=\"word\"  onmousedown=\"return c({'fm':'tab','tab':'zhidao'})\">知道</a>\n",
      "    <a href=\"http://music.taihe.com/search?fr=ps&ie=utf-8&key=\" wdfield=\"key\"  onmousedown=\"return c({'fm':'tab','tab':'music'})\">音乐</a>\n",
      "    <a href=\"http://image.baidu.com/search/index?tn=baiduimage&ps=1&ct=201326592&lm=-1&cl=2&nc=1&ie=utf-8&word=\" wdfield=\"word\"  onmousedown=\"return c({'fm':'tab','tab':'pic'})\">图片</a>\n",
      "    <a href=\"http://v.baidu.com/v?ct=301989888&rn=20&pn=0&db=0&s=25&ie=utf-8&word=\" wdfield=\"word\"   onmousedown=\"return c({'fm':'tab','tab':'video'})\">视频</a>\n",
      "    <a href=\"http://map.baidu.com/m?word=&fr=ps01000\" wdfield=\"word\"  onmousedown=\"return c({'fm':'tab','tab':'map'})\">地图</a>\n",
      "    <a href=\"http://wenku.baidu.com/search?word=&lm=0&od=0&ie=utf-8\" wdfield=\"word\"  onmousedown=\"return c({'fm':'tab','tab':'wenku'})\">文库</a>\n",
      "    <a href=\"//www.baidu.com/more/\"  onmousedown=\"return c({'fm':'tab','tab':'more'})\">更多»</a>\n",
      "</div>\n",
      "</div>\n",
      "\n",
      "        \n",
      "\r\n",
      "<div class=\"qrcodeCon\">\r\n",
      "\t<div id=\"qrcode\">\r\n",
      "\t\t<div class=\"qrcode-item qrcode-item-1\">\r\n",
      "\t\t\t<div class=\"qrcode-img\"></div>\r\n",
      "\t\t\t<div class=\"qrcode-text\">\r\n",
      "\t\t\t\t\t<p><b>百度</b></p>\r\n",
      "\t\t\t</div>\r\n",
      "\t\t</div>\r\n",
      "\t</div>\r\n",
      "</div>\r\n",
      "<div id=\"ftCon\">\r\n",
      "\r\n",
      "<div class=\"ftCon-Wrapper\"><div id=\"ftConw\"><p id=\"lh\"><a id=\"setf\" href=\"//www.baidu.com/cache/sethelp/help.html\" onmousedown=\"return ns_c({'fm':'behs','tab':'favorites','pos':0})\" target=\"_blank\">把百度设为主页</a><a onmousedown=\"return ns_c({'fm':'behs','tab':'tj_about'})\" href=\"http://home.baidu.com\">关于百度</a><a onmousedown=\"return ns_c({'fm':'behs','tab':'tj_about_en'})\" href=\"http://ir.baidu.com\">About&nbsp;&nbsp;Baidu</a><a onmousedown=\"return ns_c({'fm':'behs','tab':'tj_tuiguang'})\" href=\"http://e.baidu.com/?refer=888\">百度推广</a></p><p id=\"cp\">&copy;2018&nbsp;Baidu&nbsp;<a href=\"http://www.baidu.com/duty/\" onmousedown=\"return ns_c({'fm':'behs','tab':'tj_duty'})\">使用百度前必读</a>&nbsp;<a href=\"http://jianyi.baidu.com/\" class=\"cp-feedback\" onmousedown=\"return ns_c({'fm':'behs','tab':'tj_homefb'})\">意见反馈</a>&nbsp;京ICP证030173号&nbsp;<i class=\"c-icon-icrlogo\"></i>&nbsp;<a id=\"jgwab\"  target=\"_blank\" href=\"http://www.beian.gov.cn/portal/registerSystemInfo?recordcode=11000002000001\">京公网安备11000002000001号</a>&nbsp;<i class=\"c-icon-jgwablogo\"></i></p></div></div></div>\n",
      "        <div id=\"wrapper_wrapper\">\n",
      "        </div>\n",
      "    </div>\n",
      "    <div class=\"c-tips-container\" id=\"c-tips-container\"></div>\n",
      "    \n",
      "    <script>\n",
      "        window.__async_strategy=2;\n",
      "        //window.__switch_add_mask=false;\n",
      "    </script>\n",
      "    \n",
      "    \n",
      "<script>\n",
      "var bds={\n",
      "    se:{},\n",
      "    su:{\n",
      "        urdata:[],\n",
      "                urSendClick:function(){}\n",
      "    },\n",
      "    util:{},\n",
      "    use:{},\n",
      "    comm : {\n",
      "        domain:\"http://www.baidu.com\",\n",
      "        ubsurl : \"http://sclick.baidu.com/w.gif\",\n",
      "        tn:\"baidu\",\n",
      "        queryEnc:\"\",\n",
      "        queryId:\"\",\n",
      "        inter:\"\",\n",
      "        templateName:\"\",\n",
      "        sugHost : \"http://suggestion.baidu.com/su\",\n",
      "        query : \"\",\n",
      "        dpquery: \"\",\n",
      "        qid : \"b0d2c0bb0003f15a\",\n",
      "        cid : \"0\",\n",
      "        sid : \"1453_21082_18559_26350_26921_22075\",\n",
      "        indexSid : \"1453_21082_18559_26350_26921_22075\",\n",
      "        stoken : \"\",\n",
      "        serverTime : \"1535362303\",\n",
      "        user : \"\",\n",
      "        username : \"\",\n",
      "        userid : \"0\",\n",
      "        loginAction : [],\n",
      "        useFavo : \"\",\n",
      "        pinyin : \"\",\n",
      "        favoOn : \"\",\n",
      "        cookie : {\"BAIDUID\":\"1ECD9A2AF064A8FCC427B7726B15F1C1:FG=1\",\"BIDUPSID\":\"1ECD9A2AF064A8FCC427B7726B15F1C1\",\"PSTM\":\"1522878494\",\"BDORZ\":\"FFFB88E999055A3F8A630C64834BD6D0\",\"H_PS_PSSID\":\"1453_21082_18559_26350_26921_22075\",\"delPer\":\"0\",\"BDSVRTM\":\"0\",\"BD_HOME\":\"0\"},\n",
      "        userAgent : \"test connect\",\n",
      "                curResultNum:\"0\",\n",
      "        rightResultExist:false,\n",
      "        protectNum:0,\n",
      "        zxlNum:0,\n",
      "        pageNum:1,\n",
      "        pageSize:10,\n",
      "        newindex:0,\n",
      "        async:2,\n",
      "        maxPreloadThread:5,\n",
      "        maxPreloadTimes:10,\n",
      "        preloadMouseMoveDistance:5,\n",
      "        switchAddMask:false,\n",
      "        isDebug:false,\n",
      "        ishome : 1,\n",
      "        flagTranslateResult:0,\n",
      "        globalLogFlag:0\n",
      "\t,encTn:'ca77kVxSpD48Gv/VQQLbN6S7pMyb7xMnDnuhFMNFX4RtaFWjccsY33Rjlsg'    }\n",
      "};\n",
      "\n",
      "\n",
      "\n",
      "    \n",
      "\n",
      "\n",
      "//防止从结果页打开的页面中通过opener.xxx来影响百度页面\n",
      "\n",
      "\n",
      "var name,navigate,al_arr=[];\n",
      "var selfOpen = window.open;eval(\"var open = selfOpen;\");\n",
      "var isIE=navigator.userAgent.indexOf(\"MSIE\")!=-1&&!window.opera;\n",
      "var E = bds.ecom= {};\n",
      "\n",
      "bds.se.mon = {'loadedItems':[],'load':function(){},'srvt':-1};\n",
      "\n",
      "try {\n",
      "    bds.se.mon.srvt = parseInt(document.cookie.match(new RegExp(\"(^| )BDSVRTM=([^;]*)(;|$)\"))[2]);\n",
      "    document.cookie=\"BDSVRTM=;expires=Sat, 01 Jan 2000 00:00:00 GMT\";\n",
      "}catch(e){}\n",
      "\n",
      "//兼容之前一些变量\n",
      "var\n",
      "bdUser        = bds.comm.user?bds.comm.user:null,\n",
      "bdQuery       = bds.comm.query,\n",
      "bdUseFavo     = bds.comm.useFavo,\n",
      "bdFavoOn      = bds.comm.favoOn,\n",
      "bdCid         = bds.comm.cid,\n",
      "bdSid         = bds.comm.sid,\n",
      "bdServerTime  = bds.comm.serverTime,\n",
      "bdQid         = bds.comm.queryId,\n",
      "bdstoken      = bds.comm.stoken,\n",
      "login_success = [];\n",
      "\n",
      "\n",
      "\n",
      "</script>\n",
      "<script>\n",
      "/* https域名转换工具 */\n",
      "bds.util.domain = (function(){\n",
      "\t    \t\t\t\t\t\t\t\t\t\t\t\t\t\t\t\t\t\t\t\t\t            \t\t\t\t\t\t\t\t\t\t\t\t\t\t\t\t\t\t\t\t\t\t\tvar list = {\n",
      "        \"graph.baidu.com\": \"http://graph.baidu.com\",\n",
      "\t\t\"p.qiao.baidu.com\":\"http://p.qiao.baidu.com\",\n",
      "\t\t\"vse.baidu.com\":\"http://vse.baidu.com\",\n",
      "\t\t\"hdpreload.baidu.com\":\"http://hdpreload.baidu.com\",\n",
      "\t\t\"lcr.open.baidu.com\":\"http://lcr.open.baidu.com\",\n",
      "\t\t\"kankan.baidu.com\":\"http://kankan.baidu.com\",\n",
      "\t\t\"xapp.baidu.com\":\"http://xapp.baidu.com\",\n",
      "\t\t\"dr.dh.baidu.com\":\"http://dr.dh.baidu.com\",\n",
      "\t\t\"xiaodu.baidu.com\":\"http://xiaodu.baidu.com\",\n",
      "\t\t\"sensearch.baidu.com\":\"http://sensearch.baidu.com\",\n",
      "\t\t\"s1.bdstatic.com\":\"http://s1.bdstatic.com\",\n",
      "\t\t\"olime.baidu.com\":\"http://olime.baidu.com\",\n",
      "\t\t\"app.baidu.com\":\"http://app.baidu.com\",\n",
      "\t\t\"i.baidu.com\":\"http://i.baidu.com\",\n",
      "\t\t\"c.baidu.com\":\"http://c.baidu.com\",\n",
      "\t\t\"sclick.baidu.com\":\"http://sclick.baidu.com\",\n",
      "\t\t\"nsclick.baidu.com\":\"http://nsclick.baidu.com\",\n",
      "\t\t\"sestat.baidu.com\":\"http://sestat.baidu.com\",\n",
      "\t\t\"eclick.baidu.com\":\"http://eclick.baidu.com\",\n",
      "\t\t\"api.map.baidu.com\":\"http://api.map.baidu.com\",\n",
      "\t\t\"ecma.bdimg.com\":\"http://ecma.bdimg.com\",\n",
      "\t\t\"ecmb.bdimg.com\":\"http://ecmb.bdimg.com\",\n",
      "        \"t1.baidu.com\":\"http://t1.baidu.com\",\n",
      "        \"t2.baidu.com\":\"http://t2.baidu.com\",\n",
      "        \"t3.baidu.com\":\"http://t3.baidu.com\",\n",
      "\t\t\"t10.baidu.com\":\"http://t10.baidu.com\",\n",
      "\t\t\"t11.baidu.com\":\"http://t11.baidu.com\",\n",
      "\t\t\"t12.baidu.com\":\"http://t12.baidu.com\",\n",
      "\t\t\"i7.baidu.com\":\"http://i7.baidu.com\",\n",
      "\t\t\"i8.baidu.com\":\"http://i8.baidu.com\",\n",
      "\t\t\"i9.baidu.com\":\"http://i9.baidu.com\",\n",
      "\t\t\"b1.bdstatic.com\":\"http://b1.bdstatic.com\",\n",
      "\t\t\"ss.bdimg.com\":\"http://ss.bdimg.com\",\n",
      "\t\t\"opendata.baidu.com\":\"http://opendata.baidu.com\",\n",
      "\t\t\"api.open.baidu.com\":\"http://api.open.baidu.com\",\n",
      "\t\t\"tag.baidu.com\":\"http://tag.baidu.com\",\n",
      "\t\t\"f3.baidu.com\":\"http://f3.baidu.com\",\n",
      "\t\t\"s.share.baidu.com\":\"http://s.share.baidu.com\",\t\n",
      "\t\t\"bdimg.share.baidu.com\":\"http://bdimg.share.baidu.com\",\n",
      "        \"1.su.bdimg.com\":\"http://1.su.bdimg.com\",\n",
      "        \"2.su.bdimg.com\":\"http://2.su.bdimg.com\",\n",
      "        \"3.su.bdimg.com\":\"http://3.su.bdimg.com\",\n",
      "        \"4.su.bdimg.com\":\"http://4.su.bdimg.com\",\n",
      "        \"5.su.bdimg.com\":\"http://5.su.bdimg.com\",\n",
      "        \"6.su.bdimg.com\":\"http://6.su.bdimg.com\",\n",
      "        \"7.su.bdimg.com\":\"http://7.su.bdimg.com\",\n",
      "        \"8.su.bdimg.com\":\"http://8.su.bdimg.com\"\n",
      "\t};\n",
      "\r\n",
      "\n",
      "\tvar get = function(url) {\n",
      "\t\tif(location.protocol === \"http\") {\n",
      "\t\t\treturn url;\n",
      "\t\t}\n",
      "\t\tvar reg = /^(http[s]?:\\/\\/)?([^\\/]+)(.*)/,\n",
      "\t\tmatches = url.match(reg);\n",
      "\t\t/* 判断传入参数是域名还是地址，分别做处理 */\n",
      "\t\turl = list.hasOwnProperty(matches[2])&&(list[matches[2]] + matches[3]) || url;\n",
      "\t\treturn url;\n",
      "\t},\n",
      "\tset = function(kdomain,vdomain) {\n",
      "\t\tlist[kdomain] = vdomain;\n",
      "\t};\n",
      "\treturn {\n",
      "\t\tget : get,\n",
      "\t\tset : set\n",
      "\t}\n",
      "})();\n",
      "</script>\n",
      "<script>\n",
      "//让用户更快看到首页\n",
      "if(!location.hash.match(/[^a-zA-Z0-9]wd=/)){\n",
      "    document.getElementById(\"wrapper\").style.display='block';\n",
      "    setTimeout(function(){\n",
      "        try{\n",
      "            var kw=document.getElementById(\"kw\");\n",
      "            kw.focus();\n",
      "\t\t\tkw.parentNode.className=\"bg s_ipt_wr iptfocus quickdelete-wrap\";\n",
      "        }catch(e){}\n",
      "    },0);\n",
      "}\n",
      "\n",
      "</script>\n",
      "<script type=\"text/javascript\" src=\"http://s1.bdstatic.com/r/www/cache/static/jquery/jquery-1.10.2.min_65682a2.js\"></script>\n",
      "\n",
      "\n",
      "\n",
      "\n",
      "<script>\n",
      "(function(){\n",
      "\n",
      "    var result_common_css=\"<style data-for=\\\"result\\\" id=\\\"css_result\\\" type=\\\"text\\/css\\\">body{color:#333;background:#fff;padding:6px 0 0;margin:0;position:relative;min-width:900px}body,th,td,.p1,.p2{font-family:arial}p,form,ol,ul,li,dl,dt,dd,h3{margin:0;padding:0;list-style:none}input{padding-top:0;padding-bottom:0;-moz-box-sizing:border-box;-webkit-box-sizing:border-box;box-sizing:border-box}table,img{border:0}td{font-size:9pt;line-height:18px}em{font-style:normal;color:#c00}a em{text-decoration:underline}cite{font-style:normal;color:green}.m,a.m{color:#666}a.m:visited{color:#606}.g,a.g{color:green}.c{color:#77c}.f14{font-size:14px}.f10{font-size:10.5pt}.f16{font-size:16px}.f13{font-size:13px}.bg{background-image:url(http:\\/\\/s1.bdstatic.com\\/r\\/www\\/cache\\/static\\/global\\/img\\/icons_5859e57.png);_background-image:url(http:\\/\\/s1.bdstatic.com\\/r\\/www\\/cache\\/static\\/global\\/img\\/icons_d5b04cc.gif);background-repeat:no-repeat}#u,#head,#tool,#search,#foot{font-size:12px}.logo{width:117px;height:38px;cursor:pointer}.p1{line-height:120%;margin-left:-12pt}.p2{width:100%;line-height:120%;margin-left:-12pt}#wrapper{_zoom:1}#container{word-break:break-all;word-wrap:break-word;position:relative}.container_s{width:1002px}.container_l{width:1222px}#content_left{width:636px;float:left;padding-left:35px}#content_right{border-left:1px solid #e1e1e1;float:right}.container_s #content_right{width:271px}.container_l #content_right{width:434px}.content_none{padding-left:35px}#u{color:#999;white-space:nowrap;position:absolute;right:10px;top:4px;z-index:299}#u a{color:#00c;margin:0 5px}#u .reg{margin:0}#u .last{margin-right:0}#u .un{font-weight:700;margin-right:5px}#u ul{width:100%;background:#fff;border:1px solid #9b9b9b}#u li{height:25px}#u li a{width:100%;height:25px;line-height:25px;display:block;text-align:left;text-decoration:none;text-indent:6px;margin:0;filter:none\\\\9}#u li a:hover{background:#ebebeb}#u li.nl{border-top:1px solid #ebebeb}#user{display:inline-block}#user_center{position:relative;display:inline-block}#user_center .user_center_btn{margin-right:5px}.userMenu{width:64px;position:absolute;right:7px;_right:2px;top:15px;top:14px\\\\9;*top:15px;padding-top:4px;display:none;*background:#fff}#head{padding-left:35px;margin-bottom:20px;width:900px}.fm{clear:both;position:relative;z-index:297}.nv a,.nv b,.btn,#page,#more{font-size:14px}.s_nav{height:45px}.s_nav .s_logo{margin-right:20px;float:left}.s_nav .s_logo img{border:0;display:block}.s_tab{line-height:18px;padding:20px 0 0;float:left}.s_nav a{color:#00c;font-size:14px}.s_nav b{font-size:14px}.s_ipt_wr{width:536px;height:30px;display:inline-block;margin-right:5px;background-position:0 -96px;border:1px solid #b6b6b6;border-color:#7b7b7b #b6b6b6 #b6b6b6 #7b7b7b;vertical-align:top}.s_ipt{width:523px;height:22px;font:16px\\/18px arial;line-height:22px;margin:5px 0 0 7px;padding:0;background:#fff;border:0;outline:0;-webkit-appearance:none}.s_btn{width:95px;height:32px;padding-top:2px\\\\9;font-size:14px;padding:0;background-color:#ddd;background-position:0 -48px;border:0;cursor:pointer}.s_btn_h{background-position:-240px -48px}.s_btn_wr{width:97px;height:34px;display:inline-block;background-position:-120px -48px;*position:relative;z-index:0;vertical-align:top}.sethf{padding:0;margin:0;font-size:14px}.set_h{display:none;behavior:url(#default#homepage)}.set_f{display:none}.shouji{margin-left:19px}.shouji a{text-decoration:none}#head .bdsug{top:33px}#search form{position:relative}#search form .bdsug{bottom:33px}.bdsug{display:none;position:absolute;z-index:1;width:538px;background:#fff;border:1px solid #ccc;_overflow:hidden;box-shadow:1px 1px 3px #ededed;-webkit-box-shadow:1px 1px 3px #ededed;-moz-box-shadow:1px 1px 3px #ededed;-o-box-shadow:1px 1px 3px #ededed}.bdsug.bdsugbg ul{background:url(http:\\/\\/s1.bdstatic.com\\/r\\/www\\/cache\\/static\\/home\\/img\\/sugbg_1762fe7.png) 100% 100% no-repeat;background-size:100px 110px;background-image:url(http:\\/\\/s1.bdstatic.com\\/r\\/www\\/cache\\/static\\/home\\/img\\/sugbg_90fc9cf.gif)\\\\9}.bdsug li{width:522px;color:#000;font:14px arial;line-height:22px;padding:0 8px;position:relative;cursor:default}.bdsug li.bdsug-s{background:#f0f0f0}.bdsug-store span,.bdsug-store b{color:#7A77C8}.bdsug-store-del{font-size:12px;color:#666;text-decoration:underline;position:absolute;right:8px;top:0;cursor:pointer;display:none}.bdsug-s .bdsug-store-del{display:inline-block}.bdsug-ala{display:inline-block;border-bottom:1px solid #e6e6e6}.bdsug-ala h3{line-height:14px;background:url(\\/\\/www.baidu.com\\/img\\/sug_bd.png) no-repeat left center;margin:8px 0 5px;font-size:12px;font-weight:400;color:#7B7B7B;padding-left:20px}.bdsug-ala p{font-size:14px;font-weight:700;padding-left:20px}.bdsug .bdsug-direct{width:auto;padding:0;border-bottom:1px solid #f1f1f1}.bdsug .bdsug-direct p{color:#00c;font-weight:700;line-height:34px;padding:0 8px;cursor:pointer;white-space:nowrap;overflow:hidden}.bdsug .bdsug-direct p img{width:16px;height:16px;margin:7px 6px 9px 0;vertical-align:middle}.bdsug .bdsug-direct p span{margin-left:8px}.bdsug .bdsug-direct p i{font-size:12px;line-height:100%;font-style:normal;font-weight:400;color:#fff;background-color:#2b99ff;display:inline;text-align:center;padding:1px 5px;*padding:2px 5px 0;margin-left:8px;overflow:hidden}.bdsug .bdsug-pcDirect{color:#000;font-size:14px;line-height:30px;height:30px;background-color:#f8f8f8}.bdsug .bdsug-pc-direct-tip{position:absolute;right:15px;top:8px;width:55px;height:15px;display:block;background:url(http:\\/\\/s1.bdstatic.com\\/r\\/www\\/cache\\/static\\/global\\/img\\/pc_direct_42d6311.png) no-repeat 0 0}.bdsug li.bdsug-pcDirect-s{background-color:#f0f0f0}.bdsug .bdsug-pcDirect-is{color:#000;font-size:14px;line-height:22px;background-color:#f8f8f8}.bdsug .bdsug-pc-direct-tip-is{position:absolute;right:15px;top:3px;width:55px;height:15px;display:block;background:url(http:\\/\\/s1.bdstatic.com\\/r\\/www\\/cache\\/static\\/global\\/img\\/pc_direct_42d6311.png) no-repeat 0 0}.bdsug li.bdsug-pcDirect-is-s{background-color:#f0f0f0}.bdsug .bdsug-pcDirect-s .bdsug-pc-direct-tip,.bdsug .bdsug-pcDirect-is-s .bdsug-pc-direct-tip-is{background-position:0 -15px}.bdsug .bdsug-newicon{color:#929292;opacity:.7;font-size:12px;display:inline-block;line-height:22px;letter-spacing:2px}.bdsug .bdsug-s .bdsug-newicon{opacity:1}.bdsug .bdsug-newicon i{letter-spacing:0;font-style:normal}.bdsug .bdsug-feedback-wrap{text-align:right;background:#fafafa;color:#666;height:25px;line-height:27px}.bdsug .bdsug-feedback{margin-right:10px;text-decoration:underline;color:#666}.toggle-underline{text-decoration:none}.toggle-underline:hover{text-decoration:underline}#tb_mr{color:#00c;cursor:pointer;position:relative;z-index:298}#tb_mr b{font-weight:400;text-decoration:underline}#tb_mr small{font-size:11px}#page{font:14px arial;white-space:nowrap;padding-left:35px}#page a,#page strong{display:inline-block;vertical-align:text-bottom;height:66px;text-align:center;line-height:34px;text-decoration:none;overflow:hidden;margin-right:9px;background:#fff}#page a{cursor:pointer}#page a:hover{background:0 0}#page .n:hover,#page a:hover .pc{background:#f2f8ff;border:1px solid #38f}#page .n{height:34px;padding:0 18px;border:1px solid #e1e2e3}#page span{display:block}#page .pc{width:34px;height:34px;border:1px solid #e1e2e3;cursor:pointer}#page .fk{width:24px;height:24px;margin-bottom:6px;margin-left:6px;cursor:pointer}#page strong .fk,#page strong .pc{cursor:auto}#page .fk .c-icon-bear-pn{top:-3px;position:relative}#page .fkd .c-icon-bear-pn{top:3px;position:relative}#page .fk_cur .c-icon-bear-p{top:-2px;position:relative}#page strong .pc{border:0;width:36px;height:36px;line-height:36px}#page .nums{display:inline-block;vertical-align:text-bottom;height:36px;line-height:36px;margin-left:10px}#rs{width:900px;background:#fff;padding:8px 0;margin:20px 0 0 15px}#rs td{width:5%}#rs th{font-size:14px;font-weight:400;line-height:19px;white-space:nowrap;text-align:left;vertical-align:top}#rs .tt{font-weight:700;padding:0 10px 0 20px}#rs_top{font-size:14px;margin-bottom:22px}#rs_top a{margin-right:18px}#container .rs{margin:30px 0 20px;padding:5px 0 15px;font-size:14px;width:540px;padding-left:121px;position:relative;background-color:#fafafa}#container .noback{background-color:#fff}#content_left .rs{margin-left:-121px}#container .rs table{width:540px}#container .rs td{width:5px}#container .rs th{font-size:14px;font-weight:400;white-space:nowrap;text-align:left;vertical-align:top;width:175px;line-height:22px}#container .rs .tt{font-weight:700;padding:0 10px 0 20px;padding:0;line-height:30px;font-size:16px}#container .rs a{margin:0;height:24px;width:173px;display:inline-block;line-height:25px;border:1px solid #ebebeb;text-align:center;vertical-align:middle;overflow:hidden;outline:0;color:#333;background-color:#fff;text-decoration:none}#container .rs a:hover{border-color:#388bff}.c-tip-con .c-tip-menu-b ul{width:100px}.c-tip-con .c-tip-menu-b ul{text-align:center}.c-tip-con .c-tip-menu-b li a{display:block;text-decoration:none;cursor:pointer;background-color:#fff;padding:3px 0;color:#666}.c-tip-con .c-tip-menu-b li a:hover{display:block;background-color:#ebebeb}#search{width:900px;padding:35px 0 16px 35px}#search .s_help{position:relative;top:10px}#foot{height:20px;line-height:20px;color:#77c;background:#e6e6e6;text-align:center}#foot span{color:#666}.site_tip{font-size:12px;margin-bottom:20px}.site_tip_icon{width:56px;height:56px;background:url(\\/\\/www.baidu.com\\/aladdin\\/img\\/tools\\/tools-3.png) -288px 0 no-repeat}.to_zhidao,.to_tieba,.to_zhidao_bottom{font-size:16px;line-height:24px;margin:20px 0 0 35px}.to_tieba .c-icon-tieba{float:left}.f{line-height:115%;*line-height:120%;font-size:100%;width:33.7em;word-break:break-all;word-wrap:break-word}.h{margin-left:8px;width:100%}.r{word-break:break-all;cursor:hand;width:238px}.t{font-weight:400;font-size:medium;margin-bottom:1px}.pl{padding-left:3px;height:8px;padding-right:2px;font-size:14px}.mo,a.mo:link,a.mo:visited{color:#666;font-size:100%;line-height:10px}.htb{margin-bottom:5px}.jc a{color:#c00}a font[size=\\\"3\\\"] font,font[size=\\\"3\\\"] a font{text-decoration:underline}div.blog,div.bbs{color:#707070;padding-top:2px;font-size:13px}.result{width:33.7em;table-layout:fixed}.result-op .f{word-wrap:normal}.nums{font-size:12px;color:#999}.tools{position:absolute;top:10px;white-space:nowrap}#mHolder{width:62px;position:relative;z-index:296;top:-18px;margin-left:9px;margin-right:-12px;display:none}#mCon{height:18px;position:absolute;top:3px;top:6px\\\\9;cursor:pointer;line-height:18px}.wrapper_l #mCon{right:7px}#mCon span{color:#00c;display:block}#mCon .hw{text-decoration:underline;cursor:pointer;display:inline-block}#mCon .pinyin{display:inline-block}#mCon .c-icon-chevron-unfold2{margin-left:5px}#mMenu{width:56px;border:1px solid #9b9b9b;position:absolute;right:7px;top:23px;display:none;background:#fff}#mMenu a{width:100%;height:100%;color:#00c;display:block;line-height:22px;text-indent:6px;text-decoration:none;filter:none\\\\9}#mMenu a:hover{background:#ebebeb}#mMenu .ln{height:1px;background:#ebebeb;overflow:hidden;font-size:1px;line-height:1px;margin-top:-1px}.op_LAMP{background:url(\\/\\/www.baidu.com\\/cache\\/global\\/img\\/aladdinIcon-1.0.gif) no-repeat 0 2px;color:#77C;display:inline-block;font-size:13px;height:12px;*height:14px;width:16px;text-decoration:none;zoom:1}.EC_mr15{margin-left:0}.pd15{padding-left:0}.map_1{width:30em;font-size:80%;line-height:145%}.map_2{width:25em;font-size:80%;line-height:145%}.favurl{background-repeat:no-repeat;background-position:0 1px;padding-left:20px}.dan_tip{font-size:12px;margin-top:4px}.dan_tip a{color:#b95b07}#more,#u ul,#mMenu,.msg_holder{box-shadow:1px 1px 2px #ccc;-moz-box-shadow:1px 1px 2px #ccc;-webkit-box-shadow:1px 1px 2px #ccc;filter:progid:DXImageTransform.Microsoft.Shadow(Strength=2, Direction=135, Color=#cccccc)\\\\9}.hit_top{line-height:18px;margin:0 15px 10px 0;width:516px}.hit_top .c-icon-bear{height:18px;margin-right:4px}#rs_top_new,.hit_top_new{width:538px;font-size:13px;line-height:1.54;word-wrap:break-word;word-break:break-all;margin:0 0 14px}.zhannei-si{margin:0 0 10px 121px}.zhannei-si-none{margin:10px 0 -10px 121px}.zhannei-search{margin:10px 0 0 121px;color:#999;font-size:14px}.f a font[size=\\\"3\\\"] font,.f font[size=\\\"-1\\\"] a font{text-decoration:underline}h3 a font{text-decoration:underline}.c-title{font-weight:400;font-size:16px}.c-title-size{font-size:16px}.c-abstract{font-size:13px}.c-abstract-size{font-size:13px}.c-showurl{color:green;font-size:13px}.c-showurl-color{color:green}.c-cache-color{color:#666}.c-lightblue{color:#77c}.c-highlight-color{color:#c00}.c-clearfix:after{content:\\\".\\\";display:block;height:0;clear:both;visibility:hidden}.c-clearfix{zoom:1}.c-wrap{word-break:break-all;word-wrap:break-word}.c-icons-outer{overflow:hidden;display:inline-block;vertical-align:bottom;*vertical-align:-1px;_vertical-align:bottom}.c-icons-inner{margin-left:-4px}.c-container table.result,.c-container table.result-op{width:100%}.c-container td.f{font-size:13px;line-height:1.54;width:auto}.c-container .vd_newest_main{width:auto}.c-customicon{display:inline-block;width:16px;height:16px;vertical-align:text-bottom;font-style:normal;overflow:hidden}.c-tip-icon i{display:inline-block;cursor:pointer}.c-tip-con{position:absolute;z-index:1;top:22px;left:-35px;background:#fff;border:1px solid #dcdcdc;border:1px solid rgba(0,0,0,.2);-webkit-transition:opacity .218s;transition:opacity .218s;-webkit-box-shadow:0 2px 4px rgba(0,0,0,.2);box-shadow:0 2px 4px rgba(0,0,0,.2);padding:5px 0;display:none;font-size:12px;line-height:20px}.c-tip-arrow{width:0;height:0;font-size:0;line-height:0;display:block;position:absolute;top:-16px}.c-tip-arrow-down{top:auto;bottom:0}.c-tip-arrow em,.c-tip-arrow ins{width:0;height:0;font-size:0;line-height:0;display:block;position:absolute;border:8px solid transparent;border-style:dashed dashed solid}.c-tip-arrow em{border-bottom-color:#d8d8d8}.c-tip-arrow ins{border-bottom-color:#fff;top:2px}.c-tip-arrow-down em,.c-tip-arrow-down ins{border-style:solid dashed dashed;border-color:transparent}.c-tip-arrow-down em{border-top-color:#d8d8d8}.c-tip-arrow-down ins{border-top-color:#fff;top:-2px}.c-tip-arrow .c-tip-arrow-r{border-bottom-color:#82c9fa;top:2px}.c-tip-arrow-down .c-tip-arrow-r{border-bottom-color:transparent;top:-2px}.c-tip-arrow .c-tip-arrow-c{border-bottom-color:#fecc47;top:2px}.c-tip-arrow-down .c-tip-arrow-c{border-bottom-color:transparent;top:-2px}.c-tip-con h3{font-size:12px}.c-tip-con .c-tip-title{margin:0 10px;display:inline-block;width:239px}.c-tip-con .c-tip-info{color:#666;margin:0 10px 1px;width:239px}.c-tip-con .c-tip-cer{width:370px;color:#666;margin:0 10px 1px}.c-tip-con .c-tip-title{width:auto;_width:354px}.c-tip-con .c-tip-item-i{padding:3px 0 3px 20px;line-height:14px}.c-tip-con .c-tip-item-i .c-tip-item-icon{margin-left:-20px}.c-tip-con .c-tip-menu ul{width:74px}.c-tip-con .c-tip-menu ul{text-align:center}.c-tip-con .c-tip-menu li a{display:block;text-decoration:none;cursor:pointer;background-color:#fff;padding:3px 0;color:#0000d0}.c-tip-con .c-tip-menu li a:hover{display:block;background-color:#ebebeb}.c-tip-con .c-tip-notice{width:239px;padding:0 10px}.c-tip-con .c-tip-notice .c-tip-notice-succ{color:#4cbd37}.c-tip-con .c-tip-notice .c-tip-notice-fail{color:#f13F40}.c-tip-con .c-tip-notice .c-tip-item-succ{color:#444}.c-tip-con .c-tip-notice .c-tip-item-fail{color:#aaa}.c-tip-con .c-tip-notice .c-tip-item-fail a{color:#aaa}.c-tip-close{right:10px;position:absolute;cursor:pointer}.ecard{height:86px;overflow:hidden}.c-tools{display:inline}.c-tools-share{width:239px;padding:0 10px}.c-fanyi{display:none;width:20px;height:20px;border:solid 1px #d1d1d1;cursor:pointer;position:absolute;margin-left:516px;text-align:center;color:#333;line-height:22px;opacity:.9;background-color:#fff}.c-fanyi:hover{background-color:#39f;color:#fff;border-color:#39f;opacity:1}.c-fanyi-title,.c-fanyi-abstract{display:none}.icp_info{color:#666;margin-top:2px;font-size:13px}.icon-gw,.icon-unsafe-icon{background:#2c99ff;vertical-align:text-bottom;*vertical-align:baseline;height:16px;padding-top:0;padding-bottom:0;padding-left:6px;padding-right:6px;line-height:16px;_padding-top:2px;_height:14px;_line-height:14px;font-size:12px;font-family:simsun;margin-left:10px;overflow:hidden;display:inline-block;-moz-border-radius:1px;-webkit-border-radius:1px;border-radius:1px;color:#fff}a.icon-gw{color:#fff;background:#2196ff;text-decoration:none;cursor:pointer}a.icon-gw:hover{background:#1e87ef}a.icon-gw:active{height:15px;_height:13px;line-height:15px;_line-height:13px;padding-left:5px;background:#1c80d9;border-left:1px solid #145997;border-top:1px solid #145997}.icon-unsafe-icon{background:#e54d4b}#con-at{margin-bottom:9px;padding-left:121px;border-bottom:1px #ebebeb solid}#con-at .result-op{font-size:13px;line-height:1.52em}.wrapper_l #con-at .result-op{width:1058px}.wrapper_s #con-at .result-op{width:869px}#con-ar{margin-bottom:40px}#con-ar .result-op{margin-bottom:28px;font-size:13px;line-height:1.52em}.result_hidden{position:absolute;top:-10000px;left:-10000px}#content_left .result-op,#content_left .result{margin-bottom:14px;border-collapse:collapse}#content_left .c-border .result-op,#content_left .c-border .result{margin-bottom:25px}#content_left .c-border .result-op:last-child,#content_left .c-border .result:last-child{margin-bottom:12px}#content_left .result .f,#content_left .result-op .f{padding:0}.subLink_factory{border-collapse:collapse}.subLink_factory td{padding:0}.subLink_factory td.middle,.subLink_factory td.last{color:#666}.subLink_factory td a{text-decoration:underline}.subLink_factory td.rightTd{text-align:right}.subLink_factory_right{width:100%}.subLink_factory_left td{padding-right:26px}.subLink_factory_left td.last{padding:0}.subLink_factory_left td.first{padding-right:75px}.subLink_factory_right td{width:90px}.subLink_factory_right td.first{width:auto}.general_image_pic a{background:#fff no-repeat center center;text-decoration:none;display:block;overflow:hidden;text-align:left}.res_top_banner{height:36px;text-align:left;border-bottom:1px solid #e3e3e3;background:#f7f7f7;font-size:13px;padding-left:8px;color:#333;position:relative;z-index:302}.res_top_banner span{_zoom:1}.res_top_banner .res_top_banner_icon{background-position:0 -216px;width:18px;height:18px;margin:9px 10px 0 0}.res_top_banner .res_top_banner_icon_baiduapp{background:url(http:\\/\\/s1.bdstatic.com\\/r\\/www\\/cache\\/static\\/global\\/img\\/baiduappLogo_de45621.png) no-repeat 0 0;width:24px;height:24px;margin:3px 10px 0 0;position:relative;top:3px}.res_top_banner .res_top_banner_icon_windows{background:url(http:\\/\\/s1.bdstatic.com\\/r\\/www\\/cache\\/static\\/global\\/img\\/winlogo_e925689.png) no-repeat 0 0;width:18px;height:18px;margin:9px 10px 0 0}.res_top_banner .res_top_banner_download{display:inline-block;width:65px;line-height:21px;_padding-top:1px;margin:0 0 0 10px;color:#333;background:#fbfbfb;border:1px solid #b4b6b8;text-align:center;text-decoration:none}.res_top_banner .res_top_banner_download:hover{border:1px solid #38f}.res_top_banner .res_top_banner_download:active{background:#f0f0f0;border:1px solid #b4b6b8}.res_top_banner .res_top_banner_close{background-position:-672px -144px;cursor:pointer;position:absolute;right:10px;top:10px}.res_top_banner_for_win{height:34px;text-align:left;border-bottom:1px solid #f0f0f0;background:#fdfdfd;font-size:13px;padding-left:12px;color:#333;position:relative;z-index:302}.res_top_banner_for_win span{_zoom:1;color:#666}.res_top_banner_for_win .res_top_banner_download{display:inline-block;width:auto;line-height:21px;_padding-top:1px;margin:0 0 0 16px;color:#333;text-align:left;text-decoration:underline}.res_top_banner_for_win .res_top_banner_icon_windows{background:url(http:\\/\\/s1.bdstatic.com\\/r\\/www\\/cache\\/static\\/global\\/img\\/winlogo_e925689.png) no-repeat 0 0;width:18px;height:18px;margin:8px 8px 0 0}.res_top_banner_for_win .res_top_banner_close{background-position:-672px -144px;cursor:pointer;position:absolute;right:10px;top:10px}.res-gap-right16{margin-right:16px}.res-border-top{border-top:1px solid #f3f3f3}.res-border-bottom{border-bottom:1px solid #f3f3f3}.res-queryext-pos{position:relative;top:1px;_top:0}.c-trust-ecard{height:86px;_height:97px;overflow:hidden}@-moz-document url-prefix(){.result,.f{width:538px}}body{min-width:1000px}#ftCon{display:none}#qrcode{display:none}#pad-version{display:none}#index_guide{display:none}#index_logo{display:none}#u1{display:none}.s_ipt_wr{height:32px}body{padding:0}.s_form:after,.s_tab:after{content:\\\".\\\";display:block;height:0;clear:both;visibility:hidden}.s_form{zoom:1;height:55px;padding:0 0 0 10px}#result_logo{float:left;margin:7px 0 0}#result_logo img{width:101px}#head{padding:0;margin:0;width:100%;position:absolute;z-index:301;min-width:1000px;background:#fff;border-bottom:1px solid #ebebeb;position:fixed;_position:absolute;-webkit-transform:translateZ(0)}#head .head_wrapper{_width:1000px}#head.s_down{box-shadow:0 0 5px #888}.fm{clear:none;float:left;margin:11px 0 0 10px}#s_tab{background:#f8f8f8;line-height:36px;height:38px;padding:55px 0 0 121px;float:none;zoom:1}#s_tab a,#s_tab b{width:54px;display:inline-block;text-decoration:none;text-align:center;color:#666;font-size:14px}#s_tab b{border-bottom:2px solid #38f;font-weight:700;color:#323232}#s_tab a:hover{color:#323232}#content_left{width:540px;padding-left:121px;padding-top:5px}#content_right{margin-top:45px}#content_bottom{width:540px;padding-left:121px}#page{padding:0 0 0 121px;margin:30px 0 40px}.to_tieba,.to_zhidao_bottom{margin:10px 0 0 121px;padding-top:5px}.nums{margin:0 0 0 121px;height:42px;line-height:42px}#rs{padding:0;margin:6px 0 0 121px;width:600px}#rs th{width:175px;line-height:22px}#rs .tt{padding:0;line-height:30px}#rs td{width:5px}#rs table{width:540px}#help{background:#f5f6f5;zoom:1;padding:0 0 0 50px;float:right}#help a{color:#777;padding:0 15px;text-decoration:none}#help a:hover{color:#333}#foot{background:#f5f6f5;border-top:1px solid #ebebeb;text-align:left;height:42px;line-height:42px;margin-top:40px;*margin-top:0}#foot .foot_c{float:left;padding:0 0 0 121px}.content_none{padding:45px 0 25px 121px}.nors p{font-size:18px;font-family:microsoft yahei;color:#000}.nors p em{color:#c00}.nors .tip_head{color:#666;font-size:13px;line-height:28px}.nors li{color:#333;line-height:28px;font-size:13px;font-family:'\\u5b8b\\u4f53';padding-left:30px;list-style-position:inside;list-style-type:disc}#mCon{top:5px}.s_ipt_wr.bg,.s_btn_wr.bg,#su.bg{background-image:none}.s_ipt_wr.bg{background:0 0}.s_btn_wr{width:auto;height:auto;border-bottom:1px solid transparent;*border-bottom:0}.s_btn{width:100px;height:34px;color:#fff;letter-spacing:1px;background:#3385ff;border-bottom:1px solid #2d78f4;outline:medium;*border-bottom:0;-webkit-appearance:none;-webkit-border-radius:0}.s_btn.btnhover{background:#317ef3;border-bottom:1px solid #2868c8;*border-bottom:0;box-shadow:1px 1px 1px #ccc}.s_btn_h{background:#3075dc;box-shadow:inset 1px 1px 3px #2964bb;-webkit-box-shadow:inset 1px 1px 3px #2964bb;-moz-box-shadow:inset 1px 1px 3px #2964bb;-o-box-shadow:inset 1px 1px 3px #2964bb}#wrapper_wrapper .container_l .EC_ppim_top,#wrapper_wrapper .container_xl .EC_ppim_top{width:640px}#wrapper_wrapper .container_s .EC_ppim_top{width:570px}#head .c-icon-bear-round{display:none}.container_l #content_right{width:384px}.container_l{width:1212px}.container_xl #content_right{width:384px}.container_xl{width:1257px}.index_tab_top{display:none}.index_tab_bottom{display:none}#lg{display:none}#m{display:none}#ftCon{display:none}#ent_sug{position:absolute;margin:141px 0 0 130px;font-size:13px;color:#666}.foot_fixed_bottom{position:fixed;bottom:0;width:100%;_position:absolute;_bottom:auto}#head .headBlock{margin:-5px 0 6px 121px}#content_left .leftBlock{margin-bottom:14px;padding-bottom:5px;border-bottom:1px solid #f3f3f3}.hint_toprq_tips{position:relative;width:537px;height:19px;line-height:19px;overflow:hidden;display:none}.hint_toprq_tips span{color:#666}.hint_toprq_icon{margin:0 4px 0 0}.hint_toprq_tips_items{width:444px;_width:440px;max-height:38px;position:absolute;left:95px;top:1px}.hint_toprq_tips_items div{display:inline-block;float:left;height:19px;margin-right:18px;white-space:nowrap;word-break:keep-all}.translateContent{max-width:350px}.translateContent .translateTool{height:16px;margin:-3px 2px}.translateContent .action-translate,.translateContent .action-search{display:inline-block;width:20px;height:16px;background:url(http:\\/\\/s1.bdstatic.com\\/r\\/www\\/cache\\/static\\/global\\/img\\/translate_tool_icon_57087b6.gif) no-repeat}.translateContent .action-translate{background-position:0 0;border-right:1px solid #dcdcdc}.translateContent .action-translate:hover{background-position:0 -20px}.translateContent .action-search{background-position:-20px 0}.translateContent .action-search:hover{background-position:-20px -20px}.nums{width:538px}.search_tool{_padding-top:15px}.head_nums_cont_outer{height:40px;overflow:hidden;position:relative}.head_nums_cont_inner{position:relative}.search_tool_conter .c-gap-left{margin-left:23px}.search_tool_conter .c-icon-triangle-down{opacity:.6}.search_tool_conter .c-icon-triangle-down:hover{opacity:1}.search_tool,.search_tool_close{float:right}.search_tool,.search_tool_conter span{cursor:pointer;color:#666}.search_tool:hover,.search_tool_conter span:hover{color:#333}.search_tool_conter{font-size:12px;color:#666;margin:0 0 0 121px;height:42px;width:538px;line-height:42px;*height:auto;*line-height:normal;*padding:14px 0}.search_tool_conter span strong{color:#666}.c-tip-con .c-tip-langfilter ul{width:80px;text-align:left;color:#666}.c-tip-con .c-tip-langfilter li a{text-indent:15px;color:#666}.c-tip-con .c-tip-langfilter li span{text-indent:15px;padding:3px 0;color:#999;display:block}.c-tip-con .c-tip-timerfilter ul{width:115px;text-align:left;color:#666}.c-tip-con .c-tip-timerfilter-ft ul{width:180px}.c-tip-con .c-tip-timerfilter-si ul{width:206px;padding:7px 10px 10px}.c-tip-con .c-tip-timerfilter li a{text-indent:15px;color:#666}.c-tip-con .c-tip-timerfilter li span{text-indent:15px;padding:3px 0;color:#999;display:block}.c-tip-con .c-tip-timerfilter-ft li a,.c-tip-con .c-tip-timerfilter-ft li span{text-indent:20px}.c-tip-custom{padding:0 15px 10px;position:relative;zoom:1}.c-tip-custom hr{border:0;height:0;border-top:1px solid #ebebeb}.c-tip-custom p{color:#b6b6b6;height:25px;line-height:25px;margin:2px 0}.c-tip-custom .c-tip-custom-et{margin-bottom:7px}.c-tip-custom-input,.c-tip-si-input{display:inline-block;font-size:11px;color:#333;margin-left:4px;padding:0 2px;width:74%;height:16px;line-height:16px\\\\9;border:1px solid #ebebeb;outline:0;box-sizing:content-box;-webkit-box-sizing:content-box;-moz-box-sizing:content-box;overflow:hidden;position:relative}.c-tip-custom-input-init{color:#d4d4d4}.c-tip-custom-input-focus,.c-tip-si-input-focus{border:1px solid #3385ff}.c-tip-timerfilter-si .c-tip-si-input{width:138px;height:22px;line-height:22px;vertical-align:0;*vertical-align:-6px;_vertical-align:-5px;padding:0 5px;margin-left:0}.c-tip-con .c-tip-timerfilter li .c-tip-custom-submit,.c-tip-con .c-tip-timerfilter li .c-tip-timerfilter-si-submit{display:inline;padding:4px 10px;margin:0;color:#333;border:1px solid #d8d8d8;font-family:inherit;font-weight:400;text-align:center;vertical-align:0;background-color:#f9f9f9;outline:0}.c-tip-con .c-tip-timerfilter li .c-tip-custom-submit:hover,.c-tip-con .c-tip-timerfilter li .c-tip-timerfilter-si-submit:hover{display:inline;border-color:#388bff}.c-tip-timerfilter-si-error,.c-tip-timerfilter-custom-error{display:none;color:#3385FF;padding-left:4px}.c-tip-timerfilter-custom-error{padding:0;margin:-5px -13px 7px 0}#c-tip-custom-calenderCont{position:absolute;background:#fff;white-space:nowrap;padding:5px 10px;color:#000;border:1px solid #e4e4e4;-webkit-box-shadow:0 2px 4px rgba(0,0,0,.2);box-shadow:0 2px 4px rgba(0,0,0,.2)}#c-tip-custom-calenderCont p{text-align:center;padding:2px 0 4px;*padding:4px 0}#c-tip-custom-calenderCont p i{color:#8e9977;cursor:pointer;text-decoration:underline;font-size:13px}#c-tip-custom-calenderCont .op_cal{background:#fff}.op_cal table{background:#eeefea;margin:0;border-collapse:separate}.op_btn_pre_month,.op_btn_next_month{cursor:pointer;display:block;margin-top:6px}.op_btn_pre_month{float:left;background-position:0 -46px}.op_btn_next_month{float:right;background-position:-18px -46px}.op_cal .op_mon_pre1{padding:0}.op_mon th{text-align:center;font-size:12px;background:#FFF;font-weight:700;border:1px solid #FFF;padding:0}.op_mon td{text-align:center;cursor:pointer}.op_mon h5{margin:0;padding:0 4px;text-align:center;font-size:14px;background:#FFF;height:28px;line-height:28px;border-bottom:1px solid #f5f5f5;margin-bottom:5px}.op_mon strong{font-weight:700}.op_mon td{padding:0 5px;border:1px solid #fff;font-size:12px;background:#fff;height:100%}.op_mon td.op_mon_pre_month{color:#a4a4a4}.op_mon td.op_mon_cur_month{color:#00c}.op_mon td.op_mon_next_month{color:#a4a4a4}.op_mon td.op_mon_day_hover{color:#000;border:1px solid #278df2}.op_mon td.op_mon_day_selected{color:#FFF;border:1px solid #278df2;background:#278df2}.op_mon td.op_mon_day_disabled{cursor:not-allowed;color:#ddd}.zhannei-si-none,.zhannei-si,.hit_quet,.zhannei-search{display:none}#c-tip-custom-calenderCont .op_mon td.op_mon_cur_month{color:#000}#c-tip-custom-calenderCont .op_mon td.op_mon_day_selected{color:#fff}.c-icon-toen{width:24px;height:24px;line-height:24px;background-color:#1cb7fd;color:#fff;font-size:14px;font-weight:700;font-style:normal;display:block;display:inline-block;float:left;text-align:center}.hint_common_restop{width:538px;color:#999;font-size:12px;text-align:left;margin:5px 0 10px 121px}#con-at~#wrapper_wrapper .hint_common_restop{padding-top:7px}.sitelink{overflow:auto;zoom:1}.sitelink_summary{float:left;width:47%;padding-right:30px}.sitelink_summary a{font-size:1.1em;position:relative}.sitelink_summary_last{padding-right:0}.sitelink_en{overflow:auto;zoom:1}.sitelink_en_summary{float:left;width:47%;padding-right:30px}.sitelink_en_summary a{font-size:1.1em;position:relative}.sitelink_en_summary_last{padding-right:0}.sitelink_en_summary_title,.sitelink_en_summary .m{height:22px;overflow:hidden}.without-summary-sitelink-en-container{overflow:hidden;height:22px}.without-summary-sitelink-en{float:left}.without-summary-sitelink-en-delimiter{margin-right:5px;margin-left:5px}.wise-qrcode-wrapper{height:42px;line-height:42px;position:absolute;margin-left:8px;top:0;z-index:300}.wise-qrcode-icon-outer{overflow:hidden}.wise-qrcode-icon{position:relative;display:inline-block;width:15px;height:15px;vertical-align:text-bottom;overflow:hidden;opacity:.5;background:url(http:\\/\\/s1.bdstatic.com\\/r\\/www\\/cache\\/static\\/global\\/img\\/qrcode_icon_ae03227.png) no-repeat;-webkit-transform:translateY(42px);-ms-transform:translateY(42px);transform:translateY(42px);-webkit-background-size:100% 100%;background-size:100%}.wise-qrcode-container{padding:15px;background:#fff;display:none;top:61px;left:0;-webkit-transform:translateX(-50%);-ms-transform:translateX(-50%);transform:translateX(-50%);-webkit-box-shadow:0 0 1px rgba(0,0,0,.5);box-shadow:0 0 1px rgba(0,0,0,.5)}.wise-qrcode-wrapper.show:hover .wise-qrcode-container{display:block}.wise-qrcode-image{width:90px;height:90px;display:inline-block;vertical-align:middle}.wise-qrcode-image .wise-qrcode-canvas{width:100%;height:100%}.wise-qrcode-right{display:inline-block;vertical-align:middle;margin-left:15px}.wise-qrcode-title{font-size:16px;color:#000;line-height:26px}.wise-qrcode-text{font-size:12px;line-height:22px;color:#555}.c-frame{margin-bottom:18px}.c-offset{padding-left:10px}.c-gray{color:#666}.c-gap-top-small{margin-top:5px}.c-gap-top{margin-top:10px}.c-gap-bottom-small{margin-bottom:5px}.c-gap-bottom{margin-bottom:10px}.c-gap-left{margin-left:12px}.c-gap-left-small{margin-left:6px}.c-gap-right{margin-right:12px}.c-gap-right-small{margin-right:6px}.c-gap-right-large{margin-right:16px}.c-gap-left-large{margin-left:16px}.c-gap-icon-right-small{margin-right:5px}.c-gap-icon-right{margin-right:10px}.c-gap-icon-left-small{margin-left:5px}.c-gap-icon-left{margin-left:10px}.c-container{width:538px;font-size:13px;line-height:1.54;word-wrap:break-word;word-break:break-word}.c-container .c-container{width:auto}.c-container table{border-collapse:collapse;border-spacing:0}.c-container td{font-size:13px;line-height:1.54}.c-default{font-size:13px;line-height:1.54;word-wrap:break-word;word-break:break-all}.c-container .t,.c-default .t{line-height:1.54}.c-default .t{margin-bottom:0}.cr-content{width:259px;font-size:13px;line-height:1.54;color:#333;word-wrap:break-word;word-break:normal}.cr-content table{border-collapse:collapse;border-spacing:0}.cr-content td{font-size:13px;line-height:1.54;vertical-align:top}.cr-offset{padding-left:17px}.cr-title{font-size:14px;line-height:1.29;font-weight:700}.cr-title-sub{float:right;font-size:13px;font-weight:400}.c-row{*zoom:1}.c-row:after{display:block;height:0;content:\\\"\\\";clear:both;visibility:hidden}.c-span2{width:29px}.c-span3{width:52px}.c-span4{width:75px}.c-span5{width:98px}.c-span6{width:121px}.c-span7{width:144px}.c-span8{width:167px}.c-span9{width:190px}.c-span10{width:213px}.c-span11{width:236px}.c-span12{width:259px}.c-span13{width:282px}.c-span14{width:305px}.c-span15{width:328px}.c-span16{width:351px}.c-span17{width:374px}.c-span18{width:397px}.c-span19{width:420px}.c-span20{width:443px}.c-span21{width:466px}.c-span22{width:489px}.c-span23{width:512px}.c-span24{width:535px}.c-span2,.c-span3,.c-span4,.c-span5,.c-span6,.c-span7,.c-span8,.c-span9,.c-span10,.c-span11,.c-span12,.c-span13,.c-span14,.c-span15,.c-span16,.c-span17,.c-span18,.c-span19,.c-span20,.c-span21,.c-span22,.c-span23,.c-span24{float:left;_display:inline;margin-right:17px;list-style:none}.c-span-last{margin-right:0}.c-span-last-s{margin-right:0}.container_l .cr-content{width:351px}.container_l .cr-content .c-span-last-s{margin-right:17px}.container_l .cr-content-narrow{width:259px}.container_l .cr-content-narrow .c-span-last-s{margin-right:0}.c-border{width:518px;padding:9px;border:1px solid #e3e3e3;border-bottom-color:#e0e0e0;border-right-color:#ececec;box-shadow:1px 2px 1px rgba(0,0,0,.072);-webkit-box-shadow:1px 2px 1px rgba(0,0,0,.072);-moz-box-shadow:1px 2px 1px rgba(0,0,0,.072);-o-box-shadow:1px 2px 1px rgba(0,0,0,.072)}.c-border .c-gap-left{margin-left:10px}.c-border .c-gap-left-small{margin-left:5px}.c-border .c-gap-right{margin-right:10px}.c-border .c-gap-right-small{margin-right:5px}.c-border .c-border{width:auto;padding:0;border:0;box-shadow:none;-webkit-box-shadow:none;-moz-box-shadow:none;-o-box-shadow:none}.c-border .c-span2{width:34px}.c-border .c-span3{width:56px}.c-border .c-span4{width:78px}.c-border .c-span5{width:100px}.c-border .c-span6{width:122px}.c-border .c-span7{width:144px}.c-border .c-span8{width:166px}.c-border .c-span9{width:188px}.c-border .c-span10{width:210px}.c-border .c-span11{width:232px}.c-border .c-span12{width:254px}.c-border .c-span13{width:276px}.c-border .c-span14{width:298px}.c-border .c-span15{width:320px}.c-border .c-span16{width:342px}.c-border .c-span17{width:364px}.c-border .c-span18{width:386px}.c-border .c-span19{width:408px}.c-border .c-span20{width:430px}.c-border .c-span21{width:452px}.c-border .c-span22{width:474px}.c-border .c-span23{width:496px}.c-border .c-span24{width:518px}.c-border .c-span2,.c-border .c-span3,.c-border .c-span4,.c-border .c-span5,.c-border .c-span6,.c-border .c-span7,.c-border .c-span8,.c-border .c-span9,.c-border .c-span10,.c-border .c-span11,.c-border .c-span12,.c-border .c-span13,.c-border .c-span14,.c-border .c-span15,.c-border .c-span16,.c-border .c-span17,.c-border .c-span18,.c-border .c-span19,.c-border .c-span20,.c-border .c-span21,.c-border .c-span22,.c-border .c-span23,.c-border .c-span24{margin-right:10px}.c-border .c-span-last{margin-right:0}.c-loading{display:block;width:50px;height:50px;background:url(\\/\\/www.baidu.com\\/aladdin\\/img\\/tools\\/loading.gif) no-repeat 0 0}.c-vline{display:inline-block;margin:0 3px;border-left:1px solid #ddd;width:0;height:12px;_vertical-align:middle;_overflow:hidden}.c-icon{background:url(http:\\/\\/s1.bdstatic.com\\/r\\/www\\/cache\\/static\\/global\\/img\\/icons_5859e57.png) no-repeat 0 0;_background-image:url(http:\\/\\/s1.bdstatic.com\\/r\\/www\\/cache\\/static\\/global\\/img\\/icons_d5b04cc.gif)}.c-icon{display:inline-block;width:14px;height:14px;vertical-align:text-bottom;font-style:normal;overflow:hidden}.c-icon-unfold,.c-icon-fold,.c-icon-chevron-unfold,.c-icon-chevron-fold{width:12px;height:12px}.c-icon-star,.c-icon-star-gray{width:60px}.c-icon-qa-empty,.c-icon-safeguard,.c-icon-register-empty,.c-icon-zan,.c-icon-music,.c-icon-music-gray,.c-icon-location,.c-icon-warning,.c-icon-doc,.c-icon-xls,.c-icon-ppt,.c-icon-pdf,.c-icon-txt,.c-icon-play-black,.c-icon-gift,.c-icon-baidu-share,.c-icon-bear,.c-icon-bear-border,.c-icon-location-blue,.c-icon-hotAirBall,.c-icon-moon,.c-icon-streetMap,.c-icon-mv,.c-icon-zhidao-s,.c-icon-shopping{width:16px;height:16px}.c-icon-bear-circle,.c-icon-warning-circle,.c-icon-warning-triangle,.c-icon-warning-circle-gray{width:18px;height:18px}.c-icon-tieba,.c-icon-zhidao,.c-icon-bear-p,.c-icon-bear-pn{width:24px;height:24px}.c-icon-ball-blue,.c-icon-ball-red{width:38px;height:38px}.c-icon-unfold:hover,.c-icon-fold:hover,.c-icon-chevron-unfold:hover,.c-icon-chevron-fold:hover,.c-icon-download:hover,.c-icon-lyric:hover,.c-icon-v:hover,.c-icon-hui:hover,.c-icon-bao:hover,.c-icon-person:hover,.c-icon-high-v:hover,.c-icon-phone:hover,.c-icon-nuo:hover,.c-icon-fan:hover,.c-icon-med:hover,.c-icon-air:hover,.c-icon-share2:hover,.c-icon-v1:hover,.c-icon-v2:hover,.c-icon-write:hover,.c-icon-R:hover{border-color:#388bff}.c-icon-unfold:active,.c-icon-fold:active,.c-icon-chevron-unfold:active,.c-icon-chevron-fold:active,.c-icon-download:active,.c-icon-lyric:active,.c-icon-v:active,.c-icon-hui:active,.c-icon-bao:active,.c-icon-person:active,.c-icon-high-v:active,.c-icon-phone:active,.c-icon-nuo:active,.c-icon-fan:active,.c-icon-med:active,.c-icon-air:active,.c-icon-share2:active,.c-icon-v1:active,.c-icon-v2:active,.c-icon-write:active,.c-icon-R:active{border-color:#a2a6ab;background-color:#f0f0f0;box-shadow:inset 1px 1px 1px #c7c7c7;-webkit-box-shadow:inset 1px 1px 1px #c7c7c7;-moz-box-shadow:inset 1px 1px 1px #c7c7c7;-o-box-shadow:inset 1px 1px 1px #c7c7c7}.c-icon-v3:hover{border-color:#ffb300}.c-icon-v3:active{border-color:#a2a6ab;background-color:#f0f0f0;box-shadow:inset 1px 1px 1px #c7c7c7;-webkit-box-shadow:inset 1px 1px 1px #c7c7c7;-moz-box-shadow:inset 1px 1px 1px #c7c7c7;-o-box-shadow:inset 1px 1px 1px #c7c7c7}.c-icon-unfold,.c-icon-fold,.c-icon-chevron-unfold,.c-icon-chevron-fold,.c-icon-download,.c-icon-lyric{border:1px solid #d8d8d8;cursor:pointer}.c-icon-v,.c-icon-hui,.c-icon-bao,.c-icon-person,.c-icon-high-v,.c-icon-phone,.c-icon-nuo,.c-icon-fan,.c-icon-med,.c-icon-air,.c-icon-share2,.c-icon-v1,.c-icon-v2,.c-icon-v3,.c-icon-write,.c-icon-R{border:1px solid #d8d8d8;cursor:pointer;border-color:transparent;_border-color:tomato;_filter:chroma(color=#ff6347)}.c-icon-v1,.c-icon-v2,.c-icon-v3,.c-icon-v1-noborder,.c-icon-v2-noborder,.c-icon-v3-noborder,.c-icon-v1-noborder-disable,.c-icon-v2-noborder-disable,.c-icon-v3-noborder-disable{width:19px}.c-icon-download,.c-icon-lyric{width:16px;height:16px}.c-icon-play-circle,.c-icon-stop-circle{width:18px;height:18px}.c-icon-play-circle-middle,.c-icon-stop-circle-middle{width:24px;height:24px}.c-icon-play-black-large,.c-icon-stop-black-large{width:36px;height:36px}.c-icon-play-black-larger,.c-icon-stop-black-larger{width:52px;height:52px}.c-icon-flag{background-position:0 -144px}.c-icon-bus{background-position:-24px -144px}.c-icon-calendar{background-position:-48px -144px}.c-icon-street{background-position:-72px -144px}.c-icon-map{background-position:-96px -144px}.c-icon-bag{background-position:-120px -144px}.c-icon-money{background-position:-144px -144px}.c-icon-game{background-position:-168px -144px}.c-icon-user{background-position:-192px -144px}.c-icon-globe{background-position:-216px -144px}.c-icon-lock{background-position:-240px -144px}.c-icon-plane{background-position:-264px -144px}.c-icon-list{background-position:-288px -144px}.c-icon-star-gray{background-position:-312px -144px}.c-icon-circle-gray{background-position:-384px -144px}.c-icon-triangle-down{background-position:-408px -144px}.c-icon-triangle-up{background-position:-432px -144px}.c-icon-triangle-up-empty{background-position:-456px -144px}.c-icon-sort-gray{background-position:-480px -144px}.c-icon-sort-up{background-position:-504px -144px}.c-icon-sort-down{background-position:-528px -144px}.c-icon-down-gray{background-position:-552px -144px}.c-icon-up-gray{background-position:-576px -144px}.c-icon-download-noborder{background-position:-600px -144px}.c-icon-lyric-noborder{background-position:-624px -144px}.c-icon-download-white{background-position:-648px -144px}.c-icon-close{background-position:-672px -144px}.c-icon-fail{background-position:-696px -144px}.c-icon-success{background-position:-720px -144px}.c-icon-triangle-down-g{background-position:-744px -144px}.c-icon-refresh{background-position:-768px -144px}.c-icon-chevron-left-gray{background-position:-816px -144px}.c-icon-chevron-right-gray{background-position:-840px -144px}.c-icon-setting{background-position:-864px -144px}.c-icon-close2{background-position:-888px -144px}.c-icon-chevron-top-gray-s{background-position:-912px -144px}.c-icon-fullscreen{background-position:0 -168px}.c-icon-safe{background-position:-24px -168px}.c-icon-exchange{background-position:-48px -168px}.c-icon-chevron-bottom{background-position:-72px -168px}.c-icon-chevron-top{background-position:-96px -168px}.c-icon-unfold{background-position:-120px -168px}.c-icon-fold{background-position:-144px -168px}.c-icon-chevron-unfold{background-position:-168px -168px}.c-icon-qa{background-position:-192px -168px}.c-icon-register{background-position:-216px -168px}.c-icon-star{background-position:-240px -168px}.c-icon-star-gray{position:relative}.c-icon-star-gray .c-icon-star{position:absolute;top:0;left:0}.c-icon-play-blue{background-position:-312px -168px}.c-icon-pic{width:16px;background-position:-336px -168px}.c-icon-chevron-fold{background-position:-360px -168px}.c-icon-video{width:18px;background-position:-384px -168px}.c-icon-circle-blue{background-position:-408px -168px}.c-icon-circle-yellow{background-position:-432px -168px}.c-icon-play-white{background-position:-456px -168px}.c-icon-triangle-down-blue{background-position:-480px -168px}.c-icon-chevron-unfold2{background-position:-504px -168px}.c-icon-right{background-position:-528px -168px}.c-icon-right-empty{background-position:-552px -168px}.c-icon-new-corner{width:15px;background-position:-576px -168px}.c-icon-horn{background-position:-600px -168px}.c-icon-right-large{width:18px;background-position:-624px -168px}.c-icon-wrong-large{background-position:-648px -168px}.c-icon-circle-blue-s{background-position:-672px -168px}.c-icon-play-gray{background-position:-696px -168px}.c-icon-up{background-position:-720px -168px}.c-icon-down{background-position:-744px -168px}.c-icon-stable{background-position:-768px -168px}.c-icon-calendar-blue{background-position:-792px -168px}.c-icon-triangle-down-blue2{background-position:-816px -168px}.c-icon-triangle-up-blue2{background-position:-840px -168px}.c-icon-down-blue{background-position:-864px -168px}.c-icon-up-blue{background-position:-888px -168px}.c-icon-ting{background-position:-912px -168px}.c-icon-piao{background-position:-936px -168px}.c-icon-wrong-empty{background-position:-960px -168px}.c-icon-warning-circle-s{background-position:-984px -168px}.c-icon-chevron-left{background-position:-1008px -168px}.c-icon-chevron-right{background-position:-1032px -168px}.c-icon-circle-gray-s{background-position:-1056px -168px}.c-icon-v,.c-icon-v-noborder{background-position:0 -192px}.c-icon-hui{background-position:-24px -192px}.c-icon-bao{background-position:-48px -192px}.c-icon-phone{background-position:-72px -192px}.c-icon-qa-empty{background-position:-96px -192px}.c-icon-safeguard{background-position:-120px -192px}.c-icon-register-empty{background-position:-144px -192px}.c-icon-zan{background-position:-168px -192px}.c-icon-music{background-position:-192px -192px}.c-icon-music-gray{background-position:-216px -192px}.c-icon-location{background-position:-240px -192px}.c-icon-warning{background-position:-264px -192px}.c-icon-doc{background-position:-288px -192px}.c-icon-xls{background-position:-312px -192px}.c-icon-ppt{background-position:-336px -192px}.c-icon-pdf{background-position:-360px -192px}.c-icon-txt{background-position:-384px -192px}.c-icon-play-black{background-position:-408px -192px}.c-icon-play-black:hover{background-position:-432px -192px}.c-icon-gift{background-position:-456px -192px}.c-icon-baidu-share{background-position:-480px -192px}.c-icon-bear{background-position:-504px -192px}.c-icon-R{background-position:-528px -192px}.c-icon-bear-border{background-position:-576px -192px}.c-icon-person,.c-icon-person-noborder{background-position:-600px -192px}.c-icon-location-blue{background-position:-624px -192px}.c-icon-hotAirBall{background-position:-648px -192px}.c-icon-moon{background-position:-672px -192px}.c-icon-streetMap{background-position:-696px -192px}.c-icon-high-v,.c-icon-high-v-noborder{background-position:-720px -192px}.c-icon-nuo{background-position:-744px -192px}.c-icon-mv{background-position:-768px -192px}.c-icon-fan{background-position:-792px -192px}.c-icon-med{background-position:-816px -192px}.c-icon-air{background-position:-840px -192px}.c-icon-share2{background-position:-864px -192px}.c-icon-v1,.c-icon-v1-noborder{background-position:-888px -192px}.c-icon-v2,.c-icon-v2-noborder{background-position:-912px -192px}.c-icon-v3,.c-icon-v3-noborder{background-position:-936px -192px}.c-icon-v1-noborder-disable{background-position:-960px -192px}.c-icon-v2-noborder-disable{background-position:-984px -192px}.c-icon-v3-noborder-disable{background-position:-1008px -192px}.c-icon-write{background-position:-1032px -192px}.c-icon-zhidao-s{background-position:-1056px -192px}.c-icon-shopping{background-position:-1080px -192px}.c-icon-bear-circle{background-position:0 -216px}.c-icon-warning-circle{background-position:-24px -216px}.c-icon-warning-triangle{width:24px;background-position:-48px -216px}.c-icon-warning-circle-gray{background-position:-72px -216px}.c-icon-ball-red{background-position:0 -240px}.c-icon-ball-blue{background-position:-48px -240px}.c-icon-tieba{background-position:0 -288px}.c-icon-zhidao{background-position:-48px -288px}.c-icon-bear-p{background-position:-96px -288px}.c-icon-bear-pn{background-position:-144px -288px}.c-icon-download{background-position:0 -336px}.c-icon-lyric{background-position:-24px -336px}.c-icon-play-circle{background-position:-48px -336px}.c-icon-play-circle:hover{background-position:-72px -336px}.c-icon-stop-circle{background-position:-96px -336px}.c-icon-stop-circle:hover{background-position:-120px -336px}.c-icon-play-circle-middle{background-position:0 -360px}.c-icon-play-circle-middle:hover{background-position:-48px -360px}.c-icon-stop-circle-middle{background-position:-96px -360px}.c-icon-stop-circle-middle:hover{background-position:-144px -360px}.c-icon-play-black-large{background-position:0 -408px}.c-icon-play-black-large:hover{background-position:-48px -408px}.c-icon-stop-black-large{background-position:-96px -408px}.c-icon-stop-black-large:hover{background-position:-144px -408px}.c-icon-play-black-larger{background-position:0 -456px}.c-icon-play-black-larger:hover{background-position:-72px -456px}.c-icon-stop-black-larger{background-position:-144px -456px}.c-icon-stop-black-larger:hover{background-position:-216px -456px}.c-recommend{font-size:0;padding:5px 0;border:1px solid #f3f3f3;border-left:0;border-right:0}.c-recommend .c-icon{margin-bottom:-4px}.c-recommend .c-gray,.c-recommend a{font-size:13px}.c-recommend-notopline{padding-top:0;border-top:0}.c-recommend-vline{display:inline-block;margin:0 10px -2px;border-left:1px solid #d8d8d8;width:0;height:12px;_vertical-align:middle;_overflow:hidden}.c-text{display:inline-block;padding:2px;text-align:center;vertical-align:text-bottom;font-size:12px;line-height:100%;font-style:normal;font-weight:400;color:#fff;overflow:hidden}a.c-text{text-decoration:none}.c-text-new{background-color:#f13f40}.c-text-info{padding-left:0;padding-right:0;font-weight:700;color:#2b99ff;*vertical-align:baseline;_position:relative;_top:2px}.c-text-info b{_position:relative;_top:-1px}.c-text-info span{padding:0 2px;font-weight:400}.c-text-important{background-color:#1cb7fd}.c-text-public{background-color:#2b99ff}.c-text-warning{background-color:#ff830f}.c-text-prompt{background-color:#f5c537}.c-text-danger{background-color:#f13f40}.c-text-safe{background-color:#52c277}.c-text-empty{padding-top:1px;padding-bottom:1px;border:1px solid #d8d8d8;cursor:pointer;color:#23b9fd;background-color:#fff}.c-text-empty:hover{border-color:#388bff}.c-text-empty:active{border-color:#a2a6ab;background-color:#f0f0f0;box-shadow:inset 1px 1px 1px #c7c7c7;-webkit-box-shadow:inset 1px 1px 1px #c7c7c7;-moz-box-shadow:inset 1px 1px 1px #c7c7c7;-o-box-shadow:inset 1px 1px 1px #c7c7c7}.c-text-mult{padding-left:5px;padding-right:5px}.c-text-gray{background-color:#666}.c-btn,.c-btn:visited{color:#333!important}.c-btn{display:inline-block;padding:0 14px;margin:0;height:24px;line-height:25px;font-size:13px;filter:chroma(color=#000000);*zoom:1;border:1px solid #d8d8d8;cursor:pointer;font-family:inherit;font-weight:400;text-align:center;vertical-align:middle;background-color:#f9f9f9;overflow:hidden;outline:0}.c-btn:hover{border-color:#388bff}.c-btn:active{border-color:#a2a6ab;background-color:#f0f0f0;box-shadow:inset 1px 1px 1px #c7c7c7;-webkit-box-shadow:inset 1px 1px 1px #c7c7c7;-moz-box-shadow:inset 1px 1px 1px #c7c7c7;-o-box-shadow:inset 1px 1px 1px #c7c7c7}a.c-btn{text-decoration:none}button.c-btn{height:26px;_line-height:18px;*overflow:visible}button.c-btn::-moz-focus-inner{padding:0;border:0}.c-btn .c-icon{margin-top:5px}.c-btn-disable{color:#999!important}.c-btn-disable:visited{color:#999!important}.c-btn-disable:hover{border:1px solid #d8d8d8;cursor:default}.c-btn-disable:active{border-color:#d8d8d8;background-color:#f9f9f9;box-shadow:none;-webkit-box-shadow:none;-moz-box-shadow:none;-o-box-shadow:none}.c-btn-mini{padding-left:5px;padding-right:5px;height:18px;line-height:18px;font-size:12px}button.c-btn-mini{height:20px;_height:18px;_line-height:14px}.c-btn-mini .c-icon{margin-top:2px}.c-btn-large{height:28px;line-height:28px;font-size:14px;font-family:\\\"\\u5fae\\u8f6f\\u96c5\\u9ed1\\\",\\\"\\u9ed1\\u4f53\\\"}button.c-btn-large{height:30px;_line-height:24px}.c-btn-large .c-icon{margin-top:7px;_margin-top:6px}.c-btn-primary,.c-btn-primary:visited{color:#fff!important}.c-btn-primary{background-color:#388bff;border-color:#3c8dff #408ffe #3680e6}.c-btn-primary:hover{border-color:#2678ec #2575e7 #1c6fe2 #2677e7;background-color:#388bff;background-image:url(data:image\\/png;base64,iVBORw0KGgoAAAANSUhEUgAAAAEAAAACCAMAAACuX0YVAAAABlBMVEVnpv85i\\/9PO5r4AAAAD0lEQVR42gEEAPv\\/AAAAAQAFAAIros7PAAAAAElFTkSuQmCC);*background-image:none;background-repeat:repeat-x;box-shadow:1px 1px 1px rgba(0,0,0,.4);-webkit-box-shadow:1px 1px 1px rgba(0,0,0,.4);-moz-box-shadow:1px 1px 1px rgba(0,0,0,.4);-o-box-shadow:1px 1px 1px rgba(0,0,0,.4)}.c-btn-primary:active{border-color:#178ee3 #1784d0 #177bbf #1780ca;background-color:#388bff;background-image:none;box-shadow:inset 1px 1px 1px rgba(0,0,0,.15);-webkit-box-shadow:inset 1px 1px 1px rgba(0,0,0,.15);-moz-box-shadow:inset 1px 1px 1px rgba(0,0,0,.15);-o-box-shadow:inset 1px 1px 1px rgba(0,0,0,.15)}.c-btn .c-icon{float:left}.c-dropdown2{position:relative;display:inline-block;width:100%;height:26px;line-height:26px;font-size:13px;vertical-align:middle;outline:0;_font-family:SimSun;background-color:#fff;word-wrap:normal;word-break:normal}.c-dropdown2 .c-dropdown2-btn-group{position:relative;height:24px;border:1px solid #999;border-bottom-color:#d8d8d8;border-right-color:#d8d8d8;-moz-user-select:none;-webkit-user-select:none;user-select:none}.c-dropdown2:hover .c-dropdown2-btn-group,.c-dropdown2-hover .c-dropdown2-btn-group{box-shadow:inset 1px 1px 0 0 #d8d8d8;-webkit-box-shadow:inset 1px 1px 0 0 #d8d8d8;-moz-box-shadow:inset 1px 1px 0 0 #d8d8d8;-o-box-shadow:inset 1px 1px 0 0 #d8d8d8}.c-dropdown2:hover .c-dropdown2-btn-icon,.c-dropdown2-hover .c-dropdown2-btn-icon{box-shadow:inset 0 1px 0 0 #d8d8d8;-webkit-box-shadow:inset 0 1px 0 0 #d8d8d8;-moz-box-shadow:inset 0 1px 0 0 #d8d8d8;-o-box-shadow:inset 0 1px 0 0 #d8d8d8}.c-dropdown2:hover .c-dropdown2-btn-icon-border,.c-dropdown2-hover .c-dropdown2-btn-icon-border{background-color:#f2f2f2}.c-dropdown2 .c-dropdown2-btn{height:24px;padding-left:10px;padding-right:10px;cursor:default;overflow:hidden;white-space:nowrap}.c-dropdown2 .c-dropdown2-btn-icon{position:absolute;top:0;right:0;width:23px;height:24px;line-height:24px;background-color:#fff;padding:0 1px 0 10px}.c-dropdown2 .c-dropdown2-btn-icon-border{height:24px;width:23px;border-left:1px solid #d9d9d9;text-align:center;zoom:1}.c-dropdown2 .c-icon-triangle-down{*margin-top:5px;_margin-left:2px}.c-dropdown2 .c-dropdown2-menu{position:absolute;left:0;top:100%;_margin-top:0;width:100%;overflow:hidden;border:1px solid #bbb;background:#fff;visibility:hidden}.c-dropdown2 .c-dropdown2-menu-inner{overflow:hidden}.c-dropdown2 .c-dropdown2-option{background-color:#fff;cursor:pointer}.c-dropdown2 .c-dropdown2-selected{background-color:#f5f5f5}.c-dropdown2-common ul,.c-dropdown2-common li{margin:0;padding:0;list-style:none}.c-dropdown2-common .c-dropdown2-option{height:26px;line-height:26px;font-size:12px;color:#333;white-space:nowrap;cursor:pointer;padding-left:10px}.c-dropdown2-common .c-dropdown2-selected{background-color:#f5f5f5}.c-dropdown2-common .c-dropdown2-menu-group .c-dropdown2-group{padding-left:10px;font-weight:700;cursor:default}.c-dropdown2-common .c-dropdown2-menu-group .c-dropdown2-option{padding-left:20px}.c-img{display:block;min-height:1px;border:0 0}.c-img3{width:52px}.c-img4{width:75px}.c-img6{width:121px}.c-img7{width:144px}.c-img12{width:259px}.c-img15{width:328px}.c-img18{width:397px}.c-border .c-img3{width:56px}.c-border .c-img4{width:78px}.c-border .c-img7{width:144px}.c-border .c-img12{width:254px}.c-border .c-img15{width:320px}.c-border .c-img18{width:386px}.c-index{display:inline-block;padding:1px 0;color:#fff;width:14px;line-height:100%;font-size:12px;text-align:center;background-color:#8eb9f5}.c-index-hot,.c-index-hot1{background-color:#f54545}.c-index-hot2{background-color:#ff8547}.c-index-hot3{background-color:#ffac38}.c-input{display:inline-block;padding:0 4px;height:24px;line-height:24px\\\\9;font-size:13px;border:1px solid #999;border-bottom-color:#d8d8d8;border-right-color:#d8d8d8;outline:0;box-sizing:content-box;-webkit-box-sizing:content-box;-moz-box-sizing:content-box;vertical-align:top;overflow:hidden}.c-input:hover{box-shadow:inset 1px 1px 1px 0 #d8d8d8;-webkit-box-shadow:inset 1px 1px 1px 0 #d8d8d8;-moz-box-shadow:inset 1px 1px 1px 0 #d8d8d8;-o-box-shadow:inset 1px 1px 1px 0 #d8d8d8}.c-input .c-icon{float:right;margin-top:6px}.c-input .c-icon-left{float:left;margin-right:4px}.c-input input{float:left;height:22px;*padding-top:4px;margin-top:2px;font-size:13px;border:0;outline:0}.c-input{width:180px}.c-input input{width:162px}.c-input-xmini{width:65px}.c-input-xmini input{width:47px}.c-input-mini{width:88px}.c-input-mini input{width:70px}.c-input-small{width:157px}.c-input-small input{width:139px}.c-input-large{width:203px}.c-input-large input{width:185px}.c-input-xlarge{width:341px}.c-input-xlarge input{width:323px}.c-input12{width:249px}.c-input12 input{width:231px}.c-input20{width:433px}.c-input20 input{width:415px}.c-border .c-input{width:178px}.c-border .c-input input{width:160px}.c-border .c-input-xmini{width:68px}.c-border .c-input-xmini input{width:50px}.c-border .c-input-mini{width:90px}.c-border .c-input-mini input{width:72px}.c-border .c-input-small{width:156px}.c-border .c-input-small input{width:138px}.c-border .c-input-large{width:200px}.c-border .c-input-large input{width:182px}.c-border .c-input-xlarge{width:332px}.c-border .c-input-xlarge input{width:314px}.c-border .c-input12{width:244px}.c-border .c-input12 input{width:226px}.c-border .c-input20{width:420px}.c-border .c-input20 input{width:402px}.c-numberset{*zoom:1}.c-numberset:after{display:block;height:0;content:\\\"\\\";clear:both;visibility:hidden}.c-numberset li{float:left;margin-right:17px;list-style:none}.c-numberset .c-numberset-last{margin-right:0}.c-numberset a{display:block;width:50px;text-decoration:none;text-align:center;border:1px solid #d8d8d8;cursor:pointer}.c-numberset a:hover{border-color:#388bff}.c-border .c-numberset li{margin-right:10px}.c-border .c-numberset .c-numberset-last{margin-right:0}.c-border .c-numberset a{width:54px}.c-table{width:100%;border-collapse:collapse;border-spacing:0}.c-table th,.c-table td{padding-left:10px;line-height:1.54;font-size:13px;border-bottom:1px solid #f3f3f3;text-align:left}.cr-content .c-table th:first-child,.cr-content .c-table td:first-child{padding-left:0}.c-table th{padding-top:4px;padding-bottom:4px;font-weight:400;color:#666;border-color:#f0f0f0;white-space:nowrap;background-color:#fafafa}.c-table td{padding-top:6.5px;padding-bottom:6.5px}.c-table-hasimg td{padding-top:10px;padding-bottom:10px}.c-table a,.c-table em{text-decoration:none}.c-table a:hover,.c-table a:hover em{text-decoration:underline}.c-table a.c-icon:hover{text-decoration:none}.c-table .c-btn:hover,.c-table .c-btn:hover em{text-decoration:none}.c-table-nohihead th{background-color:transparent}.c-table-noborder td{border-bottom:0}.c-tabs-nav-movetop{margin:-10px -9px 0 -10px;position:relative}.c-tabs-nav{border-bottom:1px solid #d9d9d9;background-color:#fafafa;line-height:1.54;font-size:0;*zoom:1;_overflow-x:hidden;_position:relative}.c-tabs-nav:after{display:block;height:0;content:\\\"\\\";clear:both;visibility:hidden}.c-tabs-nav .c-tabs-nav-btn{float:right;_position:absolute;_top:0;_right:0;_z-index:1;background:#fafafa}.c-tabs-nav .c-tabs-nav-btn .c-tabs-nav-btn-prev,.c-tabs-nav .c-tabs-nav-btn .c-tabs-nav-btn-next{float:left;padding:6px 2px;cursor:pointer}.c-tabs-nav .c-tabs-nav-btn .c-tabs-nav-btn-disable{cursor:default}.c-tabs-nav .c-tabs-nav-view{_position:relative;overflow:hidden;*zoom:1;margin-bottom:-1px}.c-tabs-nav .c-tabs-nav-view .c-tabs-nav-li{margin-bottom:0}.c-tabs-nav .c-tabs-nav-more{float:left;white-space:nowrap}.c-tabs-nav li,.c-tabs-nav a{color:#666;font-size:13px;*zoom:1}.c-tabs-nav li{display:inline-block;margin-bottom:-1px;*display:inline;padding:3px 15px;vertical-align:bottom;border-style:solid;border-width:2px 1px 0;border-color:transparent;_border-color:tomato;_filter:chroma(color=#ff6347);list-style:none;cursor:pointer;white-space:nowrap;overflow:hidden}.c-tabs-nav a{text-decoration:none}.c-tabs-nav .c-tabs-nav-sep{height:16px;width:0;padding:0;margin-bottom:4px;border-style:solid;border-width:0 1px;border-color:transparent #fff transparent #dedede}.c-tabs-nav .c-tabs-nav-selected{_position:relative;border-color:#2c99ff #e4e4e4 #fff #dedede;background-color:#fff;color:#000;cursor:default}.c-tabs-nav-one .c-tabs-nav-selected{border-color:transparent;_border-color:tomato;_filter:chroma(color=#ff6347);background-color:transparent;color:#666}.c-tabs .c-tabs .c-tabs-nav{padding:10px 0 5px;border:0 0;background-color:#fff}.c-tabs .c-tabs .c-tabs-nav li,.c-tabs .c-tabs .c-tabs-nav a{color:#00c}.c-tabs .c-tabs .c-tabs-nav li{padding:0 5px;position:static;margin:0 10px;border:0 0;cursor:pointer;white-space:nowrap}.c-tabs .c-tabs .c-tabs-nav .c-tabs-nav-sep{height:11px;width:0;padding:0;margin:0 0 4px;border:0 0;border-left:1px solid #d8d8d8}.c-tabs .c-tabs .c-tabs-nav .c-tabs-nav-selected{background-color:#2c99ff;color:#fff;cursor:default}.c-tag{padding-top:3px;margin-bottom:3px;height:1.7em;font-size:13px;line-height:1.4em;transition:height .3s ease-in;-webkit-transition:height .3s ease-in;-moz-transition:height .3s ease-in;-ms-transition:height .3s ease-in;-o-transition:height .3s ease-in;*zoom:1;overflow:hidden}.c-tag:after{display:block;height:0;content:\\\"\\\";clear:both;visibility:hidden}.c-tag-cont{overflow:hidden;*zoom:1}.c-tag-type,.c-tag-li,.c-tag-more,.c-tag-cont span{margin:2px 0}.c-tag-type,.c-tag-li,.c-tag-cont span{float:left}.c-tag-type,.c-tag-more{color:#666}.c-tag-li,.c-tag-cont span{padding:0 4px;display:inline-block;margin-right:12px;white-space:nowrap;cursor:pointer;color:#00c}.c-tag .c-tag-selected{background:#388bff;color:#fff}.c-tag-more{float:right;background:#fff;cursor:pointer;*height:18px}.c-tool{display:inline-block;width:56px;height:56px;background:url(\\/\\/www.baidu.com\\/aladdin\\/img\\/tools\\/tools-5.png) no-repeat}.c-tool-region{background-position:0 0}.c-tool-calendar{background-position:-72px 0}.c-tool-city{background-position:-144px 0}.c-tool-phone-pos{background-position:-216px 0}.c-tool-other{background-position:-288px 0}.c-tool-midnight{background-position:-360px 0}.c-tool-kefu{width:121px;background-position:-432px 0}.c-tool-phone{background-position:-576px 0}.c-tool-car{background-position:-648px 0}.c-tool-station{background-position:0 -72px}.c-tool-cheat{background-position:-72px -72px}.c-tool-counter{background-position:-144px -72px}.c-tool-time{background-position:-216px -72px}.c-tool-zip{background-position:-288px -72px}.c-tool-warning{background-position:-360px -72px}.c-tool-ip{background-position:0 -144px}.c-tool-unit{background-position:-72px -144px}.c-tool-rate{background-position:-144px -144px}.c-tool-conversion{background-position:-288px -144px}.c-tool-ads{background-position:-360px -144px}.soutu-input{padding-left:55px!important}.soutu-input-image{position:absolute;left:1px;top:1px;height:28px;width:49px;z-index:1;padding:0;background:#e6e6e6;border:1px solid #e6e6e6}.soutu-input-thumb{height:28px;width:28px;min-width:1px}.soutu-input-close{position:absolute;right:0;top:0;cursor:pointer;display:block;width:22px;height:28px}.soutu-input-close::after{content:\\\" \\\";position:absolute;right:3px;top:50%;cursor:pointer;margin-top:-7px;display:block;width:14px;height:14px;background:url(http:\\/\\/s1.bdstatic.com\\/r\\/www\\/cache\\/static\\/soutu\\/img\\/soutu_icons_new_8abaf8a.png) no-repeat -163px 0}.soutu-input-image:hover .soutu-input-close::after{background-position:-215px 2px}.fb-hint{margin-top:5px;transition-duration:.9s;opacity:0;display:none;color:red}.fb-img{display:none}.fb-hint-tip{height:44px;line-height:24px;background-color:#38f;color:#fff;box-sizing:border-box;width:269px;font-size:16px;padding:10px;padding-left:14px;position:absolute;top:-65px;right:-15px;border-radius:3px;z-index:299}.fb-hint-tip::before{content:\\\"\\\";width:0;height:0;display:block;position:absolute;border-left:8px solid transparent;border-right:8px solid transparent;border-top:8px solid #38f;bottom:-8px;right:25px}.fb-mask,.fb-mask-light{position:fixed;top:0;left:0;bottom:0;right:0;z-index:296;background-color:#000;filter:alpha(opacity=60);background-color:rgba(0,0,0,.6)}.fb-mask-light{background-color:#fff;filter:alpha(opacity=0);background-color:rgba(255,255,255,0)}.fb-success .fb-success-text{text-align:center;color:#333;font-size:13px;margin-bottom:14px}.fb-success-text.fb-success-text-title{color:#3b6;font-size:16px;margin-bottom:16px}.fb-success-text-title i{width:16px;height:16px;margin-right:5px}.fb-list-container{box-sizing:border-box;padding:4px 8px;position:absolute;top:0;left:0;bottom:0;right:0;z-index:298;display:block;width:100%;cursor:pointer;margin-top:-5px;margin-left:-5px}.fb-list-container-hover{background-color:#fff;border:2px #38f solid}.fb-list-container-first{box-sizing:border-box;padding-left:10px;padding-top:5px;position:absolute;top:0;left:0;bottom:0;right:0;z-index:297;display:block;width:100%;cursor:pointer;margin-top:-5px;margin-left:-5px;border:3px #f5f5f5 dashed;border-radius:3px}.fb-des-content{font-size:13px!important;color:#000}.fb-des-content::-webkit-input-placeholder{font-size:13px!important;color:#9a9a9a}.fb-des-content:-moz-placeholder{font-size:13px!important;color:#9a9a9a}.fb-des-content::-moz-placeholder{font-size:13px!important;color:#9a9a9a}.fb-des-content:-ms-input-placeholder{font-size:13px!important;color:#9a9a9a}.fb-btn,.fb-btn:visited{color:#333!important}.fb-select{position:relative;background-color:#fff;border:1px solid #ccc}.fb-select i{position:absolute;right:2px;top:7px}.fb-type{width:350px;box-sizing:border-box;height:28px;font-size:13px;line-height:28px;border:0;word-break:normal;word-wrap:normal;position:relative;appearance:none;-moz-appearance:none;-webkit-appearance:none;display:inline-block;vertical-align:middle;line-height:normal;color:#333;background-color:transparent;border-radius:0;overflow:hidden;outline:0;padding-left:5px}.fb-type::-ms-expand{display:none}.fb-btn{display:inline-block;padding:0 14px;margin:0;height:24px;line-height:25px;font-size:13px;filter:chroma(color=#000000);*zoom:1;border:1px solid #d8d8d8;cursor:pointer;font-family:inherit;font-weight:400;text-align:center;vertical-align:middle;background-color:#f9f9f9;overflow:hidden;outline:0}.fb-btn:hover{border-color:#388bff}.fb-btn:active{border-color:#a2a6ab;background-color:#f0f0f0;box-shadow:inset 1px 1px 1px #c7c7c7;-webkit-box-shadow:inset 1px 1px 1px #c7c7c7;-moz-box-shadow:inset 1px 1px 1px #c7c7c7;-o-box-shadow:inset 1px 1px 1px #c7c7c7}a.fb-btn{text-decoration:none}button.fb-btn{height:26px;_line-height:18px;*overflow:visible}button.fb-btn::-moz-focus-inner{padding:0;border:0}.fb-btn .c-icon{margin-top:5px}.fb-btn-primary,.fb-btn-primary:visited{color:#fff!important}.fb-btn-primary{background-color:#388bff;_width:82px;border-color:#3c8dff #408ffe #3680e6}.fb-btn-primary:hover{border-color:#2678ec #2575e7 #1c6fe2 #2677e7;background-color:#388bff;background-image:url(data:image\\/png;base64,iVBORw0KGgoAAAANSUhEUgAAAAEAAAACCAMAAACuX0YVAAAABlBMVEVnpv85i\\/9PO5r4AAAAD0lEQVR42gEEAPv\\/AAAAAQAFAAIros7PAAAAAElFTkSuQmCC);background-repeat:repeat-x;box-shadow:1px 1px 1px rgba(0,0,0,.4);-webkit-box-shadow:1px 1px 1px rgba(0,0,0,.4);-moz-box-shadow:1px 1px 1px rgba(0,0,0,.4);-o-box-shadow:1px 1px 1px rgba(0,0,0,.4)}.fb-btn-primary:active{border-color:#178ee3 #1784d0 #177bbf #1780ca;background-color:#388bff;background-image:none;box-shadow:inset 1px 1px 1px rgba(0,0,0,.15);-webkit-box-shadow:inset 1px 1px 1px rgba(0,0,0,.15);-moz-box-shadow:inset 1px 1px 1px rgba(0,0,0,.15);-o-box-shadow:inset 1px 1px 1px rgba(0,0,0,.15)}.fb-feedback-right-dialog{position:fixed;z-index:299;bottom:0;right:0}.fb-feedback-list-dialog,.fb-feedback-list-dialog-left{position:absolute;z-index:299}.fb-feedback-list-dialog:before{content:\\\"\\\";width:0;height:0;display:block;position:absolute;top:15px;left:-6px;border-top:8px solid transparent;border-bottom:8px solid transparent;border-right:8px solid #fff}.fb-feedback-list-dialog-left:before{content:\\\"\\\";width:0;height:0;display:block;position:absolute;top:15px;right:-6px;border-top:8px solid transparent;border-bottom:8px solid transparent;border-left:8px solid #fff}.fb-header{padding-left:20px;padding-right:20px;margin-top:14px;text-align:left;-moz-user-select:none}.fb-header .fb-close{color:#e0e0e0}.fb-close{text-decoration:none;margin-top:2px;float:right;font-size:20px;font-weight:700;line-height:18px;color:#666;text-shadow:0 1px 0 #fff}.fb-photo-block{display:none}.fb-photo-block-title{font-size:13px;color:#333;padding-top:10px}.fb-photo-block-title-span{color:#999}.fb-photo-sub-block{margin-top:10px;margin-bottom:10px;width:60px;text-align:center}.fb-photo-sub-block-hide{display:none}.fb-photo-update-block{overflow:hidden}.fb-photo-update-item-block{width:100px;height:100px;background:red;border:solid 1px #ccc;margin-top:10px;float:left;margin-right:20px;position:relative;background:url(http:\\/\\/s1.bdstatic.com\\/r\\/www\\/cache\\/static\\/global\\/img\\/feedback_add_photo_69ff822.png);background-repeat:no-repeat;background-size:contain;background-position:center center;background-size:24px 24px}.fb-photo-block-title-ex{font-size:13px;float:right}.fb-photo-block-title-ex img{vertical-align:text-top;margin-right:4px}.fb-photo-block-title-span{margin-left:4px;color:#999}.fb-photo-update-item-show-img{width:100%;height:100%;display:none}.fb-photo-update-item-close{width:13px;height:13px;position:absolute;top:-6px;right:-6px;display:none}.fb-photo-block input{display:none}.fb-photo-update-hide{display:none}.fb-photo-update-item-block{width:60px;height:60px;border:solid 1px #ccc;float:left}.fb-photo-block-example{position:absolute;top:0;left:0;display:none;background-color:#fff;padding:14px;padding-top:0;width:392px}.fb-photo-block-example-header{padding-top:14px;overflow:hidden}.fb-photo-block-example-header p{float:left}.fb-photo-block-example-header img{float:right;width:13px;height:13px}.fb-photo-block-example-img img{margin:0 auto;margin-top:14px;display:block;width:200px}.fb-photo-block-example-title{text-align:center}.fb-photo-block-example-title-big{font-size:14px;color:#333}.fb-photo-block-example-title-small{font-size:13px;color:#666}.fb-header a.fb-close:hover{text-decoration:none}.fb-photo-block-upinfo{width:100%}.fb-header-tips{font-size:16px;margin:0;color:#333;text-rendering:optimizelegibility}.fb-body{margin-bottom:0;padding:20px;padding-top:10px;overflow:hidden;text-align:left}.fb-modal,.fb-success{background-color:#fff;cursor:default;top:100%;left:100%;width:390px;overflow:hidden;border:1px solid #999;*border:1px solid #ddd;font-size:13px;line-height:1.54}.fb-textarea textarea{width:350px;height:64px;padding:4px;margin:10px 0;vertical-align:top;resize:none;overflow:auto;box-sizing:border-box;display:inline-block;border:1px solid #ccc;-webkit-border-radius:0;-moz-border-radius:0;border-radius:0;-webkit-box-shadow:inset 0 1px 1px rgba(0,0,0,.075);-moz-box-shadow:inset 0 1px 1px rgba(0,0,0,.075);box-shadow:inset 0 1px 1px rgba(0,0,0,.075);-webkit-transition:border linear .2s,box-shadow linear .2s;-moz-transition:border linear .2s,box-shadow linear .2s;-ms-transition:border linear .2s,box-shadow linear .2s;-o-transition:border linear .2s,box-shadow linear .2s;transition:border linear .2s,box-shadow linear .2s}.fb-selected{display:none;width:12px;height:12px;background:url(data:image\\/png;base64,iVBORw0KGgoAAAANSUhEUgAAAAcAAAAFCAYAAACJmvbYAAAABGdBTUEAALGPC\\/xhBQAAACBjSFJNAAB6JgAAgIQAAPoAAACA6AAAdTAAAOpgAAA6mAAAF3CculE8AAAABmJLR0QAAAAAAAD5Q7t\\/AAAACXBIWXMAABYlAAAWJQFJUiTwAAAAJklEQVQI12NgwAEsuv\\/8xy9h3vX7P6oEKp\\/BHCqA0yhzdB0MDAwAFXkTK5la4mAAAAAASUVORK5CYII=) no-repeat 2px 3px}.fb-guide{padding-top:10px;color:#9a9a9a;margin-left:-20px;padding-left:20px;border-right-width:0;margin-right:-20px;padding-right:25px;margin-bottom:-20px;padding-bottom:15px}.fb-footer{padding-top:10px;text-align:left}.fb-block{overflow:hidden;position:relative}.fb-block .fb-email{height:28px;line-height:26px;width:350px;border:1px solid #ccc;padding:4px;padding-top:0;box-sizing:border-box;padding-bottom:0;display:inline-block;font-family:'Helvetica Neue',Helvetica,Arial,sans-serif;vertical-align:middle!important;-webkit-border-radius:0;-moz-border-radius:0;border-radius:0;-webkit-box-shadow:inset 0 1px 1px rgba(0,0,0,.075);-moz-box-shadow:inset 0 1px 1px rgba(0,0,0,.075);box-shadow:inset 0 1px 1px rgba(0,0,0,.075);-webkit-transition:border linear .2s,box-shadow linear .2s;-moz-transition:border linear .2s,box-shadow linear .2s;-ms-transition:border linear .2s,box-shadow linear .2s;-o-transition:border linear .2s,box-shadow linear .2s;transition:border linear .2s,box-shadow linear .2s}.fb-email{font-size:13px!important;color:#000}.fb-email::-webkit-input-placeholder{font-size:13px!important;color:#9a9a9a}.fb-email:-moz-placeholder{font-size:13px!important;color:#9a9a9a}.fb-email::-moz-placeholder{font-size:13px!important;color:#9a9a9a}.fb-email:-ms-input-placeholder{font-size:13px!important;color:#9a9a9a}.fb-cut-block{height:15px;padding-bottom:10px}.fb-canvas-block{height:172px;border:1px solid #ccc;margin-bottom:10px;position:relative;overflow:hidden;width:100%;background-position:center;box-sizing:border-box}.fb-canvas-block img{width:350px;position:absolute}.fb-canvas-block img[src=\\\"\\\"]{opacity:0}.fb-cut-input{width:14px;height:14px;margin:0;margin-right:10px;display:inline-block;border:1px solid #ccc}.fb-cut-btn{width:60px!important}#fb_tips_span{vertical-align:middle}#fb_popwindow{display:block;left:457px;top:69.5px;position:absolute;width:450px;z-index:999999;background:none repeat scroll 0 0 #fff;border:1px solid #999;border-radius:3px;box-shadow:0 0 9px #999;padding:0}#feedback_dialog_content{text-align:center}#fb_right_post_save:hover{background-image:url(data:image\\/png;base64,iVBORw0KGgoAAAANSUhEUgAAAAEAAAACCAMAAACuX0YVAAAABlBMVEVnpv85i\\/9PO5r4AAAAD0lEQVR42gEEAPv\\/AAAAAQAFAAIros7PAAAAAElFTkSuQmCC);background-repeat:repeat-x;box-shadow:1px 1px 1px rgba(0,0,0,.4);-webkit-box-shadow:1px 1px 1px rgba(0,0,0,.4);-moz-box-shadow:1px 1px 1px rgba(0,0,0,.4);-o-box-shadow:1px 1px 1px rgba(0,0,0,.4)}.fb-select-icon{position:absolute;bottom:6px;right:5px;width:16px;height:16px;box-sizing:content-box;background-position:center center;background-repeat:no-repeat;background-size:7px 4px;-webkit-background-size:7px 4px;background-image:url(data:image\\/png;base64,iVBORw0KGgoAAAANSUhEUgAAAAcAAAAECAYAAABCxiV9AAAABGdBTUEAALGPC\\/xhBQAAACBjSFJNAAB6JgAAgIQAAPoAAACA6AAAdTAAAOpgAAA6mAAAF3CculE8AAAABmJLR0QAAAAAAAD5Q7t\\/AAAACXBIWXMAAAsSAAALEgHS3X78AAAAKElEQVQI12Ps7Or6z4ADMDIwMDBgU1BeVsbICOMgKygvK2PEMAbdBAAhxA08t5Q3VgAAAABJRU5ErkJggg==)}.fb-select-shorter{position:relative;min-height:28px}.fb-type-container{line-height:28px;position:absolute;top:28px;width:100%;background-color:#fff;border:1px solid #ccc;z-index:300;margin-left:-1px;display:none}.fb-type-item,.fb-type-selected{height:28px;line-height:30px;padding-left:4px}.fb-type-item:hover{background:#f5F5F5}.fb-checkbox{position:relative;border-bottom:1px solid #eee;height:34px;line-height:35px}.fb-checkbox:last-child{border-bottom:0}.fb-list-wrapper{margin-top:-10px}.fb-textarea-sug textarea{margin-top:0}@media screen and (min-width:1921px){.slowmsg{left:50%!important;-webkit-transform:translateX(-50%);-ms-transform:translateX(-50%);transform:translateX(-50%)}.wrapper_l #head{-webkit-transform-style:preserve-3d;transform-style:preserve-3d}.head_wrapper{width:1196px;margin:0 auto;position:relative;-webkit-transform:translate3d(-52px,0,1px);transform:translate3d(-52px,0,1px)}#head .headBlock{-webkit-box-sizing:border-box;box-sizing:border-box;margin-left:auto;margin-right:auto;width:1196px;padding-left:121px;-webkit-transform:translate3d(-52px,0,0);transform:translate3d(-52px,0,0)}#s_tab.s_tab{padding-left:0}#s_tab.s_tab .s_tab_inner{display:block;-webkit-box-sizing:border-box;box-sizing:border-box;padding-left:77px;width:1212px;margin:0 auto}#con-at .result-op{margin-left:auto;margin-right:auto;-webkit-transform:translateX(-60px);-ms-transform:translateX(-60px);transform:translateX(-60px)}#wrapper_wrapper{margin-left:-88px}#container{-webkit-box-sizing:border-box;box-sizing:border-box;width:1212px;margin:0 auto}.foot-inner{width:1212px;margin:0 auto}}<\\/style>\";\n",
      "    result_common_css=$(result_common_css);\n",
      "    result_common_css.attr(\"data-for\",\"result\");\n",
      "\n",
      "    var index_css= $('head [index]');\n",
      "    var wrapper=$(\"#wrapper\");\n",
      "    window.index_on=function(){\n",
      "        index_css.insertAfter(\"meta:eq(0)\");\n",
      "        result_common_css.remove();\n",
      "        wrapper.show();\n",
      "        if(bds.su&&bds.su.U&&bds.su.U.homeInit){\n",
      "            bds.su.U.homeInit();\n",
      "        }\n",
      "        //$(\"#wrapper_wrapper\").remove();\n",
      "    };\n",
      "    window.index_off=function(){\n",
      "        //不能操作dom，只能改css，否则会丢失输入法状态\n",
      "        result_common_css.insertAfter(\"meta:eq(0)\");\n",
      "        wrapper.show();\n",
      "        index_css.remove();\n",
      "\n",
      "        //$(\"<div id='wrapper_wrapper'></div>\").appendTo(\"#wrapper\");\n",
      "    };\n",
      "})();\n",
      "\n",
      "//首页UA diff 监控\n",
      "$(window).on(\"load\",function() {\n",
      "\n",
      "\tvar rand = Math.random();\n",
      "\n",
      "\tif(rand < 0.01) {\n",
      "\t\ttry {\n",
      "\t\tvar baseUrl = \"//www.baidu.com/nocache/fesplg/s.gif?log_type=hm&type=uamonitor&\",\n",
      "\t\t\tqueryString = \"\";\n",
      "\n",
      "\t\tqueryString += \"&c_ua=\" + encodeURIComponent(navigator.userAgent);\n",
      "\t\tqueryString += \"&s_ua=\" + encodeURIComponent(bds.comm.userAgent);\n",
      "\n",
      "\t\tvar url=baseUrl+queryString,\n",
      "\t\t\timg = new Image(),\n",
      "\t\t\timg_rand=\"_LOG_\"+new Date().getTime();\n",
      "\t\timg.onload=function(){\n",
      "\t\t\tdelete window[img_rand];\n",
      "\t\t};\n",
      "\t\twindow[img_rand]=img;\n",
      "\t\timg.src=url;\n",
      "\t\t} catch(e) {};\n",
      "\t}\n",
      "});\n",
      "\n",
      "</script>\n",
      "\n",
      "<script type=\"text/javascript\">var Cookie={set:function(t,e,o,i,s,n){document.cookie=t+\"=\"+(n?e:escape(e))+(s?\"; expires=\"+s.toGMTString():\"\")+(i?\"; path=\"+i:\"; path=/\")+(o?\"; domain=\"+o:\"\")},get:function(t,e){var o=document.cookie.match(new RegExp(\"(^| )\"+t+\"=([^;]*)(;|$)\"));return null!=o?unescape(o[2]):e},clear:function(t,e,o){this.get(t)&&(document.cookie=t+\"=\"+(e?\"; path=\"+e:\"; path=/\")+(o?\"; domain=\"+o:\"\")+\";expires=Fri, 02-Jan-1970 00:00:00 GMT\")}};!function(){function save(t){var e=[];for(tmpName in options)options.hasOwnProperty(tmpName)&&\"duRobotState\"!==tmpName&&e.push('\"'+tmpName+'\":\"'+options[tmpName]+'\"');\n",
      "var o=\"{\"+e.join(\",\")+\"}\";bds.comm.personalData?$.ajax({url:\"//www.baidu.com/ups/submit/addtips/?product=ps&tips=\"+encodeURIComponent(o)+\"&_r=\"+(new Date).getTime(),success:function(){writeCookie(),\"function\"==typeof t&&t()}}):(writeCookie(),\"function\"==typeof t&&setTimeout(t,0))}function set(t,e){options[t]=e}function get(t){return options[t]}function writeCookie(){if(options.hasOwnProperty(\"sugSet\")){var t=\"0\"==options.sugSet?\"0\":\"3\";clearCookie(\"sug\"),Cookie.set(\"sug\",t,document.domain,\"/\",expire30y)\n",
      "}if(options.hasOwnProperty(\"sugStoreSet\")){var t=0==options.sugStoreSet?\"0\":\"1\";clearCookie(\"sugstore\"),Cookie.set(\"sugstore\",t,document.domain,\"/\",expire30y)}if(options.hasOwnProperty(\"isSwitch\")){var e={0:\"2\",1:\"0\",2:\"1\"},t=e[options.isSwitch];clearCookie(\"ORIGIN\"),Cookie.set(\"ORIGIN\",t,document.domain,\"/\",expire30y)}if(options.hasOwnProperty(\"imeSwitch\")){var t=options.imeSwitch;clearCookie(\"bdime\"),Cookie.set(\"bdime\",t,document.domain,\"/\",expire30y)}}function writeBAIDUID(){var t,e,o,i=Cookie.get(\"BAIDUID\");\n",
      "/FG=(\\d+)/.test(i)&&(e=RegExp.$1),/SL=(\\d+)/.test(i)&&(o=RegExp.$1),/NR=(\\d+)/.test(i)&&(t=RegExp.$1),options.hasOwnProperty(\"resultNum\")&&(t=options.resultNum),options.hasOwnProperty(\"resultLang\")&&(o=options.resultLang),Cookie.set(\"BAIDUID\",i.replace(/:.*$/,\"\")+(\"undefined\"!=typeof o?\":SL=\"+o:\"\")+(\"undefined\"!=typeof t?\":NR=\"+t:\"\")+(\"undefined\"!=typeof e?\":FG=\"+e:\"\"),\".baidu.com\",\"/\",expire30y,!0)}function clearCookie(t){Cookie.clear(t,\"/\"),Cookie.clear(t,\"/\",document.domain),Cookie.clear(t,\"/\",\".\"+document.domain),Cookie.clear(t,\"/\",\".baidu.com\")\n",
      "}function reset(t){options=defaultOptions,save(t)}var defaultOptions={sugSet:1,sugStoreSet:1,isSwitch:1,isJumpHttps:1,imeSwitch:0,resultNum:10,skinOpen:1,resultLang:0,duRobotState:\"000\"},options={},tmpName,expire30y=new Date;expire30y.setTime(expire30y.getTime()+94608e7);try{if(bds&&bds.comm&&bds.comm.personalData){if(\"string\"==typeof bds.comm.personalData&&(bds.comm.personalData=eval(\"(\"+bds.comm.personalData+\")\")),!bds.comm.personalData)return;for(tmpName in bds.comm.personalData)defaultOptions.hasOwnProperty(tmpName)&&bds.comm.personalData.hasOwnProperty(tmpName)&&\"SUCCESS\"==bds.comm.personalData[tmpName].ErrMsg&&(options[tmpName]=bds.comm.personalData[tmpName].value)\n",
      "}try{parseInt(options.resultNum)||delete options.resultNum,parseInt(options.resultLang)||\"0\"==options.resultLang||delete options.resultLang}catch(e){}writeCookie(),\"sugSet\"in options||(options.sugSet=3!=Cookie.get(\"sug\",3)?0:1),\"sugStoreSet\"in options||(options.sugStoreSet=Cookie.get(\"sugstore\",0));var BAIDUID=Cookie.get(\"BAIDUID\");\"resultNum\"in options||(options.resultNum=/NR=(\\d+)/.test(BAIDUID)&&RegExp.$1?parseInt(RegExp.$1):10),\"resultLang\"in options||(options.resultLang=/SL=(\\d+)/.test(BAIDUID)&&RegExp.$1?parseInt(RegExp.$1):0),\"isSwitch\"in options||(options.isSwitch=2==Cookie.get(\"ORIGIN\",0)?0:1==Cookie.get(\"ORIGIN\",0)?2:1),\"imeSwitch\"in options||(options.imeSwitch=Cookie.get(\"bdime\",0))\n",
      "}catch(e){}window.UPS={writeBAIDUID:writeBAIDUID,reset:reset,get:get,set:set,save:save}}(),function(){var t=\"http://s1.bdstatic.com/r/www/cache/static/plugins/every_cookie_4644b13.js\";(\"Mac68K\"==navigator.platform||\"MacPPC\"==navigator.platform||\"Macintosh\"==navigator.platform||\"MacIntel\"==navigator.platform)&&(t=\"http://s1.bdstatic.com/r/www/cache/static/plugins/every_cookie_mac_82990d4.js\"),setTimeout(function(){$.ajax({url:t,cache:!0,dataType:\"script\"})},0);var e=navigator&&navigator.userAgent?navigator.userAgent:\"\",o=document&&document.cookie?document.cookie:\"\",i=!!(e.match(/(msie [2-8])/i)||e.match(/windows.*safari/i)&&!e.match(/chrome/i)||e.match(/(linux.*firefox)/i)||e.match(/Chrome\\/29/i)||e.match(/mac os x.*firefox/i)||o.match(/\\bISSW=1/)||0==UPS.get(\"isSwitch\"));\n",
      "bds&&bds.comm&&(bds.comm.supportis=!i,bds.comm.isui=!0),window.__restart_confirm_timeout=!0,window.__confirm_timeout=8e3,window.__disable_is_guide=!0,window.__disable_swap_to_empty=!0,window.__switch_add_mask=!0;var s=\"http://s1.bdstatic.com/r/www/cache/static/global/js/all_async_search_7a3867d.js\",n=\"/script\";document.write(\"<script src='\"+s+\"'><\"+n+\">\"),bds.comm.newindex&&$(window).on(\"index_off\",function(){$('<div class=\"c-tips-container\" id=\"c-tips-container\"></div>').insertAfter(\"#wrapper\"),window.__sample_dynamic_tab&&$(\"#s_tab\").remove()\n",
      "}),bds.comm&&bds.comm.ishome&&Cookie.get(\"H_PS_PSSID\")&&(bds.comm.indexSid=Cookie.get(\"H_PS_PSSID\"));var a=$(document).find(\"#s_tab\").find(\"a\");a&&a.length>0&&a.each(function(t,e){e.innerHTML&&e.innerHTML.match(/新闻/)&&(e.innerHTML=\"资讯\",e.href=\"//www.baidu.com/s?rtt=1&bsst=1&cl=2&tn=news&word=\",e.setAttribute(\"sync\",!0))})}();</script>\n",
      "\n",
      "\n",
      "\n",
      "<script>\n",
      "if(bds.comm.supportis){\n",
      "    window.__restart_confirm_timeout=true;\n",
      "    window.__confirm_timeout=8000;\n",
      "    window.__disable_is_guide=true;\n",
      "    window.__disable_swap_to_empty=true;\n",
      "}\n",
      "initPreload({\n",
      "    'isui':true,\n",
      "    'index_form':\"#form\",\n",
      "    'index_kw':\"#kw\",\n",
      "    'result_form':\"#form\",\n",
      "    'result_kw':\"#kw\"\n",
      "});\n",
      "</script>\n",
      "\n",
      "<script>\n",
      "if(navigator.cookieEnabled){\n",
      "\tdocument.cookie=\"NOJS=;expires=Sat, 01 Jan 2000 00:00:00 GMT\";\n",
      "}\n",
      "</script>\n",
      "\n",
      "\n",
      "\n",
      "</body>\n",
      "</html>\n",
      "\n",
      "\r\n",
      "\n",
      "\n",
      "\r\n",
      "\n"
     ]
    }
   ],
   "source": [
    "cookie = http.cookiejar.LWPCookieJar()\n",
    "cookie.load('cookies.txt', ignore_discard=True, ignore_expires=True)\n",
    "handler = urllib.request.HTTPCookieProcessor(cookie)\n",
    "opener = urllib.request.build_opener(handler)\n",
    "response = opener.open('http://www.baidu.com')\n",
    "print(response.read().decode('utf-8'))"
   ]
  },
  {
   "cell_type": "markdown",
   "metadata": {},
   "source": [
    "### 异常"
   ]
  },
  {
   "cell_type": "code",
   "execution_count": 17,
   "metadata": {},
   "outputs": [
    {
     "name": "stdout",
     "output_type": "stream",
     "text": [
      "Not Found\n",
      "//////\n",
      "404\n",
      "//////\n",
      "Server: nginx/1.10.3 (Ubuntu)\n",
      "Date: Thu, 30 Aug 2018 01:45:44 GMT\n",
      "Content-Type: text/html; charset=UTF-8\n",
      "Transfer-Encoding: chunked\n",
      "Connection: close\n",
      "Vary: Cookie\n",
      "Expires: Wed, 11 Jan 1984 05:00:00 GMT\n",
      "Cache-Control: no-cache, must-revalidate, max-age=0\n",
      "Link: <https://cuiqingcai.com/wp-json/>; rel=\"https://api.w.org/\"\n",
      "\n",
      "\n",
      "---2---\n"
     ]
    }
   ],
   "source": [
    "from urllib import request, error\n",
    "\n",
    "try:\n",
    "    response = request.urlopen('http://cuiqingcai.com/index.htm')\n",
    "except error.HTTPError as e:\n",
    "    print(e.reason, '//////',e.code, '//////', e.headers, sep='\\n')\n",
    "    print('---2---')\n",
    "except error.URLError as e:\n",
    "    print(e.reason)\n",
    "    print('---1---')\n",
    "else:\n",
    "    print('Request Successfully')"
   ]
  },
  {
   "cell_type": "code",
   "execution_count": 9,
   "metadata": {},
   "outputs": [
    {
     "name": "stdout",
     "output_type": "stream",
     "text": [
      "<class 'socket.timeout'>\n",
      "TIME OUT\n"
     ]
    }
   ],
   "source": [
    "import socket\n",
    "import urllib.request\n",
    "import urllib.error\n",
    " \n",
    "try:\n",
    "    response = urllib.request.urlopen('https://www.baidu.com', timeout=0.01)\n",
    "except urllib.error.URLError as e:\n",
    "    print(type(e.reason))\n",
    "    if isinstance(e.reason, socket.timeout):\n",
    "        print('TIME OUT')"
   ]
  },
  {
   "cell_type": "markdown",
   "metadata": {},
   "source": [
    "### 解析链接"
   ]
  },
  {
   "cell_type": "code",
   "execution_count": 69,
   "metadata": {},
   "outputs": [
    {
     "name": "stdout",
     "output_type": "stream",
     "text": [
      "<class 'urllib.parse.ParseResult'> ParseResult(scheme='', netloc='', path='www.baidu.com/index.html', params='user', query='id=5', fragment='comment')\n",
      "SplitResult(scheme='http', netloc='www.baidu.com', path='/index.html;user', query='id=5', fragment='comment')\n"
     ]
    }
   ],
   "source": [
    "from urllib.parse import urlparse,urlunparse,urlsplit,urljoin,urlencode,quote,unquote\n",
    "result = urlparse('www.baidu.com/index.html;user?id=5#comment')\n",
    "print(type(result), result)\n",
    "result = urlsplit('http://www.baidu.com/index.html;user?id=5#comment')\n",
    "print(result)"
   ]
  },
  {
   "cell_type": "code",
   "execution_count": 66,
   "metadata": {},
   "outputs": [
    {
     "name": "stdout",
     "output_type": "stream",
     "text": [
      "http://www.baidu.com/index.html\n",
      "http://www.baidu.coms/pandas\n"
     ]
    }
   ],
   "source": [
    "data = ['http', 'www.baidu.com', 'index.html', '', '','']\n",
    "print(urlunparse(data))\n",
    "print(urljoin('http://www.baidu.coms?wd=', 'pandas'))"
   ]
  },
  {
   "cell_type": "markdown",
   "metadata": {},
   "source": [
    "构造函数"
   ]
  },
  {
   "cell_type": "code",
   "execution_count": 62,
   "metadata": {},
   "outputs": [
    {
     "name": "stdout",
     "output_type": "stream",
     "text": [
      "http://www.baidu.com?name=germey&age=22\n"
     ]
    }
   ],
   "source": [
    "params = {\n",
    "    'name': 'germey',\n",
    "    'age': 22\n",
    "}\n",
    "base_url = 'http://www.baidu.com?'\n",
    "url = base_url + urlencode(params)\n",
    "print(url)"
   ]
  },
  {
   "cell_type": "code",
   "execution_count": 75,
   "metadata": {},
   "outputs": [
    {
     "name": "stdout",
     "output_type": "stream",
     "text": [
      "https://www.baidu.com/s?wd=%E5%A3%81%E7%BA%B8\n",
      "https://www.baidu.com/s?wd=壁纸\n"
     ]
    }
   ],
   "source": [
    "keyword = '壁纸'\n",
    "url = 'https://www.baidu.com/s?wd=' + quote(keyword)\n",
    "print(url)\n",
    "print(unquote(url))"
   ]
  },
  {
   "cell_type": "markdown",
   "metadata": {},
   "source": [
    "Robots协议"
   ]
  },
  {
   "cell_type": "code",
   "execution_count": 77,
   "metadata": {},
   "outputs": [
    {
     "name": "stdout",
     "output_type": "stream",
     "text": [
      "False\n",
      "False\n"
     ]
    }
   ],
   "source": [
    "from urllib.robotparser import RobotFileParser\n",
    "rp = RobotFileParser()\n",
    "rp.set_url('http://www.jianshu.com/robots.txt')\n",
    "rp.read()\n",
    "print(rp.can_fetch('*', 'https://www.jianshu.com/p/b1882071e33d'))\n",
    "print(rp.can_fetch('*', \"http://www.jianshu.com/search?q=python&page=1&type=collections\"))"
   ]
  },
  {
   "cell_type": "markdown",
   "metadata": {},
   "source": [
    "## requests"
   ]
  },
  {
   "cell_type": "code",
   "execution_count": 78,
   "metadata": {},
   "outputs": [
    {
     "name": "stdout",
     "output_type": "stream",
     "text": [
      "<class 'requests.models.Response'>\n",
      "200\n",
      "<class 'str'>\n",
      "<!DOCTYPE html>\r\n",
      "<!--STATUS OK--><html> <head><meta http-equiv=content-type content=text/html;charset=utf-8><meta http-equiv=X-UA-Compatible content=IE=Edge><meta content=always name=referrer><link rel=stylesheet type=text/css href=https://ss1.bdstatic.com/5eN1bjq8AAUYm2zgoY3K/r/www/cache/bdorz/baidu.min.css><title>ç¾åº¦ä¸ä¸ï¼ä½ å°±ç¥é</title></head> <body link=#0000cc> <div id=wrapper> <div id=head> <div class=head_wrapper> <div class=s_form> <div class=s_form_wrapper> <div id=lg> <img hidefocus=true src=//www.baidu.com/img/bd_logo1.png width=270 height=129> </div> <form id=form name=f action=//www.baidu.com/s class=fm> <input type=hidden name=bdorz_come value=1> <input type=hidden name=ie value=utf-8> <input type=hidden name=f value=8> <input type=hidden name=rsv_bp value=1> <input type=hidden name=rsv_idx value=1> <input type=hidden name=tn value=baidu><span class=\"bg s_ipt_wr\"><input id=kw name=wd class=s_ipt value maxlength=255 autocomplete=off autofocus=autofocus></span><span class=\"bg s_btn_wr\"><input type=submit id=su value=ç¾åº¦ä¸ä¸ class=\"bg s_btn\" autofocus></span> </form> </div> </div> <div id=u1> <a href=http://news.baidu.com name=tj_trnews class=mnav>æ°é»</a> <a href=https://www.hao123.com name=tj_trhao123 class=mnav>hao123</a> <a href=http://map.baidu.com name=tj_trmap class=mnav>å°å¾</a> <a href=http://v.baidu.com name=tj_trvideo class=mnav>è§é¢</a> <a href=http://tieba.baidu.com name=tj_trtieba class=mnav>è´´å§</a> <noscript> <a href=http://www.baidu.com/bdorz/login.gif?login&amp;tpl=mn&amp;u=http%3A%2F%2Fwww.baidu.com%2f%3fbdorz_come%3d1 name=tj_login class=lb>ç»å½</a> </noscript> <script>document.write('<a href=\"http://www.baidu.com/bdorz/login.gif?login&tpl=mn&u='+ encodeURIComponent(window.location.href+ (window.location.search === \"\" ? \"?\" : \"&\")+ \"bdorz_come=1\")+ '\" name=\"tj_login\" class=\"lb\">ç»å½</a>');\r\n",
      "                </script> <a href=//www.baidu.com/more/ name=tj_briicon class=bri style=\"display: block;\">æ´å¤äº§å</a> </div> </div> </div> <div id=ftCon> <div id=ftConw> <p id=lh> <a href=http://home.baidu.com>å",
      "³äºç¾åº¦</a> <a href=http://ir.baidu.com>About Baidu</a> </p> <p id=cp>&copy;2017&nbsp;Baidu&nbsp;<a href=http://www.baidu.com/duty/>ä½¿ç¨ç¾åº¦åå¿",
      "è¯»</a>&nbsp; <a href=http://jianyi.baidu.com/ class=cp-feedback>æè§åé¦</a>&nbsp;äº¬ICPè¯030173å·&nbsp; <img src=//www.baidu.com/img/gs.gif> </p> </div> </div> </div> </body> </html>\r\n",
      "\n",
      "<RequestsCookieJar[<Cookie BDORZ=27315 for .baidu.com/>]>\n"
     ]
    }
   ],
   "source": [
    "import requests\n",
    " \n",
    "r = requests.get('https://www.baidu.com/')\n",
    "print(type(r))\n",
    "print(r.status_code)\n",
    "print(type(r.text))\n",
    "print(r.text)\n",
    "print(r.cookies)"
   ]
  },
  {
   "cell_type": "markdown",
   "metadata": {},
   "source": [
    "### GET请求"
   ]
  },
  {
   "cell_type": "code",
   "execution_count": 111,
   "metadata": {},
   "outputs": [
    {
     "name": "stdout",
     "output_type": "stream",
     "text": [
      "['\\n文徵明“唯庚寅吾以降”用《楚辞》入印，有人用为“唯甲子吾以降”，被评“殊为可笑”，具体怎么回事？\\n', '\\n我国的基尼系数是多少?\\n', '\\n如何评价华晨宇的新歌《寒鸦少年》？\\n', '\\n如何看待首都航空 JD5759 北京飞澳门航班降落时疑似遭遇风切变，前起落架轮胎丢失备降深圳？\\n', '\\n如何看待喜欢玩数独却连微积分都不会的人？\\n', '\\n怎么看待防弹少年团受到别家粉丝厌恶？\\n', '\\n如何评价演员聂远的演技？\\n', '\\n请问大家对于这次大黑和CJ联合推出新公司有什么看法?\\n', '\\n极简主义的头像会是怎样的？\\n', '\\n超强的学习能力是怎样练就的？\\n']\n",
      "<Response [200]>\n"
     ]
    }
   ],
   "source": [
    "#get文字\n",
    "import requests\n",
    "import re\n",
    " \n",
    "headers = {\n",
    "    'User-Agent': 'Mozilla/5.0 (Macintosh; Intel Mac OS X 10_11_4) AppleWebKit/537.36 (KHTML, like Gecko) Chrome/52.0.2743.116 Safari/537.36'\n",
    "}\n",
    "r = requests.get(\"https://www.zhihu.com/explore\", headers=headers)\n",
    "'''\n",
    "re.I|re.S|re.M多个\n",
    "re.S匹配跨行（/n）的情况\n",
    "'''\n",
    "pattern = re.compile('explore-feed.*?question_link.*?>(.*?)</a>', re.S)\n",
    "titles = re.findall(pattern, r.text)\n",
    "print(titles)\n",
    "print(r)"
   ]
  },
  {
   "cell_type": "code",
   "execution_count": 115,
   "metadata": {},
   "outputs": [],
   "source": [
    "#get图片\n",
    "import requests\n",
    " \n",
    "r = requests.get(\"https://github.com/favicon.ico\")\n",
    "with open('favicon.ico', 'wb') as f:\n",
    "    f.write(r.content)"
   ]
  },
  {
   "cell_type": "markdown",
   "metadata": {},
   "source": [
    "#### 正则"
   ]
  },
  {
   "cell_type": "code",
   "execution_count": 115,
   "metadata": {},
   "outputs": [
    {
     "name": "stdout",
     "output_type": "stream",
     "text": [
      "45\n",
      "<_sre.SRE_Match object; span=(0, 45), match='Hello 122223 45687 World_This is a Regex Demo'>\n",
      "122223\n",
      "(0, 45)\n"
     ]
    }
   ],
   "source": [
    "# 正则\n",
    "import re\n",
    "#通用匹配\n",
    "content = 'Hello 122223 45687 World_This is a Regex Demo'\n",
    "print(len(content))\n",
    "result = re.match('^He.*?(\\d+).*?Demo$', content,re.S)\n",
    "# ^开头$结尾\n",
    "print(result)\n",
    "print(result.group(1))\n",
    "print(result.span())"
   ]
  },
  {
   "cell_type": "code",
   "execution_count": 128,
   "metadata": {},
   "outputs": [
    {
     "name": "stdout",
     "output_type": "stream",
     "text": [
      "[('2.mp3', '任贤齐', '沧海一声笑'), ('3.mp3', '齐秦', '往事随风'), ('4.mp3', 'beyond', '光辉岁月'), ('5.mp3', '陈慧琳', '记事本'), ('6.mp3', '邓丽君', '<i class=\"fa fa-user\"></i>但愿人长久')]\n",
      "<class 'list'>\n",
      "('2.mp3', '任贤齐', '沧海一声笑')\n",
      "2.mp3 任贤齐 沧海一声笑\n",
      "('3.mp3', '齐秦', '往事随风')\n",
      "3.mp3 齐秦 往事随风\n",
      "('4.mp3', 'beyond', '光辉岁月')\n",
      "4.mp3 beyond 光辉岁月\n",
      "('5.mp3', '陈慧琳', '记事本')\n",
      "5.mp3 陈慧琳 记事本\n",
      "('6.mp3', '邓丽君', '<i class=\"fa fa-user\"></i>但愿人长久')\n",
      "6.mp3 邓丽君 <i class=\"fa fa-user\"></i>但愿人长久\n"
     ]
    }
   ],
   "source": [
    "# 正则\n",
    "import re\n",
    "#通用匹配\n",
    "html = '''<div id=\"songs-list\">\n",
    "    <h2 class=\"title\">经典老歌</h2>\n",
    "    <p class=\"introduction\">\n",
    "        经典老歌列表\n",
    "    </p>\n",
    "    <ul id=\"list\" class=\"list-group\">\n",
    "        <li data-view=\"2\">一路上有你</li>\n",
    "        <li data-view=\"7\">\n",
    "            <a href=\"/2.mp3\" singer=\"任贤齐\">沧海一声笑</a>\n",
    "        </li>\n",
    "        <li data-view=\"4\" class=\"active\">\n",
    "            <a href=\"/3.mp3\" singer=\"齐秦\">往事随风</a>\n",
    "        </li>\n",
    "        <li data-view=\"6\"><a href=\"/4.mp3\" singer=\"beyond\">光辉岁月</a></li>\n",
    "        <li data-view=\"5\"><a href=\"/5.mp3\" singer=\"陈慧琳\">记事本</a></li>\n",
    "        <li data-view=\"5\">\n",
    "            <a href=\"/6.mp3\" singer=\"邓丽君\"><i class=\"fa fa-user\"></i>但愿人长久</a>\n",
    "        </li>\n",
    "    </ul>\n",
    "</div>'''\n",
    "results = re.findall('<li.*?href=\"/(.*?)\".*?singer=\"(.*?)\">(.*?)</a>',html,re.S)\n",
    "print(results)\n",
    "print(type(results))\n",
    "for result in results:\n",
    "    print(result)\n",
    "    print(result[0], result[1], result[2])"
   ]
  },
  {
   "cell_type": "code",
   "execution_count": 124,
   "metadata": {},
   "outputs": [
    {
     "name": "stdout",
     "output_type": "stream",
     "text": [
      "aKyroiRixLg\n"
     ]
    }
   ],
   "source": [
    "content = '54aK54yr5oiR54ix5L2g'\n",
    "content = re.sub('\\d+', '', content)\n",
    "print(content)"
   ]
  },
  {
   "cell_type": "code",
   "execution_count": 165,
   "metadata": {},
   "outputs": [
    {
     "name": "stdout",
     "output_type": "stream",
     "text": [
      "<div id=\"songs-list\">\n",
      "    <h2 class=\"title\">经典老歌</h2>\n",
      "    <p class=\"introduction\">\n",
      "        经典老歌列表\n",
      "    </p>\n",
      "    <ul id=\"list\" class=\"list-group\">\n",
      "        <li data-view=\"2\">一路上有你</li>\n",
      "        <li data-view=\"7\">\n",
      "            沧海一声笑\n",
      "        </li>\n",
      "        <li data-view=\"4\" class=\"active\">\n",
      "            往事随风\n",
      "        </li>\n",
      "        <li data-view=\"6\">光辉岁月</li>\n",
      "        <li data-view=\"5\">记事本</li>\n",
      "        <li data-view=\"5\">\n",
      "            <i class=\"fa fa-user\"></i>但愿人长久\n",
      "        </li>\n",
      "    </ul>\n",
      "</div>\n",
      "一路上有你\n",
      "沧海一声笑\n",
      "往事随风\n",
      "光辉岁月\n",
      "记事本\n",
      "<i class=\"fa fa-user\"></i>但愿人长久\n"
     ]
    }
   ],
   "source": [
    "html = re.sub('<a.*?>|</a>', '', html)\n",
    "print(html)\n",
    "results = re.findall('<li.*?>(.*?)</li>', html, re.S)\n",
    "for result in results:\n",
    "    print(result.strip())"
   ]
  },
  {
   "cell_type": "markdown",
   "metadata": {},
   "source": [
    "### POST请求"
   ]
  },
  {
   "cell_type": "code",
   "execution_count": 2,
   "metadata": {},
   "outputs": [
    {
     "name": "stdout",
     "output_type": "stream",
     "text": [
      "<class 'int'> 403\n",
      "<class 'requests.structures.CaseInsensitiveDict'> {'Date': 'Thu, 30 Aug 2018 08:49:29 GMT', 'Server': 'Tengine', 'Content-Type': 'text/html', 'Transfer-Encoding': 'chunked', 'Strict-Transport-Security': 'max-age=31536000; includeSubDomains; preload', 'Content-Encoding': 'gzip', 'X-Via': '1.1 qzhdx44:8 (Cdn Cache Server V2.0), 1.1 PSzjhzdx5zr114:6 (Cdn Cache Server V2.0)', 'Connection': 'keep-alive'}\n",
      "<class 'requests.cookies.RequestsCookieJar'> <RequestsCookieJar[]>\n",
      "<class 'str'> https://www.jianshu.com/\n",
      "<class 'list'> [<Response [301]>]\n"
     ]
    },
    {
     "data": {
      "text/plain": [
       "200"
      ]
     },
     "execution_count": 2,
     "metadata": {},
     "output_type": "execute_result"
    }
   ],
   "source": [
    "import requests\n",
    " \n",
    "r = requests.get('http://www.jianshu.com')\n",
    "print(type(r.status_code), r.status_code)\n",
    "print(type(r.headers), r.headers)\n",
    "print(type(r.cookies), r.cookies)\n",
    "print(type(r.url), r.url)\n",
    "print(type(r.history), r.history)\n",
    "requests.codes.ok"
   ]
  },
  {
   "cell_type": "markdown",
   "metadata": {},
   "source": [
    "### 文件上传"
   ]
  },
  {
   "cell_type": "code",
   "execution_count": 8,
   "metadata": {},
   "outputs": [
    {
     "name": "stdout",
     "output_type": "stream",
     "text": [
      "<RequestsCookieJar[<Cookie _xsrf=ZrjExKtHHach1Eomceg4lw8bm9ALEFsF for .zhihu.com/>, <Cookie tgw_l7_route=8605c5a961285724a313ad9c1bbbc186 for www.zhihu.com/>]>\n",
      "_xsrf=ZrjExKtHHach1Eomceg4lw8bm9ALEFsF\n",
      "tgw_l7_route=8605c5a961285724a313ad9c1bbbc186\n"
     ]
    }
   ],
   "source": [
    "import requests\n",
    "r = requests.get(\"https://www.zhihu.com\")\n",
    "print(r.cookies)\n",
    "for key, value in r.cookies.items():\n",
    "    print(key + '=' + value)"
   ]
  },
  {
   "cell_type": "markdown",
   "metadata": {},
   "source": [
    "### cookies"
   ]
  },
  {
   "cell_type": "code",
   "execution_count": 9,
   "metadata": {
    "collapsed": true
   },
   "outputs": [
    {
     "name": "stdout",
     "output_type": "stream",
     "text": [
      "<!doctype html>\n",
      "<html lang=\"zh\" data-hairline=\"true\" data-theme=\"light\"><head><meta charSet=\"utf-8\"/><title data-react-helmet=\"true\">知乎 - 有问题上知乎</title><meta name=\"viewport\" content=\"width=device-width,initial-scale=1,maximum-scale=1\"/><meta name=\"renderer\" content=\"webkit\"/><meta name=\"force-rendering\" content=\"webkit\"/><meta http-equiv=\"X-UA-Compatible\" content=\"IE=edge,chrome=1\"/><meta name=\"google-site-verification\" content=\"FTeR0c8arOPKh8c5DYh_9uu98_zJbaWw53J-Sch9MTg\"/><title>知乎 - 有问题上知乎</title><meta name=\"description\" content=\"有问题，上知乎。知乎是中文互联网知名知识分享平台，以「知识连接一切」为愿景，致力于构建一个人人都可以便捷接入的知识分享网络，让人们便捷地与世界分享知识、经验和见解，发现更大的世界。\"/><link rel=\"shortcut icon\" type=\"image/x-icon\" href=\"https://static.zhihu.com/static/favicon.ico\"/><link rel=\"search\" type=\"application/opensearchdescription+xml\" href=\"https://static.zhihu.com/static/search.xml\" title=\"知乎\"/><link rel=\"dns-prefetch\" href=\"//static.zhimg.com\"/><link rel=\"dns-prefetch\" href=\"//pic1.zhimg.com\"/><link rel=\"dns-prefetch\" href=\"//pic2.zhimg.com\"/><link rel=\"dns-prefetch\" href=\"//pic3.zhimg.com\"/><link rel=\"dns-prefetch\" href=\"//pic4.zhimg.com\"/><link href=\"https://static.zhihu.com/heifetz/main.app.4b9921016d9a71d81a54.css\" rel=\"stylesheet\"/></head><body class=\"EntrySign-body Body--isAppleDevice\"><div id=\"root\"><div data-zop-usertoken=\"{}\" data-reactroot=\"\"><div class=\"LoadingBar\"></div><div><header role=\"banner\" class=\"Sticky AppHeader\" data-za-module=\"TopNavBar\"><div class=\"AppHeader-inner\"><a href=\"//www.zhihu.com\" aria-label=\"知乎\"><svg viewBox=\"0 0 200 91\" class=\"Icon ZhihuLogo ZhihuLogo--blue Icon--logo\" style=\"height:30px;width:64px\" width=\"64\" height=\"30\" aria-hidden=\"true\"><title></title><g><path d=\"M53.29 80.035l7.32.002 2.41 8.24 13.128-8.24h15.477v-67.98H53.29v67.978zm7.79-60.598h22.756v53.22h-8.73l-8.718 5.473-1.587-5.46-3.72-.012v-53.22zM46.818 43.162h-16.35c.545-8.467.687-16.12.687-22.955h15.987s.615-7.05-2.68-6.97H16.807c1.09-4.1 2.46-8.332 4.1-12.708 0 0-7.523 0-10.085 6.74-1.06 2.78-4.128 13.48-9.592 24.41 1.84-.2 7.927-.37 11.512-6.94.66-1.84.785-2.08 1.605-4.54h9.02c0 3.28-.374 20.9-.526 22.95H6.51c-3.67 0-4.863 7.38-4.863 7.38H22.14C20.765 66.11 13.385 79.24 0 89.62c6.403 1.828 12.784-.29 15.937-3.094 0 0 7.182-6.53 11.12-21.64L43.92 85.18s2.473-8.402-.388-12.496c-2.37-2.788-8.768-10.33-11.496-13.064l-4.57 3.627c1.363-4.368 2.183-8.61 2.46-12.71H49.19s-.027-7.38-2.372-7.38zm128.752-.502c6.51-8.013 14.054-18.302 14.054-18.302s-5.827-4.625-8.556-1.27c-1.874 2.548-11.51 15.063-11.51 15.063l6.012 4.51zm-46.903-18.462c-2.814-2.577-8.096.667-8.096.667s12.35 17.2 12.85 17.953l6.08-4.29s-8.02-11.752-10.83-14.33zM199.99 46.5c-6.18 0-40.908.292-40.953.292v-31.56c1.503 0 3.882-.124 7.14-.376 12.773-.753 21.914-1.25 27.427-1.504 0 0 3.817-8.496-.185-10.45-.96-.37-7.24 1.43-7.24 1.43s-51.63 5.153-72.61 5.64c.5 2.756 2.38 5.336 4.93 6.11 4.16 1.087 7.09.53 15.36.277 7.76-.5 13.65-.76 17.66-.76v31.19h-41.71s.88 6.97 7.97 7.14h33.73v22.16c0 4.364-3.498 6.87-7.65 6.6-4.4.034-8.15-.36-13.027-.566.623 1.24 1.977 4.496 6.035 6.824 3.087 1.502 5.054 2.053 8.13 2.053 9.237 0 14.27-5.4 14.027-14.16V53.93h38.235c3.026 0 2.72-7.432 2.72-7.432z\" fill-rule=\"evenodd\"/></g></svg></a><nav role=\"navigation\" class=\"AppHeader-nav\"><a class=\"AppHeader-navItem\" href=\"//www.zhihu.com/\" data-za-not-track-link=\"true\">首页</a><a class=\"AppHeader-navItem\" href=\"//www.zhihu.com/explore\" data-za-not-track-link=\"true\">发现</a><a href=\"//www.zhihu.com/topic\" class=\"AppHeader-navItem\" data-za-not-track-link=\"true\">话题</a></nav><div class=\"SearchBar\" role=\"search\" data-za-module=\"PresetWordItem\"><div class=\"SearchBar-toolWrapper\"><form class=\"SearchBar-tool\"><div><div class=\"Popover\"><div class=\"SearchBar-input Input-wrapper Input-wrapper--grey\"><input type=\"text\" maxLength=\"100\" value=\"\" autoComplete=\"off\" role=\"combobox\" aria-expanded=\"false\" aria-autocomplete=\"list\" aria-activedescendant=\"null--1\" id=\"null-toggle\" aria-haspopup=\"true\" aria-owns=\"null-content\" class=\"Input\" placeholder=\"\"/><div class=\"Input-after\"><button aria-label=\"搜索\" type=\"button\" class=\"Button SearchBar-searchIcon Button--primary\"><svg viewBox=\"0 0 16 16\" class=\"Icon Icon--search\" style=\"height:16px;width:16px\" width=\"16\" height=\"16\" aria-hidden=\"true\"><title></title><g><path d=\"M12.054 10.864c.887-1.14 1.42-2.57 1.42-4.127C13.474 3.017 10.457 0 6.737 0S0 3.016 0 6.737c0 3.72 3.016 6.737 6.737 6.737 1.556 0 2.985-.533 4.127-1.42l3.103 3.104c.765.46 1.705-.37 1.19-1.19l-3.103-3.104zm-5.317.925c-2.786 0-5.053-2.267-5.053-5.053S3.95 1.684 6.737 1.684 11.79 3.95 11.79 6.737 9.522 11.79 6.736 11.79z\"/></g></svg></button></div></div></div></div></form></div></div><div class=\"AppHeader-userInfo\"><div class=\"AppHeader-profile\"><div><button type=\"button\" class=\"Button AppHeader-login Button--blue\">登录</button><button type=\"button\" class=\"Button Button--primary Button--blue\">加入知乎</button></div></div></div></div></header></div><main role=\"main\" class=\"App-main\"><div class=\"SignFlowHomepage\"><div class=\"SignFlowHomepage-content\"><div class=\"Card SignContainer-content\"><div class=\"SignFlowHeader\" style=\"padding-bottom:5px\"><svg viewBox=\"0 0 200 91\" class=\"Icon ZhihuLogo ZhihuLogo--blue Icon--logo\" style=\"height:65.625px;width:140px\" width=\"140\" height=\"65.625\" aria-hidden=\"true\"><title></title><g><path d=\"M53.29 80.035l7.32.002 2.41 8.24 13.128-8.24h15.477v-67.98H53.29v67.978zm7.79-60.598h22.756v53.22h-8.73l-8.718 5.473-1.587-5.46-3.72-.012v-53.22zM46.818 43.162h-16.35c.545-8.467.687-16.12.687-22.955h15.987s.615-7.05-2.68-6.97H16.807c1.09-4.1 2.46-8.332 4.1-12.708 0 0-7.523 0-10.085 6.74-1.06 2.78-4.128 13.48-9.592 24.41 1.84-.2 7.927-.37 11.512-6.94.66-1.84.785-2.08 1.605-4.54h9.02c0 3.28-.374 20.9-.526 22.95H6.51c-3.67 0-4.863 7.38-4.863 7.38H22.14C20.765 66.11 13.385 79.24 0 89.62c6.403 1.828 12.784-.29 15.937-3.094 0 0 7.182-6.53 11.12-21.64L43.92 85.18s2.473-8.402-.388-12.496c-2.37-2.788-8.768-10.33-11.496-13.064l-4.57 3.627c1.363-4.368 2.183-8.61 2.46-12.71H49.19s-.027-7.38-2.372-7.38zm128.752-.502c6.51-8.013 14.054-18.302 14.054-18.302s-5.827-4.625-8.556-1.27c-1.874 2.548-11.51 15.063-11.51 15.063l6.012 4.51zm-46.903-18.462c-2.814-2.577-8.096.667-8.096.667s12.35 17.2 12.85 17.953l6.08-4.29s-8.02-11.752-10.83-14.33zM199.99 46.5c-6.18 0-40.908.292-40.953.292v-31.56c1.503 0 3.882-.124 7.14-.376 12.773-.753 21.914-1.25 27.427-1.504 0 0 3.817-8.496-.185-10.45-.96-.37-7.24 1.43-7.24 1.43s-51.63 5.153-72.61 5.64c.5 2.756 2.38 5.336 4.93 6.11 4.16 1.087 7.09.53 15.36.277 7.76-.5 13.65-.76 17.66-.76v31.19h-41.71s.88 6.97 7.97 7.14h33.73v22.16c0 4.364-3.498 6.87-7.65 6.6-4.4.034-8.15-.36-13.027-.566.623 1.24 1.977 4.496 6.035 6.824 3.087 1.502 5.054 2.053 8.13 2.053 9.237 0 14.27-5.4 14.027-14.16V53.93h38.235c3.026 0 2.72-7.432 2.72-7.432z\" fill-rule=\"evenodd\"/></g></svg><div class=\"SignFlowHeader-slogen\">注册<!-- -->知乎，发现更大的世界</div></div><div class=\"SignContainer-inner\"><div class=\"Register\"><div><div class=\"Register-content\"><form novalidate=\"\"><div class=\"SignFlow-account\"><div class=\"SignFlow-supportedCountriesSelectContainer\"></div><div class=\"SignFlowInput SignFlow-accountInputContainer\"><div class=\"SignFlow-accountInput Input-wrapper\"><input type=\"tel\" value=\"\" name=\"phoneNo\" class=\"Input\" placeholder=\"手机号\"/></div><div class=\"SignFlowInput-errorMask SignFlowInput-requiredErrorMask SignFlowInput-errorMask--hidden\"></div></div></div><div class=\"Captcha SignFlow-captchaContainer Register-captcha\" style=\"width:0;height:0;opacity:0;overflow:hidden;margin:0;padding:0;border:0\"><div><div class=\"Captcha-chineseOperator\"><span class=\"Captcha-info\">请点击图中倒立的文字</span><button type=\"button\" class=\"Button Captcha-chineseRefreshButton Button--plain\"><svg class=\"Zi Zi--Refresh\" fill=\"currentColor\" viewBox=\"0 0 24 24\" width=\"20\" height=\"20\"><path d=\"M20 12.878C20 17.358 16.411 21 12 21s-8-3.643-8-8.122c0-4.044 3.032-7.51 6.954-8.038.034-1.185.012-1.049.012-1.049-.013-.728.461-1.003 1.057-.615l3.311 2.158c.598.39.596 1.026 0 1.418l-3.31 2.181c-.598.393-1.08.12-1.079-.606 0 0 .006-.606-.003-1.157-2.689.51-4.675 2.9-4.675 5.708 0 3.21 2.572 5.822 5.733 5.822 3.163 0 5.733-2.612 5.733-5.822 0-.633.51-1.148 1.134-1.148.625 0 1.133.515 1.133 1.148\" fill-rule=\"evenodd\"></path></svg></button></div><div class=\"Captcha-chineseContainer\"><img data-tooltip=\"看不清楚？换一张\" class=\"Captcha-chineseImg\" src=\"data:image/jpg;base64,null\" alt=\"图形验证码\"/></div></div></div><div class=\"Register-SMSInput\"><div class=\"SignFlow SignFlow-smsInputContainer\"><div class=\"SignFlowInput SignFlow-smsInput\"><div class=\"Input-wrapper\"><input type=\"number\" value=\"\" name=\"digits\" class=\"Input\" placeholder=\"输入 6 位短信验证码\"/></div><div class=\"SignFlowInput-errorMask SignFlowInput-requiredErrorMask SignFlowInput-errorMask--hidden\"></div></div><button type=\"button\" class=\"Button CountingDownButton SignFlow-smsInputButton Button--plain\">获取短信验证码</button></div><div class=\"Register-smsBackUp\"><span>接收<!-- -->语音<!-- -->验证码</span></div></div><button type=\"submit\" class=\"Button Register-submitButton Button--primary Button--blue\">注册</button></form><div class=\"Register-footer\"><span class=\"Register-declaration\">注册即代表同意<a href=\"https://www.zhihu.com/terms\">《知乎协议》</a><a href=\"https://www.zhihu.com/terms/privacy\">《隐私政策》</a></span><a class=\"Register-org\" href=\"https://www.zhihu.com/org/signup\">注册机构号</a></div></div></div></div><div class=\"SignContainer-switch\">已有帐号？<span>登录</span></div><div class=\"SignFlowHomepage-qrImage SignFlowHomepage-qrImageHidden\"><div></div></div></div></div><button type=\"button\" class=\"Button SignFlowHomepage-downloadBtn\">下载知乎 App</button></div><footer class=\"SignFlowHomepage-footer\"><div class=\"ZhihuLinks\"><a target=\"_blank\" rel=\"noopener noreferrer\" href=\"https://zhuanlan.zhihu.com\">知乎专栏</a><a target=\"_blank\" rel=\"noopener noreferrer\" href=\"/roundtable\">圆桌</a><a target=\"_blank\" rel=\"noopener noreferrer\" href=\"/explore\">发现</a><a target=\"_blank\" rel=\"noopener noreferrer\" href=\"/app\">移动应用</a><a target=\"_blank\" rel=\"noopener noreferrer\" href=\"/contact\">联系我们</a><a target=\"_blank\" rel=\"noopener noreferrer\" href=\"https://app.mokahr.com/apply/zhihu\">来知乎工作</a><a target=\"_blank\" rel=\"noopener noreferrer\" href=\"/org/signup\">注册机构号</a></div><div class=\"ZhihuRights\"><span>© 2018 知乎</span><a target=\"_blank\" rel=\"noopener noreferrer\" href=\"http://www.miibeian.gov.cn/\">京 ICP 证 110745 号</a><span>京公网安备 11010802010035 号<a href=\"http://zhstatic.zhihu.com/assets/zhihu/publish-license.jpg\" target=\"_blank\" rel=\"noopener noreferrer\">出版物经营许可证</a></span></div><div class=\"ZhihuReports\"><a target=\"_blank\" rel=\"noopener noreferrer\" href=\"https://zhuanlan.zhihu.com/p/28852607\">侵权举报</a><a target=\"_blank\" rel=\"noopener noreferrer\" href=\"http://www.12377.cn\">网上有害信息举报专区</a><a target=\"_blank\" rel=\"noopener noreferrer\" href=\"/jubao\">儿童色情信息举报专区</a><span>违法和不良信息举报：010-82716601</span></div><div class=\"ZhihuIntegrity\"><div><img src=\"https://static.zhihu.com/static/revved/img/index/chengxing_logo@2x.65dc76e8.png\" alt=\"诚信网站示范企业\"/><a href=\"https://credit.szfw.org/CX20170607038331320388.html\">诚信网站示范企业</a></div></div></footer></div></main></div></div><div id=\"data\" style=\"display:none\" data-state=\"{&quot;common&quot;:{&quot;ask&quot;:{}},&quot;privacy&quot;:{&quot;showPrivacy&quot;:false},&quot;loading&quot;:{&quot;global&quot;:{&quot;count&quot;:0},&quot;local&quot;:{}},&quot;entities&quot;:{&quot;users&quot;:{},&quot;questions&quot;:{},&quot;answers&quot;:{},&quot;articles&quot;:{},&quot;columns&quot;:{},&quot;topics&quot;:{},&quot;roundtables&quot;:{},&quot;favlists&quot;:{},&quot;comments&quot;:{},&quot;notifications&quot;:{},&quot;ebooks&quot;:{},&quot;activities&quot;:{},&quot;feeds&quot;:{},&quot;pins&quot;:{},&quot;promotions&quot;:{},&quot;drafts&quot;:{}},&quot;currentUser&quot;:&quot;&quot;,&quot;account&quot;:{&quot;lockLevel&quot;:{},&quot;unlockTicketStatus&quot;:false,&quot;unlockTicket&quot;:null,&quot;challenge&quot;:[],&quot;errorStatus&quot;:false,&quot;message&quot;:&quot;&quot;,&quot;isFetching&quot;:false,&quot;accountInfo&quot;:{},&quot;urlToken&quot;:{&quot;loading&quot;:false}},&quot;settings&quot;:{&quot;socialBind&quot;:null,&quot;inboxMsg&quot;:null,&quot;notification&quot;:{},&quot;email&quot;:{},&quot;privacyFlag&quot;:null,&quot;blockedUsers&quot;:{&quot;isFetching&quot;:false,&quot;paging&quot;:{&quot;pageNo&quot;:1,&quot;pageSize&quot;:6},&quot;data&quot;:[]},&quot;blockedFollowees&quot;:{&quot;isFetching&quot;:false,&quot;paging&quot;:{&quot;pageNo&quot;:1,&quot;pageSize&quot;:6},&quot;data&quot;:[]},&quot;ignoredTopics&quot;:{&quot;isFetching&quot;:false,&quot;paging&quot;:{&quot;pageNo&quot;:1,&quot;pageSize&quot;:6},&quot;data&quot;:[]},&quot;restrictedTopics&quot;:null,&quot;laboratory&quot;:{}},&quot;notification&quot;:{},&quot;people&quot;:{&quot;profileStatus&quot;:{},&quot;activitiesByUser&quot;:{},&quot;answersByUser&quot;:{},&quot;answersSortByVotesByUser&quot;:{},&quot;answersIncludedByUser&quot;:{},&quot;votedAnswersByUser&quot;:{},&quot;thankedAnswersByUser&quot;:{},&quot;voteAnswersByUser&quot;:{},&quot;thankAnswersByUser&quot;:{},&quot;topicAnswersByUser&quot;:{},&quot;articlesByUser&quot;:{},&quot;articlesSortByVotesByUser&quot;:{},&quot;articlesIncludedByUser&quot;:{},&quot;pinsByUser&quot;:{},&quot;questionsByUser&quot;:{},&quot;commercialQuestionsByUser&quot;:{},&quot;favlistsByUser&quot;:{},&quot;followingByUser&quot;:{},&quot;followersByUser&quot;:{},&quot;mutualsByUser&quot;:{},&quot;followingColumnsByUser&quot;:{},&quot;followingQuestionsByUser&quot;:{},&quot;followingFavlistsByUser&quot;:{},&quot;followingTopicsByUser&quot;:{},&quot;publicationsByUser&quot;:{},&quot;columnsByUser&quot;:{},&quot;allFavlistsByUser&quot;:{},&quot;brands&quot;:null},&quot;env&quot;:{&quot;ab&quot;:{&quot;config&quot;:{&quot;experiments&quot;:[{&quot;expId&quot;:&quot;launch-ad_rtl_http-2&quot;,&quot;expPrefix&quot;:&quot;ad_rtl_http&quot;,&quot;isDynamicallyUpdated&quot;:true,&quot;isRuntime&quot;:false,&quot;includeTriggerInfo&quot;:false},{&quot;expId&quot;:&quot;launch-gw_adr_mini-2&quot;,&quot;expPrefix&quot;:&quot;gw_adr_mini&quot;,&quot;isDynamicallyUpdated&quot;:true,&quot;isRuntime&quot;:false,&quot;includeTriggerInfo&quot;:false},{&quot;expId&quot;:&quot;launch-gw_adr_wbtp-2&quot;,&quot;expPrefix&quot;:&quot;gw_adr_wbtp&quot;,&quot;isDynamicallyUpdated&quot;:true,&quot;isRuntime&quot;:false,&quot;includeTriggerInfo&quot;:false},{&quot;expId&quot;:&quot;launch-gw_anr_wxbk-2&quot;,&quot;expPrefix&quot;:&quot;gw_anr_wxbk&quot;,&quot;isDynamicallyUpdated&quot;:true,&quot;isRuntime&quot;:false,&quot;includeTriggerInfo&quot;:false},{&quot;expId&quot;:&quot;launch-gw_ios_mini-2&quot;,&quot;expPrefix&quot;:&quot;gw_ios_mini&quot;,&quot;isDynamicallyUpdated&quot;:true,&quot;isRuntime&quot;:false,&quot;includeTriggerInfo&quot;:false},{&quot;expId&quot;:&quot;launch-gw_ios_wxb-2&quot;,&quot;expPrefix&quot;:&quot;gw_ios_wxb&quot;,&quot;isDynamicallyUpdated&quot;:true,&quot;isRuntime&quot;:false,&quot;includeTriggerInfo&quot;:false},{&quot;expId&quot;:&quot;launch-gw_unif-4&quot;,&quot;expPrefix&quot;:&quot;gw_unif&quot;,&quot;isDynamicallyUpdated&quot;:true,&quot;isRuntime&quot;:false,&quot;includeTriggerInfo&quot;:false},{&quot;expId&quot;:&quot;launch-gw_wbtp-2&quot;,&quot;expPrefix&quot;:&quot;gw_wbtp&quot;,&quot;isDynamicallyUpdated&quot;:true,&quot;isRuntime&quot;:false,&quot;includeTriggerInfo&quot;:false},{&quot;expId&quot;:&quot;launch-mp_apm-1&quot;,&quot;expPrefix&quot;:&quot;mp_apm&quot;,&quot;isDynamicallyUpdated&quot;:true,&quot;isRuntime&quot;:false,&quot;includeTriggerInfo&quot;:false},{&quot;expId&quot;:&quot;launch-mp_hb_si-3&quot;,&quot;expPrefix&quot;:&quot;mp_hb_si&quot;,&quot;isDynamicallyUpdated&quot;:true,&quot;isRuntime&quot;:false,&quot;includeTriggerInfo&quot;:false},{&quot;expId&quot;:&quot;launch-mp_ios_bvc-2&quot;,&quot;expPrefix&quot;:&quot;mp_ios_bvc&quot;,&quot;isDynamicallyUpdated&quot;:true,&quot;isRuntime&quot;:false,&quot;includeTriggerInfo&quot;:false},{&quot;expId&quot;:&quot;launch-mp_ios_webp-2&quot;,&quot;expPrefix&quot;:&quot;mp_ios_webp&quot;,&quot;isDynamicallyUpdated&quot;:true,&quot;isRuntime&quot;:false,&quot;includeTriggerInfo&quot;:false},{&quot;expId&quot;:&quot;launch-mp_video_feed-2&quot;,&quot;expPrefix&quot;:&quot;mp_video_feed&quot;,&quot;isDynamicallyUpdated&quot;:false,&quot;isRuntime&quot;:false,&quot;includeTriggerInfo&quot;:false},{&quot;expId&quot;:&quot;launch-se_ios_topsearch-2&quot;,&quot;expPrefix&quot;:&quot;se_ios_topsearch&quot;,&quot;isDynamicallyUpdated&quot;:false,&quot;isRuntime&quot;:false,&quot;includeTriggerInfo&quot;:false},{&quot;expId&quot;:&quot;launch-top_dtmt-10&quot;,&quot;expPrefix&quot;:&quot;top_dtmt&quot;,&quot;isDynamicallyUpdated&quot;:true,&quot;isRuntime&quot;:false,&quot;includeTriggerInfo&quot;:false},{&quot;expId&quot;:&quot;launch-vd_adrupload_cdn-2&quot;,&quot;expPrefix&quot;:&quot;vd_adrupload_cdn&quot;,&quot;isDynamicallyUpdated&quot;:false,&quot;isRuntime&quot;:false,&quot;includeTriggerInfo&quot;:false},{&quot;expId&quot;:&quot;launch-vd_upload_cdn-2&quot;,&quot;expPrefix&quot;:&quot;vd_upload_cdn&quot;,&quot;isDynamicallyUpdated&quot;:false,&quot;isRuntime&quot;:false,&quot;includeTriggerInfo&quot;:false},{&quot;expId&quot;:&quot;launch-vd_video_agent-2&quot;,&quot;expPrefix&quot;:&quot;vd_video_agent&quot;,&quot;isDynamicallyUpdated&quot;:true,&quot;isRuntime&quot;:false,&quot;includeTriggerInfo&quot;:false},{&quot;expId&quot;:&quot;top_ftc-19&quot;,&quot;expPrefix&quot;:&quot;top_ftc&quot;,&quot;isDynamicallyUpdated&quot;:true,&quot;isRuntime&quot;:false,&quot;includeTriggerInfo&quot;:false}],&quot;params&quot;:[{&quot;id&quot;:&quot;adr_dkts&quot;,&quot;type&quot;:&quot;String&quot;,&quot;value&quot;:&quot;30&quot;},{&quot;id&quot;:&quot;adr_sqtc&quot;,&quot;type&quot;:&quot;String&quot;,&quot;value&quot;:&quot;1&quot;},{&quot;id&quot;:&quot;ios_ge4&quot;,&quot;type&quot;:&quot;String&quot;,&quot;value&quot;:&quot;3&quot;},{&quot;id&quot;:&quot;top_keyword&quot;,&quot;type&quot;:&quot;String&quot;,&quot;value&quot;:&quot;0&quot;,&quot;chainId&quot;:&quot;_all_&quot;},{&quot;id&quot;:&quot;top_retag&quot;,&quot;type&quot;:&quot;String&quot;,&quot;value&quot;:&quot;0&quot;,&quot;chainId&quot;:&quot;_all_&quot;},{&quot;id&quot;:&quot;top_root_mg&quot;,&quot;type&quot;:&quot;String&quot;,&quot;value&quot;:&quot;1&quot;,&quot;chainId&quot;:&quot;_all_&quot;},{&quot;id&quot;:&quot;top_tag_isolation&quot;,&quot;type&quot;:&quot;String&quot;,&quot;value&quot;:&quot;0&quot;,&quot;chainId&quot;:&quot;_all_&quot;},{&quot;id&quot;:&quot;top_uit&quot;,&quot;type&quot;:&quot;String&quot;,&quot;value&quot;:&quot;0&quot;,&quot;chainId&quot;:&quot;_all_&quot;},{&quot;id&quot;:&quot;top_video_rew&quot;,&quot;type&quot;:&quot;String&quot;,&quot;value&quot;:&quot;0&quot;,&quot;chainId&quot;:&quot;_all_&quot;},{&quot;id&quot;:&quot;web_ask_flow&quot;,&quot;type&quot;:&quot;String&quot;,&quot;value&quot;:&quot;default&quot;,&quot;chainId&quot;:&quot;_all_&quot;},{&quot;id&quot;:&quot;adr_article_new_comment&quot;,&quot;type&quot;:&quot;String&quot;,&quot;value&quot;:&quot;0&quot;},{&quot;id&quot;:&quot;adr_unif&quot;,&quot;type&quot;:&quot;String&quot;,&quot;value&quot;:&quot;on&quot;},{&quot;id&quot;:&quot;adr_real_time_launch_http&quot;,&quot;type&quot;:&quot;String&quot;,&quot;value&quot;:&quot;http_off&quot;},{&quot;id&quot;:&quot;adr_video_topic_volume_control&quot;,&quot;type&quot;:&quot;String&quot;,&quot;value&quot;:&quot;0&quot;},{&quot;id&quot;:&quot;ios_le_nav&quot;,&quot;type&quot;:&quot;String&quot;,&quot;value&quot;:&quot;0&quot;},{&quot;id&quot;:&quot;top_followtop&quot;,&quot;type&quot;:&quot;String&quot;,&quot;value&quot;:&quot;0&quot;,&quot;chainId&quot;:&quot;_all_&quot;},{&quot;id&quot;:&quot;adr_wxbk&quot;,&quot;type&quot;:&quot;String&quot;,&quot;value&quot;:&quot;1&quot;},{&quot;id&quot;:&quot;adr_wxfb&quot;,&quot;type&quot;:&quot;String&quot;,&quot;value&quot;:&quot;1&quot;},{&quot;id&quot;:&quot;ios_profile_sig&quot;,&quot;type&quot;:&quot;String&quot;,&quot;value&quot;:&quot;true&quot;},{&quot;id&quot;:&quot;se_wiki_box&quot;,&quot;type&quot;:&quot;String&quot;,&quot;value&quot;:&quot;0&quot;,&quot;chainId&quot;:&quot;_all_&quot;},{&quot;id&quot;:&quot;top_billread&quot;,&quot;type&quot;:&quot;String&quot;,&quot;value&quot;:&quot;1&quot;,&quot;chainId&quot;:&quot;_all_&quot;},{&quot;id&quot;:&quot;top_feedre_rtt&quot;,&quot;type&quot;:&quot;String&quot;,&quot;value&quot;:&quot;41&quot;,&quot;chainId&quot;:&quot;_all_&quot;},{&quot;id&quot;:&quot;top_f_r_nb&quot;,&quot;type&quot;:&quot;String&quot;,&quot;value&quot;:&quot;1&quot;,&quot;chainId&quot;:&quot;_all_&quot;},{&quot;id&quot;:&quot;top_gif&quot;,&quot;type&quot;:&quot;String&quot;,&quot;value&quot;:&quot;0&quot;,&quot;chainId&quot;:&quot;_all_&quot;},{&quot;id&quot;:&quot;top_tffrt&quot;,&quot;type&quot;:&quot;String&quot;,&quot;value&quot;:&quot;0&quot;,&quot;chainId&quot;:&quot;_all_&quot;},{&quot;id&quot;:&quot;adr_cta&quot;,&quot;type&quot;:&quot;String&quot;,&quot;value&quot;:&quot;0&quot;},{&quot;id&quot;:&quot;adr_unfollow_reason&quot;,&quot;type&quot;:&quot;String&quot;,&quot;value&quot;:&quot;0&quot;},{&quot;id&quot;:&quot;ios_pay_view&quot;,&quot;type&quot;:&quot;String&quot;,&quot;value&quot;:&quot;new&quot;},{&quot;id&quot;:&quot;top_feedre&quot;,&quot;type&quot;:&quot;String&quot;,&quot;value&quot;:&quot;1&quot;,&quot;chainId&quot;:&quot;_all_&quot;},{&quot;id&quot;:&quot;top_nszt&quot;,&quot;type&quot;:&quot;String&quot;,&quot;value&quot;:&quot;0&quot;,&quot;chainId&quot;:&quot;_all_&quot;},{&quot;id&quot;:&quot;top_ntr&quot;,&quot;type&quot;:&quot;String&quot;,&quot;value&quot;:&quot;1&quot;,&quot;chainId&quot;:&quot;_all_&quot;},{&quot;id&quot;:&quot;top_pfq&quot;,&quot;type&quot;:&quot;String&quot;,&quot;value&quot;:&quot;0&quot;,&quot;chainId&quot;:&quot;_all_&quot;},{&quot;id&quot;:&quot;adr_task_statistics&quot;,&quot;type&quot;:&quot;String&quot;,&quot;value&quot;:&quot;false&quot;},{&quot;id&quot;:&quot;ios_real_time_launch_is_http&quot;,&quot;type&quot;:&quot;String&quot;,&quot;value&quot;:&quot;1&quot;},{&quot;id&quot;:&quot;ios_spic&quot;,&quot;type&quot;:&quot;String&quot;,&quot;value&quot;:&quot;0&quot;},{&quot;id&quot;:&quot;tp_write_pin_guide&quot;,&quot;type&quot;:&quot;String&quot;,&quot;value&quot;:&quot;1&quot;,&quot;chainId&quot;:&quot;_all_&quot;},{&quot;id&quot;:&quot;adr_anr_watch&quot;,&quot;type&quot;:&quot;String&quot;,&quot;value&quot;:&quot;false&quot;},{&quot;id&quot;:&quot;adr_pre_load_html&quot;,&quot;type&quot;:&quot;String&quot;,&quot;value&quot;:&quot;0&quot;},{&quot;id&quot;:&quot;adr_profile_label&quot;,&quot;type&quot;:&quot;String&quot;,&quot;value&quot;:&quot;1&quot;},{&quot;id&quot;:&quot;ios_next_ans&quot;,&quot;type&quot;:&quot;String&quot;,&quot;value&quot;:&quot;N&quot;},{&quot;id&quot;:&quot;ios_psn&quot;,&quot;type&quot;:&quot;String&quot;,&quot;value&quot;:&quot;n&quot;},{&quot;id&quot;:&quot;top_billab&quot;,&quot;type&quot;:&quot;String&quot;,&quot;value&quot;:&quot;0&quot;,&quot;chainId&quot;:&quot;_all_&quot;},{&quot;id&quot;:&quot;top_nucc&quot;,&quot;type&quot;:&quot;String&quot;,&quot;value&quot;:&quot;0&quot;,&quot;chainId&quot;:&quot;_all_&quot;},{&quot;id&quot;:&quot;adr_prt&quot;,&quot;type&quot;:&quot;String&quot;,&quot;value&quot;:&quot;false&quot;},{&quot;id&quot;:&quot;adr_test_delete&quot;,&quot;type&quot;:&quot;String&quot;,&quot;value&quot;:&quot;0&quot;},{&quot;id&quot;:&quot;ios_ad_cta&quot;,&quot;type&quot;:&quot;String&quot;,&quot;value&quot;:&quot;0&quot;},{&quot;id&quot;:&quot;ios_mini&quot;,&quot;type&quot;:&quot;String&quot;,&quot;value&quot;:&quot;1&quot;},{&quot;id&quot;:&quot;web_column_auto_invite&quot;,&quot;type&quot;:&quot;String&quot;,&quot;value&quot;:&quot;0&quot;},{&quot;id&quot;:&quot;adr_consultation&quot;,&quot;type&quot;:&quot;String&quot;,&quot;value&quot;:&quot;0&quot;},{&quot;id&quot;:&quot;adr_member_switch&quot;,&quot;type&quot;:&quot;String&quot;,&quot;value&quot;:&quot;0&quot;},{&quot;id&quot;:&quot;adr_traffic_monitor&quot;,&quot;type&quot;:&quot;String&quot;,&quot;value&quot;:&quot;false&quot;},{&quot;id&quot;:&quot;ls_play_continuous_order&quot;,&quot;type&quot;:&quot;String&quot;,&quot;value&quot;:&quot;1&quot;,&quot;chainId&quot;:&quot;_all_&quot;},{&quot;id&quot;:&quot;top_multi_model&quot;,&quot;type&quot;:&quot;String&quot;,&quot;value&quot;:&quot;0&quot;,&quot;chainId&quot;:&quot;_all_&quot;},{&quot;id&quot;:&quot;top_vdio_rew&quot;,&quot;type&quot;:&quot;String&quot;,&quot;value&quot;:&quot;0&quot;,&quot;chainId&quot;:&quot;_all_&quot;},{&quot;id&quot;:&quot;adr_pdf&quot;,&quot;type&quot;:&quot;String&quot;,&quot;value&quot;:&quot;n&quot;},{&quot;id&quot;:&quot;adr_profile_medal&quot;,&quot;type&quot;:&quot;String&quot;,&quot;value&quot;:&quot;0&quot;},{&quot;id&quot;:&quot;adr_ques_comment&quot;,&quot;type&quot;:&quot;String&quot;,&quot;value&quot;:&quot;0&quot;},{&quot;id&quot;:&quot;ios_profile_badge&quot;,&quot;type&quot;:&quot;String&quot;,&quot;value&quot;:&quot;false&quot;},{&quot;id&quot;:&quot;top_gr_topic_reweight&quot;,&quot;type&quot;:&quot;String&quot;,&quot;value&quot;:&quot;0&quot;,&quot;chainId&quot;:&quot;_all_&quot;},{&quot;id&quot;:&quot;top_memberfree&quot;,&quot;type&quot;:&quot;String&quot;,&quot;value&quot;:&quot;1&quot;,&quot;chainId&quot;:&quot;_all_&quot;},{&quot;id&quot;:&quot;top_nmt&quot;,&quot;type&quot;:&quot;String&quot;,&quot;value&quot;:&quot;0&quot;,&quot;chainId&quot;:&quot;_all_&quot;},{&quot;id&quot;:&quot;top_root_web&quot;,&quot;type&quot;:&quot;String&quot;,&quot;value&quot;:&quot;0&quot;,&quot;chainId&quot;:&quot;_all_&quot;},{&quot;id&quot;:&quot;hb_live_btn_color&quot;,&quot;type&quot;:&quot;String&quot;,&quot;value&quot;:&quot;default_color&quot;},{&quot;id&quot;:&quot;ios_1752&quot;,&quot;type&quot;:&quot;String&quot;,&quot;value&quot;:&quot;0&quot;},{&quot;id&quot;:&quot;ios_magitab&quot;,&quot;type&quot;:&quot;String&quot;,&quot;value&quot;:&quot;0&quot;},{&quot;id&quot;:&quot;ios_notif_new_invite&quot;,&quot;type&quot;:&quot;String&quot;,&quot;value&quot;:&quot;off&quot;},{&quot;id&quot;:&quot;se_syn&quot;,&quot;type&quot;:&quot;String&quot;,&quot;value&quot;:&quot;0&quot;,&quot;chainId&quot;:&quot;_all_&quot;},{&quot;id&quot;:&quot;top_billpic&quot;,&quot;type&quot;:&quot;String&quot;,&quot;value&quot;:&quot;0&quot;,&quot;chainId&quot;:&quot;_all_&quot;},{&quot;id&quot;:&quot;top_tagore&quot;,&quot;type&quot;:&quot;String&quot;,&quot;value&quot;:&quot;1&quot;,&quot;chainId&quot;:&quot;_all_&quot;},{&quot;id&quot;:&quot;top_user_gift&quot;,&quot;type&quot;:&quot;String&quot;,&quot;value&quot;:&quot;0&quot;,&quot;chainId&quot;:&quot;_all_&quot;},{&quot;id&quot;:&quot;adr_new_answer_pager&quot;,&quot;type&quot;:&quot;String&quot;,&quot;value&quot;:&quot;false&quot;},{&quot;id&quot;:&quot;adr_traffic_leak&quot;,&quot;type&quot;:&quot;String&quot;,&quot;value&quot;:&quot;false&quot;},{&quot;id&quot;:&quot;adr_video_upload_cdn&quot;,&quot;type&quot;:&quot;String&quot;,&quot;value&quot;:&quot;1&quot;},{&quot;id&quot;:&quot;ios_db_n_e&quot;,&quot;type&quot;:&quot;String&quot;,&quot;value&quot;:&quot;0&quot;},{&quot;id&quot;:&quot;ios_hybrid_editor_v3&quot;,&quot;type&quot;:&quot;String&quot;,&quot;value&quot;:&quot;0&quot;},{&quot;id&quot;:&quot;pin_ef&quot;,&quot;type&quot;:&quot;String&quot;,&quot;value&quot;:&quot;orig&quot;,&quot;chainId&quot;:&quot;_all_&quot;},{&quot;id&quot;:&quot;top_fqa&quot;,&quot;type&quot;:&quot;String&quot;,&quot;value&quot;:&quot;0&quot;,&quot;chainId&quot;:&quot;_all_&quot;},{&quot;id&quot;:&quot;top_tmt&quot;,&quot;type&quot;:&quot;String&quot;,&quot;value&quot;:&quot;0&quot;,&quot;chainId&quot;:&quot;_all_&quot;},{&quot;id&quot;:&quot;adr_use_cashier&quot;,&quot;type&quot;:&quot;String&quot;,&quot;value&quot;:&quot;new&quot;},{&quot;id&quot;:&quot;ios_article_new_comment&quot;,&quot;type&quot;:&quot;String&quot;,&quot;value&quot;:&quot;0&quot;},{&quot;id&quot;:&quot;ios_wxbk&quot;,&quot;type&quot;:&quot;String&quot;,&quot;value&quot;:&quot;1&quot;},{&quot;id&quot;:&quot;se_tf&quot;,&quot;type&quot;:&quot;String&quot;,&quot;value&quot;:&quot;1&quot;,&quot;chainId&quot;:&quot;_all_&quot;},{&quot;id&quot;:&quot;top_recall&quot;,&quot;type&quot;:&quot;String&quot;,&quot;value&quot;:&quot;1&quot;,&quot;chainId&quot;:&quot;_all_&quot;},{&quot;id&quot;:&quot;top_sjre&quot;,&quot;type&quot;:&quot;String&quot;,&quot;value&quot;:&quot;0&quot;,&quot;chainId&quot;:&quot;_all_&quot;},{&quot;id&quot;:&quot;ios_ad_skip_pos&quot;,&quot;type&quot;:&quot;String&quot;,&quot;value&quot;:&quot;up&quot;},{&quot;id&quot;:&quot;ios_amap&quot;,&quot;type&quot;:&quot;String&quot;,&quot;value&quot;:&quot;n&quot;},{&quot;id&quot;:&quot;ios_q_bar&quot;,&quot;type&quot;:&quot;String&quot;,&quot;value&quot;:&quot;NO&quot;},{&quot;id&quot;:&quot;top_free_content&quot;,&quot;type&quot;:&quot;String&quot;,&quot;value&quot;:&quot;-1&quot;,&quot;chainId&quot;:&quot;_all_&quot;},{&quot;id&quot;:&quot;top_gr_auto_model&quot;,&quot;type&quot;:&quot;String&quot;,&quot;value&quot;:&quot;0&quot;,&quot;chainId&quot;:&quot;_all_&quot;},{&quot;id&quot;:&quot;top_nuc&quot;,&quot;type&quot;:&quot;String&quot;,&quot;value&quot;:&quot;0&quot;,&quot;chainId&quot;:&quot;_all_&quot;},{&quot;id&quot;:&quot;top_retagg&quot;,&quot;type&quot;:&quot;String&quot;,&quot;value&quot;:&quot;0&quot;,&quot;chainId&quot;:&quot;_all_&quot;},{&quot;id&quot;:&quot;top_yhgc&quot;,&quot;type&quot;:&quot;String&quot;,&quot;value&quot;:&quot;0&quot;,&quot;chainId&quot;:&quot;_all_&quot;},{&quot;id&quot;:&quot;adr_guest_login&quot;,&quot;type&quot;:&quot;String&quot;,&quot;value&quot;:&quot;0&quot;},{&quot;id&quot;:&quot;ios_invite_ans&quot;,&quot;type&quot;:&quot;String&quot;,&quot;value&quot;:&quot;A&quot;},{&quot;id&quot;:&quot;ios_real_time_launch_http&quot;,&quot;type&quot;:&quot;String&quot;,&quot;value&quot;:&quot;http_off&quot;},{&quot;id&quot;:&quot;ios_video_feed&quot;,&quot;type&quot;:&quot;String&quot;,&quot;value&quot;:&quot;1&quot;},{&quot;id&quot;:&quot;top_gr_model&quot;,&quot;type&quot;:&quot;String&quot;,&quot;value&quot;:&quot;0&quot;,&quot;chainId&quot;:&quot;_all_&quot;},{&quot;id&quot;:&quot;top_new_user_gift&quot;,&quot;type&quot;:&quot;String&quot;,&quot;value&quot;:&quot;0&quot;,&quot;chainId&quot;:&quot;_all_&quot;},{&quot;id&quot;:&quot;ios_more_editcard&quot;,&quot;type&quot;:&quot;String&quot;,&quot;value&quot;:&quot;false&quot;},{&quot;id&quot;:&quot;ios_wbtp&quot;,&quot;type&quot;:&quot;String&quot;,&quot;value&quot;:&quot;1&quot;},{&quot;id&quot;:&quot;ios_x_z_c0&quot;,&quot;type&quot;:&quot;String&quot;,&quot;value&quot;:&quot;1&quot;},{&quot;id&quot;:&quot;adr_book_is_card&quot;,&quot;type&quot;:&quot;String&quot;,&quot;value&quot;:&quot;0&quot;},{&quot;id&quot;:&quot;adr_medal&quot;,&quot;type&quot;:&quot;String&quot;,&quot;value&quot;:&quot;0&quot;},{&quot;id&quot;:&quot;adr_perm&quot;,&quot;type&quot;:&quot;String&quot;,&quot;value&quot;:&quot;0&quot;},{&quot;id&quot;:&quot;hb_unfollow_reason&quot;,&quot;type&quot;:&quot;String&quot;,&quot;value&quot;:&quot;0&quot;},{&quot;id&quot;:&quot;ios_adr_vid_vol&quot;,&quot;type&quot;:&quot;String&quot;,&quot;value&quot;:&quot;0&quot;},{&quot;id&quot;:&quot;ios_asp&quot;,&quot;type&quot;:&quot;String&quot;,&quot;value&quot;:&quot;off&quot;},{&quot;id&quot;:&quot;ios_km_center&quot;,&quot;type&quot;:&quot;String&quot;,&quot;value&quot;:&quot;0&quot;},{&quot;id&quot;:&quot;top_dtmt&quot;,&quot;type&quot;:&quot;String&quot;,&quot;value&quot;:&quot;2&quot;,&quot;chainId&quot;:&quot;_all_&quot;},{&quot;id&quot;:&quot;top_hca&quot;,&quot;type&quot;:&quot;String&quot;,&quot;value&quot;:&quot;0&quot;,&quot;chainId&quot;:&quot;_all_&quot;},{&quot;id&quot;:&quot;top_nid&quot;,&quot;type&quot;:&quot;String&quot;,&quot;value&quot;:&quot;0&quot;,&quot;chainId&quot;:&quot;_all_&quot;},{&quot;id&quot;:&quot;top_recommend_topic_card&quot;,&quot;type&quot;:&quot;String&quot;,&quot;value&quot;:&quot;0&quot;,&quot;chainId&quot;:&quot;_all_&quot;},{&quot;id&quot;:&quot;adr_comment&quot;,&quot;type&quot;:&quot;String&quot;,&quot;value&quot;:&quot;false&quot;},{&quot;id&quot;:&quot;adr_invite&quot;,&quot;type&quot;:&quot;String&quot;,&quot;value&quot;:&quot;false&quot;},{&quot;id&quot;:&quot;adr_use_gd&quot;,&quot;type&quot;:&quot;String&quot;,&quot;value&quot;:&quot;n&quot;},{&quot;id&quot;:&quot;ios_video_continuous&quot;,&quot;type&quot;:&quot;String&quot;,&quot;value&quot;:&quot;0&quot;},{&quot;id&quot;:&quot;se_dt&quot;,&quot;type&quot;:&quot;String&quot;,&quot;value&quot;:&quot;0&quot;,&quot;chainId&quot;:&quot;_all_&quot;},{&quot;id&quot;:&quot;se_major_onebox&quot;,&quot;type&quot;:&quot;String&quot;,&quot;value&quot;:&quot;major&quot;,&quot;chainId&quot;:&quot;_all_&quot;},{&quot;id&quot;:&quot;top_alt&quot;,&quot;type&quot;:&quot;String&quot;,&quot;value&quot;:&quot;0&quot;,&quot;chainId&quot;:&quot;_all_&quot;},{&quot;id&quot;:&quot;adr_ps&quot;,&quot;type&quot;:&quot;String&quot;,&quot;value&quot;:&quot;0&quot;},{&quot;id&quot;:&quot;ios_comment&quot;,&quot;type&quot;:&quot;String&quot;,&quot;value&quot;:&quot;0&quot;},{&quot;id&quot;:&quot;ios_consultation&quot;,&quot;type&quot;:&quot;String&quot;,&quot;value&quot;:&quot;0&quot;},{&quot;id&quot;:&quot;adr_mini&quot;,&quot;type&quot;:&quot;String&quot;,&quot;value&quot;:&quot;1&quot;},{&quot;id&quot;:&quot;ios_lssq&quot;,&quot;type&quot;:&quot;String&quot;,&quot;value&quot;:&quot;0&quot;},{&quot;id&quot;:&quot;se_entity&quot;,&quot;type&quot;:&quot;String&quot;,&quot;value&quot;:&quot;off&quot;,&quot;chainId&quot;:&quot;_all_&quot;},{&quot;id&quot;:&quot;top_feedtopiccard&quot;,&quot;type&quot;:&quot;String&quot;,&quot;value&quot;:&quot;0&quot;,&quot;chainId&quot;:&quot;_all_&quot;},{&quot;id&quot;:&quot;top_universalebook&quot;,&quot;type&quot;:&quot;String&quot;,&quot;value&quot;:&quot;1&quot;,&quot;chainId&quot;:&quot;_all_&quot;},{&quot;id&quot;:&quot;adr_editor_version&quot;,&quot;type&quot;:&quot;String&quot;,&quot;value&quot;:&quot;V2&quot;},{&quot;id&quot;:&quot;ios_topsearch&quot;,&quot;type&quot;:&quot;String&quot;,&quot;value&quot;:&quot;1&quot;},{&quot;id&quot;:&quot;ios_video_upload_cdn&quot;,&quot;type&quot;:&quot;String&quot;,&quot;value&quot;:&quot;1&quot;},{&quot;id&quot;:&quot;top_billboard_count&quot;,&quot;type&quot;:&quot;String&quot;,&quot;value&quot;:&quot;1&quot;,&quot;chainId&quot;:&quot;_all_&quot;},{&quot;id&quot;:&quot;top_cc_at&quot;,&quot;type&quot;:&quot;String&quot;,&quot;value&quot;:&quot;-1&quot;,&quot;chainId&quot;:&quot;_all_&quot;},{&quot;id&quot;:&quot;top_ebook&quot;,&quot;type&quot;:&quot;String&quot;,&quot;value&quot;:&quot;0&quot;,&quot;chainId&quot;:&quot;_all_&quot;},{&quot;id&quot;:&quot;top_test_4_liguangyi&quot;,&quot;type&quot;:&quot;String&quot;,&quot;value&quot;:&quot;1&quot;,&quot;chainId&quot;:&quot;_all_&quot;},{&quot;id&quot;:&quot;top_video_fix_position&quot;,&quot;type&quot;:&quot;String&quot;,&quot;value&quot;:&quot;0&quot;,&quot;chainId&quot;:&quot;_all_&quot;},{&quot;id&quot;:&quot;adr_grow_guide_login_4&quot;,&quot;type&quot;:&quot;String&quot;,&quot;value&quot;:&quot;3&quot;},{&quot;id&quot;:&quot;adr_q_bar&quot;,&quot;type&quot;:&quot;String&quot;,&quot;value&quot;:&quot;NO&quot;},{&quot;id&quot;:&quot;adr_spic&quot;,&quot;type&quot;:&quot;String&quot;,&quot;value&quot;:&quot;0&quot;},{&quot;id&quot;:&quot;ios_dkts&quot;,&quot;type&quot;:&quot;String&quot;,&quot;value&quot;:&quot;30&quot;},{&quot;id&quot;:&quot;ios_qtoc&quot;,&quot;type&quot;:&quot;String&quot;,&quot;value&quot;:&quot;0&quot;},{&quot;id&quot;:&quot;top_30&quot;,&quot;type&quot;:&quot;String&quot;,&quot;value&quot;:&quot;0&quot;,&quot;chainId&quot;:&quot;_all_&quot;},{&quot;id&quot;:&quot;top_follow_reason&quot;,&quot;type&quot;:&quot;String&quot;,&quot;value&quot;:&quot;0&quot;,&quot;chainId&quot;:&quot;_all_&quot;},{&quot;id&quot;:&quot;adr_anp&quot;,&quot;type&quot;:&quot;String&quot;,&quot;value&quot;:&quot;android_answer_pager_off&quot;},{&quot;id&quot;:&quot;adr_ljb&quot;,&quot;type&quot;:&quot;String&quot;,&quot;value&quot;:&quot;launch_jump_button_up&quot;},{&quot;id&quot;:&quot;adr_more_hyb_card&quot;,&quot;type&quot;:&quot;String&quot;,&quot;value&quot;:&quot;0&quot;},{&quot;id&quot;:&quot;ios_pdf&quot;,&quot;type&quot;:&quot;String&quot;,&quot;value&quot;:&quot;n&quot;},{&quot;id&quot;:&quot;adr_android_video_continuous&quot;,&quot;type&quot;:&quot;String&quot;,&quot;value&quot;:&quot;0&quot;},{&quot;id&quot;:&quot;adr_mqtt&quot;,&quot;type&quot;:&quot;String&quot;,&quot;value&quot;:&quot;0&quot;},{&quot;id&quot;:&quot;ios_hybrid_intercepting&quot;,&quot;type&quot;:&quot;String&quot;,&quot;value&quot;:&quot;1&quot;},{&quot;id&quot;:&quot;ios_wxfb&quot;,&quot;type&quot;:&quot;String&quot;,&quot;value&quot;:&quot;1&quot;},{&quot;id&quot;:&quot;top_login_card&quot;,&quot;type&quot;:&quot;String&quot;,&quot;value&quot;:&quot;1&quot;,&quot;chainId&quot;:&quot;_all_&quot;},{&quot;id&quot;:&quot;top_nad&quot;,&quot;type&quot;:&quot;String&quot;,&quot;value&quot;:&quot;1&quot;,&quot;chainId&quot;:&quot;_all_&quot;},{&quot;id&quot;:&quot;top_newfollow&quot;,&quot;type&quot;:&quot;String&quot;,&quot;value&quot;:&quot;0&quot;,&quot;chainId&quot;:&quot;_all_&quot;},{&quot;id&quot;:&quot;adr_next_answer_btn&quot;,&quot;type&quot;:&quot;String&quot;,&quot;value&quot;:&quot;0&quot;},{&quot;id&quot;:&quot;ios_book_is_card&quot;,&quot;type&quot;:&quot;String&quot;,&quot;value&quot;:&quot;1&quot;},{&quot;id&quot;:&quot;top_feedre_cpt&quot;,&quot;type&quot;:&quot;String&quot;,&quot;value&quot;:&quot;101&quot;,&quot;chainId&quot;:&quot;_all_&quot;},{&quot;id&quot;:&quot;top_is_gr&quot;,&quot;type&quot;:&quot;String&quot;,&quot;value&quot;:&quot;0&quot;,&quot;chainId&quot;:&quot;_all_&quot;},{&quot;id&quot;:&quot;top_root_few_topic&quot;,&quot;type&quot;:&quot;String&quot;,&quot;value&quot;:&quot;0&quot;,&quot;chainId&quot;:&quot;_all_&quot;},{&quot;id&quot;:&quot;web_logoc&quot;,&quot;type&quot;:&quot;String&quot;,&quot;value&quot;:&quot;blue&quot;,&quot;chainId&quot;:&quot;_all_&quot;},{&quot;id&quot;:&quot;adr_new_hybrid&quot;,&quot;type&quot;:&quot;String&quot;,&quot;value&quot;:&quot;1&quot;},{&quot;id&quot;:&quot;ios_answer_preload&quot;,&quot;type&quot;:&quot;String&quot;,&quot;value&quot;:&quot;0&quot;},{&quot;id&quot;:&quot;ios_ps&quot;,&quot;type&quot;:&quot;String&quot;,&quot;value&quot;:&quot;0&quot;},{&quot;id&quot;:&quot;pin_efs&quot;,&quot;type&quot;:&quot;String&quot;,&quot;value&quot;:&quot;orig&quot;,&quot;chainId&quot;:&quot;_all_&quot;},{&quot;id&quot;:&quot;top_an&quot;,&quot;type&quot;:&quot;String&quot;,&quot;value&quot;:&quot;0&quot;,&quot;chainId&quot;:&quot;_all_&quot;},{&quot;id&quot;:&quot;top_hweb&quot;,&quot;type&quot;:&quot;String&quot;,&quot;value&quot;:&quot;0&quot;,&quot;chainId&quot;:&quot;_all_&quot;},{&quot;id&quot;:&quot;top_mlt_model&quot;,&quot;type&quot;:&quot;String&quot;,&quot;value&quot;:&quot;0&quot;,&quot;chainId&quot;:&quot;_all_&quot;},{&quot;id&quot;:&quot;top_tr&quot;,&quot;type&quot;:&quot;String&quot;,&quot;value&quot;:&quot;0&quot;,&quot;chainId&quot;:&quot;_all_&quot;},{&quot;id&quot;:&quot;adr_bugly&quot;,&quot;type&quot;:&quot;String&quot;,&quot;value&quot;:&quot;n&quot;},{&quot;id&quot;:&quot;adr_edit_question&quot;,&quot;type&quot;:&quot;String&quot;,&quot;value&quot;:&quot;0&quot;},{&quot;id&quot;:&quot;ios_answer_hybrid_preload&quot;,&quot;type&quot;:&quot;String&quot;,&quot;value&quot;:&quot;0&quot;},{&quot;id&quot;:&quot;ios_video_agent_4_22&quot;,&quot;type&quot;:&quot;String&quot;,&quot;value&quot;:&quot;true&quot;},{&quot;id&quot;:&quot;se_gi&quot;,&quot;type&quot;:&quot;String&quot;,&quot;value&quot;:&quot;0&quot;,&quot;chainId&quot;:&quot;_all_&quot;},{&quot;id&quot;:&quot;top_adpar&quot;,&quot;type&quot;:&quot;String&quot;,&quot;value&quot;:&quot;0&quot;,&quot;chainId&quot;:&quot;_all_&quot;},{&quot;id&quot;:&quot;top_billupdate1&quot;,&quot;type&quot;:&quot;String&quot;,&quot;value&quot;:&quot;0&quot;,&quot;chainId&quot;:&quot;_all_&quot;},{&quot;id&quot;:&quot;tp_ios_topic_write_pin_guide&quot;,&quot;type&quot;:&quot;String&quot;,&quot;value&quot;:&quot;1&quot;,&quot;chainId&quot;:&quot;_all_&quot;},{&quot;id&quot;:&quot;ios_question_new_comment&quot;,&quot;type&quot;:&quot;String&quot;,&quot;value&quot;:&quot;0&quot;},{&quot;id&quot;:&quot;se_gemini_service&quot;,&quot;type&quot;:&quot;String&quot;,&quot;value&quot;:&quot;0&quot;,&quot;chainId&quot;:&quot;_all_&quot;},{&quot;id&quot;:&quot;se_minor_onebox&quot;,&quot;type&quot;:&quot;String&quot;,&quot;value&quot;:&quot;nd&quot;,&quot;chainId&quot;:&quot;_all_&quot;},{&quot;id&quot;:&quot;top_bill&quot;,&quot;type&quot;:&quot;String&quot;,&quot;value&quot;:&quot;0&quot;,&quot;chainId&quot;:&quot;_all_&quot;},{&quot;id&quot;:&quot;top_hqt&quot;,&quot;type&quot;:&quot;String&quot;,&quot;value&quot;:&quot;0&quot;,&quot;chainId&quot;:&quot;_all_&quot;},{&quot;id&quot;:&quot;top_keywordab&quot;,&quot;type&quot;:&quot;String&quot;,&quot;value&quot;:&quot;0&quot;,&quot;chainId&quot;:&quot;_all_&quot;},{&quot;id&quot;:&quot;top_root&quot;,&quot;type&quot;:&quot;String&quot;,&quot;value&quot;:&quot;0&quot;,&quot;chainId&quot;:&quot;_all_&quot;},{&quot;id&quot;:&quot;top_root_ac&quot;,&quot;type&quot;:&quot;String&quot;,&quot;value&quot;:&quot;-1&quot;,&quot;chainId&quot;:&quot;_all_&quot;},{&quot;id&quot;:&quot;top_sj&quot;,&quot;type&quot;:&quot;String&quot;,&quot;value&quot;:&quot;2&quot;,&quot;chainId&quot;:&quot;_all_&quot;},{&quot;id&quot;:&quot;top_yc&quot;,&quot;type&quot;:&quot;String&quot;,&quot;value&quot;:&quot;0&quot;,&quot;chainId&quot;:&quot;_all_&quot;},{&quot;id&quot;:&quot;adr_consult&quot;,&quot;type&quot;:&quot;String&quot;,&quot;value&quot;:&quot;0&quot;},{&quot;id&quot;:&quot;adr_topsearch&quot;,&quot;type&quot;:&quot;String&quot;,&quot;value&quot;:&quot;2&quot;},{&quot;id&quot;:&quot;top_billupdate&quot;,&quot;type&quot;:&quot;String&quot;,&quot;value&quot;:&quot;0&quot;,&quot;chainId&quot;:&quot;_all_&quot;},{&quot;id&quot;:&quot;top_feedre_itemcf&quot;,&quot;type&quot;:&quot;String&quot;,&quot;value&quot;:&quot;31&quot;,&quot;chainId&quot;:&quot;_all_&quot;},{&quot;id&quot;:&quot;top_topic_feedre&quot;,&quot;type&quot;:&quot;String&quot;,&quot;value&quot;:&quot;21&quot;,&quot;chainId&quot;:&quot;_all_&quot;},{&quot;id&quot;:&quot;tp_sft&quot;,&quot;type&quot;:&quot;String&quot;,&quot;value&quot;:&quot;a&quot;,&quot;chainId&quot;:&quot;_all_&quot;},{&quot;id&quot;:&quot;adr_mqtt_5_24_0&quot;,&quot;type&quot;:&quot;String&quot;,&quot;value&quot;:&quot;0&quot;},{&quot;id&quot;:&quot;adr_traffic_threshold&quot;,&quot;type&quot;:&quot;String&quot;,&quot;value&quot;:&quot;314572800&quot;},{&quot;id&quot;:&quot;adr_wbtp&quot;,&quot;type&quot;:&quot;String&quot;,&quot;value&quot;:&quot;1&quot;},{&quot;id&quot;:&quot;ios_7324&quot;,&quot;type&quot;:&quot;String&quot;,&quot;value&quot;:&quot;0&quot;},{&quot;id&quot;:&quot;ios_apm&quot;,&quot;type&quot;:&quot;String&quot;,&quot;value&quot;:&quot;1&quot;},{&quot;id&quot;:&quot;ios_q_a_c&quot;,&quot;type&quot;:&quot;String&quot;,&quot;value&quot;:&quot;0&quot;},{&quot;id&quot;:&quot;ios_webp&quot;,&quot;type&quot;:&quot;String&quot;,&quot;value&quot;:&quot;1&quot;},{&quot;id&quot;:&quot;top_billvideo&quot;,&quot;type&quot;:&quot;String&quot;,&quot;value&quot;:&quot;0&quot;,&quot;chainId&quot;:&quot;_all_&quot;},{&quot;id&quot;:&quot;top_lowup&quot;,&quot;type&quot;:&quot;String&quot;,&quot;value&quot;:&quot;1&quot;,&quot;chainId&quot;:&quot;_all_&quot;},{&quot;id&quot;:&quot;top_card&quot;,&quot;type&quot;:&quot;String&quot;,&quot;value&quot;:&quot;-1&quot;,&quot;chainId&quot;:&quot;_all_&quot;}],&quot;chains&quot;:[{&quot;chainId&quot;:&quot;_all_&quot;}]},&quot;triggers&quot;:{}},&quot;userAgent&quot;:{&quot;Edge&quot;:false,&quot;Wechat&quot;:false,&quot;Weibo&quot;:false,&quot;QQ&quot;:false,&quot;Mobile&quot;:false,&quot;Android&quot;:false,&quot;iOS&quot;:false,&quot;isAppleDevice&quot;:true,&quot;Zhihu&quot;:false,&quot;ZhihuHybrid&quot;:false,&quot;isBot&quot;:false,&quot;Tablet&quot;:false,&quot;UC&quot;:false,&quot;Sogou&quot;:false,&quot;Qihoo&quot;:false,&quot;Baidu&quot;:false,&quot;isWebView&quot;:false,&quot;origin&quot;:&quot;Mozilla/5.0 (Macintosh; Intel Mac OS X 10_11_4) AppleWebKit/537.36 (KHTML, like Gecko) Chrome/53.0.2785.116 Safari/537.36&quot;},&quot;trafficSource&quot;:&quot;production&quot;,&quot;edition&quot;:{&quot;baidu&quot;:false,&quot;sogou&quot;:false,&quot;baiduBeijing&quot;:false,&quot;yidianzixun&quot;:false},&quot;theme&quot;:&quot;light&quot;,&quot;referer&quot;:&quot;&quot;,&quot;conf&quot;:{},&quot;ipInfo&quot;:{},&quot;logged&quot;:false},&quot;me&quot;:{&quot;accountInfoLoadStatus&quot;:{},&quot;organizationProfileStatus&quot;:{},&quot;columnContributions&quot;:[]},&quot;comments&quot;:{&quot;stickers&quot;:[],&quot;pagination&quot;:{},&quot;collapsed&quot;:{},&quot;reverse&quot;:{},&quot;reviewing&quot;:{},&quot;conversation&quot;:{},&quot;conversationMore&quot;:{},&quot;parent&quot;:{}},&quot;pushNotifications&quot;:{&quot;default&quot;:{&quot;isFetching&quot;:false,&quot;isDrained&quot;:false,&quot;ids&quot;:[]},&quot;follow&quot;:{&quot;isFetching&quot;:false,&quot;isDrained&quot;:false,&quot;ids&quot;:[]},&quot;vote_thank&quot;:{&quot;isFetching&quot;:false,&quot;isDrained&quot;:false,&quot;ids&quot;:[]},&quot;currentTab&quot;:&quot;default&quot;,&quot;notificationsCount&quot;:{&quot;default&quot;:0,&quot;follow&quot;:0,&quot;vote_thank&quot;:0}},&quot;messages&quot;:{&quot;data&quot;:{},&quot;currentTab&quot;:&quot;common&quot;,&quot;messageCount&quot;:0},&quot;register&quot;:{&quot;registerValidateSucceeded&quot;:null,&quot;registerValidateErrors&quot;:{},&quot;registerConfirmError&quot;:null,&quot;sendDigitsError&quot;:null,&quot;registerConfirmSucceeded&quot;:null},&quot;login&quot;:{&quot;loginUnregisteredError&quot;:false,&quot;loginBindWechatError&quot;:false,&quot;loginConfirmError&quot;:null,&quot;sendDigitsError&quot;:null,&quot;validateDigitsError&quot;:false,&quot;loginConfirmSucceeded&quot;:null,&quot;qrcodeLoginToken&quot;:&quot;&quot;,&quot;qrcodeLoginScanStatus&quot;:0,&quot;qrcodeLoginError&quot;:null,&quot;qrcodeLoginReturnNewToken&quot;:false},&quot;active&quot;:{&quot;sendDigitsError&quot;:null,&quot;activeConfirmSucceeded&quot;:null,&quot;activeConfirmError&quot;:null},&quot;switches&quot;:{},&quot;captcha&quot;:{&quot;captchaNeeded&quot;:false,&quot;captchaValidated&quot;:false,&quot;captchaBase64String&quot;:null,&quot;captchaValidationMessage&quot;:null,&quot;loginCaptchaExpires&quot;:false},&quot;sms&quot;:{&quot;supportedCountries&quot;:[]},&quot;coupon&quot;:{&quot;isRedeemingCoupon&quot;:false},&quot;question&quot;:{&quot;followers&quot;:{},&quot;concernedFollowers&quot;:{},&quot;answers&quot;:{},&quot;hiddenAnswers&quot;:{},&quot;createdAnswers&quot;:{},&quot;collapsedAnswers&quot;:{},&quot;notificationAnswers&quot;:{},&quot;invitationCandidates&quot;:{},&quot;inviters&quot;:{},&quot;invitees&quot;:{},&quot;similarQuestions&quot;:{},&quot;relatedCommodities&quot;:{},&quot;recommendReadings&quot;:{},&quot;bio&quot;:{},&quot;brand&quot;:{},&quot;permission&quot;:{},&quot;advancedStyle&quot;:{},&quot;commonAnswerCount&quot;:0,&quot;hiddenAnswerCount&quot;:0,&quot;meta&quot;:{},&quot;autoInvitation&quot;:{},&quot;simpleConcernedFollowers&quot;:{}},&quot;shareTexts&quot;:{},&quot;answers&quot;:{&quot;voters&quot;:{},&quot;copyrightApplicants&quot;:{},&quot;favlists&quot;:{},&quot;newAnswer&quot;:{},&quot;concernedUpvoters&quot;:{},&quot;simpleConcernedUpvoters&quot;:{}},&quot;banner&quot;:{},&quot;topic&quot;:{&quot;bios&quot;:{},&quot;hot&quot;:{},&quot;newest&quot;:{},&quot;top&quot;:{},&quot;unanswered&quot;:{},&quot;questions&quot;:{},&quot;followers&quot;:{},&quot;parent&quot;:{},&quot;children&quot;:{},&quot;bestAnswerers&quot;:{},&quot;index&quot;:{},&quot;intro&quot;:{},&quot;meta&quot;:{},&quot;schema&quot;:{}},&quot;explore&quot;:{&quot;recommendations&quot;:{}},&quot;articles&quot;:{&quot;voters&quot;:{}},&quot;favlists&quot;:{&quot;relations&quot;:{}},&quot;pins&quot;:{&quot;voters&quot;:{}},&quot;topstory&quot;:{&quot;topstorys&quot;:{&quot;isFetching&quot;:false,&quot;isDrained&quot;:false,&quot;afterId&quot;:0,&quot;items&quot;:[],&quot;next&quot;:null},&quot;recommend&quot;:{&quot;isFetching&quot;:false,&quot;isDrained&quot;:false,&quot;afterId&quot;:0,&quot;items&quot;:[],&quot;next&quot;:null},&quot;follow&quot;:{&quot;isFetching&quot;:false,&quot;isDrained&quot;:false,&quot;afterId&quot;:0,&quot;items&quot;:[],&quot;next&quot;:null},&quot;followWonderful&quot;:{&quot;isFetching&quot;:false,&quot;isDrained&quot;:false,&quot;afterId&quot;:0,&quot;items&quot;:[],&quot;next&quot;:null},&quot;sidebar&quot;:null,&quot;announcement&quot;:{},&quot;hotList&quot;:[],&quot;guestFeeds&quot;:{&quot;isFetching&quot;:false,&quot;isDrained&quot;:false,&quot;afterId&quot;:0,&quot;items&quot;:[],&quot;next&quot;:null},&quot;followExtra&quot;:{&quot;isNewUser&quot;:null,&quot;isFetched&quot;:false,&quot;followCount&quot;:0,&quot;followers&quot;:[]}},&quot;upload&quot;:{},&quot;video&quot;:{&quot;data&quot;:{}},&quot;guide&quot;:{&quot;guide&quot;:{&quot;isFetching&quot;:false,&quot;isShowGuide&quot;:false}},&quot;reward&quot;:{&quot;answer&quot;:{},&quot;article&quot;:{},&quot;question&quot;:{}},&quot;search&quot;:{&quot;recommendSearch&quot;:[],&quot;topSearch&quot;:{},&quot;attachedInfo&quot;:{},&quot;nextOffset&quot;:{},&quot;generalByQuery&quot;:{},&quot;generalByQueryInADay&quot;:{},&quot;generalByQueryInAWeek&quot;:{},&quot;generalByQueryInThreeMonths&quot;:{},&quot;peopleByQuery&quot;:{},&quot;topicByQuery&quot;:{},&quot;columnByQuery&quot;:{},&quot;liveByQuery&quot;:{},&quot;albumByQuery&quot;:{},&quot;eBookByQuery&quot;:{}},&quot;creator&quot;:{&quot;tools&quot;:{&quot;question&quot;:{&quot;invitationCount&quot;:{&quot;questionFolloweeCount&quot;:0,&quot;questionTotalCount&quot;:0},&quot;goodatTopics&quot;:[]},&quot;customPromotion&quot;:{&quot;itemLists&quot;:{}}},&quot;explore&quot;:{&quot;academy&quot;:{&quot;tabs&quot;:[],&quot;article&quot;:{}}},&quot;rights&quot;:[],&quot;rightsStatus&quot;:{}},&quot;publicEditPermission&quot;:{}}\" data-config=\"false\" data-useragent=\"{&quot;os&quot;:{&quot;name&quot;:&quot;Mac OS&quot;,&quot;version&quot;:&quot;10.11.4&quot;},&quot;browser&quot;:{&quot;name&quot;:&quot;Chrome&quot;,&quot;version&quot;:&quot;53.0.2785.116&quot;,&quot;major&quot;:&quot;53&quot;}}\"></div><script src=\"https://static.zhihu.com/heifetz/vendor.995451a211dcf23e7059.js\"></script><script src=\"https://static.zhihu.com/heifetz/main.raven.bd0c0a5d1455c8fd8759.js\" defer=\"\"></script><script src=\"https://static.zhihu.com/heifetz/main.app.770e8abcc6043e1b6a5b.js\"></script><script></script></body></html>\n"
     ]
    }
   ],
   "source": [
    "import requests\n",
    " #构建header\n",
    "headers = {\n",
    "    'Cookie': 'q_c1=31653b264a074fc9a57816d1ea93ed8b|1474273938000|1474273938000; d_c0=\"AGDAs254kAqPTr6NW1U3XTLFzKhMPQ6H_nc=|1474273938\"; __utmv=51854390.100-1|2=registration_date=20130902=1^3=entry_date=20130902=1;a_t=\"2.0AACAfbwdAAAXAAAAso0QWAAAgH28HQAAAGDAs254kAoXAAAAYQJVTQ4FCVgA360us8BAklzLYNEHUd6kmHtRQX5a6hiZxKCynnycerLQ3gIkoJLOCQ==\";z_c0=Mi4wQUFDQWZid2RBQUFBWU1DemJuaVFDaGNBQUFCaEFsVk5EZ1VKV0FEZnJTNnp3RUNTWE10ZzBRZFIzcVNZZTFGQmZn|1474887858|64b4d4234a21de774c42c837fe0b672fdb5763b0',\n",
    "    'Host': 'www.zhihu.com',\n",
    "    'User-Agent': 'Mozilla/5.0 (Macintosh; Intel Mac OS X 10_11_4) AppleWebKit/537.36 (KHTML, like Gecko) Chrome/53.0.2785.116 Safari/537.36',\n",
    "}\n",
    "r = requests.get('https://www.zhihu.com', headers=headers)\n",
    "print(r.text)"
   ]
  },
  {
   "cell_type": "markdown",
   "metadata": {},
   "source": [
    "### 会话"
   ]
  },
  {
   "cell_type": "code",
   "execution_count": 19,
   "metadata": {
    "collapsed": true
   },
   "outputs": [
    {
     "name": "stdout",
     "output_type": "stream",
     "text": [
      "{\n",
      "  \"cookies\": {\n",
      "    \"number\": \"33\"\n",
      "  }\n",
      "}\n",
      "\n",
      "{\n",
      "  \"cookies\": {\n",
      "    \"number\": \"33\"\n",
      "  }\n",
      "}\n",
      "\n",
      "{\n",
      "  \"cookies\": {\n",
      "    \"number\": \"123456789\"\n",
      "  }\n",
      "}\n",
      "\n",
      "{\n",
      "  \"cookies\": {}\n",
      "}\n",
      "\n"
     ]
    }
   ],
   "source": [
    "#保持会话\n",
    "import requests\n",
    "s = requests.Session()\n",
    "print(s.get('http://httpbin.org/cookies/set/number/33').text)\n",
    "r = s.get('http://httpbin.org/cookies')\n",
    "print(r.text)\n",
    "#不保持会话\n",
    "print(requests.get('http://httpbin.org/cookies/set/number/123456789').text)\n",
    "r = requests.get('http://httpbin.org/cookies')\n",
    "print(r.text)"
   ]
  },
  {
   "cell_type": "markdown",
   "metadata": {},
   "source": [
    "### ssl"
   ]
  },
  {
   "cell_type": "code",
   "execution_count": 22,
   "metadata": {},
   "outputs": [
    {
     "name": "stdout",
     "output_type": "stream",
     "text": [
      "200\n"
     ]
    },
    {
     "name": "stderr",
     "output_type": "stream",
     "text": [
      "C:\\Users\\d\\Anaconda3\\lib\\site-packages\\urllib3\\connectionpool.py:858: InsecureRequestWarning: Unverified HTTPS request is being made. Adding certificate verification is strongly advised. See: https://urllib3.readthedocs.io/en/latest/advanced-usage.html#ssl-warnings\n",
      "  InsecureRequestWarning)\n"
     ]
    }
   ],
   "source": [
    "response = requests.get('https://www.12306.cn',verify=False)\n",
    "print(response.status_code)"
   ]
  },
  {
   "cell_type": "markdown",
   "metadata": {},
   "source": [
    "### 代理"
   ]
  },
  {
   "cell_type": "code",
   "execution_count": 206,
   "metadata": {},
   "outputs": [
    {
     "data": {
      "text/plain": [
       "<Response [200]>"
      ]
     },
     "execution_count": 206,
     "metadata": {},
     "output_type": "execute_result"
    }
   ],
   "source": [
    "import requests\n",
    " \n",
    "proxies = {\n",
    "'http':'http://195.60.174.104:32231'\n",
    "}\n",
    " #https://github.com/serpahimor/proxy_pool 查看代理\n",
    "requests.get(\"https://www.taobao.com\", proxies=proxies)"
   ]
  },
  {
   "cell_type": "markdown",
   "metadata": {},
   "source": [
    "#### 测试代理"
   ]
  },
  {
   "cell_type": "code",
   "execution_count": 6,
   "metadata": {},
   "outputs": [],
   "source": [
    "import user_agent\n",
    "def get_random_header():\n",
    "    headers={'User-Agent':random.choice(user_agent.list),'Accept':\"text/html,application/xhtml+xml,application/xml;q=0.9,image/webp,*/*;q=0.8\",'Accept-Encoding':'gzip'}\n",
    "    return headers\n",
    "\n",
    "def test_ip(ip,time_out=1000,test_url='http://2018.ip138.com/ic.asp'):\n",
    "    proxies={'https': ip[0]+':'+ip[1]}\n",
    "    try_ip=ip[0]\n",
    "    #print(try_ip)\n",
    "    try:\n",
    "        r=requests.get(test_url,headers=get_random_header(),proxies=proxies,timeout=time_out)\n",
    "        if r.status_code==200:\n",
    "            r.encoding='gbk'\n",
    "            result=re.search('\\d{1,3}\\.\\d{1,3}\\.\\d{1,3}\\.\\d{1,3}',r.text)\n",
    "            result=result.group()\n",
    "            if result[:9]==try_ip[:9]:\n",
    "                print(r.text)\n",
    "                print('测试通过')\n",
    "                return True\n",
    "            else:\n",
    "#                 print('%s:%s 携带代理失败,使用了本地IP' %(ip[0],ip[1]))\n",
    "                return False    \n",
    "        else:\n",
    "            print('%s:%s 请求码不是200' %(ip[0],ip[1]))\n",
    "            return False\n",
    "    except:\n",
    "        print('%s:%s 请求过程错误' %(ip[0],ip[1]))\n",
    "        return False"
   ]
  },
  {
   "cell_type": "code",
   "execution_count": null,
   "metadata": {},
   "outputs": [],
   "source": [
    "import os\n",
    "# url='http://www.66ip.cn/index.html?'+str(page)+'.html'\n",
    "# rule='<tr><td>([0-9].*?)</td><td>(.*?)</td>'\n",
    "url='https://www.kuaidaili.com/free/inha/'  \n",
    "rule='\"IP\">([0-9].*?)</td>.*?\"PORT\">(.*?)</td>'\n",
    "html=requests.get(url,headers=get_random_header())\n",
    "pattern = re.compile(rule, re.S)\n",
    "scraw_ip= re.findall(pattern, html.text)\n",
    "scraw_ip\n",
    "scraw_proxies(1,3,url,rule)"
   ]
  },
  {
   "cell_type": "code",
   "execution_count": 9,
   "metadata": {},
   "outputs": [
    {
     "name": "stdout",
     "output_type": "stream",
     "text": [
      "174.120.70.232:80 请求过程错误\n"
     ]
    },
    {
     "data": {
      "text/plain": [
       "False"
      ]
     },
     "execution_count": 9,
     "metadata": {},
     "output_type": "execute_result"
    }
   ],
   "source": [
    "test_ip(['174.120.70.232','80'])"
   ]
  },
  {
   "cell_type": "code",
   "execution_count": 32,
   "metadata": {},
   "outputs": [],
   "source": [
    "import msvcrt\n",
    "import requests\n",
    "import random\n",
    "import re\n",
    "def scraw_proxies(a,b,scraw_url=\"http://www.xicidaili.com/nt/\",rule='<td class=\"country\">.*?alt=\"Cn\" />.*?</td>.*?<td>(.*?)</td>.*?<td>(.*?)</td>'):\n",
    "    if ord(msvcrt.getch()) in [68, 100]:\n",
    "        print('爬取中断')\n",
    "        return\n",
    "    scraw_ip=list()\n",
    "    available_ip=list()\n",
    "    for page in range(a,b):\n",
    "        print(\"抓取第%d页代理IP\" %page)\n",
    "        url=scraw_url\n",
    "        r=requests.get(url,headers=get_random_header())\n",
    "        r.encoding='utf-8'\n",
    "        pattern = re.compile(rule, re.S)\n",
    "        scraw_ip= re.findall(pattern, r.text)\n",
    "        for ip in scraw_ip:\n",
    "            if(test_ip(ip)==True):\n",
    "                print('%s:%s通过测试，添加进可用代理列表' %(ip[0],ip[1]))\n",
    "                available_ip.append(ip)\n",
    "            else:\n",
    "                pass\n",
    "#         for i in range(1,11):\n",
    "        print(\"代理爬虫暂停{}s\".format(str(10)))\n",
    "        time.sleep(10)\n",
    "        print(\"爬虫重启\")\n",
    "    print('抓取结束')\n",
    "    return write_proxies(available_ip)\n",
    "\n",
    "def write_proxies(content):\n",
    "    if content:\n",
    "        with open('proxies.txt', 'a') as f:\n",
    "            print(content)\n",
    "            f.write(content + '\\n')\n",
    "            f.write('done!')\n",
    "    print('共抓取{}条'.format(str(len(content))))\n",
    "# if __name__==\"__main__\":\n",
    "#     available_ip=scraw_proxies(8,9)"
   ]
  },
  {
   "cell_type": "code",
   "execution_count": 16,
   "metadata": {},
   "outputs": [
    {
     "name": "stdout",
     "output_type": "stream",
     "text": [
      "180.180.241.137:8080 请求过程错误\n"
     ]
    },
    {
     "data": {
      "text/plain": [
       "False"
      ]
     },
     "execution_count": 16,
     "metadata": {},
     "output_type": "execute_result"
    }
   ],
   "source": [
    "test_url='http://2018.ip138.com/ic.asp'\n",
    "ip=['180.180.241.137','8080']\n",
    "test_ip(ip,1000)\n",
    "# requests.get(test_url,headers={'User-Agent':'Chrome/53.0.2785.116'},proxies=proxies)"
   ]
  },
  {
   "cell_type": "markdown",
   "metadata": {},
   "source": [
    "#### 代理池"
   ]
  },
  {
   "cell_type": "code",
   "execution_count": null,
   "metadata": {},
   "outputs": [],
   "source": [
    "# !pip install -r  C:\\Users\\d\\Desktop\\proxy_pool-master\\requirements.txt"
   ]
  },
  {
   "cell_type": "code",
   "execution_count": null,
   "metadata": {},
   "outputs": [],
   "source": [
    "import requests\n",
    "\n",
    "def get_proxy():\n",
    "    return requests.get(\"http://127.0.0.1:5010/get/\").content\n",
    "\n",
    "def delete_proxy(proxy):\n",
    "    requests.get(\"http://127.0.0.1:5010/delete/?proxy={}\".format(proxy))"
   ]
  },
  {
   "cell_type": "markdown",
   "metadata": {},
   "source": [
    "### Prepared Request"
   ]
  },
  {
   "cell_type": "code",
   "execution_count": 25,
   "metadata": {
    "collapsed": true
   },
   "outputs": [
    {
     "name": "stdout",
     "output_type": "stream",
     "text": [
      "{\n",
      "  \"args\": {}, \n",
      "  \"data\": \"\", \n",
      "  \"files\": {}, \n",
      "  \"form\": {\n",
      "    \"name\": \"germey\"\n",
      "  }, \n",
      "  \"headers\": {\n",
      "    \"Accept\": \"*/*\", \n",
      "    \"Accept-Encoding\": \"gzip, deflate\", \n",
      "    \"Connection\": \"close\", \n",
      "    \"Content-Length\": \"11\", \n",
      "    \"Content-Type\": \"application/x-www-form-urlencoded\", \n",
      "    \"Host\": \"httpbin.org\", \n",
      "    \"User-Agent\": \"Mozilla/5.0 (Macintosh; Intel Mac OS X 10_11_4) AppleWebKit/537.36 (KHTML, like Gecko) Chrome/53.0.2785.116 Safari/537.36\"\n",
      "  }, \n",
      "  \"json\": null, \n",
      "  \"origin\": \"122.224.233.146\", \n",
      "  \"url\": \"http://httpbin.org/post\"\n",
      "}\n",
      "\n"
     ]
    }
   ],
   "source": [
    "from requests import Request, Session\n",
    " \n",
    "url = 'http://httpbin.org/post'\n",
    "data = {\n",
    "    'name': 'germey'\n",
    "}\n",
    "headers = {\n",
    "    'User-Agent': 'Mozilla/5.0 (Macintosh; Intel Mac OS X 10_11_4) AppleWebKit/537.36 (KHTML, like Gecko) Chrome/53.0.2785.116 Safari/537.36'\n",
    "}\n",
    "s = Session()\n",
    "req = Request('POST', url, data=data, headers=headers)\n",
    "prepped = s.prepare_request(req)\n",
    "r = s.send(prepped)\n",
    "print(r.text)"
   ]
  },
  {
   "cell_type": "markdown",
   "metadata": {},
   "source": [
    "## eg：request抓取猫眼影片信息\n"
   ]
  },
  {
   "cell_type": "code",
   "execution_count": 7,
   "metadata": {},
   "outputs": [],
   "source": [
    "import requests\n",
    "import re\n",
    "from requests.exceptions import RequestException\n",
    "def get_one_page(url,headers={\"user-agent\": \"Chrome/68.0.3440.106\"}):\n",
    "    try:\n",
    "        rep = requests.get(url, headers=headers)\n",
    "        if rep.status_code == 200:\n",
    "            return rep.text\n",
    "    except RequestException:\n",
    "        return None\n",
    "def main(offset,url='http://maoyan.com/board/4?offset='):\n",
    "    url = url  + str(offset)\n",
    "    headers={\"user-agent\": \"Chrome/68.0.3440.106\"}\n",
    "    html = get_one_page(url,headers)\n",
    "    for item in parse_one_page(html):\n",
    "        write_to_json(item)\n",
    "def parse_one_page(html,repattern='<dd>.*?board-index.*?>(.*?)</i>.*?title=\"(.*?)\".*?data-src=\"(.*?)\".*?star\">(.*?)</p>.*?releasetime\">(.*?)</p>.*?integer\">(.*?)<.*?fraction\">(.*?)<'):\n",
    "#     pattern=re.compile('films.*?title=\"(.*?)\"',re.S)\n",
    "    pattern=re.compile(repattern,re.S)\n",
    "    items=re.findall(pattern,html)\n",
    "    for item in items:\n",
    "        yield {\n",
    "            'index': item[0],\n",
    "            'image': item[1],\n",
    "            'title': item[2].strip(),\n",
    "            'actor': item[3].strip()[3:] if len(item[3]) > 3 else '',\n",
    "            'time': item[4].strip()[5:] if len(item[4]) > 5 else '',\n",
    "            'score': item[5].strip() + item[6].strip()\n",
    "        }\n",
    "def write_to_json(content):\n",
    "    with open('result.txt', 'a') as f:\n",
    "        f.write(json.dumps(content, ensure_ascii=False) + '\\n')\n",
    "\n",
    "if __name__ == '__main__':\n",
    "    for i in range(10):\n",
    "        main(offset=i * 10)"
   ]
  },
  {
   "cell_type": "markdown",
   "metadata": {},
   "source": [
    "## xpath"
   ]
  },
  {
   "cell_type": "code",
   "execution_count": 45,
   "metadata": {},
   "outputs": [
    {
     "name": "stdout",
     "output_type": "stream",
     "text": [
      "多个条件匹配匹配\n",
      "['first item']\n"
     ]
    }
   ],
   "source": [
    "from lxml import etree\n",
    "html = etree.parse('./test.html', etree.HTMLParser())\n",
    "result = etree.tostring(html)\n",
    "# print(result.decode('utf-8'))\n",
    "# result = html.xpath('//*')\n",
    "# print('所有节点')\n",
    "# print(result)\n",
    "# result = html.xpath('//li')\n",
    "# print('所有li节点')\n",
    "# print(result)\n",
    "# print(\"单个li节点\")\n",
    "# print(result[0])\n",
    "# result = html.xpath('//li/a')#这个/是子节点\n",
    "# print(\"li节点下的a节点\")\n",
    "# print(result)\n",
    "# result = html.xpath('//ul//a')#这个//是子孙节点\n",
    "# print(\"ul节点下的a节点\")\n",
    "# print(result)\n",
    "# result = html.xpath('//a[@href=\"link4.html\"]/../@class')\n",
    "# print(\"href属性为link4.html的父节点的class属性\")\n",
    "# print(result)\n",
    "# result = html.xpath('//li[@class=\"item-0\"]')\n",
    "# print(\"属性为item-0的li节点\")\n",
    "# print(result)\n",
    "# result = html.xpath('//li[@class=\"item-0\"]//a//text()')\n",
    "# print(\"文本获取\")\n",
    "# print(result)\n",
    "# result = html.xpath('//li[contains(@class, \"li\")]/a/text()')\n",
    "# print(\"属性有多值匹配\")\n",
    "# print(result)\n",
    "result = html.xpath('//li[contains(@class, \"li\") and @name=\"item\"]/a/text()')\n",
    "print(\"多个条件匹配匹配\")\n",
    "print(result)"
   ]
  },
  {
   "cell_type": "markdown",
   "metadata": {},
   "source": [
    "## bueatiful soup"
   ]
  },
  {
   "cell_type": "code",
   "execution_count": 50,
   "metadata": {
    "scrolled": true
   },
   "outputs": [],
   "source": [
    "html = \"\"\"\n",
    "<html><head><title>The Dormouse's story</title></head>\n",
    "<body>\n",
    "<p class=\"title\" name=\"dromouse\"><b>The Dormouse's story</b></p>\n",
    "<p class=\"story\">Once upon a time there were three little sisters; and their names were\n",
    "<a href=\"http://example.com/elsie\" class=\"sister\" id=\"link1\"><!-- Elsie --></a>,\n",
    "<a href=\"http://example.com/lacie\" class=\"sister\" id=\"link2\">Lacie</a> and\n",
    "<a href=\"http://example.com/tillie\" class=\"sister\" id=\"link3\">Tillie</a>;\n",
    "and they lived at the bottom of a well.</p>\n",
    "<p class=\"story\">...</p>\n",
    "\"\"\"\n",
    "from bs4 import BeautifulSoup\n",
    "soup = BeautifulSoup(html, 'lxml')\n",
    "# print(soup.prettify())\n",
    "# print(soup.title.string)"
   ]
  },
  {
   "cell_type": "code",
   "execution_count": 127,
   "metadata": {},
   "outputs": [
    {
     "name": "stdout",
     "output_type": "stream",
     "text": [
      "<title>The Dormouse's story</title>\n",
      "<class 'bs4.element.Tag'>\n",
      "The Dormouse's story\n",
      "<head><title>The Dormouse's story</title></head>\n",
      "<p class=\"title\" name=\"dromouse\"><b>The Dormouse's story</b></p>\n",
      "None\n"
     ]
    }
   ],
   "source": [
    "# %%writefile BS4.py\n",
    "\n",
    "with open('./test-bs4.html',\"r\") as html:# automatic close the file\n",
    "    soup = BeautifulSoup(html, 'lxml')\n",
    "    print(soup.title)\n",
    "    print(type(soup.title))\n",
    "    print(soup.title.string)\n",
    "    print(soup.head)\n",
    "    print(soup.p)\n",
    "    print(soup.a.content)"
   ]
  },
  {
   "cell_type": "code",
   "execution_count": 117,
   "metadata": {},
   "outputs": [
    {
     "data": {
      "text/plain": [
       "{'href': 'http://example.com/elsie', 'class': ['sister'], 'id': 'link1'}"
      ]
     },
     "execution_count": 117,
     "metadata": {},
     "output_type": "execute_result"
    }
   ],
   "source": [
    "soup.a.attrs"
   ]
  },
  {
   "cell_type": "code",
   "execution_count": 83,
   "metadata": {},
   "outputs": [
    {
     "data": {
      "text/plain": [
       "<b>The Dormouse's story</b>"
      ]
     },
     "execution_count": 83,
     "metadata": {},
     "output_type": "execute_result"
    }
   ],
   "source": [
    "soup.p.b"
   ]
  },
  {
   "cell_type": "code",
   "execution_count": 103,
   "metadata": {},
   "outputs": [
    {
     "name": "stdout",
     "output_type": "stream",
     "text": [
      "[<b>The Dormouse's story</b>]\n",
      "[]\n",
      "[]\n"
     ]
    }
   ],
   "source": [
    "for ul in soup.find_all(name='p'):\n",
    "    print(ul.find_all(name='b'))\n",
    "    "
   ]
  },
  {
   "cell_type": "code",
   "execution_count": 102,
   "metadata": {},
   "outputs": [
    {
     "name": "stdout",
     "output_type": "stream",
     "text": [
      "[<a class=\"sister\" href=\"http://example.com/elsie\" id=\"link1\"><!-- Elsie --></a>, <a class=\"sister\" href=\"http://example.com/lacie\" id=\"link2\">Lacie</a>, <a class=\"sister\" href=\"http://example.com/tillie\" id=\"link3\">Tillie</a>]\n"
     ]
    }
   ],
   "source": [
    "print(soup.find_all(attrs={'name: 'p'}))"
   ]
  },
  {
   "cell_type": "code",
   "execution_count": 136,
   "metadata": {},
   "outputs": [
    {
     "name": "stdout",
     "output_type": "stream",
     "text": [
      "[<li class=\"element\">Foo</li>, <li class=\"element\">Bar</li>, <li class=\"element\">Jay</li>, <li class=\"element\">Foo</li>, <li class=\"element\">Bar</li>]\n"
     ]
    }
   ],
   "source": [
    "html='''\n",
    "<div class=\"panel\">\n",
    "    <div class=\"panel-heading\">\n",
    "        <h4>Hello</h4>\n",
    "    </div>\n",
    "    <div class=\"panel-body\">\n",
    "        <ul class=\"list\" id=\"list-1\">\n",
    "            <li class=\"element\">Foo</li>\n",
    "            <li class=\"element\">Bar</li>\n",
    "            <li class=\"element\">Jay</li>\n",
    "        </ul>\n",
    "        <ul class=\"list list-small\" id=\"list-2\">\n",
    "            <li class=\"element\">Foo</li>\n",
    "            <li class=\"element\">Bar</li>\n",
    "        </ul>\n",
    "    </div>\n",
    "</div>\n",
    "'''\n",
    "from bs4 import BeautifulSoup\n",
    "soup = BeautifulSoup(html, 'lxml')\n",
    "print(soup.select('.element'))\n",
    "# print(soup.select('ul li'))\n",
    "# print(soup.select('#list-2 .element'))\n",
    "# print(type(soup.select('ul')[0]))"
   ]
  },
  {
   "cell_type": "markdown",
   "metadata": {},
   "source": [
    "## pyquery"
   ]
  },
  {
   "cell_type": "code",
   "execution_count": 2,
   "metadata": {},
   "outputs": [
    {
     "name": "stdout",
     "output_type": "stream",
     "text": [
      "<li class=\"item-0\">first item</li>\n",
      "         <li class=\"item-1\"><a href=\"link2.html\">second item</a></li>\n",
      "         <li class=\"item-0 active\"><a href=\"link3.html\"><span class=\"bold\">third item</span></a></li>\n",
      "         <li class=\"item-1 active\"><a href=\"link4.html\">fourth item</a></li>\n",
      "         <li class=\"item-0\"><a href=\"link5.html\">fifth item</a></li>\n",
      "     \n"
     ]
    }
   ],
   "source": [
    "from pyquery import PyQuery as pq\n",
    "html=pq(filename='./test-pyquery.html')\n",
    "doc = pq(html)\n",
    "print(doc('li'))"
   ]
  },
  {
   "cell_type": "code",
   "execution_count": null,
   "metadata": {},
   "outputs": [],
   "source": [
    "#有机会再补~基本CSS选择器，查找节点|父节点，兄弟节点，遍历|获取信息，获取文本，节点操作，伪类选择器"
   ]
  },
  {
   "cell_type": "markdown",
   "metadata": {},
   "source": [
    "# save data"
   ]
  },
  {
   "cell_type": "markdown",
   "metadata": {},
   "source": [
    "## TXT"
   ]
  },
  {
   "cell_type": "code",
   "execution_count": 15,
   "metadata": {},
   "outputs": [
    {
     "name": "stdout",
     "output_type": "stream",
     "text": [
      "<generator object PyQuery.items at 0x00000167FA57BAF0>\n"
     ]
    }
   ],
   "source": [
    "url = 'https://www.zhihu.com/explore'\n",
    "\n",
    "html=get_one_page(url)\n",
    "doc = pq(html)\n",
    "items = doc('.explore-tab .feed-item').items()\n",
    "print(items)\n",
    "with open('result.txt', 'a',encoding='utf-8') as file:\n",
    "    for item in items:\n",
    "        question = 'question：'+item.find('h2').text()\n",
    "        author = 'author：'+item.find('.author-link-line').text()\n",
    "        answer = 'answer：'+pq(item.find('.content').html()).text()\n",
    "        file.write('\\n'.join([question, author, answer]))\n",
    "        file.write('\\n' + '=' * 50 + '\\n')"
   ]
  },
  {
   "cell_type": "markdown",
   "metadata": {},
   "source": [
    "## JSON"
   ]
  },
  {
   "cell_type": "code",
   "execution_count": null,
   "metadata": {},
   "outputs": [],
   "source": [
    "#json数据需要用双引号来标识"
   ]
  },
  {
   "cell_type": "markdown",
   "metadata": {},
   "source": [
    "## CSV"
   ]
  },
  {
   "cell_type": "code",
   "execution_count": 28,
   "metadata": {},
   "outputs": [],
   "source": [
    "import csv\n",
    "with open('data.csv', 'w',newline='') as csvfile:\n",
    "    writer = csv.writer(csvfile)\n",
    "#                         delimiter=' '\n",
    "#                        )\n",
    "    writer.writerow(['id', 'name', 'age'])\n",
    "    writer.writerow(['10001', 'Mike', 20])\n",
    "    writer.writerow(['10002', 'Bob', 22])\n",
    "    writer.writerow(['10003', 'Jordan', 21])"
   ]
  },
  {
   "cell_type": "markdown",
   "metadata": {},
   "source": [
    "## SQL"
   ]
  },
  {
   "cell_type": "code",
   "execution_count": 120,
   "metadata": {},
   "outputs": [
    {
     "name": "stdout",
     "output_type": "stream",
     "text": [
      "Database version: ('8.0.12',)\n"
     ]
    },
    {
     "data": {
      "text/plain": [
       "1"
      ]
     },
     "execution_count": 120,
     "metadata": {},
     "output_type": "execute_result"
    }
   ],
   "source": [
    "import pymysql\n",
    " \n",
    "db = pymysql.connect(host='localhost',user='root', password='', port=3306)\n",
    "cursor = db.cursor()\n",
    "cursor.execute('SELECT VERSION()')\n",
    "data = cursor.fetchone()\n",
    "print('Database version:', data)\n",
    "cursor.execute(\"CREATE DATABASE myspiders DEFAULT CHARACTER SET UTF8MB4\")"
   ]
  },
  {
   "cell_type": "code",
   "execution_count": 110,
   "metadata": {},
   "outputs": [
    {
     "data": {
      "text/plain": [
       "0"
      ]
     },
     "execution_count": 110,
     "metadata": {},
     "output_type": "execute_result"
    }
   ],
   "source": [
    "db = pymysql.connect(host='localhost', user='root', password='', port=3306, db='myspiders')\n",
    "cursor = db.cursor()\n",
    "sql = 'CREATE TABLE IF NOT EXISTS mystudents (id VARCHAR(255) NOT NULL, name VARCHAR(255) NOT NULL, age INT NOT NULL, PRIMARY KEY (id))'\n",
    "cursor.execute(sql)"
   ]
  },
  {
   "cell_type": "code",
   "execution_count": 112,
   "metadata": {},
   "outputs": [
    {
     "name": "stdout",
     "output_type": "stream",
     "text": [
      "Successful\n"
     ]
    }
   ],
   "source": [
    "data = {\n",
    "    'id': '20120001',\n",
    "    'name': 'Bob',\n",
    "    'age': 20\n",
    "}\n",
    "table = 'mystudents'\n",
    "keys = ', '.join(data.keys())\n",
    "values = ', '.join(['%s'] * len(data))\n",
    "sql = 'INSERT INTO {table}({keys}) VALUES ({values})'.format(table=table, keys=keys, values=values)\n",
    "try:\n",
    "   if cursor.execute(sql, tuple(data.values())):\n",
    "       print('Successful')\n",
    "       db.commit()\n",
    "except:\n",
    "    print('Failed')\n",
    "    db.rollback()"
   ]
  },
  {
   "cell_type": "code",
   "execution_count": 119,
   "metadata": {},
   "outputs": [
    {
     "data": {
      "text/plain": [
       "(('20120001', 'Bob', 20),)"
      ]
     },
     "execution_count": 119,
     "metadata": {},
     "output_type": "execute_result"
    }
   ],
   "source": [
    "sql = 'SELECT * FROM mystudents WHERE age >= 20'\n",
    "cursor.execute(sql)\n",
    "cursor.fetchall()"
   ]
  },
  {
   "cell_type": "code",
   "execution_count": 122,
   "metadata": {},
   "outputs": [
    {
     "name": "stdout",
     "output_type": "stream",
     "text": [
      "Requirement already satisfied: twilio in c:\\users\\d\\anaconda3\\lib\\site-packages (6.16.4)\n",
      "Requirement already satisfied: pysocks; python_version >= \"3.0\" in c:\\users\\d\\anaconda3\\lib\\site-packages (from twilio) (1.6.7)\n",
      "Requirement already satisfied: PyJWT>=1.4.2 in c:\\users\\d\\anaconda3\\lib\\site-packages (from twilio) (1.6.4)\n",
      "Requirement already satisfied: requests>=2.0.0; python_version >= \"3.0\" in c:\\users\\d\\anaconda3\\lib\\site-packages (from twilio) (2.12.4)\n",
      "Requirement already satisfied: pytz in c:\\users\\d\\anaconda3\\lib\\site-packages (from twilio) (2018.4)\n",
      "Requirement already satisfied: six in c:\\users\\d\\anaconda3\\lib\\site-packages (from twilio) (1.11.0)\n"
     ]
    }
   ],
   "source": [
    "!pip install twilio"
   ]
  },
  {
   "cell_type": "markdown",
   "metadata": {},
   "source": [
    "# type"
   ]
  },
  {
   "cell_type": "markdown",
   "metadata": {},
   "source": [
    "## AJAX"
   ]
  },
  {
   "cell_type": "code",
   "execution_count": 138,
   "metadata": {},
   "outputs": [
    {
     "name": "stdout",
     "output_type": "stream",
     "text": [
      "https://m.weibo.cn/api/container/getIndex?display=0&retcode=6102&containerid=1076035747171179&page=4\n"
     ]
    }
   ],
   "source": [
    "from urllib.parse import urlencode\n",
    "base_url='https://m.weibo.cn/api/container/getIndex?'\n",
    "params = {\n",
    "        'display': '0',\n",
    "        'retcode': '6102',\n",
    "        'containerid': '1076035747171179',\n",
    "        'page': page\n",
    "    }\n",
    "page='4'\n",
    "url=base_url+urlencode(params)\n",
    "print(url)\n",
    "headers={\"user-agent\": \"Chrome/68.0.3440.106\"}\n",
    "\n",
    "# get_one_page(url)"
   ]
  },
  {
   "cell_type": "code",
   "execution_count": 140,
   "metadata": {
    "collapsed": true
   },
   "outputs": [
    {
     "name": "stdout",
     "output_type": "stream",
     "text": [
      "{'id': '4260390931799491', 'text': '熬夜看杯觉得自己脸垮了 不美了 用这些！\\n护肤做的早 撩汉撩得好\\n#美妆世界杯# @微博时尚\\n美拍', 'attitudes': 244, 'comments': 280, 'reposts': 85}\n",
      "{'id': '4259602860493552', 'text': '如果一个月不更博，你们会想……\\n不起来我吗？', 'attitudes': 31, 'comments': 66, 'reposts': 1}\n",
      "{'id': '4259260995459861', 'text': '达浪～达浪～达浪达浪达浪达浪～～～～ 查看图片', 'attitudes': 27, 'comments': 12, 'reposts': 1}\n",
      "{'id': '4258449224952207', 'text': '白气球揍了黑气球一拳\\n黑气球很痛很生气\\n于是决定！！！\\n\\n告白气球…\\n哈哈哈哈哈哈对不起打扰了 就想拿球凑个热闹 助威球迷妆#美妆世界杯#@微博时尚', 'attitudes': 35, 'comments': 46, 'reposts': 1}\n",
      "{'id': '4258192222917770', 'text': '你站哪个队？我站拉拉队！\\n自嗨就是给自己加油！\\n#美妆世界杯# @微博时尚', 'attitudes': 39, 'comments': 33, 'reposts': 0}\n",
      "{'id': '4257433683541116', 'text': '巴西 墨西哥 今晚你们站哪队？\\n世界杯不会看 啤酒不能不会喝🍺🍉\\n#美妆世界杯# @微博时尚', 'attitudes': 79, 'comments': 35, 'reposts': 1}\n",
      "{'id': '4256968970946589', 'text': '发现新鲜玩应儿就欠欠的去剁手 这个立体修容棒创意不错 手感也不错 效果吧 哎嘿竟然也不错！\\n这个假发质量也是真的好 反正啥玩意都一分钱一分货吧 这个妖精造型觉得辣眼睛的我也救不了你 没辣够的就移步@WendyChan__', 'attitudes': 430, 'comments': 331, 'reposts': 102}\n",
      "{'id': '4255998728353111', 'text': '#天气穿搭志#\\n六月的北京已经进入面红耳赤的高温阶段\\n太阳再热风再大也要每天都做精致社会人\\n我的穿衣原则就是：\\n天气决定心情 心情决定今儿穿什么@天气通 @微博时尚 #天气穿搭志#', 'attitudes': 417, 'comments': 342, 'reposts': 100}\n",
      "{'id': '4255869963280112', 'text': '足球必须反着买 别墅就能靠着海\\n不懂赔率 只懂陪你\\n\\nps.这个不是短裙 是短裤 想咋扭就咋扭\\n#美妆世界杯# @微博时尚 @RichmondFinch', 'attitudes': 539, 'comments': 441, 'reposts': 106}\n",
      "{'id': '4255642007455352', 'text': '噔噔噔 分享一个撩“汗”神器 猪猪女孩夏天必不可少的衣服香水---当妮护衣留香珠！各路明星都用！而且连阚清子都被林允这位美妆种草机安利入手了，简直不要太火啊！只要把半盖珠珠和洗衣液一起丢进洗衣机就可以啦！从此再也不怕流汗的汗味，衣服时刻保持清香！香味有五种，个人喜欢清甜味道，所以每次 ...全文', 'attitudes': 876, 'comments': 521, 'reposts': 516}\n"
     ]
    }
   ],
   "source": [
    "from pyquery import PyQuery as pq\n",
    "def parse_page(json):\n",
    "    if json:\n",
    "        items = json.get('data').get('cards')\n",
    "        for item in items:\n",
    "            item = item.get('mblog')\n",
    "            weibo = {}\n",
    "            weibo['id'] = item.get('id')\n",
    "            weibo['text'] = pq(item.get('text')).text()\n",
    "            weibo['attitudes'] = item.get('attitudes_count')\n",
    "            weibo['comments'] = item.get('comments_count')\n",
    "            weibo['reposts'] = item.get('reposts_count')\n",
    "            yield weibo\n",
    "for result in parse_page(requests.get(url, headers=headers).json()):\n",
    "    print(result)"
   ]
  },
  {
   "cell_type": "markdown",
   "metadata": {},
   "source": [
    "## Ajax爬取今日头条街拍美图"
   ]
  },
  {
   "cell_type": "code",
   "execution_count": 14,
   "metadata": {},
   "outputs": [],
   "source": [
    "import requests\n",
    "from urllib.parse import urlencode\n",
    "from requests import codes\n",
    "import os\n",
    "from hashlib import md5\n",
    "from multiprocessing.pool import Pool\n",
    "\n",
    "\n",
    "def get_page(offset):\n",
    "    params = {\n",
    "        'offset': offset,\n",
    "        'format': 'json',\n",
    "        'keyword': '街拍',\n",
    "        'autoload': 'true',\n",
    "        'count': '20',\n",
    "        'cur_tab': '1',\n",
    "        'from': 'search_tab'\n",
    "    }\n",
    "    base_url = 'https://www.toutiao.com/search_content/?'\n",
    "    url = base_url + urlencode(params)\n",
    "    try:\n",
    "        resp = requests.get(url)\n",
    "        if codes.ok == resp.status_code:\n",
    "            return resp.json()\n",
    "    except requests.ConnectionError:\n",
    "        return None\n",
    "\n",
    "\n",
    "def get_images(json):\n",
    "    if json.get('data'):\n",
    "        data = json.get('data')\n",
    "        for item in data:\n",
    "            if item.get('cell_type') is not None:\n",
    "                continue\n",
    "            title = item.get('title')\n",
    "            images = item.get('image_list')\n",
    "            for image in images:\n",
    "                yield {\n",
    "                    'image': 'https:' + image.get('url'),\n",
    "                    'title': title\n",
    "                }\n",
    "import re\n",
    "#替换不可描述文字\n",
    "def validateTitle(title):\n",
    "    rstr = r\"[\\/\\\\\\:\\*\\?\\\"\\<\\>\\|]\"  # '/ \\ : * ? \" < > |'\n",
    "    new_title = re.sub(rstr, \"_\", title)  # 替换为下划线\n",
    "    return new_title\n",
    "\n",
    "def save_image(item):\n",
    "    img_path = 'img' + os.path.sep + validateTitle(item.get('title'))\n",
    "    if not os.path.exists(img_path):\n",
    "        os.makedirs(img_path)\n",
    "    try:\n",
    "        resp = requests.get(item.get('image'))\n",
    "        if codes.ok == resp.status_code:\n",
    "            file_path = img_path + os.path.sep + '{file_name}.{file_suffix}'.format(\n",
    "                file_name=md5(resp.content).hexdigest(),\n",
    "                file_suffix='jpg')\n",
    "            if not os.path.exists(file_path):\n",
    "                with open(file_path, 'wb') as f:\n",
    "                    f.write(resp.content)\n",
    "                print('Downloaded image path is %s' % file_path)\n",
    "            else:\n",
    "                print('Already Downloaded', file_path)\n",
    "    except requests.ConnectionError:\n",
    "        print('Failed to Save Image，item %s' % item)\n",
    "def main(offset):\n",
    "    json = get_page(offset)\n",
    "    for item in get_images(json):\n",
    "        print(item)\n",
    "        save_image(item)\n",
    "    print('done!')\n",
    "\n"
   ]
  },
  {
   "cell_type": "code",
   "execution_count": 15,
   "metadata": {},
   "outputs": [
    {
     "name": "stdout",
     "output_type": "stream",
     "text": [
      "{'image': 'https://p1.pstatp.com/list/d290017ceeeed09d37e', 'title': '街拍：北京街拍的美女们'}\n",
      "Already Downloaded img\\街拍：北京街拍的美女们\\256420bc1c14a0189b1eb5b2d267787a.jpg\n",
      "{'image': 'https://p1.pstatp.com/list/ef500000fb4bee3f3fc', 'title': '街拍：北京街拍的美女们'}\n",
      "Downloaded image path is img\\街拍：北京街拍的美女们\\ac521b80c9f4c05827d27ffd5cd2984c.jpg\n",
      "{'image': 'https://p3.pstatp.com/list/ef300002c052dbcdf55', 'title': '街拍：北京街拍的美女们'}\n",
      "Already Downloaded img\\街拍：北京街拍的美女们\\c5b35b037651ce971f9ba08269859816.jpg\n",
      "{'image': 'https://p3.pstatp.com/list/pgc-image/15359799211600f8af67b20', 'title': '街拍重庆：学会时尚的穿搭技巧，换季也可以美美哒！'}\n",
      "Already Downloaded img\\街拍重庆：学会时尚的穿搭技巧，换季也可以美美哒！\\0d61bc7fac35fd15922fb8e0042a7551.jpg\n",
      "{'image': 'https://p3.pstatp.com/list/pgc-image/153597992185885944a295a', 'title': '街拍重庆：学会时尚的穿搭技巧，换季也可以美美哒！'}\n",
      "Already Downloaded img\\街拍重庆：学会时尚的穿搭技巧，换季也可以美美哒！\\9b025a8835fd649e13163f042750089d.jpg\n",
      "{'image': 'https://p3.pstatp.com/list/pgc-image/1535979921151ef9e6ed60d', 'title': '街拍重庆：学会时尚的穿搭技巧，换季也可以美美哒！'}\n",
      "Already Downloaded img\\街拍重庆：学会时尚的穿搭技巧，换季也可以美美哒！\\77e0f864e8d2f0ff91d51e1b9db503c3.jpg\n",
      "{'image': 'https://p3.pstatp.com/list/pgc-image/1535979920945c921f646ee', 'title': '街拍重庆：学会时尚的穿搭技巧，换季也可以美美哒！'}\n",
      "Already Downloaded img\\街拍重庆：学会时尚的穿搭技巧，换季也可以美美哒！\\5da44eb12df3023e883186bb929fff71.jpg\n",
      "{'image': 'https://p1.pstatp.com/list/pgc-image/153604729499711638f2156', 'title': '男士时尚搭配，你到底适不适合穿Oversize?'}\n",
      "Already Downloaded img\\男士时尚搭配，你到底适不适合穿Oversize_\\02ced8733f0ca65f5821b661c9ba8cf9.jpg\n",
      "{'image': 'https://p9.pstatp.com/list/pgc-image/153604727113859f7d30e22', 'title': '男士时尚搭配，你到底适不适合穿Oversize?'}\n",
      "Already Downloaded img\\男士时尚搭配，你到底适不适合穿Oversize_\\d34ed10f85387fb8977eb36fe0e13c3b.jpg\n",
      "{'image': 'https://p3.pstatp.com/list/pgc-image/1536047323055b9d5c58159', 'title': '男士时尚搭配，你到底适不适合穿Oversize?'}\n",
      "Already Downloaded img\\男士时尚搭配，你到底适不适合穿Oversize_\\856fa6bb2f11cc3661c0c2e621af2d4b.jpg\n",
      "{'image': 'https://p1.pstatp.com/list/pgc-image/1536046814637c0c6219306', 'title': '街拍路人，时尚界是不分地域与人种的，有人的地方就有时尚界'}\n",
      "Already Downloaded img\\街拍路人，时尚界是不分地域与人种的，有人的地方就有时尚界\\a413d5f451270f52568101c24afd3fb1.jpg\n",
      "{'image': 'https://p1.pstatp.com/list/pgc-image/153604681466844bfbb6233', 'title': '街拍路人，时尚界是不分地域与人种的，有人的地方就有时尚界'}\n",
      "Already Downloaded img\\街拍路人，时尚界是不分地域与人种的，有人的地方就有时尚界\\02c8272a388f01a44a3176bf26f46b67.jpg\n",
      "{'image': 'https://p1.pstatp.com/list/pgc-image/1536046814631c8dbaf3c7e', 'title': '街拍路人，时尚界是不分地域与人种的，有人的地方就有时尚界'}\n",
      "Already Downloaded img\\街拍路人，时尚界是不分地域与人种的，有人的地方就有时尚界\\19fcf621fb0d0dcc4c51f6c50fbfe9aa.jpg\n",
      "{'image': 'https://p3.pstatp.com/list/pgc-image/1536046814873da78225371', 'title': '街拍路人，时尚界是不分地域与人种的，有人的地方就有时尚界'}\n",
      "Already Downloaded img\\街拍路人，时尚界是不分地域与人种的，有人的地方就有时尚界\\f85dc12473ff225c44df71df70ef9bff.jpg\n",
      "{'image': 'https://p9.pstatp.com/list/pgc-image/153604546079513302e382e', 'title': '「成都街拍」温柔中带点硬朗！成都女孩帅起来可就没男生什么事了'}\n",
      "Already Downloaded img\\「成都街拍」温柔中带点硬朗！成都女孩帅起来可就没男生什么事了\\b8ac803e59dc0ff51082640cb8120bd4.jpg\n",
      "{'image': 'https://p1.pstatp.com/list/pgc-image/1536045461182c389c81be9', 'title': '「成都街拍」温柔中带点硬朗！成都女孩帅起来可就没男生什么事了'}\n",
      "Already Downloaded img\\「成都街拍」温柔中带点硬朗！成都女孩帅起来可就没男生什么事了\\b113d02d6e9c56b85d938bde6e2ed9b9.jpg\n",
      "{'image': 'https://p9.pstatp.com/list/pgc-image/1536045461238f658da4805', 'title': '「成都街拍」温柔中带点硬朗！成都女孩帅起来可就没男生什么事了'}\n",
      "Already Downloaded img\\「成都街拍」温柔中带点硬朗！成都女孩帅起来可就没男生什么事了\\c369b30cf4bfc1b5fc9caad116ff902e.jpg\n",
      "{'image': 'https://p3.pstatp.com/list/pgc-image/153604655774868d2611f11', 'title': '街拍路人，生活在大都市就要这样穿搭，才能展现你的魅力与气质'}\n",
      "Already Downloaded img\\街拍路人，生活在大都市就要这样穿搭，才能展现你的魅力与气质\\bfc73ded3cbd5b70a6c3ce6e2c9cc83b.jpg\n",
      "{'image': 'https://p1.pstatp.com/list/pgc-image/1536046557584eafb54b36c', 'title': '街拍路人，生活在大都市就要这样穿搭，才能展现你的魅力与气质'}\n",
      "Already Downloaded img\\街拍路人，生活在大都市就要这样穿搭，才能展现你的魅力与气质\\8ce9539de6124f07b8bb631f4e5708cb.jpg\n",
      "{'image': 'https://p3.pstatp.com/list/pgc-image/15360465589110910ae43df', 'title': '街拍路人，生活在大都市就要这样穿搭，才能展现你的魅力与气质'}\n",
      "Already Downloaded img\\街拍路人，生活在大都市就要这样穿搭，才能展现你的魅力与气质\\2da584c6c5de1e7cd7a566849260d736.jpg\n",
      "{'image': 'https://p9.pstatp.com/list/pgc-image/1536046557847ba0b0d23ad', 'title': '街拍路人，生活在大都市就要这样穿搭，才能展现你的魅力与气质'}\n",
      "Already Downloaded img\\街拍路人，生活在大都市就要这样穿搭，才能展现你的魅力与气质\\4c945fa68db5e0e626d2815d9e935145.jpg\n",
      "{'image': 'https://p1.pstatp.com/list/pgc-image/1536045624990c8db8be714', 'title': '夏日清爽街拍，一展元气少女甜酷气质，何花独特少女般魅力'}\n",
      "Already Downloaded img\\夏日清爽街拍，一展元气少女甜酷气质，何花独特少女般魅力\\3c5d3967ba50380611f5d4ed8579eb3a.jpg\n",
      "{'image': 'https://p3.pstatp.com/list/pgc-image/15360456250015eaf1e97d1', 'title': '夏日清爽街拍，一展元气少女甜酷气质，何花独特少女般魅力'}\n",
      "Already Downloaded img\\夏日清爽街拍，一展元气少女甜酷气质，何花独特少女般魅力\\d1ebb66b15c775060ba49282b88cf87f.jpg\n",
      "{'image': 'https://p1.pstatp.com/list/pgc-image/15360456303413990664449', 'title': '夏日清爽街拍，一展元气少女甜酷气质，何花独特少女般魅力'}\n",
      "Already Downloaded img\\夏日清爽街拍，一展元气少女甜酷气质，何花独特少女般魅力\\828f44d7e3e4e91820f2768c9e19a26f.jpg\n",
      "{'image': 'https://p1.pstatp.com/list/2a4700042e7ecac67c34', 'title': '夏季街拍合集，路人甲街拍'}\n",
      "Already Downloaded img\\夏季街拍合集，路人甲街拍\\a00c674371cd58465f2c80432c99a3be.jpg\n",
      "{'image': 'https://p1.pstatp.com/list/2a450001282580020e65', 'title': '夏季街拍合集，路人甲街拍'}\n",
      "Already Downloaded img\\夏季街拍合集，路人甲街拍\\8de734e1c01457e7927650b29163953d.jpg\n",
      "{'image': 'https://p1.pstatp.com/list/2a4500012838098ace96', 'title': '夏季街拍合集，路人甲街拍'}\n",
      "Already Downloaded img\\夏季街拍合集，路人甲街拍\\18c6679dba84d8a20f2da837b4e3cc1e.jpg\n",
      "{'image': 'https://p3.pstatp.com/list/2c2100001232e8686823', 'title': '夏季街拍合集，路人甲街拍'}\n",
      "Already Downloaded img\\夏季街拍合集，路人甲街拍\\f1c06a784925ed51ea6a3b13d5ab2aa3.jpg\n",
      "{'image': 'https://p1.pstatp.com/list/2a480002ab69b4827269', 'title': '夏季街拍合集，路人甲街拍'}\n",
      "Already Downloaded img\\夏季街拍合集，路人甲街拍\\61073fed501351b4e55fdacb193a72a2.jpg\n",
      "{'image': 'https://p9.pstatp.com/list/2a480002ab75c3766d86', 'title': '夏季街拍合集，路人甲街拍'}\n",
      "Already Downloaded img\\夏季街拍合集，路人甲街拍\\231a19b73274ebded508b7f9688b451f.jpg\n",
      "{'image': 'https://p3.pstatp.com/list/2a4600047ecc8567687d', 'title': '夏季街拍合集，路人甲街拍'}\n",
      "Already Downloaded img\\夏季街拍合集，路人甲街拍\\db01086e48606a5a6e0cb10e35c65d11.jpg\n",
      "{'image': 'https://p3.pstatp.com/list/2a4600047ed883d2971e', 'title': '夏季街拍合集，路人甲街拍'}\n",
      "Already Downloaded img\\夏季街拍合集，路人甲街拍\\563a1bd273177c2b50d26586d5e10b52.jpg\n",
      "{'image': 'https://p3.pstatp.com/list/2a400004d50cbf025677', 'title': '夏季街拍合集，路人甲街拍'}\n",
      "Already Downloaded img\\夏季街拍合集，路人甲街拍\\5d7770c9ff53e10da6d4d9c1dae2f279.jpg\n",
      "{'image': 'https://p1.pstatp.com/list/pgc-image/15360443218032b0efaff12', 'title': '众女星街拍，她拔得头筹，连不老女神赵雅芝都不免黯然失色'}\n",
      "Already Downloaded img\\众女星街拍，她拔得头筹，连不老女神赵雅芝都不免黯然失色\\2dfe2c678405e2f0d3a59e0999fd4c44.jpg\n",
      "{'image': 'https://p1.pstatp.com/list/pgc-image/15360443218196c3b4a934a', 'title': '众女星街拍，她拔得头筹，连不老女神赵雅芝都不免黯然失色'}\n",
      "Already Downloaded img\\众女星街拍，她拔得头筹，连不老女神赵雅芝都不免黯然失色\\34690e5ab04458968cec924d82d496e5.jpg\n",
      "{'image': 'https://p3.pstatp.com/list/pgc-image/1536044322312260c22440d', 'title': '众女星街拍，她拔得头筹，连不老女神赵雅芝都不免黯然失色'}\n",
      "Already Downloaded img\\众女星街拍，她拔得头筹，连不老女神赵雅芝都不免黯然失色\\9f2dde62ef5ecb74ca0c884d2c295812.jpg\n",
      "{'image': 'https://p1.pstatp.com/list/9df0004ca7d3b013f31', 'title': '街拍：游乐场漂亮姐姐街拍'}\n",
      "Already Downloaded img\\街拍：游乐场漂亮姐姐街拍\\a4b319e4e2eb8c4731d0398b117e5e12.jpg\n",
      "{'image': 'https://p1.pstatp.com/list/9de0004be52ea8f4131', 'title': '街拍：游乐场漂亮姐姐街拍'}\n",
      "Already Downloaded img\\街拍：游乐场漂亮姐姐街拍\\a8615e15be6764b91be06f1981a135ae.jpg\n",
      "{'image': 'https://p1.pstatp.com/list/9e000052bb348178656', 'title': '街拍：游乐场漂亮姐姐街拍'}\n",
      "Already Downloaded img\\街拍：游乐场漂亮姐姐街拍\\f356104d637de0011f1b37ea2195e323.jpg\n",
      "{'image': 'https://p3.pstatp.com/list/9de0004be5f06492877', 'title': '街拍：游乐场漂亮姐姐街拍'}\n",
      "Already Downloaded img\\街拍：游乐场漂亮姐姐街拍\\2021bc4415196c5ba25d627c434bf91c.jpg\n",
      "{'image': 'https://p1.pstatp.com/list/pgc-image/1536047617753cf92009f5e', 'title': '杨幂退出街拍界后她成为新晋街拍女王 奚梦瑶的穿搭很值得一说'}\n",
      "Already Downloaded img\\杨幂退出街拍界后她成为新晋街拍女王 奚梦瑶的穿搭很值得一说\\a8a0fb72fc6c8b46ae9d59f3a7eb4c44.jpg\n",
      "{'image': 'https://p3.pstatp.com/list/pgc-image/1536047724413e5cb664174', 'title': '杨幂退出街拍界后她成为新晋街拍女王 奚梦瑶的穿搭很值得一说'}\n",
      "Already Downloaded img\\杨幂退出街拍界后她成为新晋街拍女王 奚梦瑶的穿搭很值得一说\\63d5b606050c0cd1a887e1baa63ff775.jpg\n",
      "{'image': 'https://p3.pstatp.com/list/pgc-image/1536047799189d99092bdbd', 'title': '杨幂退出街拍界后她成为新晋街拍女王 奚梦瑶的穿搭很值得一说'}\n",
      "Already Downloaded img\\杨幂退出街拍界后她成为新晋街拍女王 奚梦瑶的穿搭很值得一说\\2b58f2a7dc60ccf82629bd4024a4e6aa.jpg\n",
      "{'image': 'https://p3.pstatp.com/list/pgc-image/1536047882751872e0e4d81', 'title': '杨幂退出街拍界后她成为新晋街拍女王 奚梦瑶的穿搭很值得一说'}\n",
      "Already Downloaded img\\杨幂退出街拍界后她成为新晋街拍女王 奚梦瑶的穿搭很值得一说\\1f4c1c6a79ff7f07e2e8a043239bb13b.jpg\n",
      "{'image': 'https://p3.pstatp.com/list/pgc-image/15360457045419c654a1c8e', 'title': '范冰冰，杨幂，景甜，沈梦辰，林心如等机场街拍谁才是大长腿'}\n",
      "Already Downloaded img\\范冰冰，杨幂，景甜，沈梦辰，林心如等机场街拍谁才是大长腿\\f58e1ac60651cd0332ca69b01d542b1e.jpg\n",
      "{'image': 'https://p3.pstatp.com/list/pgc-image/1536045704657ae8d89ca9b', 'title': '范冰冰，杨幂，景甜，沈梦辰，林心如等机场街拍谁才是大长腿'}\n",
      "Already Downloaded img\\范冰冰，杨幂，景甜，沈梦辰，林心如等机场街拍谁才是大长腿\\0118fbcfd4fc0d8a252e3feb16a94cc9.jpg\n",
      "{'image': 'https://p1.pstatp.com/list/pgc-image/15360457045329d688675f3', 'title': '范冰冰，杨幂，景甜，沈梦辰，林心如等机场街拍谁才是大长腿'}\n",
      "Already Downloaded img\\范冰冰，杨幂，景甜，沈梦辰，林心如等机场街拍谁才是大长腿\\99ed078ee9cfccaeec9f092d03751d1b.jpg\n",
      "{'image': 'https://p1.pstatp.com/list/pgc-image/15360457046215cbfcc3a43', 'title': '范冰冰，杨幂，景甜，沈梦辰，林心如等机场街拍谁才是大长腿'}\n"
     ]
    },
    {
     "name": "stdout",
     "output_type": "stream",
     "text": [
      "Already Downloaded img\\范冰冰，杨幂，景甜，沈梦辰，林心如等机场街拍谁才是大长腿\\ef09ba8986c5e12ac1c84c66bdec1d19.jpg\n",
      "{'image': 'https://p3.pstatp.com/list/b72300000bf3bb135f68', 'title': '可以当桌面壁纸的唯美街拍，一支玫瑰一袭白裙'}\n",
      "Already Downloaded img\\可以当桌面壁纸的唯美街拍，一支玫瑰一袭白裙\\27dab025b6ea4679aad6af77cbc0e136.jpg\n",
      "{'image': 'https://p9.pstatp.com/list/b725000003e76daf6f17', 'title': '可以当桌面壁纸的唯美街拍，一支玫瑰一袭白裙'}\n",
      "Already Downloaded img\\可以当桌面壁纸的唯美街拍，一支玫瑰一袭白裙\\6856c60ce052f1b5c96ebc867c75ee53.jpg\n",
      "{'image': 'https://p1.pstatp.com/list/b7210001565aa0d88240', 'title': '可以当桌面壁纸的唯美街拍，一支玫瑰一袭白裙'}\n",
      "Already Downloaded img\\可以当桌面壁纸的唯美街拍，一支玫瑰一袭白裙\\53972152972b6976968ff19dfbc23169.jpg\n",
      "{'image': 'https://p3.pstatp.com/list/pgc-image/1536048408864f12e78681a', 'title': '抱小动物的5位古装女星，街拍女王倪妮垫底，楚乔传里的她是最美'}\n",
      "Already Downloaded img\\抱小动物的5位古装女星，街拍女王倪妮垫底，楚乔传里的她是最美\\2d09a10185f20c23a5008ad2578e65c1.jpg\n",
      "{'image': 'https://p1.pstatp.com/list/pgc-image/1536048414811c2214f2e7e', 'title': '抱小动物的5位古装女星，街拍女王倪妮垫底，楚乔传里的她是最美'}\n",
      "Already Downloaded img\\抱小动物的5位古装女星，街拍女王倪妮垫底，楚乔传里的她是最美\\fb2792b3582faee22506b948450184bc.jpg\n",
      "{'image': 'https://p9.pstatp.com/list/pgc-image/15360484307024545b90ce1', 'title': '抱小动物的5位古装女星，街拍女王倪妮垫底，楚乔传里的她是最美'}\n",
      "Already Downloaded img\\抱小动物的5位古装女星，街拍女王倪妮垫底，楚乔传里的她是最美\\23c524d315bf061b98e31c0f982a5d0b.jpg\n",
      "done!\n"
     ]
    }
   ],
   "source": [
    "main(20)"
   ]
  },
  {
   "cell_type": "code",
   "execution_count": null,
   "metadata": {},
   "outputs": [],
   "source": [
    "GROUP_START = 0\n",
    "GROUP_END = 7\n",
    "\n",
    "if __name__ == '__main__':\n",
    "    pool = Pool()\n",
    "    groups = ([x * 20 for x in range(GROUP_START, GROUP_END + 1)])\n",
    "    pool.map(main, groups)\n",
    "    pool.close()\n",
    "    pool.join()"
   ]
  },
  {
   "cell_type": "markdown",
   "metadata": {},
   "source": [
    "# selenium"
   ]
  },
  {
   "cell_type": "markdown",
   "metadata": {},
   "source": [
    "## chrome"
   ]
  },
  {
   "cell_type": "code",
   "execution_count": 1,
   "metadata": {},
   "outputs": [
    {
     "name": "stdout",
     "output_type": "stream",
     "text": [
      "<selenium.webdriver.remote.webelement.WebElement (session=\"f9c436040d286817909bcd3aedab866b\", element=\"0.6499654005381437-1\")> <selenium.webdriver.remote.webelement.WebElement (session=\"f9c436040d286817909bcd3aedab866b\", element=\"0.6499654005381437-1\")> <selenium.webdriver.remote.webelement.WebElement (session=\"f9c436040d286817909bcd3aedab866b\", element=\"0.6499654005381437-1\")>\n"
     ]
    }
   ],
   "source": [
    "from selenium import webdriver\n",
    "from selenium.webdriver.common.by import By\n",
    " \n",
    "browser = webdriver.Chrome()\n",
    "browser.get('https://www.taobao.com')\n",
    "input_first = browser.find_element(By.ID, 'q')\n",
    "input_second = browser.find_element_by_css_selector('#q')\n",
    "input_third = browser.find_element_by_xpath('//*[@id=\"q\"]')\n",
    "print(input_first, input_second, input_third)\n",
    "browser.close()\n"
   ]
  },
  {
   "cell_type": "code",
   "execution_count": 30,
   "metadata": {},
   "outputs": [
    {
     "name": "stdout",
     "output_type": "stream",
     "text": [
      "[<selenium.webdriver.remote.webelement.WebElement (session=\"fdba79bc9aa657353e526dbcbcde2423\", element=\"0.053226464341570745-1\")>, <selenium.webdriver.remote.webelement.WebElement (session=\"fdba79bc9aa657353e526dbcbcde2423\", element=\"0.053226464341570745-2\")>, <selenium.webdriver.remote.webelement.WebElement (session=\"fdba79bc9aa657353e526dbcbcde2423\", element=\"0.053226464341570745-3\")>, <selenium.webdriver.remote.webelement.WebElement (session=\"fdba79bc9aa657353e526dbcbcde2423\", element=\"0.053226464341570745-4\")>, <selenium.webdriver.remote.webelement.WebElement (session=\"fdba79bc9aa657353e526dbcbcde2423\", element=\"0.053226464341570745-5\")>, <selenium.webdriver.remote.webelement.WebElement (session=\"fdba79bc9aa657353e526dbcbcde2423\", element=\"0.053226464341570745-6\")>, <selenium.webdriver.remote.webelement.WebElement (session=\"fdba79bc9aa657353e526dbcbcde2423\", element=\"0.053226464341570745-7\")>, <selenium.webdriver.remote.webelement.WebElement (session=\"fdba79bc9aa657353e526dbcbcde2423\", element=\"0.053226464341570745-8\")>, <selenium.webdriver.remote.webelement.WebElement (session=\"fdba79bc9aa657353e526dbcbcde2423\", element=\"0.053226464341570745-9\")>, <selenium.webdriver.remote.webelement.WebElement (session=\"fdba79bc9aa657353e526dbcbcde2423\", element=\"0.053226464341570745-10\")>, <selenium.webdriver.remote.webelement.WebElement (session=\"fdba79bc9aa657353e526dbcbcde2423\", element=\"0.053226464341570745-11\")>, <selenium.webdriver.remote.webelement.WebElement (session=\"fdba79bc9aa657353e526dbcbcde2423\", element=\"0.053226464341570745-12\")>, <selenium.webdriver.remote.webelement.WebElement (session=\"fdba79bc9aa657353e526dbcbcde2423\", element=\"0.053226464341570745-13\")>, <selenium.webdriver.remote.webelement.WebElement (session=\"fdba79bc9aa657353e526dbcbcde2423\", element=\"0.053226464341570745-14\")>, <selenium.webdriver.remote.webelement.WebElement (session=\"fdba79bc9aa657353e526dbcbcde2423\", element=\"0.053226464341570745-15\")>, <selenium.webdriver.remote.webelement.WebElement (session=\"fdba79bc9aa657353e526dbcbcde2423\", element=\"0.053226464341570745-16\")>]\n"
     ]
    }
   ],
   "source": [
    "from selenium import webdriver\n",
    " \n",
    "browser = webdriver.Chrome()\n",
    "browser.get('https://www.taobao.com')\n",
    "lis = browser.find_elements_by_css_selector('.service-bd li')\n",
    "print(lis)\n",
    "browser.close()"
   ]
  },
  {
   "cell_type": "markdown",
   "metadata": {},
   "source": [
    "### 模拟输入和点击"
   ]
  },
  {
   "cell_type": "code",
   "execution_count": 2,
   "metadata": {},
   "outputs": [],
   "source": [
    "# 模拟输入和点击\n",
    "from selenium import webdriver\n",
    "from selenium.webdriver.common.by import By\n",
    "import time\n",
    " \n",
    "browser = webdriver.Chrome()\n",
    "browser.get('https://www.taobao.com')\n",
    "input = browser.find_element_by_name('q')\n",
    "input.send_keys('钢笔')\n",
    "time.sleep(1)\n",
    "input.clear()\n",
    "input.send_keys('毛笔')\n",
    "button = browser.find_element(By.CLASS_NAME,'btn-search')\n",
    "button.click()\n",
    "input = browser.find_element_by_name('q')\n",
    "input.clear()\n",
    "input.send_keys('钢笔yizhi')\n",
    "button = browser.find_element_by_class_name('submit')\n",
    "button.click()"
   ]
  },
  {
   "cell_type": "code",
   "execution_count": null,
   "metadata": {},
   "outputs": [],
   "source": []
  },
  {
   "cell_type": "code",
   "execution_count": 45,
   "metadata": {},
   "outputs": [
    {
     "ename": "NoSuchElementException",
     "evalue": "Message: no such element: Unable to locate element: {\"method\":\"class name\",\"selector\":\"exit\"}\n  (Session info: chrome=69.0.3497.100)\n  (Driver info: chromedriver=2.41.578737 (49da6702b16031c40d63e5618de03a32ff6c197e),platform=Windows NT 10.0.16299 x86_64)\n",
     "output_type": "error",
     "traceback": [
      "\u001b[1;31m---------------------------------------------------------------------------\u001b[0m",
      "\u001b[1;31mNoSuchElementException\u001b[0m                    Traceback (most recent call last)",
      "\u001b[1;32m<ipython-input-45-2d11b064f3f3>\u001b[0m in \u001b[0;36m<module>\u001b[1;34m()\u001b[0m\n\u001b[0;32m     14\u001b[0m \u001b[0mbutton\u001b[0m\u001b[1;33m.\u001b[0m\u001b[0mclick\u001b[0m\u001b[1;33m(\u001b[0m\u001b[1;33m)\u001b[0m\u001b[1;33m\u001b[0m\u001b[0m\n\u001b[0;32m     15\u001b[0m \u001b[0mtime\u001b[0m\u001b[1;33m.\u001b[0m\u001b[0msleep\u001b[0m\u001b[1;33m(\u001b[0m\u001b[1;36m1\u001b[0m\u001b[1;33m)\u001b[0m\u001b[1;33m\u001b[0m\u001b[0m\n\u001b[1;32m---> 16\u001b[1;33m \u001b[0mbutton\u001b[0m \u001b[1;33m=\u001b[0m \u001b[0mbrowser\u001b[0m\u001b[1;33m.\u001b[0m\u001b[0mfind_element_by_class_name\u001b[0m\u001b[1;33m(\u001b[0m\u001b[1;34m'exit'\u001b[0m\u001b[1;33m)\u001b[0m\u001b[1;33m\u001b[0m\u001b[0m\n\u001b[0m\u001b[0;32m     17\u001b[0m \u001b[0mbutton\u001b[0m\u001b[1;33m.\u001b[0m\u001b[0mclick\u001b[0m\u001b[1;33m(\u001b[0m\u001b[1;33m)\u001b[0m\u001b[1;33m\u001b[0m\u001b[0m\n",
      "\u001b[1;32m~\\Anaconda3\\lib\\site-packages\\selenium\\webdriver\\remote\\webdriver.py\u001b[0m in \u001b[0;36mfind_element_by_class_name\u001b[1;34m(self, name)\u001b[0m\n\u001b[0;32m    561\u001b[0m             \u001b[0melement\u001b[0m \u001b[1;33m=\u001b[0m \u001b[0mdriver\u001b[0m\u001b[1;33m.\u001b[0m\u001b[0mfind_element_by_class_name\u001b[0m\u001b[1;33m(\u001b[0m\u001b[1;34m'foo'\u001b[0m\u001b[1;33m)\u001b[0m\u001b[1;33m\u001b[0m\u001b[0m\n\u001b[0;32m    562\u001b[0m         \"\"\"\n\u001b[1;32m--> 563\u001b[1;33m         \u001b[1;32mreturn\u001b[0m \u001b[0mself\u001b[0m\u001b[1;33m.\u001b[0m\u001b[0mfind_element\u001b[0m\u001b[1;33m(\u001b[0m\u001b[0mby\u001b[0m\u001b[1;33m=\u001b[0m\u001b[0mBy\u001b[0m\u001b[1;33m.\u001b[0m\u001b[0mCLASS_NAME\u001b[0m\u001b[1;33m,\u001b[0m \u001b[0mvalue\u001b[0m\u001b[1;33m=\u001b[0m\u001b[0mname\u001b[0m\u001b[1;33m)\u001b[0m\u001b[1;33m\u001b[0m\u001b[0m\n\u001b[0m\u001b[0;32m    564\u001b[0m \u001b[1;33m\u001b[0m\u001b[0m\n\u001b[0;32m    565\u001b[0m     \u001b[1;32mdef\u001b[0m \u001b[0mfind_elements_by_class_name\u001b[0m\u001b[1;33m(\u001b[0m\u001b[0mself\u001b[0m\u001b[1;33m,\u001b[0m \u001b[0mname\u001b[0m\u001b[1;33m)\u001b[0m\u001b[1;33m:\u001b[0m\u001b[1;33m\u001b[0m\u001b[0m\n",
      "\u001b[1;32m~\\Anaconda3\\lib\\site-packages\\selenium\\webdriver\\remote\\webdriver.py\u001b[0m in \u001b[0;36mfind_element\u001b[1;34m(self, by, value)\u001b[0m\n\u001b[0;32m    964\u001b[0m         return self.execute(Command.FIND_ELEMENT, {\n\u001b[0;32m    965\u001b[0m             \u001b[1;34m'using'\u001b[0m\u001b[1;33m:\u001b[0m \u001b[0mby\u001b[0m\u001b[1;33m,\u001b[0m\u001b[1;33m\u001b[0m\u001b[0m\n\u001b[1;32m--> 966\u001b[1;33m             'value': value})['value']\n\u001b[0m\u001b[0;32m    967\u001b[0m \u001b[1;33m\u001b[0m\u001b[0m\n\u001b[0;32m    968\u001b[0m     \u001b[1;32mdef\u001b[0m \u001b[0mfind_elements\u001b[0m\u001b[1;33m(\u001b[0m\u001b[0mself\u001b[0m\u001b[1;33m,\u001b[0m \u001b[0mby\u001b[0m\u001b[1;33m=\u001b[0m\u001b[0mBy\u001b[0m\u001b[1;33m.\u001b[0m\u001b[0mID\u001b[0m\u001b[1;33m,\u001b[0m \u001b[0mvalue\u001b[0m\u001b[1;33m=\u001b[0m\u001b[1;32mNone\u001b[0m\u001b[1;33m)\u001b[0m\u001b[1;33m:\u001b[0m\u001b[1;33m\u001b[0m\u001b[0m\n",
      "\u001b[1;32m~\\Anaconda3\\lib\\site-packages\\selenium\\webdriver\\remote\\webdriver.py\u001b[0m in \u001b[0;36mexecute\u001b[1;34m(self, driver_command, params)\u001b[0m\n\u001b[0;32m    318\u001b[0m         \u001b[0mresponse\u001b[0m \u001b[1;33m=\u001b[0m \u001b[0mself\u001b[0m\u001b[1;33m.\u001b[0m\u001b[0mcommand_executor\u001b[0m\u001b[1;33m.\u001b[0m\u001b[0mexecute\u001b[0m\u001b[1;33m(\u001b[0m\u001b[0mdriver_command\u001b[0m\u001b[1;33m,\u001b[0m \u001b[0mparams\u001b[0m\u001b[1;33m)\u001b[0m\u001b[1;33m\u001b[0m\u001b[0m\n\u001b[0;32m    319\u001b[0m         \u001b[1;32mif\u001b[0m \u001b[0mresponse\u001b[0m\u001b[1;33m:\u001b[0m\u001b[1;33m\u001b[0m\u001b[0m\n\u001b[1;32m--> 320\u001b[1;33m             \u001b[0mself\u001b[0m\u001b[1;33m.\u001b[0m\u001b[0merror_handler\u001b[0m\u001b[1;33m.\u001b[0m\u001b[0mcheck_response\u001b[0m\u001b[1;33m(\u001b[0m\u001b[0mresponse\u001b[0m\u001b[1;33m)\u001b[0m\u001b[1;33m\u001b[0m\u001b[0m\n\u001b[0m\u001b[0;32m    321\u001b[0m             response['value'] = self._unwrap_value(\n\u001b[0;32m    322\u001b[0m                 response.get('value', None))\n",
      "\u001b[1;32m~\\Anaconda3\\lib\\site-packages\\selenium\\webdriver\\remote\\errorhandler.py\u001b[0m in \u001b[0;36mcheck_response\u001b[1;34m(self, response)\u001b[0m\n\u001b[0;32m    240\u001b[0m                 \u001b[0malert_text\u001b[0m \u001b[1;33m=\u001b[0m \u001b[0mvalue\u001b[0m\u001b[1;33m[\u001b[0m\u001b[1;34m'alert'\u001b[0m\u001b[1;33m]\u001b[0m\u001b[1;33m.\u001b[0m\u001b[0mget\u001b[0m\u001b[1;33m(\u001b[0m\u001b[1;34m'text'\u001b[0m\u001b[1;33m)\u001b[0m\u001b[1;33m\u001b[0m\u001b[0m\n\u001b[0;32m    241\u001b[0m             \u001b[1;32mraise\u001b[0m \u001b[0mexception_class\u001b[0m\u001b[1;33m(\u001b[0m\u001b[0mmessage\u001b[0m\u001b[1;33m,\u001b[0m \u001b[0mscreen\u001b[0m\u001b[1;33m,\u001b[0m \u001b[0mstacktrace\u001b[0m\u001b[1;33m,\u001b[0m \u001b[0malert_text\u001b[0m\u001b[1;33m)\u001b[0m\u001b[1;33m\u001b[0m\u001b[0m\n\u001b[1;32m--> 242\u001b[1;33m         \u001b[1;32mraise\u001b[0m \u001b[0mexception_class\u001b[0m\u001b[1;33m(\u001b[0m\u001b[0mmessage\u001b[0m\u001b[1;33m,\u001b[0m \u001b[0mscreen\u001b[0m\u001b[1;33m,\u001b[0m \u001b[0mstacktrace\u001b[0m\u001b[1;33m)\u001b[0m\u001b[1;33m\u001b[0m\u001b[0m\n\u001b[0m\u001b[0;32m    243\u001b[0m \u001b[1;33m\u001b[0m\u001b[0m\n\u001b[0;32m    244\u001b[0m     \u001b[1;32mdef\u001b[0m \u001b[0m_value_or_default\u001b[0m\u001b[1;33m(\u001b[0m\u001b[0mself\u001b[0m\u001b[1;33m,\u001b[0m \u001b[0mobj\u001b[0m\u001b[1;33m,\u001b[0m \u001b[0mkey\u001b[0m\u001b[1;33m,\u001b[0m \u001b[0mdefault\u001b[0m\u001b[1;33m)\u001b[0m\u001b[1;33m:\u001b[0m\u001b[1;33m\u001b[0m\u001b[0m\n",
      "\u001b[1;31mNoSuchElementException\u001b[0m: Message: no such element: Unable to locate element: {\"method\":\"class name\",\"selector\":\"exit\"}\n  (Session info: chrome=69.0.3497.100)\n  (Driver info: chromedriver=2.41.578737 (49da6702b16031c40d63e5618de03a32ff6c197e),platform=Windows NT 10.0.16299 x86_64)\n"
     ]
    }
   ],
   "source": [
    "browser = webdriver.Chrome()\n",
    "browser.set_window_size(1440, 900)\n",
    "browser.get('https://www.kujiale.com/pcenter/mydesign')\n",
    "input = browser.find_element_by_name('password')\n",
    "input.send_keys(password)\n",
    "time.sleep(1)\n",
    "input = browser.find_element_by_name('account')\n",
    "input.send_keys('421418741@qq.com')\n",
    "time.sleep(1)\n",
    "button = browser.find_element_by_class_name('login-btn')\n",
    "button.click()\n",
    "time.sleep(1)\n",
    "button = browser.find_element_by_class_name('new-plan-btn')\n",
    "button.click()\n",
    "time.sleep(1)\n",
    "button = browser.find_element_by_class_name('exit')\n",
    "button.click()\n",
    "\n"
   ]
  },
  {
   "cell_type": "code",
   "execution_count": 38,
   "metadata": {},
   "outputs": [
    {
     "name": "stdout",
     "output_type": "stream",
     "text": [
      "<selenium.webdriver.remote.webelement.WebElement (session=\"0891a4af19f24a7303ca277a8daafa81\", element=\"0.0033910315289527038-1\")>\n"
     ]
    }
   ],
   "source": [
    "browser = webdriver.Chrome()\n",
    "browser.set_window_size(1440, 900)\n",
    "browser.get('https://www.kujiale.com/pcenter/mydesign')\n",
    "# input = browser.find_element_by_name('password')\n",
    "# input.send_keys('钢笔')\n",
    "# time.sleep(1)\n",
    "# input = browser.find_element_by_name('account')\n",
    "# input.send_keys('钢笔')\n",
    "# time.sleep(1)\n",
    "button = browser.find_element_by_class_name('tab-item')\n",
    "print(button)\n",
    "# button.click()\n"
   ]
  },
  {
   "cell_type": "code",
   "execution_count": 3,
   "metadata": {},
   "outputs": [
    {
     "ename": "NoSuchElementException",
     "evalue": "Message: no such element: Unable to locate element: {\"method\":\"name\",\"selector\":\"q\"}\n  (Session info: chrome=69.0.3497.100)\n  (Driver info: chromedriver=2.41.578737 (49da6702b16031c40d63e5618de03a32ff6c197e),platform=Windows NT 10.0.16299 x86_64)\n",
     "output_type": "error",
     "traceback": [
      "\u001b[1;31m---------------------------------------------------------------------------\u001b[0m",
      "\u001b[1;31mNoSuchElementException\u001b[0m                    Traceback (most recent call last)",
      "\u001b[1;32m<ipython-input-3-dccc5c0d9f4f>\u001b[0m in \u001b[0;36m<module>\u001b[1;34m()\u001b[0m\n\u001b[0;32m      5\u001b[0m \u001b[0mbrowser\u001b[0m \u001b[1;33m=\u001b[0m \u001b[0mwebdriver\u001b[0m\u001b[1;33m.\u001b[0m\u001b[0mChrome\u001b[0m\u001b[1;33m(\u001b[0m\u001b[1;33m)\u001b[0m\u001b[1;33m\u001b[0m\u001b[0m\n\u001b[0;32m      6\u001b[0m \u001b[0mbrowser\u001b[0m\u001b[1;33m.\u001b[0m\u001b[0mget\u001b[0m\u001b[1;33m(\u001b[0m\u001b[1;34m'https://www.kujiale.com'\u001b[0m\u001b[1;33m)\u001b[0m\u001b[1;33m\u001b[0m\u001b[0m\n\u001b[1;32m----> 7\u001b[1;33m \u001b[0minput\u001b[0m \u001b[1;33m=\u001b[0m \u001b[0mbrowser\u001b[0m\u001b[1;33m.\u001b[0m\u001b[0mfind_element_by_name\u001b[0m\u001b[1;33m(\u001b[0m\u001b[1;34m'q'\u001b[0m\u001b[1;33m)\u001b[0m\u001b[1;33m\u001b[0m\u001b[0m\n\u001b[0m\u001b[0;32m      8\u001b[0m \u001b[0minput\u001b[0m\u001b[1;33m.\u001b[0m\u001b[0msend_keys\u001b[0m\u001b[1;33m(\u001b[0m\u001b[1;34m'钢笔'\u001b[0m\u001b[1;33m)\u001b[0m\u001b[1;33m\u001b[0m\u001b[0m\n\u001b[0;32m      9\u001b[0m \u001b[0mtime\u001b[0m\u001b[1;33m.\u001b[0m\u001b[0msleep\u001b[0m\u001b[1;33m(\u001b[0m\u001b[1;36m1\u001b[0m\u001b[1;33m)\u001b[0m\u001b[1;33m\u001b[0m\u001b[0m\n",
      "\u001b[1;32m~\\Anaconda3\\lib\\site-packages\\selenium\\webdriver\\remote\\webdriver.py\u001b[0m in \u001b[0;36mfind_element_by_name\u001b[1;34m(self, name)\u001b[0m\n\u001b[0;32m    493\u001b[0m             \u001b[0melement\u001b[0m \u001b[1;33m=\u001b[0m \u001b[0mdriver\u001b[0m\u001b[1;33m.\u001b[0m\u001b[0mfind_element_by_name\u001b[0m\u001b[1;33m(\u001b[0m\u001b[1;34m'foo'\u001b[0m\u001b[1;33m)\u001b[0m\u001b[1;33m\u001b[0m\u001b[0m\n\u001b[0;32m    494\u001b[0m         \"\"\"\n\u001b[1;32m--> 495\u001b[1;33m         \u001b[1;32mreturn\u001b[0m \u001b[0mself\u001b[0m\u001b[1;33m.\u001b[0m\u001b[0mfind_element\u001b[0m\u001b[1;33m(\u001b[0m\u001b[0mby\u001b[0m\u001b[1;33m=\u001b[0m\u001b[0mBy\u001b[0m\u001b[1;33m.\u001b[0m\u001b[0mNAME\u001b[0m\u001b[1;33m,\u001b[0m \u001b[0mvalue\u001b[0m\u001b[1;33m=\u001b[0m\u001b[0mname\u001b[0m\u001b[1;33m)\u001b[0m\u001b[1;33m\u001b[0m\u001b[0m\n\u001b[0m\u001b[0;32m    496\u001b[0m \u001b[1;33m\u001b[0m\u001b[0m\n\u001b[0;32m    497\u001b[0m     \u001b[1;32mdef\u001b[0m \u001b[0mfind_elements_by_name\u001b[0m\u001b[1;33m(\u001b[0m\u001b[0mself\u001b[0m\u001b[1;33m,\u001b[0m \u001b[0mname\u001b[0m\u001b[1;33m)\u001b[0m\u001b[1;33m:\u001b[0m\u001b[1;33m\u001b[0m\u001b[0m\n",
      "\u001b[1;32m~\\Anaconda3\\lib\\site-packages\\selenium\\webdriver\\remote\\webdriver.py\u001b[0m in \u001b[0;36mfind_element\u001b[1;34m(self, by, value)\u001b[0m\n\u001b[0;32m    964\u001b[0m         return self.execute(Command.FIND_ELEMENT, {\n\u001b[0;32m    965\u001b[0m             \u001b[1;34m'using'\u001b[0m\u001b[1;33m:\u001b[0m \u001b[0mby\u001b[0m\u001b[1;33m,\u001b[0m\u001b[1;33m\u001b[0m\u001b[0m\n\u001b[1;32m--> 966\u001b[1;33m             'value': value})['value']\n\u001b[0m\u001b[0;32m    967\u001b[0m \u001b[1;33m\u001b[0m\u001b[0m\n\u001b[0;32m    968\u001b[0m     \u001b[1;32mdef\u001b[0m \u001b[0mfind_elements\u001b[0m\u001b[1;33m(\u001b[0m\u001b[0mself\u001b[0m\u001b[1;33m,\u001b[0m \u001b[0mby\u001b[0m\u001b[1;33m=\u001b[0m\u001b[0mBy\u001b[0m\u001b[1;33m.\u001b[0m\u001b[0mID\u001b[0m\u001b[1;33m,\u001b[0m \u001b[0mvalue\u001b[0m\u001b[1;33m=\u001b[0m\u001b[1;32mNone\u001b[0m\u001b[1;33m)\u001b[0m\u001b[1;33m:\u001b[0m\u001b[1;33m\u001b[0m\u001b[0m\n",
      "\u001b[1;32m~\\Anaconda3\\lib\\site-packages\\selenium\\webdriver\\remote\\webdriver.py\u001b[0m in \u001b[0;36mexecute\u001b[1;34m(self, driver_command, params)\u001b[0m\n\u001b[0;32m    318\u001b[0m         \u001b[0mresponse\u001b[0m \u001b[1;33m=\u001b[0m \u001b[0mself\u001b[0m\u001b[1;33m.\u001b[0m\u001b[0mcommand_executor\u001b[0m\u001b[1;33m.\u001b[0m\u001b[0mexecute\u001b[0m\u001b[1;33m(\u001b[0m\u001b[0mdriver_command\u001b[0m\u001b[1;33m,\u001b[0m \u001b[0mparams\u001b[0m\u001b[1;33m)\u001b[0m\u001b[1;33m\u001b[0m\u001b[0m\n\u001b[0;32m    319\u001b[0m         \u001b[1;32mif\u001b[0m \u001b[0mresponse\u001b[0m\u001b[1;33m:\u001b[0m\u001b[1;33m\u001b[0m\u001b[0m\n\u001b[1;32m--> 320\u001b[1;33m             \u001b[0mself\u001b[0m\u001b[1;33m.\u001b[0m\u001b[0merror_handler\u001b[0m\u001b[1;33m.\u001b[0m\u001b[0mcheck_response\u001b[0m\u001b[1;33m(\u001b[0m\u001b[0mresponse\u001b[0m\u001b[1;33m)\u001b[0m\u001b[1;33m\u001b[0m\u001b[0m\n\u001b[0m\u001b[0;32m    321\u001b[0m             response['value'] = self._unwrap_value(\n\u001b[0;32m    322\u001b[0m                 response.get('value', None))\n",
      "\u001b[1;32m~\\Anaconda3\\lib\\site-packages\\selenium\\webdriver\\remote\\errorhandler.py\u001b[0m in \u001b[0;36mcheck_response\u001b[1;34m(self, response)\u001b[0m\n\u001b[0;32m    240\u001b[0m                 \u001b[0malert_text\u001b[0m \u001b[1;33m=\u001b[0m \u001b[0mvalue\u001b[0m\u001b[1;33m[\u001b[0m\u001b[1;34m'alert'\u001b[0m\u001b[1;33m]\u001b[0m\u001b[1;33m.\u001b[0m\u001b[0mget\u001b[0m\u001b[1;33m(\u001b[0m\u001b[1;34m'text'\u001b[0m\u001b[1;33m)\u001b[0m\u001b[1;33m\u001b[0m\u001b[0m\n\u001b[0;32m    241\u001b[0m             \u001b[1;32mraise\u001b[0m \u001b[0mexception_class\u001b[0m\u001b[1;33m(\u001b[0m\u001b[0mmessage\u001b[0m\u001b[1;33m,\u001b[0m \u001b[0mscreen\u001b[0m\u001b[1;33m,\u001b[0m \u001b[0mstacktrace\u001b[0m\u001b[1;33m,\u001b[0m \u001b[0malert_text\u001b[0m\u001b[1;33m)\u001b[0m\u001b[1;33m\u001b[0m\u001b[0m\n\u001b[1;32m--> 242\u001b[1;33m         \u001b[1;32mraise\u001b[0m \u001b[0mexception_class\u001b[0m\u001b[1;33m(\u001b[0m\u001b[0mmessage\u001b[0m\u001b[1;33m,\u001b[0m \u001b[0mscreen\u001b[0m\u001b[1;33m,\u001b[0m \u001b[0mstacktrace\u001b[0m\u001b[1;33m)\u001b[0m\u001b[1;33m\u001b[0m\u001b[0m\n\u001b[0m\u001b[0;32m    243\u001b[0m \u001b[1;33m\u001b[0m\u001b[0m\n\u001b[0;32m    244\u001b[0m     \u001b[1;32mdef\u001b[0m \u001b[0m_value_or_default\u001b[0m\u001b[1;33m(\u001b[0m\u001b[0mself\u001b[0m\u001b[1;33m,\u001b[0m \u001b[0mobj\u001b[0m\u001b[1;33m,\u001b[0m \u001b[0mkey\u001b[0m\u001b[1;33m,\u001b[0m \u001b[0mdefault\u001b[0m\u001b[1;33m)\u001b[0m\u001b[1;33m:\u001b[0m\u001b[1;33m\u001b[0m\u001b[0m\n",
      "\u001b[1;31mNoSuchElementException\u001b[0m: Message: no such element: Unable to locate element: {\"method\":\"name\",\"selector\":\"q\"}\n  (Session info: chrome=69.0.3497.100)\n  (Driver info: chromedriver=2.41.578737 (49da6702b16031c40d63e5618de03a32ff6c197e),platform=Windows NT 10.0.16299 x86_64)\n"
     ]
    }
   ],
   "source": [
    "from selenium import webdriver\n",
    "from selenium.webdriver.common.by import By\n",
    "import time\n",
    " \n",
    "browser = webdriver.Chrome()\n",
    "browser.get('https://www.taobao.com')\n",
    "input = browser.find_element_by_name('q')\n",
    "input.send_keys('钢笔')\n",
    "time.sleep(1)\n",
    "input.clear()\n",
    "input.send_keys('毛笔')\n",
    "button = browser.find_element(By.CLASS_NAME,'btn-search')\n",
    "button.click()\n",
    "input = browser.find_element_by_name('q')\n",
    "input.clear()\n",
    "input.send_keys('钢笔yizhi')\n",
    "button = browser.find_element_by_class_name('submit')\n",
    "button.click()"
   ]
  },
  {
   "cell_type": "code",
   "execution_count": 8,
   "metadata": {},
   "outputs": [],
   "source": [
    "browser = webdriver.Chrome()\n",
    "browser.get('https://www.baidu.com/')\n",
    "input = browser.find_element(By.ID,'kw')\n",
    "input.send_keys('钢笔')\n",
    "time.sleep(1)\n",
    "input.clear()\n",
    "input.send_keys('毛笔')\n",
    "button = browser.find_element(By.ID,'su')\n",
    "button.click()\n",
    "input.send_keys('毛1111111笔')\n",
    "button.click()\n",
    "input.send_keys('毛11222222211111笔')\n",
    "button.click()"
   ]
  },
  {
   "cell_type": "markdown",
   "metadata": {},
   "source": [
    "### 拖拽"
   ]
  },
  {
   "cell_type": "code",
   "execution_count": 12,
   "metadata": {},
   "outputs": [],
   "source": [
    "#拖拽\n",
    "from selenium import webdriver\n",
    "from selenium.webdriver import ActionChains\n",
    " \n",
    "browser = webdriver.Chrome()\n",
    "url = 'http://www.runoob.com/try/try.php?filename=jqueryui-api-droppable'\n",
    "browser.get(url)\n",
    "browser.switch_to.frame('iframeResult')\n",
    "source = browser.find_element_by_id('draggable')\n",
    "target = browser.find_element_by_id('droppable')\n",
    "actions = ActionChains(browser)\n",
    "actions.drag_and_drop(source, target)\n",
    "actions.perform()"
   ]
  },
  {
   "cell_type": "markdown",
   "metadata": {},
   "source": [
    "### 下拉进度条"
   ]
  },
  {
   "cell_type": "code",
   "execution_count": 19,
   "metadata": {},
   "outputs": [],
   "source": [
    "#下拉进度条\n",
    "browser = webdriver.Chrome()\n",
    "browser.get('https://www.zhihu.com/explore')\n",
    "browser.execute_script('window.scrollTo(0, document.body.scrollHeight/4)')"
   ]
  },
  {
   "cell_type": "markdown",
   "metadata": {},
   "source": [
    "### 隐式等待"
   ]
  },
  {
   "cell_type": "code",
   "execution_count": 20,
   "metadata": {},
   "outputs": [
    {
     "name": "stdout",
     "output_type": "stream",
     "text": [
      "<selenium.webdriver.remote.webelement.WebElement (session=\"b6ba8a6c55042c4ff11f90b33afbc4fb\", element=\"0.6972654625570709-1\")>\n"
     ]
    }
   ],
   "source": [
    "#隐式等待\n",
    "browser = webdriver.Chrome()\n",
    "browser.implicitly_wait(10)\n",
    "browser.get('https://www.zhihu.com/explore')\n",
    "input = browser.find_element_by_class_name('zu-top-add-question')\n",
    "print(input)"
   ]
  },
  {
   "cell_type": "markdown",
   "metadata": {},
   "source": [
    "### back，forward"
   ]
  },
  {
   "cell_type": "code",
   "execution_count": 21,
   "metadata": {},
   "outputs": [],
   "source": [
    "#back，forward\n",
    "browser = webdriver.Chrome()\n",
    "browser.get('https://www.baidu.com/')\n",
    "browser.get('https://www.taobao.com/')\n",
    "browser.get('https://www.python.org/')\n",
    "browser.back()\n",
    "time.sleep(1)\n",
    "browser.forward()\n",
    "browser.close()"
   ]
  },
  {
   "cell_type": "markdown",
   "metadata": {},
   "source": [
    "### cookies"
   ]
  },
  {
   "cell_type": "code",
   "execution_count": 22,
   "metadata": {
    "collapsed": true
   },
   "outputs": [
    {
     "name": "stdout",
     "output_type": "stream",
     "text": [
      "[{'domain': '.zhihu.com', 'httpOnly': False, 'name': 'l_n_c', 'path': '/', 'secure': False, 'value': '1'}, {'domain': 'www.zhihu.com', 'expiry': 1536055438.101703, 'httpOnly': False, 'name': 'tgw_l7_route', 'path': '/', 'secure': False, 'value': '931b604f0432b1e60014973b6cd4c7bc'}, {'domain': '.zhihu.com', 'expiry': 1536056341, 'httpOnly': False, 'name': '__utmb', 'path': '/', 'secure': False, 'value': '51854390.0.10.1536054541'}, {'domain': '.zhihu.com', 'expiry': 1630662538.101891, 'httpOnly': False, 'name': 'q_c1', 'path': '/', 'secure': False, 'value': '454d22fcb5434095b5ec0756ff459f45|1536054537000|1536054537000'}, {'domain': 'www.zhihu.com', 'httpOnly': False, 'name': '_xsrf', 'path': '/', 'secure': False, 'value': 'cb239052f3282c4c56f3bfc153065995'}, {'domain': '.zhihu.com', 'expiry': 1538646538.10198, 'httpOnly': False, 'name': 'r_cap_id', 'path': '/', 'secure': False, 'value': '\"OTE0NDEyYTEzMGE3NGY4MGI5MDllNTU5ODc2N2QzOTU=|1536054537|c5594554c9ca27a4e31c0dbf1ab813150946058a\"'}, {'domain': '.zhihu.com', 'expiry': 1538646538.102014, 'httpOnly': False, 'name': 'cap_id', 'path': '/', 'secure': False, 'value': '\"ZGNkZDBjYWViOTkyNDE5ZTk1MTU2MDNmODI0ZjlmNDg=|1536054537|9a8f7f90b15e1ca2280f52067d78a073f581a5b9\"'}, {'domain': '.zhihu.com', 'expiry': 1538646538.102042, 'httpOnly': False, 'name': 'l_cap_id', 'path': '/', 'secure': False, 'value': '\"M2VjYjRkMGIyMTFhNGVmM2FjYjAwMzE1OTE3MzdiMDQ=|1536054537|81ffa504ff50e92cdb5f02464b0c19f8f696b8cd\"'}, {'domain': '.zhihu.com', 'httpOnly': False, 'name': 'n_c', 'path': '/', 'secure': False, 'value': '1'}, {'domain': '.zhihu.com', 'expiry': 1630662540.413142, 'httpOnly': False, 'name': 'd_c0', 'path': '/', 'secure': False, 'value': '\"AFBnIrkSKQ6PTgAteKVJFahS5ZCkohHqkTA=|1536054540\"'}, {'domain': '.zhihu.com', 'expiry': 1599126540, 'httpOnly': False, 'name': '_zap', 'path': '/', 'secure': False, 'value': '4e9c1bd6-5a3b-4ff9-a955-8dad711a537f'}, {'domain': '.zhihu.com', 'expiry': 1599126541, 'httpOnly': False, 'name': '__utma', 'path': '/', 'secure': False, 'value': '51854390.1111624667.1536054541.1536054541.1536054541.1'}, {'domain': '.zhihu.com', 'httpOnly': False, 'name': '__utmc', 'path': '/', 'secure': False, 'value': '51854390'}, {'domain': '.zhihu.com', 'expiry': 1551822541, 'httpOnly': False, 'name': '__utmz', 'path': '/', 'secure': False, 'value': '51854390.1536054541.1.1.utmcsr=(direct)|utmccn=(direct)|utmcmd=(none)'}, {'domain': '.zhihu.com', 'expiry': 1599126541, 'httpOnly': False, 'name': '__utmv', 'path': '/', 'secure': False, 'value': '51854390.000--|3=entry_date=20180904=1'}]\n",
      "[{'domain': '.zhihu.com', 'httpOnly': False, 'name': 'l_n_c', 'path': '/', 'secure': False, 'value': '1'}, {'domain': 'www.zhihu.com', 'expiry': 1536055438.101703, 'httpOnly': False, 'name': 'tgw_l7_route', 'path': '/', 'secure': False, 'value': '931b604f0432b1e60014973b6cd4c7bc'}, {'domain': '.zhihu.com', 'expiry': 1536056341, 'httpOnly': False, 'name': '__utmb', 'path': '/', 'secure': False, 'value': '51854390.0.10.1536054541'}, {'domain': '.zhihu.com', 'expiry': 1630662538.101891, 'httpOnly': False, 'name': 'q_c1', 'path': '/', 'secure': False, 'value': '454d22fcb5434095b5ec0756ff459f45|1536054537000|1536054537000'}, {'domain': 'www.zhihu.com', 'httpOnly': False, 'name': '_xsrf', 'path': '/', 'secure': False, 'value': 'cb239052f3282c4c56f3bfc153065995'}, {'domain': '.zhihu.com', 'expiry': 1538646538.10198, 'httpOnly': False, 'name': 'r_cap_id', 'path': '/', 'secure': False, 'value': '\"OTE0NDEyYTEzMGE3NGY4MGI5MDllNTU5ODc2N2QzOTU=|1536054537|c5594554c9ca27a4e31c0dbf1ab813150946058a\"'}, {'domain': '.zhihu.com', 'expiry': 1538646538.102014, 'httpOnly': False, 'name': 'cap_id', 'path': '/', 'secure': False, 'value': '\"ZGNkZDBjYWViOTkyNDE5ZTk1MTU2MDNmODI0ZjlmNDg=|1536054537|9a8f7f90b15e1ca2280f52067d78a073f581a5b9\"'}, {'domain': '.zhihu.com', 'expiry': 1538646538.102042, 'httpOnly': False, 'name': 'l_cap_id', 'path': '/', 'secure': False, 'value': '\"M2VjYjRkMGIyMTFhNGVmM2FjYjAwMzE1OTE3MzdiMDQ=|1536054537|81ffa504ff50e92cdb5f02464b0c19f8f696b8cd\"'}, {'domain': '.zhihu.com', 'httpOnly': False, 'name': 'n_c', 'path': '/', 'secure': False, 'value': '1'}, {'domain': '.zhihu.com', 'expiry': 1630662540.413142, 'httpOnly': False, 'name': 'd_c0', 'path': '/', 'secure': False, 'value': '\"AFBnIrkSKQ6PTgAteKVJFahS5ZCkohHqkTA=|1536054540\"'}, {'domain': '.zhihu.com', 'expiry': 1599126540, 'httpOnly': False, 'name': '_zap', 'path': '/', 'secure': False, 'value': '4e9c1bd6-5a3b-4ff9-a955-8dad711a537f'}, {'domain': '.zhihu.com', 'expiry': 1599126541, 'httpOnly': False, 'name': '__utma', 'path': '/', 'secure': False, 'value': '51854390.1111624667.1536054541.1536054541.1536054541.1'}, {'domain': '.zhihu.com', 'httpOnly': False, 'name': '__utmc', 'path': '/', 'secure': False, 'value': '51854390'}, {'domain': '.zhihu.com', 'expiry': 1551822541, 'httpOnly': False, 'name': '__utmz', 'path': '/', 'secure': False, 'value': '51854390.1536054541.1.1.utmcsr=(direct)|utmccn=(direct)|utmcmd=(none)'}, {'domain': '.zhihu.com', 'expiry': 1599126541, 'httpOnly': False, 'name': '__utmv', 'path': '/', 'secure': False, 'value': '51854390.000--|3=entry_date=20180904=1'}, {'domain': 'www.zhihu.com', 'expiry': 2166774541, 'httpOnly': False, 'name': 'name', 'path': '/', 'secure': True, 'value': 'germey'}]\n",
      "[]\n"
     ]
    }
   ],
   "source": [
    "#cookies\n",
    "browser = webdriver.Chrome()\n",
    "browser.get('https://www.zhihu.com/explore')\n",
    "print(browser.get_cookies())\n",
    "browser.add_cookie({'name': 'name', 'domain': 'www.zhihu.com', 'value': 'germey'})\n",
    "print(browser.get_cookies())\n",
    "browser.delete_all_cookies()\n",
    "print(browser.get_cookies())"
   ]
  },
  {
   "cell_type": "markdown",
   "metadata": {},
   "source": [
    "### tab page"
   ]
  },
  {
   "cell_type": "code",
   "execution_count": null,
   "metadata": {},
   "outputs": [],
   "source": [
    "#tab\n",
    "browser = webdriver.Chrome()\n",
    "browser.get('https://www.baidu.com')\n",
    "browser.execute_script('window.open()')\n",
    "print(browser.window_handles)\n",
    "browser.switch_to_window(browser.window_handles[1])\n",
    "browser.get('https://www.taobao.com')\n",
    "time.sleep(1)\n",
    "browser.switch_to_window(browser.window_handles[0])\n",
    "browser.get('https://python.org')"
   ]
  },
  {
   "cell_type": "code",
   "execution_count": 7,
   "metadata": {},
   "outputs": [
    {
     "data": {
      "text/plain": [
       "'<!DOCTYPE html><!--STATUS OK--><html xmlns=\"http://www.w3.org/1999/xhtml\"><head>\\n    \\n    <meta http-equiv=\"content-type\" content=\"text/html;charset=utf-8\" />\\n    <meta http-equiv=\"X-UA-Compatible\" content=\"IE=Edge\" />\\n\\t<meta content=\"always\" name=\"referrer\" />\\n    <meta name=\"theme-color\" content=\"#2932e1\" />\\n    <link rel=\"shortcut icon\" href=\"/favicon.ico\" type=\"image/x-icon\" />\\n    <link rel=\"search\" type=\"application/opensearchdescription+xml\" href=\"/content-search.xml\" title=\"百度搜索\" />\\n    <link rel=\"icon\" sizes=\"any\" mask=\"\" href=\"//www.baidu.com/img/baidu_85beaf5496f291521eb75ba38eacbd87.svg\" />\\n\\t\\n\\t\\n\\t<link rel=\"dns-prefetch\" href=\"//s1.bdstatic.com\" />\\n\\t<link rel=\"dns-prefetch\" href=\"//t1.baidu.com\" />\\n\\t<link rel=\"dns-prefetch\" href=\"//t2.baidu.com\" />\\n\\t<link rel=\"dns-prefetch\" href=\"//t3.baidu.com\" />\\n\\t<link rel=\"dns-prefetch\" href=\"//t10.baidu.com\" />\\n\\t<link rel=\"dns-prefetch\" href=\"//t11.baidu.com\" />\\n\\t<link rel=\"dns-prefetch\" href=\"//t12.baidu.com\" />\\n\\t<link rel=\"dns-prefetch\" href=\"//b1.bdstatic.com\" />\\n    \\n    <title>百度一下，你就知道</title>\\n    \\n\\n<style id=\"css_index\" index=\"index\" type=\"text/css\">html,body{height:100%}\\nhtml{overflow-y:auto}\\nbody{font:12px arial;text-align:;background:#fff}\\nbody,p,form,ul,li{margin:0;padding:0;list-style:none}\\nbody,form,#fm{position:relative}\\ntd{text-align:left}\\nimg{border:0}\\na{color:#00c}\\na:active{color:#f60}\\ninput{border:0;padding:0}\\n#wrapper{position:relative;_position:;min-height:100%}\\n#head{padding-bottom:100px;text-align:center;*z-index:1}\\n#ftCon{height:50px;position:absolute;bottom:47px;text-align:left;width:100%;margin:0 auto;z-index:0;overflow:hidden}\\n.ftCon-Wrapper{overflow:hidden;margin:0 auto;text-align:center;*width:640px}\\n.qrcodeCon{text-align:center;position:absolute;bottom:140px;height:60px;width:100%}\\n#qrcode{display:inline-block;*float:left;*margin-top:4px}\\n#qrcode .qrcode-item{float:left}\\n#qrcode .qrcode-item-2{margin-left:33px}\\n#qrcode .qrcode-img{width:60px;height:60px}\\n#qrcode .qrcode-item-1 .qrcode-img{background:url(https://ss1.bdstatic.com/5eN1bjq8AAUYm2zgoY3K/r/www/cache/static/protocol/https/home/img/qrcode/zbios_efde696.png) 0 0 no-repeat}\\n#qrcode .qrcode-item-2 .qrcode-img{background:url(https://ss1.bdstatic.com/5eN1bjq8AAUYm2zgoY3K/r/www/cache/static/protocol/https/home/img/qrcode/nuomi_365eabd.png) 0 0 no-repeat}\\n@media only screen and (-webkit-min-device-pixel-ratio:2){#qrcode .qrcode-item-1 .qrcode-img{background-image:url(https://ss1.bdstatic.com/5eN1bjq8AAUYm2zgoY3K/r/www/cache/static/protocol/https/home/img/qrcode/zbios_x2_9d645d9.png);background-size:60px 60px}\\n#qrcode .qrcode-item-2 .qrcode-img{background-image:url(https://ss1.bdstatic.com/5eN1bjq8AAUYm2zgoY3K/r/www/cache/static/protocol/https/home/img/qrcode/nuomi_x2_55dc5b7.png);background-size:60px 60px}}\\n#qrcode .qrcode-text{color:#999;line-height:23px;margin:3px 0 0}\\n#qrcode .qrcode-text a{color:#999;text-decoration:none}\\n#qrcode .qrcode-text p{text-align:center}\\n#qrcode .qrcode-text b{color:#666;font-weight:700}\\n#qrcode .qrcode-text span{letter-spacing:1px}\\n#ftConw{display:inline-block;text-align:left;margin-left:33px;line-height:22px;position:relative;top:-2px;*float:right;*margin-left:0;*position:static}\\n#ftConw,#ftConw a{color:#999}\\n#ftConw{text-align:center;margin-left:0}\\n.bg{background-image:url(https://ss1.bdstatic.com/5eN1bjq8AAUYm2zgoY3K/r/www/cache/static/protocol/https/global/img/icons_5859e57.png);background-repeat:no-repeat;_background-image:url(https://ss1.bdstatic.com/5eN1bjq8AAUYm2zgoY3K/r/www/cache/static/protocol/https/global/img/icons_d5b04cc.gif)}\\n.c-icon{display:inline-block;width:14px;height:14px;vertical-align:text-bottom;font-style:normal;overflow:hidden;background:url(https://ss1.bdstatic.com/5eN1bjq8AAUYm2zgoY3K/r/www/cache/static/protocol/https/global/img/icons_5859e57.png) no-repeat 0 0;_background-image:url(https://ss1.bdstatic.com/5eN1bjq8AAUYm2zgoY3K/r/www/cache/static/protocol/https/global/img/icons_d5b04cc.gif)}\\n.c-icon-triangle-down-blue{background-position:-480px -168px}\\n.c-icon-chevron-unfold2{background-position:-504px -168px}\\n#m{width:720px;margin:0 auto}\\n#nv a,#nv b,.btn,#lk{font-size:14px}\\n#nv{height:19px;font-size:16px;margin:0 0 4px;text-align:left;text-indent:137px}\\n.s_btn{width:95px;height:32px;padding-top:2px\\\\9;font-size:14px;background-color:#ddd;background-position:0 -48px;cursor:pointer}\\n.s_btn_h{background-position:-240px -48px}\\n.s_btn_wr{width:97px;height:34px;display:inline-block;background-position:-120px -48px;*position:relative;z-index:0;vertical-align:top}\\n#jgwab{margin-left:19px}\\n#cp .c-icon-icrlogo,.c-icon-jgwablogo{width:14px;height:17px;display:inline-block;overflow:hidden;background:url(https://ss1.bdstatic.com/5eN1bjq8AAUYm2zgoY3K/r/www/cache/static/protocol/https/global/img/icons_5859e57.png) no-repeat;_background-image:url(https://ss1.bdstatic.com/5eN1bjq8AAUYm2zgoY3K/r/www/cache/static/protocol/https/global/img/icons_d5b04cc.gif)}\\n#cp .c-icon-icrlogo{background-position:-600px -96px;position:relative;top:3px}\\n.c-icon-jgwablogo{background-position:-623px -96px;position:relative;top:3px}\\n#shouji{margin-right:14px}\\n#u{display:none}\\n#c-tips-container{display:none}\\n#wrapper{min-width:810px;height:100%;min-height:600px}\\n#head{position:relative;padding-bottom:0;height:100%;min-height:600px}\\n#head .head_wrapper{height:100%}\\n#m{position:relative}\\n#fm{padding-left:40px;top:-37px}\\n#lh a{margin-left:62px}\\n#lh #seth,#lh #setf{margin-left:0}\\n#lk{position:absolute;display:none;top:0;right:0;margin:33px 0}\\n#lk span{font:14px \"宋体\"}\\n#nv{position:absolute;display:none;top:0;right:0}\\n#lm{color:#666;width:100%;height:60px;margin-top:60px;line-height:15px;font-size:13px;position:absolute;top:0;left:0}\\n#lm a{color:#666}\\n#pad-version{line-height:40px}\\n.s_ipt_wr.bg,.s_btn_wr.bg,#su.bg{background-image:none}\\n.s_btn_wr{width:auto;height:auto;border-bottom:1px solid transparent;*border-bottom:0}\\n.s_btn{width:100px;height:36px;color:#fff;font-size:15px;letter-spacing:1px;background:#3385ff;border-bottom:1px solid #2d78f4;outline:medium;*border-bottom:0;-webkit-appearance:none;-webkit-border-radius:0}\\n.s_btn.btnhover{background:#317ef3;border-bottom:1px solid #2868c8;*border-bottom:0;box-shadow:1px 1px 1px #ccc}\\n.s_btn_h{background:#3075dc;box-shadow:inset 1px 1px 5px #2964bb;-webkit-box-shadow:inset 1px 1px 5px #2964bb;-moz-box-shadow:inset 1px 1px 5px #2964bb;-o-box-shadow:inset 1px 1px 5px #2964bb}\\n#result_logo{display:none}\\n#index_logo img{display:inline-block;width:270px;height:129px}\\n#s_tab{display:none}\\n.s_form{position:relative;top:38.2%}\\n.s_form_wrapper{position:relative;top:-191px}\\n.s_ipt_wr{height:34px}\\n#head .c-icon-bear-round{display:none}\\n#form{margin:22px auto 0;width:641px;text-align:left;z-index:100}\\n#form .bdsug,#fm .bdsug{top:35px}\\n.bdsug{display:none;position:absolute;width:538px;background:#fff;border:1px solid #ccc;_overflow:hidden;box-shadow:1px 1px 3px #ededed;-webkit-box-shadow:1px 1px 3px #ededed;-moz-box-shadow:1px 1px 3px #ededed;-o-box-shadow:1px 1px 3px #ededed}\\n.bdsug.bdsugbg ul{background:url(https://ss1.bdstatic.com/5eN1bjq8AAUYm2zgoY3K/r/www/cache/static/protocol/https/home/img/sugbg_1762fe7.png) 100% 100% no-repeat;background-size:100px 110px;background-image:url(https://ss1.bdstatic.com/5eN1bjq8AAUYm2zgoY3K/r/www/cache/static/protocol/https/home/img/sugbg_90fc9cf.gif)\\\\9}\\n.bdsug li{width:522px;color:#000;font:14px arial;line-height:25px;padding:0 8px;position:relative;cursor:default}\\n.bdsug li.bdsug-s{background:#f0f0f0}\\n.bdsug-store span,.bdsug-store b{color:#7A77C8}\\n.bdsug-store-del{font-size:12px;color:#666;text-decoration:underline;position:absolute;right:8px;top:0;cursor:pointer;display:none}\\n.bdsug-s .bdsug-store-del{display:inline-block}\\n.bdsug-ala{display:inline-block;border-bottom:1px solid #e6e6e6}\\n.bdsug-ala h3{line-height:14px;background:url(//www.baidu.com/img/sug_bd.png) no-repeat left center;margin:8px 0 5px;font-size:12px;font-weight:400;color:#7B7B7B;padding-left:20px}\\n.bdsug-ala p{font-size:14px;font-weight:700;padding-left:20px}\\n.bdsug .bdsug-direct{width:auto;padding:0;border-bottom:1px solid #f1f1f1}\\n.bdsug .bdsug-direct p{color:#00c;font-weight:700;line-height:34px;padding:0 8px;cursor:pointer;white-space:nowrap;overflow:hidden}\\n.bdsug .bdsug-direct p img{width:16px;height:16px;margin:7px 6px 9px 0;vertical-align:middle}\\n.bdsug .bdsug-direct p span{margin-left:8px}\\n.bdsug .bdsug-direct p i{font-size:12px;line-height:100%;font-style:normal;font-weight:400;color:#fff;background-color:#2b99ff;display:inline;text-align:center;padding:1px 5px;*padding:2px 5px 0;margin-left:8px;overflow:hidden}\\n.bdsug .bdsug-pcDirect{color:#000;font-size:14px;line-height:30px;height:30px;background-color:#f8f8f8}\\n.bdsug .bdsug-pc-direct-tip{position:absolute;right:15px;top:8px;width:55px;height:15px;display:block;background:url(https://ss1.bdstatic.com/5eN1bjq8AAUYm2zgoY3K/r/www/cache/static/protocol/https/global/img/pc_direct_42d6311.png) no-repeat 0 0}\\n.bdsug li.bdsug-pcDirect-s{background-color:#f0f0f0}\\n.bdsug .bdsug-pcDirect-is{color:#000;font-size:14px;line-height:22px;background-color:#f8f8f8}\\n.bdsug .bdsug-pc-direct-tip-is{position:absolute;right:15px;top:3px;width:55px;height:15px;display:block;background:url(https://ss1.bdstatic.com/5eN1bjq8AAUYm2zgoY3K/r/www/cache/static/protocol/https/global/img/pc_direct_42d6311.png) no-repeat 0 0}\\n.bdsug li.bdsug-pcDirect-is-s{background-color:#f0f0f0}\\n.bdsug .bdsug-pcDirect-s .bdsug-pc-direct-tip,.bdsug .bdsug-pcDirect-is-s .bdsug-pc-direct-tip-is{background-position:0 -15px}\\n.bdsug .bdsug-newicon{color:#929292;opacity:.7;font-size:12px;display:inline-block;line-height:22px;letter-spacing:2px}\\n.bdsug .bdsug-s .bdsug-newicon{opacity:1}\\n.bdsug .bdsug-newicon i{letter-spacing:0;font-style:normal}\\n.bdsug .bdsug-feedback-wrap{text-align:right;background:#fafafa;color:#666;height:25px;line-height:25px;display:none}\\n.bdsug .bdsug-feedback{margin-right:10px;text-decoration:underline;color:#666}\\n.toggle-underline{text-decoration:none}\\n.toggle-underline:hover{text-decoration:underline}\\n.tools{position:absolute;right:-75px}\\n#mHolder{width:62px;position:relative;z-index:296;display:none}\\n#mCon{height:18px;line-height:18px;position:absolute;cursor:pointer}\\n#mCon span{color:#00c;display:block;width:24px}\\n#mCon .hw{text-decoration:underline;cursor:pointer;display:inline-block}\\n#mCon .pinyin{display:inline-block}\\n#mCon .c-icon-chevron-unfold2{margin-left:5px}\\n#mMenu a{width:100%;height:100%;display:block;line-height:22px;text-indent:6px;text-decoration:none;filter:none\\\\9}\\n#mMenu,#user ul{box-shadow:1px 1px 2px #ccc;-moz-box-shadow:1px 1px 2px #ccc;-webkit-box-shadow:1px 1px 2px #ccc;filter:progid:DXImageTransform.Microsoft.Shadow(Strength=2, Direction=135, Color=#cccccc)\\\\9}\\n#mMenu{width:56px;border:1px solid #9b9b9b;list-style:none;position:absolute;right:27px;top:28px;display:none;background:#fff}\\n#mMenu a:hover{background:#ebebeb}\\n#mMenu .ln{height:1px;background:#ebebeb;overflow:hidden;font-size:1px;line-height:1px;margin-top:-1px}\\n#u1 a:link,#u1 a:visited{color:#666;text-decoration:none}\\n#u1 a:hover,#u1 a:active{text-decoration:underline}\\n#u1 a:active{color:#00c}\\n#u1{z-index:2;color:#fff;position:absolute;right:0;top:0;margin:19px 0 5px;padding:0 96px 0 0}\\n#u1 .reg{display:none}\\n#u1 a.pf,#u1 a.pf:visited{display:inline-block;float:left;color:#333;line-height:24px;font-size:13px;margin-left:20px;overflow:hidden;text-decoration:underline}\\n#u1 a.lb,#u1 a.lb:visited,#u1 a.username{display:inline-block;float:left;color:#333;font-size:13px;line-height:24px;margin-left:20px;text-decoration:underline}\\n#u1 a.bri,#u1 a.bri:visited{display:inline-block;position:absolute;right:10px;width:60px;height:23px;float:left;color:#fff;background:#38f;line-height:24px;font-size:13px;text-align:center;overflow:hidden;border-bottom:1px solid #38f;margin-left:19px;margin-right:2px}\\n#u1 a.bri.brihover{display:none;text-decoration:none;color:#333;background:0 0;border-bottom:1px solid transparent;margin-left:19px}\\n#u1 #lm a{color:#00c;text-decoration:underline}\\n#u1 a.mnav,#u1 a.mnav:visited{float:left;color:#333;font-weight:700;line-height:24px;margin-left:20px;font-size:13px;text-decoration:underline}\\n#u1 a.pf:hover,#u1 a.lb:hover,#u1 a.mnav:hover{color:#00c}\\n.briiconsbg{background-repeat:no-repeat;background-size:300px 18px;background-image:url(https://ss1.bdstatic.com/5eN1bjq8AAUYm2zgoY3K/r/www/cache/static/protocol/https/home/img/icons_0c37e9b.png);background-image:url(https://ss1.bdstatic.com/5eN1bjq8AAUYm2zgoY3K/r/www/cache/static/protocol/https/home/img/icons_809ae65.gif)\\\\9}\\n.bdpfmenu{background-color:#fff;border:1px solid #d1d1d1;position:absolute;right:160px;width:68px;top:36px;margin-top:-1px;_margin-top:-3px;z-index:2;box-shadow:1px 1px 5px #d1d1d1;-webkit-box-shadow:1px 1px 5px #d1d1d1;-moz-box-shadow:1px 1px 5px #d1d1d1;-o-box-shadow:1px 1px 5px #d1d1d1}\\n.bdpfmenu a{display:block;text-align:left;margin:0!important;padding:0 9px;line-height:26px;text-decoration:none}\\n#wrapper .bdpfmenu a:link,#wrapper .bdpfmenu a:visited{background:#fff;color:#333}\\n#wrapper .bdpfmenu a:hover,#wrapper .bdpfmenu a:active{background:#38f;text-decoration:none;color:#fff}\\n#wrapper .bdnuarrow{width:0;height:0;font-size:0;line-height:0;display:block;position:absolute;top:-10px;left:50%;margin-left:-5px}\\n#wrapper .bdnuarrow em,#wrapper .bdnuarrow i{width:0;height:0;font-size:0;line-height:0;display:block;position:absolute;border:5px solid transparent;border-style:dashed dashed solid}\\n#wrapper .bdnuarrow em{border-bottom-color:#d8d8d8;top:-1px}\\n#wrapper .bdnuarrow i{border-bottom-color:#fff;top:0}\\n.s-isindex-wrap #wrapper .bdnuarrow{height:13px;background:url(https://ss1.bdstatic.com/5eN1bjq8AAUYm2zgoY3K/r/www/cache/static/protocol/https/home/img/icons_0c37e9b.png) no-repeat -90px -1px}\\n#wrapper .bdnuarrow.bdbriarrow{right:104px;display:none!important}\\n#wrapper .bdbri{width:85px;min-height:100px;border-left:1px solid #e7e7e7;position:absolute;background-color:#f9f9f9;overflow:hidden;z-index:2;right:0;top:0}\\n#prefpanel{background:#fafafa;display:none;opacity:0;position:fixed;_position:absolute;top:-359px;z-index:1000;width:100%;min-width:960px;border-bottom:1px solid #ebebeb}\\n#prefpanel form{_width:850px}\\n#wrapper .bdbriimgtitle{color:#333;text-align:center;width:66px;height:43px;line-height:43px;padding-top:9px;margin:0 auto;border-bottom:#f0f0f0 1px solid;font-size:13px;cursor:default}\\n#wrapper .briscrollwrapper{overflow:hidden}\\n#wrapper .briscrollwrapperContainer{position:relative}\\n#wrapper .bdbri.bdbriimg .bdmainlink a,#wrapper .bdbri.bdbriimg .bdothlink a{display:block;text-align:center;width:66px;height:76px;margin:0 auto;border-bottom:#f0f0f0 1px solid;color:#666;text-decoration:none;overflow:hidden}\\n#wrapper .bdbri.bdbriimg .bdmainlink a:visited,#wrapper .bdbri.bdbriimg .bdothlink a:visited{color:#666}\\n#wrapper .bdbri.bdbriimg .bdmainlink a:hover,#wrapper .bdbri.bdbriimg .bdothlink a:hover{color:#666;text-decoration:underline}\\n#wrapper .bdbri.bdbriimg .bdmainlink a:active,#wrapper .bdbri.bdbriimg .bdothlink a:active{color:#00c;text-decoration:underline}\\n#wrapper .bdbri.bdbriimg span{width:36px;height:36px;display:block;margin:10px auto 5px;background:url(https://ss1.bdstatic.com/5eN1bjq8AAUYm2zgoY3K/r/www/cache/static/protocol/https/home/img/logos/bdbri_icons_194ae06.png) no-repeat;cursor:pointer}\\n#wrapper .bdbri.bdbriimg .bdbrimore,#wrapper .bdbri.bdbriimg .bdbrievenmore{clear:both;text-align:center}\\n#wrapper .bdbri.bdbriimg .bdbrievenmore{margin-top:15px;height:30px;width:85px;overflow:hidden}\\n#wrapper .bdbri.bdbriimg span.bdbriimgitem_1{background-position:0 0}\\n#wrapper .bdbri.bdbriimg span.bdbriimgitem_2{background-position:-36px 0}\\n#wrapper .bdbri.bdbriimg span.bdbriimgitem_3{width:36px;background:url(https://ss1.bdstatic.com/5eN1bjq8AAUYm2zgoY3K/r/www/cache/static/protocol/https/home/img/logos/qqjt_9809ca8.png) no-repeat;background-size:cover}\\n#wrapper .bdbri.bdbriimg span.bdbriimgitem_4{background-position:-112px 0}\\n#wrapper .bdbri.bdbriimg span.bdbriimgitem_5{background-position:-148px 0}\\n#wrapper .bdbri.bdbriimg span.bdbriimgitem_6{background-position:-184px 0}\\n#wrapper .bdbri.bdbriimg span.bdbriimgitem_7{background-position:-220px 0}\\n#wrapper .bdbri.bdbriimg .bdbrievenmore a:link,#wrapper .bdbri.bdbriimg .bdbrievenmore a:visited{color:#666;text-decoration:underline}\\n#wrapper .bdbri.bdbriimg .bdbrievenmore a:hover{color:#666;text-decoration:underline}\\n#wrapper .bdbri.bdbriimg .bdbrievenmore a:active{color:#00c}\\n.bdbriscroll-ctrl-scroll{position:absolute;top:10px;right:1px;width:8px;border-top:1px solid #e4e4e4;border-left:1px solid #e4e4e4;cursor:default;-webkit-user-select:none;-moz-user-select:none}\\n.bdbriscroll-ctrl-scroll .bdbriscroll-axis{width:8px;left:0;z-index:0;position:absolute;background:#f2f2f2}\\n.bdbriscroll-ctrl-scroll-touch .bdbriscroll-axis{width:7px;background:#f2f2f2}\\n.bdbriscroll-ctrl-scroll-hover .bdbriscroll-axis{background:#f2f2f2}\\n.bdbriscroll-ctrl-scroll .bdbriscroll-slider{overflow:hidden;width:7px;height:14px;position:absolute;left:0;z-index:10;display:none;background:#d9d9d9;margin-top:-1px;margin-left:-1px;border-right:1px solid #cecece;border-bottom:1px solid #cecece;cursor:default}\\n.bdbriscroll-ctrl-scroll-touch .bdbriscroll-slider,.bdbriscroll-ctrl-scroll-hover .bdbriscroll-slider{background:#b8b8b8;border-right:1px solid #afafaf;border-bottom:1px solid #afafaf}\\n.s_ipt::-webkit-input-placeholder{padding-left:3px;color:#aaa;font-size:13px}\\n.s_ipt::-moz-placeholder{padding-left:3px;color:#aaa;font-size:13px}\\n.s_ipt:-ms-input-placeholder{padding-left:3px;color:#aaa;font-size:13px}\\n.s_ipt::placeholder{padding-left:3px;color:#aaa;font-size:13px}\\n.kw-placeholder{position:absolute;top:0;left:0;color:#aaa;font-size:13px;height:35px;line-height:35px;padding-left:10px;max-width:360px;z-index:99;pointer-events:none}\\n.kw-placeholder.placeholders-hidden{visibility:hidden}</style>\\n\\n<!--[if lte IE 8]>\\n<style index=\"index\" data-compress=\"strip\">\\n.s_form{top:260px}\\n</style>\\n<![endif]-->\\n<!--[if IE 8]>\\n<style index=\"index\" data-compress=\"strip\">\\n#u1 a.mnav,#u1 a.mnav:visited,#u1 a.lb,#u1 a.lb:visited,#u1 a.pf,#u1 a.pf:visited,#u1 a.bri,#u1 a.bri:visited{font-family:simsun;}\\n</style>\\n<![endif]-->\\n<style data-for=\"debug\">\\n#debug{display:none!important;}\\n</style>\\n<style data-for=\"result\" id=\"css_index_result\" type=\"text/css\">#seth{display:inline;behavior:url(#default#homepage)}\\n#setf{display:inline}\\n#sekj{margin-left:14px}\\n#st,#sekj{display:none}\\n.s_ipt_wr{border:1px solid #b6b6b6;border-color:#7b7b7b #b6b6b6 #b6b6b6 #7b7b7b;background:#fff;display:inline-block;vertical-align:top;width:539px;margin-right:0;border-right-width:0;border-color:#b8b8b8 transparent #ccc #b8b8b8;overflow:hidden}\\n.wrapper_s .s_ipt_wr{width:439px}\\n.wrapper_s .s_ipt{width:434px}\\n.wrapper_s .s_ipt_tip{width:434px}\\n.s_ipt_wr:hover,.s_ipt_wr.ipthover{border-color:#999 transparent #b3b3b3 #999}\\n.s_ipt_wr.iptfocus{border-color:#4791ff transparent #4791ff #4791ff}\\n.s_ipt_tip{color:#aaa;position:absolute;z-index:-10;font:16px/22px arial;height:32px;line-height:32px;padding-left:7px;overflow:hidden;width:526px}\\n.s_ipt{width:526px;height:22px;font:16px/18px arial;line-height:22px;margin:6px 0 0 7px;padding:0;background:transparent;border:0;outline:0;-webkit-appearance:none}\\n#kw{position:relative}\\n#u .username i{background-position:-408px -144px}\\n.bdpfmenu,.usermenu{border:1px solid #d1d1d1;position:absolute;width:105px;top:36px;z-index:302;box-shadow:1px 1px 5px #d1d1d1;-webkit-box-shadow:1px 1px 5px #d1d1d1;-moz-box-shadow:1px 1px 5px #d1d1d1;-o-box-shadow:1px 1px 5px #d1d1d1}\\n.bdpfmenu{font-size:12px;background-color:#fff}\\n.bdpfmenu a,.usermenu a{display:block;text-align:left;margin:0!important;padding:0 9px;line-height:26px;text-decoration:none}\\n.briiconsbg{background-repeat:no-repeat;background-size:300px 18px;background-image:url(https://ss1.bdstatic.com/5eN1bjq8AAUYm2zgoY3K/r/www/cache/static/protocol/https/home/img/icons_0c37e9b.png);background-image:url(https://ss1.bdstatic.com/5eN1bjq8AAUYm2zgoY3K/r/www/cache/static/protocol/https/home/img/icons_809ae65.gif)\\\\9}\\n#u{z-index:301;position:absolute;right:0;top:0;margin:21px 9px 5px 0;padding:0}\\n.wrapper_s #u{margin-right:3px}\\n#u a{text-decoration:underline;color:#333;margin:0 7px}\\n.wrapper_s #u a{margin-right:0 6px}\\n#u div a{text-decoration:none}\\n#u a:hover{text-decoration:underline}\\n#u .back_org{color:#666;float:left;display:inline-block;height:24px;line-height:24px}\\n#u .bri{display:inline-block;width:24px;height:24px;float:left;line-height:24px;color:transparent;background:url(https://ss1.bdstatic.com/5eN1bjq8AAUYm2zgoY3K/r/www/cache/static/protocol/https/home/img/icons_0c37e9b.png) no-repeat 4px 3px;background-size:300px 18px;background-image:url(https://ss1.bdstatic.com/5eN1bjq8AAUYm2zgoY3K/r/www/cache/static/protocol/https/home/img/icons_809ae65.gif)\\\\9;overflow:hidden}\\n#u .bri:hover,#u .bri.brihover{background-position:-18px 3px}\\n#mCon #imeSIcon{background-position:-408px -144px;margin-left:0}\\n#mCon span{color:#333}\\n.bdpfmenu a:link,.bdpfmenu a:visited,#u .usermenu a:link,#u .usermenu a:visited{background:#fff;color:#333}\\n.bdpfmenu a:hover,.bdpfmenu a:active,#u .usermenu a:hover,#u .usermenu a:active{background:#38f;text-decoration:none;color:#fff}\\n.bdpfmenu{width:70px}\\n.usermenu{width:68px;right:8px}\\n#wrapper .bdnuarrow{width:0;height:0;font-size:0;line-height:0;display:block;position:absolute;top:-10px;left:50%;margin-left:-5px}\\n#wrapper .bdnuarrow em,#wrapper .bdnuarrow i{width:0;height:0;font-size:0;line-height:0;display:block;position:absolute;border:5px solid transparent;border-style:dashed dashed solid}\\n#wrapper .bdnuarrow em{border-bottom-color:#d8d8d8;top:-1px}\\n#wrapper .bdnuarrow i{border-bottom-color:#fff;top:0}\\n#prefpanel{background:#fafafa;display:none;opacity:0;position:fixed;_position:absolute;top:-359px;z-index:500;width:100%;min-width:960px;border-bottom:1px solid #ebebeb}\\n#prefpanel form{_width:850px}\\n#kw_tip{cursor:default;display:none;margin-top:1px}\\n#bds-message-wrapper{top:43px}\\n.quickdelete-wrap{position:relative}\\n.quickdelete-wrap input{width:500px}\\n.wrapper_l .quickdelete-wrap input{width:500px}\\n.wrapper_s .quickdelete-wrap input{width:402px}\\ninput::-ms-clear{display:none}\\n.quickdelete{width:32px;height:32px;background:url(https://ss1.bdstatic.com/5eN1bjq8AAUYm2zgoY3K/r/www/cache/static/protocol/https/global/img/quickdelete_33e3eb8.png) no-repeat;background-position:10px 10px;position:absolute;display:block}\\n.quickdelete:hover{background-position:10px -24px}\\n#lh a{margin-left:25px}\\n.bdbriwrapper-tuiguang{display:none!important}</style>\\n<!--[if IE 8]>\\n<style index=\"index\" data-compress=\"strip\">\\n.s_ipt{background-color:#FFF;}\\n</style>\\n<![endif]-->\\n\\n    \\n<script data-compress=\"strip\">\\nfunction h(obj){\\n    obj.style.behavior=\\'url(#default#homepage)\\';\\n\\tvar a = obj.setHomePage(\\'//www.baidu.com/\\');\\n}\\n</script>\\n\\n<noscript>\\n    &lt;meta http-equiv=\"refresh\" content=\"0; url=/baidu.html?from=noscript\"/&gt;\\n</noscript>\\n\\n    <script>window._ASYNC_START=new Date().getTime();</script>\\n<script data-require-id=\"plugins/swfobject\" src=\"https://ss1.bdstatic.com/5eN1bjq8AAUYm2zgoY3K/r/www/cache/static/protocol/https/plugins/swfobject_0178953.js\" async=\"\"></script><script data-require-id=\"soutu/js/tu\" src=\"https://ss1.bdstatic.com/5eN1bjq8AAUYm2zgoY3K/r/www/cache/static/protocol/https/soutu/js/tu_329aca4.js\" async=\"\"></script><link rel=\"stylesheet\" href=\"https://ss1.bdstatic.com/5eN1bjq8AAUYm2zgoY3K/r/www/cache/static/protocol/https/soutu/css/soutu.css\" type=\"text/css\" data-for=\"result\" /></head>\\n\\n<body link=\"#0000cc\" style=\"\">\\n\\t<script>\\n\\tif (/Chrome\\\\/37.0.2062.94/i.test(navigator.userAgent) &amp;&amp; (/(windows 7)|(windows nt 6.1)/i.test(navigator.userAgent))) {\\n\\t\\tvar _chrome_37_fix = document.createElement(\"style\");\\n\\t\\t_chrome_37_fix.type=\"text/css\";\\n\\t\\t_chrome_37_fix.setAttribute(\"data-for\",\"result\");\\n\\t\\t_chrome_37_fix.innerHTML = \".t,.f16,#kw,.s_ipt,.c-title,.c-title-size,.to_zhidao,.to_tieba,.to_zhidao_bottom{font-size:15px;} .ec-hospital-info-main h2,.ad-widget-gx_sck-ylzx-doctor-info h2,.ec-card-main h2,.ad-widget-h1 h2,.ad-widget-title h2,.ad-widget-small-head h2,.ad-widget-small-head h2 a,.ad-widget-header .ec-figcaption h2{font-size: 15px !important;}\";\\n\\t\\tdocument.getElementsByTagName(\"head\")[0].appendChild(_chrome_37_fix);\\n\\t}\\n\\t</script>\\n    <div id=\"wrapper\" style=\"display: block;\">\\n        \\n\\n\\n        \\n\\n\\n<script>if(window.bds&amp;&amp;bds.util&amp;&amp;bds.util.setContainerWidth){bds.util.setContainerWidth();}</script><div id=\"head\"><div class=\"head_wrapper\"><div class=\"s_form\"><div class=\"s_form_wrapper soutu-env-nomac soutu-env-index\"><style>.index-logo-srcnew {display: none;}@media (-webkit-min-device-pixel-ratio: 2),(min--moz-device-pixel-ratio: 2),(-o-min-device-pixel-ratio: 2),(min-device-pixel-ratio: 2){.index-logo-src {display: none;}.index-logo-srcnew {display: inline;}}</style><div id=\"lg\"><img hidefocus=\"true\" class=\"index-logo-src\" src=\"//www.baidu.com/img/bd_logo1.png\" width=\"270\" height=\"129\" usemap=\"#mp\" /><img hidefocus=\"true\" class=\"index-logo-srcnew\" src=\"//www.baidu.com/img/bd_logo1.png?qua=high\" width=\"270\" height=\"129\" usemap=\"#mp\" /><map name=\"mp\"><area style=\"outline:none;\" hidefocus=\"true\" shape=\"rect\" coords=\"0,0,270,129\" href=\"//www.baidu.com/s?wd=%E4%BB%8A%E6%97%A5%E6%96%B0%E9%B2%9C%E4%BA%8B&amp;tn=SE_PclogoS_8whnvm25&amp;sa=ire_dl_gh_logo&amp;rsv_dl=igh_logo_pcs\" onmousedown=\"return ns_c({fm: \\'tab\\', tab: \\'felogo\\', rsv_platform: \\'wwwhome\\' })\" target=\"_blank\" title=\"点击一下，了解更多\" /></map></div><a href=\"/\" id=\"result_logo\" onmousedown=\"return c({\\'fm\\':\\'tab\\',\\'tab\\':\\'logo\\'})\"><img class=\"index-logo-src\" src=\"//www.baidu.com/img/baidu_jgylogo3.gif\" alt=\"到百度首页\" title=\"到百度首页\" /><img class=\"index-logo-srcnew\" src=\"//www.baidu.com/img/baidu_jgylogo3.gif\" alt=\"到百度首页\" title=\"到百度首页\" /></a><form id=\"form\" name=\"f\" action=\"/s\" class=\"fm\"><input type=\"hidden\" name=\"ie\" value=\"utf-8\" /><input type=\"hidden\" name=\"f\" value=\"8\" /><input type=\"hidden\" name=\"rsv_bp\" value=\"0\" /><input type=\"hidden\" name=\"rsv_idx\" value=\"1\" /><input type=\"hidden\" name=\"ch\" value=\"\" /><input type=\"hidden\" name=\"tn\" value=\"baidu\" /><input type=\"hidden\" name=\"bar\" value=\"\" /><span class=\"bg s_ipt_wr iptfocus quickdelete-wrap\"><span class=\"soutu-btn\"></span><input id=\"kw\" name=\"wd\" class=\"s_ipt\" value=\"\" maxlength=\"255\" autocomplete=\"off\" /><a href=\"javascript:;\" id=\"quickdelete\" title=\"清空\" class=\"quickdelete\" style=\"top: 0px; right: 0px; display: none;\"></a></span><span class=\"bg s_btn_wr\"><input type=\"submit\" id=\"su\" value=\"百度一下\" class=\"bg s_btn\" /></span><span class=\"tools\"><span id=\"mHolder\"><div id=\"mCon\"><span>输入法</span></div><ul id=\"mMenu\"><li><a href=\"javascript:;\" name=\"ime_hw\">手写</a></li><li><a href=\"javascript:;\" name=\"ime_py\">拼音</a></li><li class=\"ln\"></li><li><a href=\"javascript:;\" name=\"ime_cl\">关闭</a></li></ul></span></span><input type=\"hidden\" name=\"rn\" value=\"\" /><input type=\"hidden\" name=\"oq\" value=\"\" /><input type=\"hidden\" name=\"rsv_pq\" value=\"994196f400058558\" /><input type=\"hidden\" name=\"rsv_t\" value=\"d5a8xsBr7aOxGSub0YNCl/3jC7HzZWEUi2FGlaNP8jGe6uCztmdx5Yrj8r4\" /><input type=\"hidden\" name=\"rqlang\" value=\"cn\" /><input type=\"hidden\" name=\"rsv_enter\" value=\"1\" /></form><div id=\"m\"></div></div></div><div id=\"u\"><a class=\"toindex\" href=\"/\">百度首页</a><a href=\"javascript:;\" name=\"tj_settingicon\" class=\"pf\">设置<i class=\"c-icon c-icon-triangle-down\"></i></a><a href=\"https://passport.baidu.com/v2/?login&amp;tpl=mn&amp;u=http%3A%2F%2Fwww.baidu.com%2F&amp;sms=5\" name=\"tj_login\" class=\"lb\" onclick=\"return false;\">登录</a></div><div id=\"u1\"><a href=\"http://news.baidu.com\" name=\"tj_trnews\" class=\"mnav\">新闻</a><a href=\"https://www.hao123.com\" name=\"tj_trhao123\" class=\"mnav\">hao123</a><a href=\"http://map.baidu.com\" name=\"tj_trmap\" class=\"mnav\">地图</a><a href=\"http://v.baidu.com\" name=\"tj_trvideo\" class=\"mnav\">视频</a><a href=\"http://tieba.baidu.com\" name=\"tj_trtieba\" class=\"mnav\">贴吧</a><a href=\"http://xueshu.baidu.com\" name=\"tj_trxueshu\" class=\"mnav\">学术</a><a href=\"https://passport.baidu.com/v2/?login&amp;tpl=mn&amp;u=http%3A%2F%2Fwww.baidu.com%2F&amp;sms=5\" name=\"tj_login\" class=\"lb\" onclick=\"return false;\">登录</a><a href=\"http://www.baidu.com/gaoji/preferences.html\" name=\"tj_settingicon\" class=\"pf\">设置</a><a href=\"http://www.baidu.com/more/\" name=\"tj_briicon\" class=\"bri\" style=\"display: block;\">更多产品</a></div></div></div>\\n\\n\\n\\n<div class=\"s_tab\" id=\"s_tab\"><div class=\"s_tab_inner\">\\n<div class=\"s_tab_inner\">\\n    <b>网页</b>\\n    <a href=\"//www.baidu.com/s?rtt=1&amp;bsst=1&amp;cl=2&amp;tn=news&amp;word=\" wdfield=\"word\" onmousedown=\"return c({\\'fm\\':\\'tab\\',\\'tab\\':\\'news\\'})\" sync=\"true\">资讯</a>\\n    <a href=\"http://tieba.baidu.com/f?kw=&amp;fr=wwwt\" wdfield=\"kw\" onmousedown=\"return c({\\'fm\\':\\'tab\\',\\'tab\\':\\'tieba\\'})\">贴吧</a>\\n    <a href=\"http://zhidao.baidu.com/q?ct=17&amp;pn=0&amp;tn=ikaslist&amp;rn=10&amp;word=&amp;fr=wwwt\" wdfield=\"word\" onmousedown=\"return c({\\'fm\\':\\'tab\\',\\'tab\\':\\'zhidao\\'})\">知道</a>\\n    <a href=\"http://music.taihe.com/search?fr=ps&amp;ie=utf-8&amp;key=\" wdfield=\"key\" onmousedown=\"return c({\\'fm\\':\\'tab\\',\\'tab\\':\\'music\\'})\">音乐</a>\\n    <a href=\"http://image.baidu.com/search/index?tn=baiduimage&amp;ps=1&amp;ct=201326592&amp;lm=-1&amp;cl=2&amp;nc=1&amp;ie=utf-8&amp;word=\" wdfield=\"word\" onmousedown=\"return c({\\'fm\\':\\'tab\\',\\'tab\\':\\'pic\\'})\">图片</a>\\n    <a href=\"http://v.baidu.com/v?ct=301989888&amp;rn=20&amp;pn=0&amp;db=0&amp;s=25&amp;ie=utf-8&amp;word=\" wdfield=\"word\" onmousedown=\"return c({\\'fm\\':\\'tab\\',\\'tab\\':\\'video\\'})\">视频</a>\\n    <a href=\"http://map.baidu.com/m?word=&amp;fr=ps01000\" wdfield=\"word\" onmousedown=\"return c({\\'fm\\':\\'tab\\',\\'tab\\':\\'map\\'})\">地图</a>\\n    <a href=\"http://wenku.baidu.com/search?word=&amp;lm=0&amp;od=0&amp;ie=utf-8\" wdfield=\"word\" onmousedown=\"return c({\\'fm\\':\\'tab\\',\\'tab\\':\\'wenku\\'})\">文库</a>\\n    <a href=\"//www.baidu.com/more/\" onmousedown=\"return c({\\'fm\\':\\'tab\\',\\'tab\\':\\'more\\'})\">更多»</a>\\n</div>\\n</div></div>\\n\\n        \\n\\n<div class=\"qrcodeCon\">\\n\\t<div id=\"qrcode\">\\n\\t\\t<div class=\"qrcode-item qrcode-item-1\">\\n\\t\\t\\t<div class=\"qrcode-img\"></div>\\n\\t\\t\\t<div class=\"qrcode-text\">\\n\\t\\t\\t\\t\\t<p><b>百度</b></p>\\n\\t\\t\\t</div>\\n\\t\\t</div>\\n\\t</div>\\n</div>\\n<div id=\"ftCon\">\\n\\n<div class=\"ftCon-Wrapper\"><div id=\"ftConw\"><p id=\"lh\"><a id=\"setf\" href=\"//www.baidu.com/cache/sethelp/help.html\" onmousedown=\"return ns_c({\\'fm\\':\\'behs\\',\\'tab\\':\\'favorites\\',\\'pos\\':0})\" target=\"_blank\">把百度设为主页</a><a onmousedown=\"return ns_c({\\'fm\\':\\'behs\\',\\'tab\\':\\'tj_about\\'})\" href=\"http://home.baidu.com\">关于百度</a><a onmousedown=\"return ns_c({\\'fm\\':\\'behs\\',\\'tab\\':\\'tj_about_en\\'})\" href=\"http://ir.baidu.com\">About\\xa0\\xa0Baidu</a><a onmousedown=\"return ns_c({\\'fm\\':\\'behs\\',\\'tab\\':\\'tj_tuiguang\\'})\" href=\"http://e.baidu.com/?refer=888\">百度推广</a></p><p id=\"cp\">©2018\\xa0Baidu\\xa0<a href=\"http://www.baidu.com/duty/\" onmousedown=\"return ns_c({\\'fm\\':\\'behs\\',\\'tab\\':\\'tj_duty\\'})\">使用百度前必读</a>\\xa0<a href=\"http://jianyi.baidu.com/\" class=\"cp-feedback\" onmousedown=\"return ns_c({\\'fm\\':\\'behs\\',\\'tab\\':\\'tj_homefb\\'})\">意见反馈</a>\\xa0京ICP证030173号\\xa0<i class=\"c-icon-icrlogo\"></i>\\xa0<a id=\"jgwab\" target=\"_blank\" href=\"http://www.beian.gov.cn/portal/registerSystemInfo?recordcode=11000002000001\">京公网安备11000002000001号</a>\\xa0<i class=\"c-icon-jgwablogo\"></i></p></div></div></div>\\n        <div id=\"wrapper_wrapper\">\\n        </div>\\n    </div>\\n    <div class=\"c-tips-container\" id=\"c-tips-container\"></div>\\n    \\n    <script>\\n        window.__async_strategy=2;\\n        //window.__switch_add_mask=false;\\n    </script>\\n    \\n    \\n<script>\\nvar bds={\\n    se:{},\\n    su:{\\n        urdata:[],\\n                urSendClick:function(){}\\n    },\\n    util:{},\\n    use:{},\\n    comm : {\\n        domain:\"http://www.baidu.com\",\\n        ubsurl : \"https://sp0.baidu.com/5bU_dTmfKgQFm2e88IuM_a/w.gif\",\\n        tn:\"baidu\",\\n        queryEnc:\"\",\\n        queryId:\"\",\\n        inter:\"\",\\n        templateName:\"\",\\n        sugHost : \"https://sp0.baidu.com/5a1Fazu8AA54nxGko9WTAnF6hhy/su\",\\n        query : \"\",\\n        dpquery: \"\",\\n        qid : \"994196f400058558\",\\n        cid : \"0\",\\n        sid : \"27137_1434_21084_20929\",\\n        indexSid : \"27137_1434_21084_20929\",\\n        stoken : \"\",\\n        serverTime : \"1536125949\",\\n        user : \"\",\\n        username : \"\",\\n        userid : \"0\",\\n        loginAction : [],\\n        useFavo : \"\",\\n        pinyin : \"\",\\n        favoOn : \"\",\\n        cookie : {\"BAIDUID\":\"D9F81B14145E911F89D2A6A8F93A8FEC:FG=1\",\"BD_LAST_QID\":\"11908977029338665572\",\"BIDUPSID\":\"D9F81B14145E911F89D2A6A8F93A8FEC\",\"PSTM\":\"1536125944\"},\\n        userAgent : \"Mozilla/5.0 (Windows NT 10.0; WOW64) AppleWebKit/537.36 (KHTML, like Gecko) Chrome/50.0.2661.102 Safari/537.36\",\\n                curResultNum:\"0\",\\n        rightResultExist:false,\\n        protectNum:0,\\n        zxlNum:0,\\n        pageNum:1,\\n        pageSize:10,\\n        newindex:0,\\n        async:2,\\n        maxPreloadThread:5,\\n        maxPreloadTimes:10,\\n        preloadMouseMoveDistance:5,\\n        switchAddMask:false,\\n        isDebug:false,\\n        ishome : 1,\\n        flagTranslateResult:0,\\n        globalLogFlag:0\\n\\t,encTn:\\'d5a8xsBr7aOxGSub0YNCl/3jC7HzZWEUi2FGlaNP8jGe6uCztmdx5Yrj8r4\\'    }\\n};\\n\\n\\n\\n    \\n\\n\\n//防止从结果页打开的页面中通过opener.xxx来影响百度页面\\n\\n\\nvar name,navigate,al_arr=[];\\nvar selfOpen = window.open;eval(\"var open = selfOpen;\");\\nvar isIE=navigator.userAgent.indexOf(\"MSIE\")!=-1&amp;&amp;!window.opera;\\nvar E = bds.ecom= {};\\n\\nbds.se.mon = {\\'loadedItems\\':[],\\'load\\':function(){},\\'srvt\\':-1};\\n\\ntry {\\n    bds.se.mon.srvt = parseInt(document.cookie.match(new RegExp(\"(^| )BDSVRTM=([^;]*)(;|$)\"))[2]);\\n    document.cookie=\"BDSVRTM=;expires=Sat, 01 Jan 2000 00:00:00 GMT\";\\n}catch(e){}\\n\\n//兼容之前一些变量\\nvar\\nbdUser        = bds.comm.user?bds.comm.user:null,\\nbdQuery       = bds.comm.query,\\nbdUseFavo     = bds.comm.useFavo,\\nbdFavoOn      = bds.comm.favoOn,\\nbdCid         = bds.comm.cid,\\nbdSid         = bds.comm.sid,\\nbdServerTime  = bds.comm.serverTime,\\nbdQid         = bds.comm.queryId,\\nbdstoken      = bds.comm.stoken,\\nlogin_success = [];\\n\\n\\n\\n</script>\\n<script>\\n/* https域名转换工具 */\\nbds.util.domain = (function(){\\n\\t    \\t\\t\\t\\t\\t\\t\\t\\t\\t\\t\\t\\t\\t\\t\\t\\t\\t\\t\\t\\t\\t            \\t\\t\\t\\t\\t\\t\\t\\t\\t\\t\\t\\t\\t\\t\\t\\t\\t\\t\\t\\t\\t\\t\\tvar list = {\\n        \"graph.baidu.com\": \"https://sp0.baidu.com/-aYHfD0a2gU2pMbgoY3K\",\\n\\t\\t\"p.qiao.baidu.com\":\"https://sp0.baidu.com/5PoXdTebKgQFm2e88IuM_a\",\\n\\t\\t\"vse.baidu.com\":\"https://sp3.baidu.com/6qUDsjip0QIZ8tyhnq\",\\n\\t\\t\"hdpreload.baidu.com\":\"https://sp3.baidu.com/7LAWfjuc_wUI8t7jm9iCKT-xh_\",\\n\\t\\t\"lcr.open.baidu.com\":\"https://sp2.baidu.com/8LUYsjW91Qh3otqbppnN2DJv\",\\n\\t\\t\"kankan.baidu.com\":\"https://sp3.baidu.com/7bM1dzeaKgQFm2e88IuM_a\",\\n\\t\\t\"xapp.baidu.com\":\"https://sp2.baidu.com/yLMWfHSm2Q5IlBGlnYG\",\\n\\t\\t\"dr.dh.baidu.com\":\"https://sp0.baidu.com/-KZ1aD0a2gU2pMbgoY3K\",\\n\\t\\t\"xiaodu.baidu.com\":\"https://sp0.baidu.com/yLsHczq6KgQFm2e88IuM_a\",\\n\\t\\t\"sensearch.baidu.com\":\"https://sp1.baidu.com/5b11fzupBgM18t7jm9iCKT-xh_\",\\n\\t\\t\"s1.bdstatic.com\":\"https://ss1.bdstatic.com/5eN1bjq8AAUYm2zgoY3K\",\\n\\t\\t\"olime.baidu.com\":\"https://sp0.baidu.com/8bg4cTva2gU2pMbgoY3K\",\\n\\t\\t\"app.baidu.com\":\"https://sp2.baidu.com/9_QWsjip0QIZ8tyhnq\",\\n\\t\\t\"i.baidu.com\":\"https://sp0.baidu.com/74oIbT3kAMgDnd_\",\\n\\t\\t\"c.baidu.com\":\"https://sp0.baidu.com/9foIbT3kAMgDnd_\",\\n\\t\\t\"sclick.baidu.com\":\"https://sp0.baidu.com/5bU_dTmfKgQFm2e88IuM_a\",\\n\\t\\t\"nsclick.baidu.com\":\"https://sp1.baidu.com/8qUJcD3n0sgCo2Kml5_Y_D3\",\\n\\t\\t\"sestat.baidu.com\":\"https://sp1.baidu.com/5b1ZeDe5KgQFm2e88IuM_a\",\\n\\t\\t\"eclick.baidu.com\":\"https://sp3.baidu.com/-0U_dTmfKgQFm2e88IuM_a\",\\n\\t\\t\"api.map.baidu.com\":\"https://sp2.baidu.com/9_Q4sjOpB1gCo2Kml5_Y_D3\",\\n\\t\\t\"ecma.bdimg.com\":\"https://ss1.bdstatic.com/-0U0bXSm1A5BphGlnYG\",\\n\\t\\t\"ecmb.bdimg.com\":\"https://ss0.bdstatic.com/-0U0bnSm1A5BphGlnYG\",\\n        \"t1.baidu.com\":\"https://ss0.baidu.com/6ON1bjeh1BF3odCf\",\\n        \"t2.baidu.com\":\"https://ss1.baidu.com/6OZ1bjeh1BF3odCf\",\\n        \"t3.baidu.com\":\"https://ss2.baidu.com/6OV1bjeh1BF3odCf\",\\n\\t\\t\"t10.baidu.com\":\"https://ss0.baidu.com/6ONWsjip0QIZ8tyhnq\",\\n\\t\\t\"t11.baidu.com\":\"https://ss1.baidu.com/6ONXsjip0QIZ8tyhnq\",\\n\\t\\t\"t12.baidu.com\":\"https://ss2.baidu.com/6ONYsjip0QIZ8tyhnq\",\\n\\t\\t\"i7.baidu.com\":\"https://ss0.baidu.com/73F1bjeh1BF3odCf\",\\n\\t\\t\"i8.baidu.com\":\"https://ss0.baidu.com/73x1bjeh1BF3odCf\",\\n\\t\\t\"i9.baidu.com\":\"https://ss0.baidu.com/73t1bjeh1BF3odCf\",\\n\\t\\t\"b1.bdstatic.com\":\"https://ss0.bdstatic.com/9uN1bjq8AAUYm2zgoY3K\",\\n\\t\\t\"ss.bdimg.com\":\"https://ss1.bdstatic.com/5aV1bjqh_Q23odCf\",\\n\\t\\t\"opendata.baidu.com\":\"https://sp0.baidu.com/8aQDcjqpAAV3otqbppnN2DJv\",\\n\\t\\t\"api.open.baidu.com\":\"https://sp0.baidu.com/9_Q4sjW91Qh3otqbppnN2DJv\",\\n\\t\\t\"tag.baidu.com\":\"https://sp1.baidu.com/6LMFsjip0QIZ8tyhnq\",\\n\\t\\t\"f3.baidu.com\":\"https://sp2.baidu.com/-uV1bjeh1BF3odCf\",\\n\\t\\t\"s.share.baidu.com\":\"https://sp0.baidu.com/5foZdDe71MgCo2Kml5_Y_D3\",\\t\\n\\t\\t\"bdimg.share.baidu.com\":\"https://ss1.baidu.com/9rA4cT8aBw9FktbgoI7O1ygwehsv\",\\n        \"1.su.bdimg.com\":\"https://ss0.bdstatic.com/k4oZeXSm1A5BphGlnYG\",\\n        \"2.su.bdimg.com\":\"https://ss1.bdstatic.com/kvoZeXSm1A5BphGlnYG\",\\n        \"3.su.bdimg.com\":\"https://ss2.bdstatic.com/kfoZeXSm1A5BphGlnYG\",\\n        \"4.su.bdimg.com\":\"https://ss3.bdstatic.com/lPoZeXSm1A5BphGlnYG\",\\n        \"5.su.bdimg.com\":\"https://ss0.bdstatic.com/l4oZeXSm1A5BphGlnYG\",\\n        \"6.su.bdimg.com\":\"https://ss1.bdstatic.com/lvoZeXSm1A5BphGlnYG\",\\n        \"7.su.bdimg.com\":\"https://ss2.bdstatic.com/lfoZeXSm1A5BphGlnYG\",\\n        \"8.su.bdimg.com\":\"https://ss3.bdstatic.com/iPoZeXSm1A5BphGlnYG\"\\n\\t};\\n\\n\\n\\tvar get = function(url) {\\n\\t\\tif(location.protocol === \"http\") {\\n\\t\\t\\treturn url;\\n\\t\\t}\\n\\t\\tvar reg = /^(http[s]?:\\\\/\\\\/)?([^\\\\/]+)(.*)/,\\n\\t\\tmatches = url.match(reg);\\n\\t\\t/* 判断传入参数是域名还是地址，分别做处理 */\\n\\t\\turl = list.hasOwnProperty(matches[2])&amp;&amp;(list[matches[2]] + matches[3]) || url;\\n\\t\\treturn url;\\n\\t},\\n\\tset = function(kdomain,vdomain) {\\n\\t\\tlist[kdomain] = vdomain;\\n\\t};\\n\\treturn {\\n\\t\\tget : get,\\n\\t\\tset : set\\n\\t}\\n})();\\n</script>\\n<script>\\n//让用户更快看到首页\\nif(!location.hash.match(/[^a-zA-Z0-9]wd=/)){\\n    document.getElementById(\"wrapper\").style.display=\\'block\\';\\n    setTimeout(function(){\\n        try{\\n            var kw=document.getElementById(\"kw\");\\n            kw.focus();\\n\\t\\t\\tkw.parentNode.className=\"bg s_ipt_wr iptfocus quickdelete-wrap\";\\n        }catch(e){}\\n    },0);\\n}\\n\\n</script>\\n<script type=\"text/javascript\" src=\"https://ss1.bdstatic.com/5eN1bjq8AAUYm2zgoY3K/r/www/cache/static/protocol/https/jquery/jquery-1.10.2.min_65682a2.js\"></script>\\n\\n\\n\\n\\n<script>\\n(function(){\\n\\n    var result_common_css=\"&lt;style data-for=\\\\\"result\\\\\" id=\\\\\"css_result\\\\\" type=\\\\\"text\\\\/css\\\\\"&gt;body{color:#333;background:#fff;padding:6px 0 0;margin:0;position:relative;min-width:900px}body,th,td,.p1,.p2{font-family:arial}p,form,ol,ul,li,dl,dt,dd,h3{margin:0;padding:0;list-style:none}input{padding-top:0;padding-bottom:0;-moz-box-sizing:border-box;-webkit-box-sizing:border-box;box-sizing:border-box}table,img{border:0}td{font-size:9pt;line-height:18px}em{font-style:normal;color:#c00}a em{text-decoration:underline}cite{font-style:normal;color:green}.m,a.m{color:#666}a.m:visited{color:#606}.g,a.g{color:green}.c{color:#77c}.f14{font-size:14px}.f10{font-size:10.5pt}.f16{font-size:16px}.f13{font-size:13px}.bg{background-image:url(https:\\\\/\\\\/ss1.bdstatic.com\\\\/5eN1bjq8AAUYm2zgoY3K\\\\/r\\\\/www\\\\/cache\\\\/static\\\\/protocol\\\\/https\\\\/global\\\\/img\\\\/icons_5859e57.png);_background-image:url(https:\\\\/\\\\/ss1.bdstatic.com\\\\/5eN1bjq8AAUYm2zgoY3K\\\\/r\\\\/www\\\\/cache\\\\/static\\\\/protocol\\\\/https\\\\/global\\\\/img\\\\/icons_d5b04cc.gif);background-repeat:no-repeat}#u,#head,#tool,#search,#foot{font-size:12px}.logo{width:117px;height:38px;cursor:pointer}.p1{line-height:120%;margin-left:-12pt}.p2{width:100%;line-height:120%;margin-left:-12pt}#wrapper{_zoom:1}#container{word-break:break-all;word-wrap:break-word;position:relative}.container_s{width:1002px}.container_l{width:1222px}#content_left{width:636px;float:left;padding-left:35px}#content_right{border-left:1px solid #e1e1e1;float:right}.container_s #content_right{width:271px}.container_l #content_right{width:434px}.content_none{padding-left:35px}#u{color:#999;white-space:nowrap;position:absolute;right:10px;top:4px;z-index:299}#u a{color:#00c;margin:0 5px}#u .reg{margin:0}#u .last{margin-right:0}#u .un{font-weight:700;margin-right:5px}#u ul{width:100%;background:#fff;border:1px solid #9b9b9b}#u li{height:25px}#u li a{width:100%;height:25px;line-height:25px;display:block;text-align:left;text-decoration:none;text-indent:6px;margin:0;filter:none\\\\\\\\9}#u li a:hover{background:#ebebeb}#u li.nl{border-top:1px solid #ebebeb}#user{display:inline-block}#user_center{position:relative;display:inline-block}#user_center .user_center_btn{margin-right:5px}.userMenu{width:64px;position:absolute;right:7px;_right:2px;top:15px;top:14px\\\\\\\\9;*top:15px;padding-top:4px;display:none;*background:#fff}#head{padding-left:35px;margin-bottom:20px;width:900px}.fm{clear:both;position:relative;z-index:297}.nv a,.nv b,.btn,#page,#more{font-size:14px}.s_nav{height:45px}.s_nav .s_logo{margin-right:20px;float:left}.s_nav .s_logo img{border:0;display:block}.s_tab{line-height:18px;padding:20px 0 0;float:left}.s_nav a{color:#00c;font-size:14px}.s_nav b{font-size:14px}.s_ipt_wr{width:536px;height:30px;display:inline-block;margin-right:5px;background-position:0 -96px;border:1px solid #b6b6b6;border-color:#7b7b7b #b6b6b6 #b6b6b6 #7b7b7b;vertical-align:top}.s_ipt{width:523px;height:22px;font:16px\\\\/18px arial;line-height:22px;margin:5px 0 0 7px;padding:0;background:#fff;border:0;outline:0;-webkit-appearance:none}.s_btn{width:95px;height:32px;padding-top:2px\\\\\\\\9;font-size:14px;padding:0;background-color:#ddd;background-position:0 -48px;border:0;cursor:pointer}.s_btn_h{background-position:-240px -48px}.s_btn_wr{width:97px;height:34px;display:inline-block;background-position:-120px -48px;*position:relative;z-index:0;vertical-align:top}.sethf{padding:0;margin:0;font-size:14px}.set_h{display:none;behavior:url(#default#homepage)}.set_f{display:none}.shouji{margin-left:19px}.shouji a{text-decoration:none}#head .bdsug{top:33px}#search form{position:relative}#search form .bdsug{bottom:33px}.bdsug{display:none;position:absolute;z-index:1;width:538px;background:#fff;border:1px solid #ccc;_overflow:hidden;box-shadow:1px 1px 3px #ededed;-webkit-box-shadow:1px 1px 3px #ededed;-moz-box-shadow:1px 1px 3px #ededed;-o-box-shadow:1px 1px 3px #ededed}.bdsug.bdsugbg ul{background:url(https:\\\\/\\\\/ss1.bdstatic.com\\\\/5eN1bjq8AAUYm2zgoY3K\\\\/r\\\\/www\\\\/cache\\\\/static\\\\/protocol\\\\/https\\\\/home\\\\/img\\\\/sugbg_1762fe7.png) 100% 100% no-repeat;background-size:100px 110px;background-image:url(https:\\\\/\\\\/ss1.bdstatic.com\\\\/5eN1bjq8AAUYm2zgoY3K\\\\/r\\\\/www\\\\/cache\\\\/static\\\\/protocol\\\\/https\\\\/home\\\\/img\\\\/sugbg_90fc9cf.gif)\\\\\\\\9}.bdsug li{width:522px;color:#000;font:14px arial;line-height:22px;padding:0 8px;position:relative;cursor:default}.bdsug li.bdsug-s{background:#f0f0f0}.bdsug-store span,.bdsug-store b{color:#7A77C8}.bdsug-store-del{font-size:12px;color:#666;text-decoration:underline;position:absolute;right:8px;top:0;cursor:pointer;display:none}.bdsug-s .bdsug-store-del{display:inline-block}.bdsug-ala{display:inline-block;border-bottom:1px solid #e6e6e6}.bdsug-ala h3{line-height:14px;background:url(\\\\/\\\\/www.baidu.com\\\\/img\\\\/sug_bd.png) no-repeat left center;margin:8px 0 5px;font-size:12px;font-weight:400;color:#7B7B7B;padding-left:20px}.bdsug-ala p{font-size:14px;font-weight:700;padding-left:20px}.bdsug .bdsug-direct{width:auto;padding:0;border-bottom:1px solid #f1f1f1}.bdsug .bdsug-direct p{color:#00c;font-weight:700;line-height:34px;padding:0 8px;cursor:pointer;white-space:nowrap;overflow:hidden}.bdsug .bdsug-direct p img{width:16px;height:16px;margin:7px 6px 9px 0;vertical-align:middle}.bdsug .bdsug-direct p span{margin-left:8px}.bdsug .bdsug-direct p i{font-size:12px;line-height:100%;font-style:normal;font-weight:400;color:#fff;background-color:#2b99ff;display:inline;text-align:center;padding:1px 5px;*padding:2px 5px 0;margin-left:8px;overflow:hidden}.bdsug .bdsug-pcDirect{color:#000;font-size:14px;line-height:30px;height:30px;background-color:#f8f8f8}.bdsug .bdsug-pc-direct-tip{position:absolute;right:15px;top:8px;width:55px;height:15px;display:block;background:url(https:\\\\/\\\\/ss1.bdstatic.com\\\\/5eN1bjq8AAUYm2zgoY3K\\\\/r\\\\/www\\\\/cache\\\\/static\\\\/protocol\\\\/https\\\\/global\\\\/img\\\\/pc_direct_42d6311.png) no-repeat 0 0}.bdsug li.bdsug-pcDirect-s{background-color:#f0f0f0}.bdsug .bdsug-pcDirect-is{color:#000;font-size:14px;line-height:22px;background-color:#f8f8f8}.bdsug .bdsug-pc-direct-tip-is{position:absolute;right:15px;top:3px;width:55px;height:15px;display:block;background:url(https:\\\\/\\\\/ss1.bdstatic.com\\\\/5eN1bjq8AAUYm2zgoY3K\\\\/r\\\\/www\\\\/cache\\\\/static\\\\/protocol\\\\/https\\\\/global\\\\/img\\\\/pc_direct_42d6311.png) no-repeat 0 0}.bdsug li.bdsug-pcDirect-is-s{background-color:#f0f0f0}.bdsug .bdsug-pcDirect-s .bdsug-pc-direct-tip,.bdsug .bdsug-pcDirect-is-s .bdsug-pc-direct-tip-is{background-position:0 -15px}.bdsug .bdsug-newicon{color:#929292;opacity:.7;font-size:12px;display:inline-block;line-height:22px;letter-spacing:2px}.bdsug .bdsug-s .bdsug-newicon{opacity:1}.bdsug .bdsug-newicon i{letter-spacing:0;font-style:normal}.bdsug .bdsug-feedback-wrap{text-align:right;background:#fafafa;color:#666;height:25px;line-height:27px}.bdsug .bdsug-feedback{margin-right:10px;text-decoration:underline;color:#666}.toggle-underline{text-decoration:none}.toggle-underline:hover{text-decoration:underline}#tb_mr{color:#00c;cursor:pointer;position:relative;z-index:298}#tb_mr b{font-weight:400;text-decoration:underline}#tb_mr small{font-size:11px}#page{font:14px arial;white-space:nowrap;padding-left:35px}#page a,#page strong{display:inline-block;vertical-align:text-bottom;height:66px;text-align:center;line-height:34px;text-decoration:none;overflow:hidden;margin-right:9px;background:#fff}#page a{cursor:pointer}#page a:hover{background:0 0}#page .n:hover,#page a:hover .pc{background:#f2f8ff;border:1px solid #38f}#page .n{height:34px;padding:0 18px;border:1px solid #e1e2e3}#page span{display:block}#page .pc{width:34px;height:34px;border:1px solid #e1e2e3;cursor:pointer}#page .fk{width:24px;height:24px;margin-bottom:6px;margin-left:6px;cursor:pointer}#page strong .fk,#page strong .pc{cursor:auto}#page .fk .c-icon-bear-pn{top:-3px;position:relative}#page .fkd .c-icon-bear-pn{top:3px;position:relative}#page .fk_cur .c-icon-bear-p{top:-2px;position:relative}#page strong .pc{border:0;width:36px;height:36px;line-height:36px}#page .nums{display:inline-block;vertical-align:text-bottom;height:36px;line-height:36px;margin-left:10px}#rs{width:900px;background:#fff;padding:8px 0;margin:20px 0 0 15px}#rs td{width:5%}#rs th{font-size:14px;font-weight:400;line-height:19px;white-space:nowrap;text-align:left;vertical-align:top}#rs .tt{font-weight:700;padding:0 10px 0 20px}#rs_top{font-size:14px;margin-bottom:22px}#rs_top a{margin-right:18px}#container .rs{margin:30px 0 20px;padding:5px 0 15px;font-size:14px;width:540px;padding-left:121px;position:relative;background-color:#fafafa}#container .noback{background-color:#fff}#content_left .rs{margin-left:-121px}#container .rs table{width:540px}#container .rs td{width:5px}#container .rs th{font-size:14px;font-weight:400;white-space:nowrap;text-align:left;vertical-align:top;width:175px;line-height:22px}#container .rs .tt{font-weight:700;padding:0 10px 0 20px;padding:0;line-height:30px;font-size:16px}#container .rs a{margin:0;height:24px;width:173px;display:inline-block;line-height:25px;border:1px solid #ebebeb;text-align:center;vertical-align:middle;overflow:hidden;outline:0;color:#333;background-color:#fff;text-decoration:none}#container .rs a:hover{border-color:#388bff}.c-tip-con .c-tip-menu-b ul{width:100px}.c-tip-con .c-tip-menu-b ul{text-align:center}.c-tip-con .c-tip-menu-b li a{display:block;text-decoration:none;cursor:pointer;background-color:#fff;padding:3px 0;color:#666}.c-tip-con .c-tip-menu-b li a:hover{display:block;background-color:#ebebeb}#search{width:900px;padding:35px 0 16px 35px}#search .s_help{position:relative;top:10px}#foot{height:20px;line-height:20px;color:#77c;background:#e6e6e6;text-align:center}#foot span{color:#666}.site_tip{font-size:12px;margin-bottom:20px}.site_tip_icon{width:56px;height:56px;background:url(\\\\/\\\\/www.baidu.com\\\\/aladdin\\\\/img\\\\/tools\\\\/tools-3.png) -288px 0 no-repeat}.to_zhidao,.to_tieba,.to_zhidao_bottom{font-size:16px;line-height:24px;margin:20px 0 0 35px}.to_tieba .c-icon-tieba{float:left}.f{line-height:115%;*line-height:120%;font-size:100%;width:33.7em;word-break:break-all;word-wrap:break-word}.h{margin-left:8px;width:100%}.r{word-break:break-all;cursor:hand;width:238px}.t{font-weight:400;font-size:medium;margin-bottom:1px}.pl{padding-left:3px;height:8px;padding-right:2px;font-size:14px}.mo,a.mo:link,a.mo:visited{color:#666;font-size:100%;line-height:10px}.htb{margin-bottom:5px}.jc a{color:#c00}a font[size=\\\\\"3\\\\\"] font,font[size=\\\\\"3\\\\\"] a font{text-decoration:underline}div.blog,div.bbs{color:#707070;padding-top:2px;font-size:13px}.result{width:33.7em;table-layout:fixed}.result-op .f{word-wrap:normal}.nums{font-size:12px;color:#999}.tools{position:absolute;top:10px;white-space:nowrap}#mHolder{width:62px;position:relative;z-index:296;top:-18px;margin-left:9px;margin-right:-12px;display:none}#mCon{height:18px;position:absolute;top:3px;top:6px\\\\\\\\9;cursor:pointer;line-height:18px}.wrapper_l #mCon{right:7px}#mCon span{color:#00c;display:block}#mCon .hw{text-decoration:underline;cursor:pointer;display:inline-block}#mCon .pinyin{display:inline-block}#mCon .c-icon-chevron-unfold2{margin-left:5px}#mMenu{width:56px;border:1px solid #9b9b9b;position:absolute;right:7px;top:23px;display:none;background:#fff}#mMenu a{width:100%;height:100%;color:#00c;display:block;line-height:22px;text-indent:6px;text-decoration:none;filter:none\\\\\\\\9}#mMenu a:hover{background:#ebebeb}#mMenu .ln{height:1px;background:#ebebeb;overflow:hidden;font-size:1px;line-height:1px;margin-top:-1px}.op_LAMP{background:url(\\\\/\\\\/www.baidu.com\\\\/cache\\\\/global\\\\/img\\\\/aladdinIcon-1.0.gif) no-repeat 0 2px;color:#77C;display:inline-block;font-size:13px;height:12px;*height:14px;width:16px;text-decoration:none;zoom:1}.EC_mr15{margin-left:0}.pd15{padding-left:0}.map_1{width:30em;font-size:80%;line-height:145%}.map_2{width:25em;font-size:80%;line-height:145%}.favurl{background-repeat:no-repeat;background-position:0 1px;padding-left:20px}.dan_tip{font-size:12px;margin-top:4px}.dan_tip a{color:#b95b07}#more,#u ul,#mMenu,.msg_holder{box-shadow:1px 1px 2px #ccc;-moz-box-shadow:1px 1px 2px #ccc;-webkit-box-shadow:1px 1px 2px #ccc;filter:progid:DXImageTransform.Microsoft.Shadow(Strength=2, Direction=135, Color=#cccccc)\\\\\\\\9}.hit_top{line-height:18px;margin:0 15px 10px 0;width:516px}.hit_top .c-icon-bear{height:18px;margin-right:4px}#rs_top_new,.hit_top_new{width:538px;font-size:13px;line-height:1.54;word-wrap:break-word;word-break:break-all;margin:0 0 14px}.zhannei-si{margin:0 0 10px 121px}.zhannei-si-none{margin:10px 0 -10px 121px}.zhannei-search{margin:10px 0 0 121px;color:#999;font-size:14px}.f a font[size=\\\\\"3\\\\\"] font,.f font[size=\\\\\"-1\\\\\"] a font{text-decoration:underline}h3 a font{text-decoration:underline}.c-title{font-weight:400;font-size:16px}.c-title-size{font-size:16px}.c-abstract{font-size:13px}.c-abstract-size{font-size:13px}.c-showurl{color:green;font-size:13px}.c-showurl-color{color:green}.c-cache-color{color:#666}.c-lightblue{color:#77c}.c-highlight-color{color:#c00}.c-clearfix:after{content:\\\\\".\\\\\";display:block;height:0;clear:both;visibility:hidden}.c-clearfix{zoom:1}.c-wrap{word-break:break-all;word-wrap:break-word}.c-icons-outer{overflow:hidden;display:inline-block;vertical-align:bottom;*vertical-align:-1px;_vertical-align:bottom}.c-icons-inner{margin-left:-4px}.c-container table.result,.c-container table.result-op{width:100%}.c-container td.f{font-size:13px;line-height:1.54;width:auto}.c-container .vd_newest_main{width:auto}.c-customicon{display:inline-block;width:16px;height:16px;vertical-align:text-bottom;font-style:normal;overflow:hidden}.c-tip-icon i{display:inline-block;cursor:pointer}.c-tip-con{position:absolute;z-index:1;top:22px;left:-35px;background:#fff;border:1px solid #dcdcdc;border:1px solid rgba(0,0,0,.2);-webkit-transition:opacity .218s;transition:opacity .218s;-webkit-box-shadow:0 2px 4px rgba(0,0,0,.2);box-shadow:0 2px 4px rgba(0,0,0,.2);padding:5px 0;display:none;font-size:12px;line-height:20px}.c-tip-arrow{width:0;height:0;font-size:0;line-height:0;display:block;position:absolute;top:-16px}.c-tip-arrow-down{top:auto;bottom:0}.c-tip-arrow em,.c-tip-arrow ins{width:0;height:0;font-size:0;line-height:0;display:block;position:absolute;border:8px solid transparent;border-style:dashed dashed solid}.c-tip-arrow em{border-bottom-color:#d8d8d8}.c-tip-arrow ins{border-bottom-color:#fff;top:2px}.c-tip-arrow-down em,.c-tip-arrow-down ins{border-style:solid dashed dashed;border-color:transparent}.c-tip-arrow-down em{border-top-color:#d8d8d8}.c-tip-arrow-down ins{border-top-color:#fff;top:-2px}.c-tip-arrow .c-tip-arrow-r{border-bottom-color:#82c9fa;top:2px}.c-tip-arrow-down .c-tip-arrow-r{border-bottom-color:transparent;top:-2px}.c-tip-arrow .c-tip-arrow-c{border-bottom-color:#fecc47;top:2px}.c-tip-arrow-down .c-tip-arrow-c{border-bottom-color:transparent;top:-2px}.c-tip-con h3{font-size:12px}.c-tip-con .c-tip-title{margin:0 10px;display:inline-block;width:239px}.c-tip-con .c-tip-info{color:#666;margin:0 10px 1px;width:239px}.c-tip-con .c-tip-cer{width:370px;color:#666;margin:0 10px 1px}.c-tip-con .c-tip-title{width:auto;_width:354px}.c-tip-con .c-tip-item-i{padding:3px 0 3px 20px;line-height:14px}.c-tip-con .c-tip-item-i .c-tip-item-icon{margin-left:-20px}.c-tip-con .c-tip-menu ul{width:74px}.c-tip-con .c-tip-menu ul{text-align:center}.c-tip-con .c-tip-menu li a{display:block;text-decoration:none;cursor:pointer;background-color:#fff;padding:3px 0;color:#0000d0}.c-tip-con .c-tip-menu li a:hover{display:block;background-color:#ebebeb}.c-tip-con .c-tip-notice{width:239px;padding:0 10px}.c-tip-con .c-tip-notice .c-tip-notice-succ{color:#4cbd37}.c-tip-con .c-tip-notice .c-tip-notice-fail{color:#f13F40}.c-tip-con .c-tip-notice .c-tip-item-succ{color:#444}.c-tip-con .c-tip-notice .c-tip-item-fail{color:#aaa}.c-tip-con .c-tip-notice .c-tip-item-fail a{color:#aaa}.c-tip-close{right:10px;position:absolute;cursor:pointer}.ecard{height:86px;overflow:hidden}.c-tools{display:inline}.c-tools-share{width:239px;padding:0 10px}.c-fanyi{display:none;width:20px;height:20px;border:solid 1px #d1d1d1;cursor:pointer;position:absolute;margin-left:516px;text-align:center;color:#333;line-height:22px;opacity:.9;background-color:#fff}.c-fanyi:hover{background-color:#39f;color:#fff;border-color:#39f;opacity:1}.c-fanyi-title,.c-fanyi-abstract{display:none}.icp_info{color:#666;margin-top:2px;font-size:13px}.icon-gw,.icon-unsafe-icon{background:#2c99ff;vertical-align:text-bottom;*vertical-align:baseline;height:16px;padding-top:0;padding-bottom:0;padding-left:6px;padding-right:6px;line-height:16px;_padding-top:2px;_height:14px;_line-height:14px;font-size:12px;font-family:simsun;margin-left:10px;overflow:hidden;display:inline-block;-moz-border-radius:1px;-webkit-border-radius:1px;border-radius:1px;color:#fff}a.icon-gw{color:#fff;background:#2196ff;text-decoration:none;cursor:pointer}a.icon-gw:hover{background:#1e87ef}a.icon-gw:active{height:15px;_height:13px;line-height:15px;_line-height:13px;padding-left:5px;background:#1c80d9;border-left:1px solid #145997;border-top:1px solid #145997}.icon-unsafe-icon{background:#e54d4b}#con-at{margin-bottom:9px;padding-left:121px;border-bottom:1px #ebebeb solid}#con-at .result-op{font-size:13px;line-height:1.52em}.wrapper_l #con-at .result-op{width:1058px}.wrapper_s #con-at .result-op{width:869px}#con-ar{margin-bottom:40px}#con-ar .result-op{margin-bottom:28px;font-size:13px;line-height:1.52em}.result_hidden{position:absolute;top:-10000px;left:-10000px}#content_left .result-op,#content_left .result{margin-bottom:14px;border-collapse:collapse}#content_left .c-border .result-op,#content_left .c-border .result{margin-bottom:25px}#content_left .c-border .result-op:last-child,#content_left .c-border .result:last-child{margin-bottom:12px}#content_left .result .f,#content_left .result-op .f{padding:0}.subLink_factory{border-collapse:collapse}.subLink_factory td{padding:0}.subLink_factory td.middle,.subLink_factory td.last{color:#666}.subLink_factory td a{text-decoration:underline}.subLink_factory td.rightTd{text-align:right}.subLink_factory_right{width:100%}.subLink_factory_left td{padding-right:26px}.subLink_factory_left td.last{padding:0}.subLink_factory_left td.first{padding-right:75px}.subLink_factory_right td{width:90px}.subLink_factory_right td.first{width:auto}.general_image_pic a{background:#fff no-repeat center center;text-decoration:none;display:block;overflow:hidden;text-align:left}.res_top_banner{height:36px;text-align:left;border-bottom:1px solid #e3e3e3;background:#f7f7f7;font-size:13px;padding-left:8px;color:#333;position:relative;z-index:302}.res_top_banner span{_zoom:1}.res_top_banner .res_top_banner_icon{background-position:0 -216px;width:18px;height:18px;margin:9px 10px 0 0}.res_top_banner .res_top_banner_icon_baiduapp{background:url(https:\\\\/\\\\/ss1.bdstatic.com\\\\/5eN1bjq8AAUYm2zgoY3K\\\\/r\\\\/www\\\\/cache\\\\/static\\\\/protocol\\\\/https\\\\/global\\\\/img\\\\/baiduappLogo_de45621.png) no-repeat 0 0;width:24px;height:24px;margin:3px 10px 0 0;position:relative;top:3px}.res_top_banner .res_top_banner_icon_windows{background:url(https:\\\\/\\\\/ss1.bdstatic.com\\\\/5eN1bjq8AAUYm2zgoY3K\\\\/r\\\\/www\\\\/cache\\\\/static\\\\/protocol\\\\/https\\\\/global\\\\/img\\\\/winlogo_e925689.png) no-repeat 0 0;width:18px;height:18px;margin:9px 10px 0 0}.res_top_banner .res_top_banner_download{display:inline-block;width:65px;line-height:21px;_padding-top:1px;margin:0 0 0 10px;color:#333;background:#fbfbfb;border:1px solid #b4b6b8;text-align:center;text-decoration:none}.res_top_banner .res_top_banner_download:hover{border:1px solid #38f}.res_top_banner .res_top_banner_download:active{background:#f0f0f0;border:1px solid #b4b6b8}.res_top_banner .res_top_banner_close{background-position:-672px -144px;cursor:pointer;position:absolute;right:10px;top:10px}.res_top_banner_for_win{height:34px;text-align:left;border-bottom:1px solid #f0f0f0;background:#fdfdfd;font-size:13px;padding-left:12px;color:#333;position:relative;z-index:302}.res_top_banner_for_win span{_zoom:1;color:#666}.res_top_banner_for_win .res_top_banner_download{display:inline-block;width:auto;line-height:21px;_padding-top:1px;margin:0 0 0 16px;color:#333;text-align:left;text-decoration:underline}.res_top_banner_for_win .res_top_banner_icon_windows{background:url(https:\\\\/\\\\/ss1.bdstatic.com\\\\/5eN1bjq8AAUYm2zgoY3K\\\\/r\\\\/www\\\\/cache\\\\/static\\\\/protocol\\\\/https\\\\/global\\\\/img\\\\/winlogo_e925689.png) no-repeat 0 0;width:18px;height:18px;margin:8px 8px 0 0}.res_top_banner_for_win .res_top_banner_close{background-position:-672px -144px;cursor:pointer;position:absolute;right:10px;top:10px}.res-gap-right16{margin-right:16px}.res-border-top{border-top:1px solid #f3f3f3}.res-border-bottom{border-bottom:1px solid #f3f3f3}.res-queryext-pos{position:relative;top:1px;_top:0}.c-trust-ecard{height:86px;_height:97px;overflow:hidden}@-moz-document url-prefix(){.result,.f{width:538px}}body{min-width:1000px}#ftCon{display:none}#qrcode{display:none}#pad-version{display:none}#index_guide{display:none}#index_logo{display:none}#u1{display:none}.s_ipt_wr{height:32px}body{padding:0}.s_form:after,.s_tab:after{content:\\\\\".\\\\\";display:block;height:0;clear:both;visibility:hidden}.s_form{zoom:1;height:55px;padding:0 0 0 10px}#result_logo{float:left;margin:7px 0 0}#result_logo img{width:101px}#head{padding:0;margin:0;width:100%;position:absolute;z-index:301;min-width:1000px;background:#fff;border-bottom:1px solid #ebebeb;position:fixed;_position:absolute;-webkit-transform:translateZ(0)}#head .head_wrapper{_width:1000px}#head.s_down{box-shadow:0 0 5px #888}.fm{clear:none;float:left;margin:11px 0 0 10px}#s_tab{background:#f8f8f8;line-height:36px;height:38px;padding:55px 0 0 121px;float:none;zoom:1}#s_tab a,#s_tab b{width:54px;display:inline-block;text-decoration:none;text-align:center;color:#666;font-size:14px}#s_tab b{border-bottom:2px solid #38f;font-weight:700;color:#323232}#s_tab a:hover{color:#323232}#content_left{width:540px;padding-left:121px;padding-top:5px}#content_right{margin-top:45px}#content_bottom{width:540px;padding-left:121px}#page{padding:0 0 0 121px;margin:30px 0 40px}.to_tieba,.to_zhidao_bottom{margin:10px 0 0 121px;padding-top:5px}.nums{margin:0 0 0 121px;height:42px;line-height:42px}#rs{padding:0;margin:6px 0 0 121px;width:600px}#rs th{width:175px;line-height:22px}#rs .tt{padding:0;line-height:30px}#rs td{width:5px}#rs table{width:540px}#help{background:#f5f6f5;zoom:1;padding:0 0 0 50px;float:right}#help a{color:#777;padding:0 15px;text-decoration:none}#help a:hover{color:#333}#foot{background:#f5f6f5;border-top:1px solid #ebebeb;text-align:left;height:42px;line-height:42px;margin-top:40px;*margin-top:0}#foot .foot_c{float:left;padding:0 0 0 121px}.content_none{padding:45px 0 25px 121px}.nors p{font-size:18px;font-family:microsoft yahei;color:#000}.nors p em{color:#c00}.nors .tip_head{color:#666;font-size:13px;line-height:28px}.nors li{color:#333;line-height:28px;font-size:13px;font-family:\\'\\\\u5b8b\\\\u4f53\\';padding-left:30px;list-style-position:inside;list-style-type:disc}#mCon{top:5px}.s_ipt_wr.bg,.s_btn_wr.bg,#su.bg{background-image:none}.s_ipt_wr.bg{background:0 0}.s_btn_wr{width:auto;height:auto;border-bottom:1px solid transparent;*border-bottom:0}.s_btn{width:100px;height:34px;color:#fff;letter-spacing:1px;background:#3385ff;border-bottom:1px solid #2d78f4;outline:medium;*border-bottom:0;-webkit-appearance:none;-webkit-border-radius:0}.s_btn.btnhover{background:#317ef3;border-bottom:1px solid #2868c8;*border-bottom:0;box-shadow:1px 1px 1px #ccc}.s_btn_h{background:#3075dc;box-shadow:inset 1px 1px 3px #2964bb;-webkit-box-shadow:inset 1px 1px 3px #2964bb;-moz-box-shadow:inset 1px 1px 3px #2964bb;-o-box-shadow:inset 1px 1px 3px #2964bb}#wrapper_wrapper .container_l .EC_ppim_top,#wrapper_wrapper .container_xl .EC_ppim_top{width:640px}#wrapper_wrapper .container_s .EC_ppim_top{width:570px}#head .c-icon-bear-round{display:none}.container_l #content_right{width:384px}.container_l{width:1212px}.container_xl #content_right{width:384px}.container_xl{width:1257px}.index_tab_top{display:none}.index_tab_bottom{display:none}#lg{display:none}#m{display:none}#ftCon{display:none}#ent_sug{position:absolute;margin:141px 0 0 130px;font-size:13px;color:#666}.foot_fixed_bottom{position:fixed;bottom:0;width:100%;_position:absolute;_bottom:auto}#head .headBlock{margin:-5px 0 6px 121px}#content_left .leftBlock{margin-bottom:14px;padding-bottom:5px;border-bottom:1px solid #f3f3f3}.hint_toprq_tips{position:relative;width:537px;height:19px;line-height:19px;overflow:hidden;display:none}.hint_toprq_tips span{color:#666}.hint_toprq_icon{margin:0 4px 0 0}.hint_toprq_tips_items{width:444px;_width:440px;max-height:38px;position:absolute;left:95px;top:1px}.hint_toprq_tips_items div{display:inline-block;float:left;height:19px;margin-right:18px;white-space:nowrap;word-break:keep-all}.translateContent{max-width:350px}.translateContent .translateTool{height:16px;margin:-3px 2px}.translateContent .action-translate,.translateContent .action-search{display:inline-block;width:20px;height:16px;background:url(https:\\\\/\\\\/ss1.bdstatic.com\\\\/5eN1bjq8AAUYm2zgoY3K\\\\/r\\\\/www\\\\/cache\\\\/static\\\\/protocol\\\\/https\\\\/global\\\\/img\\\\/translate_tool_icon_57087b6.gif) no-repeat}.translateContent .action-translate{background-position:0 0;border-right:1px solid #dcdcdc}.translateContent .action-translate:hover{background-position:0 -20px}.translateContent .action-search{background-position:-20px 0}.translateContent .action-search:hover{background-position:-20px -20px}.nums{width:538px}.search_tool{_padding-top:15px}.head_nums_cont_outer{height:40px;overflow:hidden;position:relative}.head_nums_cont_inner{position:relative}.search_tool_conter .c-gap-left{margin-left:23px}.search_tool_conter .c-icon-triangle-down{opacity:.6}.search_tool_conter .c-icon-triangle-down:hover{opacity:1}.search_tool,.search_tool_close{float:right}.search_tool,.search_tool_conter span{cursor:pointer;color:#666}.search_tool:hover,.search_tool_conter span:hover{color:#333}.search_tool_conter{font-size:12px;color:#666;margin:0 0 0 121px;height:42px;width:538px;line-height:42px;*height:auto;*line-height:normal;*padding:14px 0}.search_tool_conter span strong{color:#666}.c-tip-con .c-tip-langfilter ul{width:80px;text-align:left;color:#666}.c-tip-con .c-tip-langfilter li a{text-indent:15px;color:#666}.c-tip-con .c-tip-langfilter li span{text-indent:15px;padding:3px 0;color:#999;display:block}.c-tip-con .c-tip-timerfilter ul{width:115px;text-align:left;color:#666}.c-tip-con .c-tip-timerfilter-ft ul{width:180px}.c-tip-con .c-tip-timerfilter-si ul{width:206px;padding:7px 10px 10px}.c-tip-con .c-tip-timerfilter li a{text-indent:15px;color:#666}.c-tip-con .c-tip-timerfilter li span{text-indent:15px;padding:3px 0;color:#999;display:block}.c-tip-con .c-tip-timerfilter-ft li a,.c-tip-con .c-tip-timerfilter-ft li span{text-indent:20px}.c-tip-custom{padding:0 15px 10px;position:relative;zoom:1}.c-tip-custom hr{border:0;height:0;border-top:1px solid #ebebeb}.c-tip-custom p{color:#b6b6b6;height:25px;line-height:25px;margin:2px 0}.c-tip-custom .c-tip-custom-et{margin-bottom:7px}.c-tip-custom-input,.c-tip-si-input{display:inline-block;font-size:11px;color:#333;margin-left:4px;padding:0 2px;width:74%;height:16px;line-height:16px\\\\\\\\9;border:1px solid #ebebeb;outline:0;box-sizing:content-box;-webkit-box-sizing:content-box;-moz-box-sizing:content-box;overflow:hidden;position:relative}.c-tip-custom-input-init{color:#d4d4d4}.c-tip-custom-input-focus,.c-tip-si-input-focus{border:1px solid #3385ff}.c-tip-timerfilter-si .c-tip-si-input{width:138px;height:22px;line-height:22px;vertical-align:0;*vertical-align:-6px;_vertical-align:-5px;padding:0 5px;margin-left:0}.c-tip-con .c-tip-timerfilter li .c-tip-custom-submit,.c-tip-con .c-tip-timerfilter li .c-tip-timerfilter-si-submit{display:inline;padding:4px 10px;margin:0;color:#333;border:1px solid #d8d8d8;font-family:inherit;font-weight:400;text-align:center;vertical-align:0;background-color:#f9f9f9;outline:0}.c-tip-con .c-tip-timerfilter li .c-tip-custom-submit:hover,.c-tip-con .c-tip-timerfilter li .c-tip-timerfilter-si-submit:hover{display:inline;border-color:#388bff}.c-tip-timerfilter-si-error,.c-tip-timerfilter-custom-error{display:none;color:#3385FF;padding-left:4px}.c-tip-timerfilter-custom-error{padding:0;margin:-5px -13px 7px 0}#c-tip-custom-calenderCont{position:absolute;background:#fff;white-space:nowrap;padding:5px 10px;color:#000;border:1px solid #e4e4e4;-webkit-box-shadow:0 2px 4px rgba(0,0,0,.2);box-shadow:0 2px 4px rgba(0,0,0,.2)}#c-tip-custom-calenderCont p{text-align:center;padding:2px 0 4px;*padding:4px 0}#c-tip-custom-calenderCont p i{color:#8e9977;cursor:pointer;text-decoration:underline;font-size:13px}#c-tip-custom-calenderCont .op_cal{background:#fff}.op_cal table{background:#eeefea;margin:0;border-collapse:separate}.op_btn_pre_month,.op_btn_next_month{cursor:pointer;display:block;margin-top:6px}.op_btn_pre_month{float:left;background-position:0 -46px}.op_btn_next_month{float:right;background-position:-18px -46px}.op_cal .op_mon_pre1{padding:0}.op_mon th{text-align:center;font-size:12px;background:#FFF;font-weight:700;border:1px solid #FFF;padding:0}.op_mon td{text-align:center;cursor:pointer}.op_mon h5{margin:0;padding:0 4px;text-align:center;font-size:14px;background:#FFF;height:28px;line-height:28px;border-bottom:1px solid #f5f5f5;margin-bottom:5px}.op_mon strong{font-weight:700}.op_mon td{padding:0 5px;border:1px solid #fff;font-size:12px;background:#fff;height:100%}.op_mon td.op_mon_pre_month{color:#a4a4a4}.op_mon td.op_mon_cur_month{color:#00c}.op_mon td.op_mon_next_month{color:#a4a4a4}.op_mon td.op_mon_day_hover{color:#000;border:1px solid #278df2}.op_mon td.op_mon_day_selected{color:#FFF;border:1px solid #278df2;background:#278df2}.op_mon td.op_mon_day_disabled{cursor:not-allowed;color:#ddd}.zhannei-si-none,.zhannei-si,.hit_quet,.zhannei-search{display:none}#c-tip-custom-calenderCont .op_mon td.op_mon_cur_month{color:#000}#c-tip-custom-calenderCont .op_mon td.op_mon_day_selected{color:#fff}.c-icon-toen{width:24px;height:24px;line-height:24px;background-color:#1cb7fd;color:#fff;font-size:14px;font-weight:700;font-style:normal;display:block;display:inline-block;float:left;text-align:center}.hint_common_restop{width:538px;color:#999;font-size:12px;text-align:left;margin:5px 0 10px 121px}#con-at~#wrapper_wrapper .hint_common_restop{padding-top:7px}.sitelink{overflow:auto;zoom:1}.sitelink_summary{float:left;width:47%;padding-right:30px}.sitelink_summary a{font-size:1.1em;position:relative}.sitelink_summary_last{padding-right:0}.sitelink_en{overflow:auto;zoom:1}.sitelink_en_summary{float:left;width:47%;padding-right:30px}.sitelink_en_summary a{font-size:1.1em;position:relative}.sitelink_en_summary_last{padding-right:0}.sitelink_en_summary_title,.sitelink_en_summary .m{height:22px;overflow:hidden}.without-summary-sitelink-en-container{overflow:hidden;height:22px}.without-summary-sitelink-en{float:left}.without-summary-sitelink-en-delimiter{margin-right:5px;margin-left:5px}.wise-qrcode-wrapper{height:42px;line-height:42px;position:absolute;margin-left:8px;top:0;z-index:300}.wise-qrcode-icon-outer{overflow:hidden}.wise-qrcode-icon{position:relative;display:inline-block;width:15px;height:15px;vertical-align:text-bottom;overflow:hidden;opacity:.5;background:url(https:\\\\/\\\\/ss1.bdstatic.com\\\\/5eN1bjq8AAUYm2zgoY3K\\\\/r\\\\/www\\\\/cache\\\\/static\\\\/protocol\\\\/https\\\\/global\\\\/img\\\\/qrcode_icon_ae03227.png) no-repeat;-webkit-transform:translateY(42px);-ms-transform:translateY(42px);transform:translateY(42px);-webkit-background-size:100% 100%;background-size:100%}.wise-qrcode-container{padding:15px;background:#fff;display:none;top:61px;left:0;-webkit-transform:translateX(-50%);-ms-transform:translateX(-50%);transform:translateX(-50%);-webkit-box-shadow:0 0 1px rgba(0,0,0,.5);box-shadow:0 0 1px rgba(0,0,0,.5)}.wise-qrcode-wrapper.show:hover .wise-qrcode-container{display:block}.wise-qrcode-image{width:90px;height:90px;display:inline-block;vertical-align:middle}.wise-qrcode-image .wise-qrcode-canvas{width:100%;height:100%}.wise-qrcode-right{display:inline-block;vertical-align:middle;margin-left:15px}.wise-qrcode-title{font-size:16px;color:#000;line-height:26px}.wise-qrcode-text{font-size:12px;line-height:22px;color:#555}.c-frame{margin-bottom:18px}.c-offset{padding-left:10px}.c-gray{color:#666}.c-gap-top-small{margin-top:5px}.c-gap-top{margin-top:10px}.c-gap-bottom-small{margin-bottom:5px}.c-gap-bottom{margin-bottom:10px}.c-gap-left{margin-left:12px}.c-gap-left-small{margin-left:6px}.c-gap-right{margin-right:12px}.c-gap-right-small{margin-right:6px}.c-gap-right-large{margin-right:16px}.c-gap-left-large{margin-left:16px}.c-gap-icon-right-small{margin-right:5px}.c-gap-icon-right{margin-right:10px}.c-gap-icon-left-small{margin-left:5px}.c-gap-icon-left{margin-left:10px}.c-container{width:538px;font-size:13px;line-height:1.54;word-wrap:break-word;word-break:break-word}.c-container .c-container{width:auto}.c-container table{border-collapse:collapse;border-spacing:0}.c-container td{font-size:13px;line-height:1.54}.c-default{font-size:13px;line-height:1.54;word-wrap:break-word;word-break:break-all}.c-container .t,.c-default .t{line-height:1.54}.c-default .t{margin-bottom:0}.cr-content{width:259px;font-size:13px;line-height:1.54;color:#333;word-wrap:break-word;word-break:normal}.cr-content table{border-collapse:collapse;border-spacing:0}.cr-content td{font-size:13px;line-height:1.54;vertical-align:top}.cr-offset{padding-left:17px}.cr-title{font-size:14px;line-height:1.29;font-weight:700}.cr-title-sub{float:right;font-size:13px;font-weight:400}.c-row{*zoom:1}.c-row:after{display:block;height:0;content:\\\\\"\\\\\";clear:both;visibility:hidden}.c-span2{width:29px}.c-span3{width:52px}.c-span4{width:75px}.c-span5{width:98px}.c-span6{width:121px}.c-span7{width:144px}.c-span8{width:167px}.c-span9{width:190px}.c-span10{width:213px}.c-span11{width:236px}.c-span12{width:259px}.c-span13{width:282px}.c-span14{width:305px}.c-span15{width:328px}.c-span16{width:351px}.c-span17{width:374px}.c-span18{width:397px}.c-span19{width:420px}.c-span20{width:443px}.c-span21{width:466px}.c-span22{width:489px}.c-span23{width:512px}.c-span24{width:535px}.c-span2,.c-span3,.c-span4,.c-span5,.c-span6,.c-span7,.c-span8,.c-span9,.c-span10,.c-span11,.c-span12,.c-span13,.c-span14,.c-span15,.c-span16,.c-span17,.c-span18,.c-span19,.c-span20,.c-span21,.c-span22,.c-span23,.c-span24{float:left;_display:inline;margin-right:17px;list-style:none}.c-span-last{margin-right:0}.c-span-last-s{margin-right:0}.container_l .cr-content{width:351px}.container_l .cr-content .c-span-last-s{margin-right:17px}.container_l .cr-content-narrow{width:259px}.container_l .cr-content-narrow .c-span-last-s{margin-right:0}.c-border{width:518px;padding:9px;border:1px solid #e3e3e3;border-bottom-color:#e0e0e0;border-right-color:#ececec;box-shadow:1px 2px 1px rgba(0,0,0,.072);-webkit-box-shadow:1px 2px 1px rgba(0,0,0,.072);-moz-box-shadow:1px 2px 1px rgba(0,0,0,.072);-o-box-shadow:1px 2px 1px rgba(0,0,0,.072)}.c-border .c-gap-left{margin-left:10px}.c-border .c-gap-left-small{margin-left:5px}.c-border .c-gap-right{margin-right:10px}.c-border .c-gap-right-small{margin-right:5px}.c-border .c-border{width:auto;padding:0;border:0;box-shadow:none;-webkit-box-shadow:none;-moz-box-shadow:none;-o-box-shadow:none}.c-border .c-span2{width:34px}.c-border .c-span3{width:56px}.c-border .c-span4{width:78px}.c-border .c-span5{width:100px}.c-border .c-span6{width:122px}.c-border .c-span7{width:144px}.c-border .c-span8{width:166px}.c-border .c-span9{width:188px}.c-border .c-span10{width:210px}.c-border .c-span11{width:232px}.c-border .c-span12{width:254px}.c-border .c-span13{width:276px}.c-border .c-span14{width:298px}.c-border .c-span15{width:320px}.c-border .c-span16{width:342px}.c-border .c-span17{width:364px}.c-border .c-span18{width:386px}.c-border .c-span19{width:408px}.c-border .c-span20{width:430px}.c-border .c-span21{width:452px}.c-border .c-span22{width:474px}.c-border .c-span23{width:496px}.c-border .c-span24{width:518px}.c-border .c-span2,.c-border .c-span3,.c-border .c-span4,.c-border .c-span5,.c-border .c-span6,.c-border .c-span7,.c-border .c-span8,.c-border .c-span9,.c-border .c-span10,.c-border .c-span11,.c-border .c-span12,.c-border .c-span13,.c-border .c-span14,.c-border .c-span15,.c-border .c-span16,.c-border .c-span17,.c-border .c-span18,.c-border .c-span19,.c-border .c-span20,.c-border .c-span21,.c-border .c-span22,.c-border .c-span23,.c-border .c-span24{margin-right:10px}.c-border .c-span-last{margin-right:0}.c-loading{display:block;width:50px;height:50px;background:url(\\\\/\\\\/www.baidu.com\\\\/aladdin\\\\/img\\\\/tools\\\\/loading.gif) no-repeat 0 0}.c-vline{display:inline-block;margin:0 3px;border-left:1px solid #ddd;width:0;height:12px;_vertical-align:middle;_overflow:hidden}.c-icon{background:url(https:\\\\/\\\\/ss1.bdstatic.com\\\\/5eN1bjq8AAUYm2zgoY3K\\\\/r\\\\/www\\\\/cache\\\\/static\\\\/protocol\\\\/https\\\\/global\\\\/img\\\\/icons_5859e57.png) no-repeat 0 0;_background-image:url(https:\\\\/\\\\/ss1.bdstatic.com\\\\/5eN1bjq8AAUYm2zgoY3K\\\\/r\\\\/www\\\\/cache\\\\/static\\\\/protocol\\\\/https\\\\/global\\\\/img\\\\/icons_d5b04cc.gif)}.c-icon{display:inline-block;width:14px;height:14px;vertical-align:text-bottom;font-style:normal;overflow:hidden}.c-icon-unfold,.c-icon-fold,.c-icon-chevron-unfold,.c-icon-chevron-fold{width:12px;height:12px}.c-icon-star,.c-icon-star-gray{width:60px}.c-icon-qa-empty,.c-icon-safeguard,.c-icon-register-empty,.c-icon-zan,.c-icon-music,.c-icon-music-gray,.c-icon-location,.c-icon-warning,.c-icon-doc,.c-icon-xls,.c-icon-ppt,.c-icon-pdf,.c-icon-txt,.c-icon-play-black,.c-icon-gift,.c-icon-baidu-share,.c-icon-bear,.c-icon-bear-border,.c-icon-location-blue,.c-icon-hotAirBall,.c-icon-moon,.c-icon-streetMap,.c-icon-mv,.c-icon-zhidao-s,.c-icon-shopping{width:16px;height:16px}.c-icon-bear-circle,.c-icon-warning-circle,.c-icon-warning-triangle,.c-icon-warning-circle-gray{width:18px;height:18px}.c-icon-tieba,.c-icon-zhidao,.c-icon-bear-p,.c-icon-bear-pn{width:24px;height:24px}.c-icon-ball-blue,.c-icon-ball-red{width:38px;height:38px}.c-icon-unfold:hover,.c-icon-fold:hover,.c-icon-chevron-unfold:hover,.c-icon-chevron-fold:hover,.c-icon-download:hover,.c-icon-lyric:hover,.c-icon-v:hover,.c-icon-hui:hover,.c-icon-bao:hover,.c-icon-person:hover,.c-icon-high-v:hover,.c-icon-phone:hover,.c-icon-nuo:hover,.c-icon-fan:hover,.c-icon-med:hover,.c-icon-air:hover,.c-icon-share2:hover,.c-icon-v1:hover,.c-icon-v2:hover,.c-icon-write:hover,.c-icon-R:hover{border-color:#388bff}.c-icon-unfold:active,.c-icon-fold:active,.c-icon-chevron-unfold:active,.c-icon-chevron-fold:active,.c-icon-download:active,.c-icon-lyric:active,.c-icon-v:active,.c-icon-hui:active,.c-icon-bao:active,.c-icon-person:active,.c-icon-high-v:active,.c-icon-phone:active,.c-icon-nuo:active,.c-icon-fan:active,.c-icon-med:active,.c-icon-air:active,.c-icon-share2:active,.c-icon-v1:active,.c-icon-v2:active,.c-icon-write:active,.c-icon-R:active{border-color:#a2a6ab;background-color:#f0f0f0;box-shadow:inset 1px 1px 1px #c7c7c7;-webkit-box-shadow:inset 1px 1px 1px #c7c7c7;-moz-box-shadow:inset 1px 1px 1px #c7c7c7;-o-box-shadow:inset 1px 1px 1px #c7c7c7}.c-icon-v3:hover{border-color:#ffb300}.c-icon-v3:active{border-color:#a2a6ab;background-color:#f0f0f0;box-shadow:inset 1px 1px 1px #c7c7c7;-webkit-box-shadow:inset 1px 1px 1px #c7c7c7;-moz-box-shadow:inset 1px 1px 1px #c7c7c7;-o-box-shadow:inset 1px 1px 1px #c7c7c7}.c-icon-unfold,.c-icon-fold,.c-icon-chevron-unfold,.c-icon-chevron-fold,.c-icon-download,.c-icon-lyric{border:1px solid #d8d8d8;cursor:pointer}.c-icon-v,.c-icon-hui,.c-icon-bao,.c-icon-person,.c-icon-high-v,.c-icon-phone,.c-icon-nuo,.c-icon-fan,.c-icon-med,.c-icon-air,.c-icon-share2,.c-icon-v1,.c-icon-v2,.c-icon-v3,.c-icon-write,.c-icon-R{border:1px solid #d8d8d8;cursor:pointer;border-color:transparent;_border-color:tomato;_filter:chroma(color=#ff6347)}.c-icon-v1,.c-icon-v2,.c-icon-v3,.c-icon-v1-noborder,.c-icon-v2-noborder,.c-icon-v3-noborder,.c-icon-v1-noborder-disable,.c-icon-v2-noborder-disable,.c-icon-v3-noborder-disable{width:19px}.c-icon-download,.c-icon-lyric{width:16px;height:16px}.c-icon-play-circle,.c-icon-stop-circle{width:18px;height:18px}.c-icon-play-circle-middle,.c-icon-stop-circle-middle{width:24px;height:24px}.c-icon-play-black-large,.c-icon-stop-black-large{width:36px;height:36px}.c-icon-play-black-larger,.c-icon-stop-black-larger{width:52px;height:52px}.c-icon-flag{background-position:0 -144px}.c-icon-bus{background-position:-24px -144px}.c-icon-calendar{background-position:-48px -144px}.c-icon-street{background-position:-72px -144px}.c-icon-map{background-position:-96px -144px}.c-icon-bag{background-position:-120px -144px}.c-icon-money{background-position:-144px -144px}.c-icon-game{background-position:-168px -144px}.c-icon-user{background-position:-192px -144px}.c-icon-globe{background-position:-216px -144px}.c-icon-lock{background-position:-240px -144px}.c-icon-plane{background-position:-264px -144px}.c-icon-list{background-position:-288px -144px}.c-icon-star-gray{background-position:-312px -144px}.c-icon-circle-gray{background-position:-384px -144px}.c-icon-triangle-down{background-position:-408px -144px}.c-icon-triangle-up{background-position:-432px -144px}.c-icon-triangle-up-empty{background-position:-456px -144px}.c-icon-sort-gray{background-position:-480px -144px}.c-icon-sort-up{background-position:-504px -144px}.c-icon-sort-down{background-position:-528px -144px}.c-icon-down-gray{background-position:-552px -144px}.c-icon-up-gray{background-position:-576px -144px}.c-icon-download-noborder{background-position:-600px -144px}.c-icon-lyric-noborder{background-position:-624px -144px}.c-icon-download-white{background-position:-648px -144px}.c-icon-close{background-position:-672px -144px}.c-icon-fail{background-position:-696px -144px}.c-icon-success{background-position:-720px -144px}.c-icon-triangle-down-g{background-position:-744px -144px}.c-icon-refresh{background-position:-768px -144px}.c-icon-chevron-left-gray{background-position:-816px -144px}.c-icon-chevron-right-gray{background-position:-840px -144px}.c-icon-setting{background-position:-864px -144px}.c-icon-close2{background-position:-888px -144px}.c-icon-chevron-top-gray-s{background-position:-912px -144px}.c-icon-fullscreen{background-position:0 -168px}.c-icon-safe{background-position:-24px -168px}.c-icon-exchange{background-position:-48px -168px}.c-icon-chevron-bottom{background-position:-72px -168px}.c-icon-chevron-top{background-position:-96px -168px}.c-icon-unfold{background-position:-120px -168px}.c-icon-fold{background-position:-144px -168px}.c-icon-chevron-unfold{background-position:-168px -168px}.c-icon-qa{background-position:-192px -168px}.c-icon-register{background-position:-216px -168px}.c-icon-star{background-position:-240px -168px}.c-icon-star-gray{position:relative}.c-icon-star-gray .c-icon-star{position:absolute;top:0;left:0}.c-icon-play-blue{background-position:-312px -168px}.c-icon-pic{width:16px;background-position:-336px -168px}.c-icon-chevron-fold{background-position:-360px -168px}.c-icon-video{width:18px;background-position:-384px -168px}.c-icon-circle-blue{background-position:-408px -168px}.c-icon-circle-yellow{background-position:-432px -168px}.c-icon-play-white{background-position:-456px -168px}.c-icon-triangle-down-blue{background-position:-480px -168px}.c-icon-chevron-unfold2{background-position:-504px -168px}.c-icon-right{background-position:-528px -168px}.c-icon-right-empty{background-position:-552px -168px}.c-icon-new-corner{width:15px;background-position:-576px -168px}.c-icon-horn{background-position:-600px -168px}.c-icon-right-large{width:18px;background-position:-624px -168px}.c-icon-wrong-large{background-position:-648px -168px}.c-icon-circle-blue-s{background-position:-672px -168px}.c-icon-play-gray{background-position:-696px -168px}.c-icon-up{background-position:-720px -168px}.c-icon-down{background-position:-744px -168px}.c-icon-stable{background-position:-768px -168px}.c-icon-calendar-blue{background-position:-792px -168px}.c-icon-triangle-down-blue2{background-position:-816px -168px}.c-icon-triangle-up-blue2{background-position:-840px -168px}.c-icon-down-blue{background-position:-864px -168px}.c-icon-up-blue{background-position:-888px -168px}.c-icon-ting{background-position:-912px -168px}.c-icon-piao{background-position:-936px -168px}.c-icon-wrong-empty{background-position:-960px -168px}.c-icon-warning-circle-s{background-position:-984px -168px}.c-icon-chevron-left{background-position:-1008px -168px}.c-icon-chevron-right{background-position:-1032px -168px}.c-icon-circle-gray-s{background-position:-1056px -168px}.c-icon-v,.c-icon-v-noborder{background-position:0 -192px}.c-icon-hui{background-position:-24px -192px}.c-icon-bao{background-position:-48px -192px}.c-icon-phone{background-position:-72px -192px}.c-icon-qa-empty{background-position:-96px -192px}.c-icon-safeguard{background-position:-120px -192px}.c-icon-register-empty{background-position:-144px -192px}.c-icon-zan{background-position:-168px -192px}.c-icon-music{background-position:-192px -192px}.c-icon-music-gray{background-position:-216px -192px}.c-icon-location{background-position:-240px -192px}.c-icon-warning{background-position:-264px -192px}.c-icon-doc{background-position:-288px -192px}.c-icon-xls{background-position:-312px -192px}.c-icon-ppt{background-position:-336px -192px}.c-icon-pdf{background-position:-360px -192px}.c-icon-txt{background-position:-384px -192px}.c-icon-play-black{background-position:-408px -192px}.c-icon-play-black:hover{background-position:-432px -192px}.c-icon-gift{background-position:-456px -192px}.c-icon-baidu-share{background-position:-480px -192px}.c-icon-bear{background-position:-504px -192px}.c-icon-R{background-position:-528px -192px}.c-icon-bear-border{background-position:-576px -192px}.c-icon-person,.c-icon-person-noborder{background-position:-600px -192px}.c-icon-location-blue{background-position:-624px -192px}.c-icon-hotAirBall{background-position:-648px -192px}.c-icon-moon{background-position:-672px -192px}.c-icon-streetMap{background-position:-696px -192px}.c-icon-high-v,.c-icon-high-v-noborder{background-position:-720px -192px}.c-icon-nuo{background-position:-744px -192px}.c-icon-mv{background-position:-768px -192px}.c-icon-fan{background-position:-792px -192px}.c-icon-med{background-position:-816px -192px}.c-icon-air{background-position:-840px -192px}.c-icon-share2{background-position:-864px -192px}.c-icon-v1,.c-icon-v1-noborder{background-position:-888px -192px}.c-icon-v2,.c-icon-v2-noborder{background-position:-912px -192px}.c-icon-v3,.c-icon-v3-noborder{background-position:-936px -192px}.c-icon-v1-noborder-disable{background-position:-960px -192px}.c-icon-v2-noborder-disable{background-position:-984px -192px}.c-icon-v3-noborder-disable{background-position:-1008px -192px}.c-icon-write{background-position:-1032px -192px}.c-icon-zhidao-s{background-position:-1056px -192px}.c-icon-shopping{background-position:-1080px -192px}.c-icon-bear-circle{background-position:0 -216px}.c-icon-warning-circle{background-position:-24px -216px}.c-icon-warning-triangle{width:24px;background-position:-48px -216px}.c-icon-warning-circle-gray{background-position:-72px -216px}.c-icon-ball-red{background-position:0 -240px}.c-icon-ball-blue{background-position:-48px -240px}.c-icon-tieba{background-position:0 -288px}.c-icon-zhidao{background-position:-48px -288px}.c-icon-bear-p{background-position:-96px -288px}.c-icon-bear-pn{background-position:-144px -288px}.c-icon-download{background-position:0 -336px}.c-icon-lyric{background-position:-24px -336px}.c-icon-play-circle{background-position:-48px -336px}.c-icon-play-circle:hover{background-position:-72px -336px}.c-icon-stop-circle{background-position:-96px -336px}.c-icon-stop-circle:hover{background-position:-120px -336px}.c-icon-play-circle-middle{background-position:0 -360px}.c-icon-play-circle-middle:hover{background-position:-48px -360px}.c-icon-stop-circle-middle{background-position:-96px -360px}.c-icon-stop-circle-middle:hover{background-position:-144px -360px}.c-icon-play-black-large{background-position:0 -408px}.c-icon-play-black-large:hover{background-position:-48px -408px}.c-icon-stop-black-large{background-position:-96px -408px}.c-icon-stop-black-large:hover{background-position:-144px -408px}.c-icon-play-black-larger{background-position:0 -456px}.c-icon-play-black-larger:hover{background-position:-72px -456px}.c-icon-stop-black-larger{background-position:-144px -456px}.c-icon-stop-black-larger:hover{background-position:-216px -456px}.c-recommend{font-size:0;padding:5px 0;border:1px solid #f3f3f3;border-left:0;border-right:0}.c-recommend .c-icon{margin-bottom:-4px}.c-recommend .c-gray,.c-recommend a{font-size:13px}.c-recommend-notopline{padding-top:0;border-top:0}.c-recommend-vline{display:inline-block;margin:0 10px -2px;border-left:1px solid #d8d8d8;width:0;height:12px;_vertical-align:middle;_overflow:hidden}.c-text{display:inline-block;padding:2px;text-align:center;vertical-align:text-bottom;font-size:12px;line-height:100%;font-style:normal;font-weight:400;color:#fff;overflow:hidden}a.c-text{text-decoration:none}.c-text-new{background-color:#f13f40}.c-text-info{padding-left:0;padding-right:0;font-weight:700;color:#2b99ff;*vertical-align:baseline;_position:relative;_top:2px}.c-text-info b{_position:relative;_top:-1px}.c-text-info span{padding:0 2px;font-weight:400}.c-text-important{background-color:#1cb7fd}.c-text-public{background-color:#2b99ff}.c-text-warning{background-color:#ff830f}.c-text-prompt{background-color:#f5c537}.c-text-danger{background-color:#f13f40}.c-text-safe{background-color:#52c277}.c-text-empty{padding-top:1px;padding-bottom:1px;border:1px solid #d8d8d8;cursor:pointer;color:#23b9fd;background-color:#fff}.c-text-empty:hover{border-color:#388bff}.c-text-empty:active{border-color:#a2a6ab;background-color:#f0f0f0;box-shadow:inset 1px 1px 1px #c7c7c7;-webkit-box-shadow:inset 1px 1px 1px #c7c7c7;-moz-box-shadow:inset 1px 1px 1px #c7c7c7;-o-box-shadow:inset 1px 1px 1px #c7c7c7}.c-text-mult{padding-left:5px;padding-right:5px}.c-text-gray{background-color:#666}.c-btn,.c-btn:visited{color:#333!important}.c-btn{display:inline-block;padding:0 14px;margin:0;height:24px;line-height:25px;font-size:13px;filter:chroma(color=#000000);*zoom:1;border:1px solid #d8d8d8;cursor:pointer;font-family:inherit;font-weight:400;text-align:center;vertical-align:middle;background-color:#f9f9f9;overflow:hidden;outline:0}.c-btn:hover{border-color:#388bff}.c-btn:active{border-color:#a2a6ab;background-color:#f0f0f0;box-shadow:inset 1px 1px 1px #c7c7c7;-webkit-box-shadow:inset 1px 1px 1px #c7c7c7;-moz-box-shadow:inset 1px 1px 1px #c7c7c7;-o-box-shadow:inset 1px 1px 1px #c7c7c7}a.c-btn{text-decoration:none}button.c-btn{height:26px;_line-height:18px;*overflow:visible}button.c-btn::-moz-focus-inner{padding:0;border:0}.c-btn .c-icon{margin-top:5px}.c-btn-disable{color:#999!important}.c-btn-disable:visited{color:#999!important}.c-btn-disable:hover{border:1px solid #d8d8d8;cursor:default}.c-btn-disable:active{border-color:#d8d8d8;background-color:#f9f9f9;box-shadow:none;-webkit-box-shadow:none;-moz-box-shadow:none;-o-box-shadow:none}.c-btn-mini{padding-left:5px;padding-right:5px;height:18px;line-height:18px;font-size:12px}button.c-btn-mini{height:20px;_height:18px;_line-height:14px}.c-btn-mini .c-icon{margin-top:2px}.c-btn-large{height:28px;line-height:28px;font-size:14px;font-family:\\\\\"\\\\u5fae\\\\u8f6f\\\\u96c5\\\\u9ed1\\\\\",\\\\\"\\\\u9ed1\\\\u4f53\\\\\"}button.c-btn-large{height:30px;_line-height:24px}.c-btn-large .c-icon{margin-top:7px;_margin-top:6px}.c-btn-primary,.c-btn-primary:visited{color:#fff!important}.c-btn-primary{background-color:#388bff;border-color:#3c8dff #408ffe #3680e6}.c-btn-primary:hover{border-color:#2678ec #2575e7 #1c6fe2 #2677e7;background-color:#388bff;background-image:url(data:image\\\\/png;base64,iVBORw0KGgoAAAANSUhEUgAAAAEAAAACCAMAAACuX0YVAAAABlBMVEVnpv85i\\\\/9PO5r4AAAAD0lEQVR42gEEAPv\\\\/AAAAAQAFAAIros7PAAAAAElFTkSuQmCC);*background-image:none;background-repeat:repeat-x;box-shadow:1px 1px 1px rgba(0,0,0,.4);-webkit-box-shadow:1px 1px 1px rgba(0,0,0,.4);-moz-box-shadow:1px 1px 1px rgba(0,0,0,.4);-o-box-shadow:1px 1px 1px rgba(0,0,0,.4)}.c-btn-primary:active{border-color:#178ee3 #1784d0 #177bbf #1780ca;background-color:#388bff;background-image:none;box-shadow:inset 1px 1px 1px rgba(0,0,0,.15);-webkit-box-shadow:inset 1px 1px 1px rgba(0,0,0,.15);-moz-box-shadow:inset 1px 1px 1px rgba(0,0,0,.15);-o-box-shadow:inset 1px 1px 1px rgba(0,0,0,.15)}.c-btn .c-icon{float:left}.c-dropdown2{position:relative;display:inline-block;width:100%;height:26px;line-height:26px;font-size:13px;vertical-align:middle;outline:0;_font-family:SimSun;background-color:#fff;word-wrap:normal;word-break:normal}.c-dropdown2 .c-dropdown2-btn-group{position:relative;height:24px;border:1px solid #999;border-bottom-color:#d8d8d8;border-right-color:#d8d8d8;-moz-user-select:none;-webkit-user-select:none;user-select:none}.c-dropdown2:hover .c-dropdown2-btn-group,.c-dropdown2-hover .c-dropdown2-btn-group{box-shadow:inset 1px 1px 0 0 #d8d8d8;-webkit-box-shadow:inset 1px 1px 0 0 #d8d8d8;-moz-box-shadow:inset 1px 1px 0 0 #d8d8d8;-o-box-shadow:inset 1px 1px 0 0 #d8d8d8}.c-dropdown2:hover .c-dropdown2-btn-icon,.c-dropdown2-hover .c-dropdown2-btn-icon{box-shadow:inset 0 1px 0 0 #d8d8d8;-webkit-box-shadow:inset 0 1px 0 0 #d8d8d8;-moz-box-shadow:inset 0 1px 0 0 #d8d8d8;-o-box-shadow:inset 0 1px 0 0 #d8d8d8}.c-dropdown2:hover .c-dropdown2-btn-icon-border,.c-dropdown2-hover .c-dropdown2-btn-icon-border{background-color:#f2f2f2}.c-dropdown2 .c-dropdown2-btn{height:24px;padding-left:10px;padding-right:10px;cursor:default;overflow:hidden;white-space:nowrap}.c-dropdown2 .c-dropdown2-btn-icon{position:absolute;top:0;right:0;width:23px;height:24px;line-height:24px;background-color:#fff;padding:0 1px 0 10px}.c-dropdown2 .c-dropdown2-btn-icon-border{height:24px;width:23px;border-left:1px solid #d9d9d9;text-align:center;zoom:1}.c-dropdown2 .c-icon-triangle-down{*margin-top:5px;_margin-left:2px}.c-dropdown2 .c-dropdown2-menu{position:absolute;left:0;top:100%;_margin-top:0;width:100%;overflow:hidden;border:1px solid #bbb;background:#fff;visibility:hidden}.c-dropdown2 .c-dropdown2-menu-inner{overflow:hidden}.c-dropdown2 .c-dropdown2-option{background-color:#fff;cursor:pointer}.c-dropdown2 .c-dropdown2-selected{background-color:#f5f5f5}.c-dropdown2-common ul,.c-dropdown2-common li{margin:0;padding:0;list-style:none}.c-dropdown2-common .c-dropdown2-option{height:26px;line-height:26px;font-size:12px;color:#333;white-space:nowrap;cursor:pointer;padding-left:10px}.c-dropdown2-common .c-dropdown2-selected{background-color:#f5f5f5}.c-dropdown2-common .c-dropdown2-menu-group .c-dropdown2-group{padding-left:10px;font-weight:700;cursor:default}.c-dropdown2-common .c-dropdown2-menu-group .c-dropdown2-option{padding-left:20px}.c-img{display:block;min-height:1px;border:0 0}.c-img3{width:52px}.c-img4{width:75px}.c-img6{width:121px}.c-img7{width:144px}.c-img12{width:259px}.c-img15{width:328px}.c-img18{width:397px}.c-border .c-img3{width:56px}.c-border .c-img4{width:78px}.c-border .c-img7{width:144px}.c-border .c-img12{width:254px}.c-border .c-img15{width:320px}.c-border .c-img18{width:386px}.c-index{display:inline-block;padding:1px 0;color:#fff;width:14px;line-height:100%;font-size:12px;text-align:center;background-color:#8eb9f5}.c-index-hot,.c-index-hot1{background-color:#f54545}.c-index-hot2{background-color:#ff8547}.c-index-hot3{background-color:#ffac38}.c-input{display:inline-block;padding:0 4px;height:24px;line-height:24px\\\\\\\\9;font-size:13px;border:1px solid #999;border-bottom-color:#d8d8d8;border-right-color:#d8d8d8;outline:0;box-sizing:content-box;-webkit-box-sizing:content-box;-moz-box-sizing:content-box;vertical-align:top;overflow:hidden}.c-input:hover{box-shadow:inset 1px 1px 1px 0 #d8d8d8;-webkit-box-shadow:inset 1px 1px 1px 0 #d8d8d8;-moz-box-shadow:inset 1px 1px 1px 0 #d8d8d8;-o-box-shadow:inset 1px 1px 1px 0 #d8d8d8}.c-input .c-icon{float:right;margin-top:6px}.c-input .c-icon-left{float:left;margin-right:4px}.c-input input{float:left;height:22px;*padding-top:4px;margin-top:2px;font-size:13px;border:0;outline:0}.c-input{width:180px}.c-input input{width:162px}.c-input-xmini{width:65px}.c-input-xmini input{width:47px}.c-input-mini{width:88px}.c-input-mini input{width:70px}.c-input-small{width:157px}.c-input-small input{width:139px}.c-input-large{width:203px}.c-input-large input{width:185px}.c-input-xlarge{width:341px}.c-input-xlarge input{width:323px}.c-input12{width:249px}.c-input12 input{width:231px}.c-input20{width:433px}.c-input20 input{width:415px}.c-border .c-input{width:178px}.c-border .c-input input{width:160px}.c-border .c-input-xmini{width:68px}.c-border .c-input-xmini input{width:50px}.c-border .c-input-mini{width:90px}.c-border .c-input-mini input{width:72px}.c-border .c-input-small{width:156px}.c-border .c-input-small input{width:138px}.c-border .c-input-large{width:200px}.c-border .c-input-large input{width:182px}.c-border .c-input-xlarge{width:332px}.c-border .c-input-xlarge input{width:314px}.c-border .c-input12{width:244px}.c-border .c-input12 input{width:226px}.c-border .c-input20{width:420px}.c-border .c-input20 input{width:402px}.c-numberset{*zoom:1}.c-numberset:after{display:block;height:0;content:\\\\\"\\\\\";clear:both;visibility:hidden}.c-numberset li{float:left;margin-right:17px;list-style:none}.c-numberset .c-numberset-last{margin-right:0}.c-numberset a{display:block;width:50px;text-decoration:none;text-align:center;border:1px solid #d8d8d8;cursor:pointer}.c-numberset a:hover{border-color:#388bff}.c-border .c-numberset li{margin-right:10px}.c-border .c-numberset .c-numberset-last{margin-right:0}.c-border .c-numberset a{width:54px}.c-table{width:100%;border-collapse:collapse;border-spacing:0}.c-table th,.c-table td{padding-left:10px;line-height:1.54;font-size:13px;border-bottom:1px solid #f3f3f3;text-align:left}.cr-content .c-table th:first-child,.cr-content .c-table td:first-child{padding-left:0}.c-table th{padding-top:4px;padding-bottom:4px;font-weight:400;color:#666;border-color:#f0f0f0;white-space:nowrap;background-color:#fafafa}.c-table td{padding-top:6.5px;padding-bottom:6.5px}.c-table-hasimg td{padding-top:10px;padding-bottom:10px}.c-table a,.c-table em{text-decoration:none}.c-table a:hover,.c-table a:hover em{text-decoration:underline}.c-table a.c-icon:hover{text-decoration:none}.c-table .c-btn:hover,.c-table .c-btn:hover em{text-decoration:none}.c-table-nohihead th{background-color:transparent}.c-table-noborder td{border-bottom:0}.c-tabs-nav-movetop{margin:-10px -9px 0 -10px;position:relative}.c-tabs-nav{border-bottom:1px solid #d9d9d9;background-color:#fafafa;line-height:1.54;font-size:0;*zoom:1;_overflow-x:hidden;_position:relative}.c-tabs-nav:after{display:block;height:0;content:\\\\\"\\\\\";clear:both;visibility:hidden}.c-tabs-nav .c-tabs-nav-btn{float:right;_position:absolute;_top:0;_right:0;_z-index:1;background:#fafafa}.c-tabs-nav .c-tabs-nav-btn .c-tabs-nav-btn-prev,.c-tabs-nav .c-tabs-nav-btn .c-tabs-nav-btn-next{float:left;padding:6px 2px;cursor:pointer}.c-tabs-nav .c-tabs-nav-btn .c-tabs-nav-btn-disable{cursor:default}.c-tabs-nav .c-tabs-nav-view{_position:relative;overflow:hidden;*zoom:1;margin-bottom:-1px}.c-tabs-nav .c-tabs-nav-view .c-tabs-nav-li{margin-bottom:0}.c-tabs-nav .c-tabs-nav-more{float:left;white-space:nowrap}.c-tabs-nav li,.c-tabs-nav a{color:#666;font-size:13px;*zoom:1}.c-tabs-nav li{display:inline-block;margin-bottom:-1px;*display:inline;padding:3px 15px;vertical-align:bottom;border-style:solid;border-width:2px 1px 0;border-color:transparent;_border-color:tomato;_filter:chroma(color=#ff6347);list-style:none;cursor:pointer;white-space:nowrap;overflow:hidden}.c-tabs-nav a{text-decoration:none}.c-tabs-nav .c-tabs-nav-sep{height:16px;width:0;padding:0;margin-bottom:4px;border-style:solid;border-width:0 1px;border-color:transparent #fff transparent #dedede}.c-tabs-nav .c-tabs-nav-selected{_position:relative;border-color:#2c99ff #e4e4e4 #fff #dedede;background-color:#fff;color:#000;cursor:default}.c-tabs-nav-one .c-tabs-nav-selected{border-color:transparent;_border-color:tomato;_filter:chroma(color=#ff6347);background-color:transparent;color:#666}.c-tabs .c-tabs .c-tabs-nav{padding:10px 0 5px;border:0 0;background-color:#fff}.c-tabs .c-tabs .c-tabs-nav li,.c-tabs .c-tabs .c-tabs-nav a{color:#00c}.c-tabs .c-tabs .c-tabs-nav li{padding:0 5px;position:static;margin:0 10px;border:0 0;cursor:pointer;white-space:nowrap}.c-tabs .c-tabs .c-tabs-nav .c-tabs-nav-sep{height:11px;width:0;padding:0;margin:0 0 4px;border:0 0;border-left:1px solid #d8d8d8}.c-tabs .c-tabs .c-tabs-nav .c-tabs-nav-selected{background-color:#2c99ff;color:#fff;cursor:default}.c-tag{padding-top:3px;margin-bottom:3px;height:1.7em;font-size:13px;line-height:1.4em;transition:height .3s ease-in;-webkit-transition:height .3s ease-in;-moz-transition:height .3s ease-in;-ms-transition:height .3s ease-in;-o-transition:height .3s ease-in;*zoom:1;overflow:hidden}.c-tag:after{display:block;height:0;content:\\\\\"\\\\\";clear:both;visibility:hidden}.c-tag-cont{overflow:hidden;*zoom:1}.c-tag-type,.c-tag-li,.c-tag-more,.c-tag-cont span{margin:2px 0}.c-tag-type,.c-tag-li,.c-tag-cont span{float:left}.c-tag-type,.c-tag-more{color:#666}.c-tag-li,.c-tag-cont span{padding:0 4px;display:inline-block;margin-right:12px;white-space:nowrap;cursor:pointer;color:#00c}.c-tag .c-tag-selected{background:#388bff;color:#fff}.c-tag-more{float:right;background:#fff;cursor:pointer;*height:18px}.c-tool{display:inline-block;width:56px;height:56px;background:url(\\\\/\\\\/www.baidu.com\\\\/aladdin\\\\/img\\\\/tools\\\\/tools-5.png) no-repeat}.c-tool-region{background-position:0 0}.c-tool-calendar{background-position:-72px 0}.c-tool-city{background-position:-144px 0}.c-tool-phone-pos{background-position:-216px 0}.c-tool-other{background-position:-288px 0}.c-tool-midnight{background-position:-360px 0}.c-tool-kefu{width:121px;background-position:-432px 0}.c-tool-phone{background-position:-576px 0}.c-tool-car{background-position:-648px 0}.c-tool-station{background-position:0 -72px}.c-tool-cheat{background-position:-72px -72px}.c-tool-counter{background-position:-144px -72px}.c-tool-time{background-position:-216px -72px}.c-tool-zip{background-position:-288px -72px}.c-tool-warning{background-position:-360px -72px}.c-tool-ip{background-position:0 -144px}.c-tool-unit{background-position:-72px -144px}.c-tool-rate{background-position:-144px -144px}.c-tool-conversion{background-position:-288px -144px}.c-tool-ads{background-position:-360px -144px}.soutu-input{padding-left:55px!important}.soutu-input-image{position:absolute;left:1px;top:1px;height:28px;width:49px;z-index:1;padding:0;background:#e6e6e6;border:1px solid #e6e6e6}.soutu-input-thumb{height:28px;width:28px;min-width:1px}.soutu-input-close{position:absolute;right:0;top:0;cursor:pointer;display:block;width:22px;height:28px}.soutu-input-close::after{content:\\\\\" \\\\\";position:absolute;right:3px;top:50%;cursor:pointer;margin-top:-7px;display:block;width:14px;height:14px;background:url(https:\\\\/\\\\/ss1.bdstatic.com\\\\/5eN1bjq8AAUYm2zgoY3K\\\\/r\\\\/www\\\\/cache\\\\/static\\\\/protocol\\\\/https\\\\/soutu\\\\/img\\\\/soutu_icons_new_8abaf8a.png) no-repeat -163px 0}.soutu-input-image:hover .soutu-input-close::after{background-position:-215px 2px}.fb-hint{margin-top:5px;transition-duration:.9s;opacity:0;display:none;color:red}.fb-img{display:none}.fb-hint-tip{height:44px;line-height:24px;background-color:#38f;color:#fff;box-sizing:border-box;width:269px;font-size:16px;padding:10px;padding-left:14px;position:absolute;top:-65px;right:-15px;border-radius:3px;z-index:299}.fb-hint-tip::before{content:\\\\\"\\\\\";width:0;height:0;display:block;position:absolute;border-left:8px solid transparent;border-right:8px solid transparent;border-top:8px solid #38f;bottom:-8px;right:25px}.fb-mask,.fb-mask-light{position:fixed;top:0;left:0;bottom:0;right:0;z-index:296;background-color:#000;filter:alpha(opacity=60);background-color:rgba(0,0,0,.6)}.fb-mask-light{background-color:#fff;filter:alpha(opacity=0);background-color:rgba(255,255,255,0)}.fb-success .fb-success-text{text-align:center;color:#333;font-size:13px;margin-bottom:14px}.fb-success-text.fb-success-text-title{color:#3b6;font-size:16px;margin-bottom:16px}.fb-success-text-title i{width:16px;height:16px;margin-right:5px}.fb-list-container{box-sizing:border-box;padding:4px 8px;position:absolute;top:0;left:0;bottom:0;right:0;z-index:298;display:block;width:100%;cursor:pointer;margin-top:-5px;margin-left:-5px}.fb-list-container-hover{background-color:#fff;border:2px #38f solid}.fb-list-container-first{box-sizing:border-box;padding-left:10px;padding-top:5px;position:absolute;top:0;left:0;bottom:0;right:0;z-index:297;display:block;width:100%;cursor:pointer;margin-top:-5px;margin-left:-5px;border:3px #f5f5f5 dashed;border-radius:3px}.fb-des-content{font-size:13px!important;color:#000}.fb-des-content::-webkit-input-placeholder{font-size:13px!important;color:#9a9a9a}.fb-des-content:-moz-placeholder{font-size:13px!important;color:#9a9a9a}.fb-des-content::-moz-placeholder{font-size:13px!important;color:#9a9a9a}.fb-des-content:-ms-input-placeholder{font-size:13px!important;color:#9a9a9a}.fb-btn,.fb-btn:visited{color:#333!important}.fb-select{position:relative;background-color:#fff;border:1px solid #ccc}.fb-select i{position:absolute;right:2px;top:7px}.fb-type{width:350px;box-sizing:border-box;height:28px;font-size:13px;line-height:28px;border:0;word-break:normal;word-wrap:normal;position:relative;appearance:none;-moz-appearance:none;-webkit-appearance:none;display:inline-block;vertical-align:middle;line-height:normal;color:#333;background-color:transparent;border-radius:0;overflow:hidden;outline:0;padding-left:5px}.fb-type::-ms-expand{display:none}.fb-btn{display:inline-block;padding:0 14px;margin:0;height:24px;line-height:25px;font-size:13px;filter:chroma(color=#000000);*zoom:1;border:1px solid #d8d8d8;cursor:pointer;font-family:inherit;font-weight:400;text-align:center;vertical-align:middle;background-color:#f9f9f9;overflow:hidden;outline:0}.fb-btn:hover{border-color:#388bff}.fb-btn:active{border-color:#a2a6ab;background-color:#f0f0f0;box-shadow:inset 1px 1px 1px #c7c7c7;-webkit-box-shadow:inset 1px 1px 1px #c7c7c7;-moz-box-shadow:inset 1px 1px 1px #c7c7c7;-o-box-shadow:inset 1px 1px 1px #c7c7c7}a.fb-btn{text-decoration:none}button.fb-btn{height:26px;_line-height:18px;*overflow:visible}button.fb-btn::-moz-focus-inner{padding:0;border:0}.fb-btn .c-icon{margin-top:5px}.fb-btn-primary,.fb-btn-primary:visited{color:#fff!important}.fb-btn-primary{background-color:#388bff;_width:82px;border-color:#3c8dff #408ffe #3680e6}.fb-btn-primary:hover{border-color:#2678ec #2575e7 #1c6fe2 #2677e7;background-color:#388bff;background-image:url(data:image\\\\/png;base64,iVBORw0KGgoAAAANSUhEUgAAAAEAAAACCAMAAACuX0YVAAAABlBMVEVnpv85i\\\\/9PO5r4AAAAD0lEQVR42gEEAPv\\\\/AAAAAQAFAAIros7PAAAAAElFTkSuQmCC);background-repeat:repeat-x;box-shadow:1px 1px 1px rgba(0,0,0,.4);-webkit-box-shadow:1px 1px 1px rgba(0,0,0,.4);-moz-box-shadow:1px 1px 1px rgba(0,0,0,.4);-o-box-shadow:1px 1px 1px rgba(0,0,0,.4)}.fb-btn-primary:active{border-color:#178ee3 #1784d0 #177bbf #1780ca;background-color:#388bff;background-image:none;box-shadow:inset 1px 1px 1px rgba(0,0,0,.15);-webkit-box-shadow:inset 1px 1px 1px rgba(0,0,0,.15);-moz-box-shadow:inset 1px 1px 1px rgba(0,0,0,.15);-o-box-shadow:inset 1px 1px 1px rgba(0,0,0,.15)}.fb-feedback-right-dialog{position:fixed;z-index:299;bottom:0;right:0}.fb-feedback-list-dialog,.fb-feedback-list-dialog-left{position:absolute;z-index:299}.fb-feedback-list-dialog:before{content:\\\\\"\\\\\";width:0;height:0;display:block;position:absolute;top:15px;left:-6px;border-top:8px solid transparent;border-bottom:8px solid transparent;border-right:8px solid #fff}.fb-feedback-list-dialog-left:before{content:\\\\\"\\\\\";width:0;height:0;display:block;position:absolute;top:15px;right:-6px;border-top:8px solid transparent;border-bottom:8px solid transparent;border-left:8px solid #fff}.fb-header{padding-left:20px;padding-right:20px;margin-top:14px;text-align:left;-moz-user-select:none}.fb-header .fb-close{color:#e0e0e0}.fb-close{text-decoration:none;margin-top:2px;float:right;font-size:20px;font-weight:700;line-height:18px;color:#666;text-shadow:0 1px 0 #fff}.fb-photo-block{display:none}.fb-photo-block-title{font-size:13px;color:#333;padding-top:10px}.fb-photo-block-title-span{color:#999}.fb-photo-sub-block{margin-top:10px;margin-bottom:10px;width:60px;text-align:center}.fb-photo-sub-block-hide{display:none}.fb-photo-update-block{overflow:hidden}.fb-photo-update-item-block{width:100px;height:100px;background:red;border:solid 1px #ccc;margin-top:10px;float:left;margin-right:20px;position:relative;background:url(https:\\\\/\\\\/ss1.bdstatic.com\\\\/5eN1bjq8AAUYm2zgoY3K\\\\/r\\\\/www\\\\/cache\\\\/static\\\\/protocol\\\\/https\\\\/global\\\\/img\\\\/feedback_add_photo_69ff822.png);background-repeat:no-repeat;background-size:contain;background-position:center center;background-size:24px 24px}.fb-photo-block-title-ex{font-size:13px;float:right}.fb-photo-block-title-ex img{vertical-align:text-top;margin-right:4px}.fb-photo-block-title-span{margin-left:4px;color:#999}.fb-photo-update-item-show-img{width:100%;height:100%;display:none}.fb-photo-update-item-close{width:13px;height:13px;position:absolute;top:-6px;right:-6px;display:none}.fb-photo-block input{display:none}.fb-photo-update-hide{display:none}.fb-photo-update-item-block{width:60px;height:60px;border:solid 1px #ccc;float:left}.fb-photo-block-example{position:absolute;top:0;left:0;display:none;background-color:#fff;padding:14px;padding-top:0;width:392px}.fb-photo-block-example-header{padding-top:14px;overflow:hidden}.fb-photo-block-example-header p{float:left}.fb-photo-block-example-header img{float:right;width:13px;height:13px}.fb-photo-block-example-img img{margin:0 auto;margin-top:14px;display:block;width:200px}.fb-photo-block-example-title{text-align:center}.fb-photo-block-example-title-big{font-size:14px;color:#333}.fb-photo-block-example-title-small{font-size:13px;color:#666}.fb-header a.fb-close:hover{text-decoration:none}.fb-photo-block-upinfo{width:100%}.fb-header-tips{font-size:16px;margin:0;color:#333;text-rendering:optimizelegibility}.fb-body{margin-bottom:0;padding:20px;padding-top:10px;overflow:hidden;text-align:left}.fb-modal,.fb-success{background-color:#fff;cursor:default;top:100%;left:100%;width:390px;overflow:hidden;border:1px solid #999;*border:1px solid #ddd;font-size:13px;line-height:1.54}.fb-textarea textarea{width:350px;height:64px;padding:4px;margin:10px 0;vertical-align:top;resize:none;overflow:auto;box-sizing:border-box;display:inline-block;border:1px solid #ccc;-webkit-border-radius:0;-moz-border-radius:0;border-radius:0;-webkit-box-shadow:inset 0 1px 1px rgba(0,0,0,.075);-moz-box-shadow:inset 0 1px 1px rgba(0,0,0,.075);box-shadow:inset 0 1px 1px rgba(0,0,0,.075);-webkit-transition:border linear .2s,box-shadow linear .2s;-moz-transition:border linear .2s,box-shadow linear .2s;-ms-transition:border linear .2s,box-shadow linear .2s;-o-transition:border linear .2s,box-shadow linear .2s;transition:border linear .2s,box-shadow linear .2s}.fb-selected{display:none;width:12px;height:12px;background:url(data:image\\\\/png;base64,iVBORw0KGgoAAAANSUhEUgAAAAcAAAAFCAYAAACJmvbYAAAABGdBTUEAALGPC\\\\/xhBQAAACBjSFJNAAB6JgAAgIQAAPoAAACA6AAAdTAAAOpgAAA6mAAAF3CculE8AAAABmJLR0QAAAAAAAD5Q7t\\\\/AAAACXBIWXMAABYlAAAWJQFJUiTwAAAAJklEQVQI12NgwAEsuv\\\\/8xy9h3vX7P6oEKp\\\\/BHCqA0yhzdB0MDAwAFXkTK5la4mAAAAAASUVORK5CYII=) no-repeat 2px 3px}.fb-guide{padding-top:10px;color:#9a9a9a;margin-left:-20px;padding-left:20px;border-right-width:0;margin-right:-20px;padding-right:25px;margin-bottom:-20px;padding-bottom:15px}.fb-footer{padding-top:10px;text-align:left}.fb-block{overflow:hidden;position:relative}.fb-block .fb-email{height:28px;line-height:26px;width:350px;border:1px solid #ccc;padding:4px;padding-top:0;box-sizing:border-box;padding-bottom:0;display:inline-block;font-family:\\'Helvetica Neue\\',Helvetica,Arial,sans-serif;vertical-align:middle!important;-webkit-border-radius:0;-moz-border-radius:0;border-radius:0;-webkit-box-shadow:inset 0 1px 1px rgba(0,0,0,.075);-moz-box-shadow:inset 0 1px 1px rgba(0,0,0,.075);box-shadow:inset 0 1px 1px rgba(0,0,0,.075);-webkit-transition:border linear .2s,box-shadow linear .2s;-moz-transition:border linear .2s,box-shadow linear .2s;-ms-transition:border linear .2s,box-shadow linear .2s;-o-transition:border linear .2s,box-shadow linear .2s;transition:border linear .2s,box-shadow linear .2s}.fb-email{font-size:13px!important;color:#000}.fb-email::-webkit-input-placeholder{font-size:13px!important;color:#9a9a9a}.fb-email:-moz-placeholder{font-size:13px!important;color:#9a9a9a}.fb-email::-moz-placeholder{font-size:13px!important;color:#9a9a9a}.fb-email:-ms-input-placeholder{font-size:13px!important;color:#9a9a9a}.fb-cut-block{height:15px;padding-bottom:10px}.fb-canvas-block{height:172px;border:1px solid #ccc;margin-bottom:10px;position:relative;overflow:hidden;width:100%;background-position:center;box-sizing:border-box}.fb-canvas-block img{width:350px;position:absolute}.fb-canvas-block img[src=\\\\\"\\\\\"]{opacity:0}.fb-cut-input{width:14px;height:14px;margin:0;margin-right:10px;display:inline-block;border:1px solid #ccc}.fb-cut-btn{width:60px!important}#fb_tips_span{vertical-align:middle}#fb_popwindow{display:block;left:457px;top:69.5px;position:absolute;width:450px;z-index:999999;background:none repeat scroll 0 0 #fff;border:1px solid #999;border-radius:3px;box-shadow:0 0 9px #999;padding:0}#feedback_dialog_content{text-align:center}#fb_right_post_save:hover{background-image:url(data:image\\\\/png;base64,iVBORw0KGgoAAAANSUhEUgAAAAEAAAACCAMAAACuX0YVAAAABlBMVEVnpv85i\\\\/9PO5r4AAAAD0lEQVR42gEEAPv\\\\/AAAAAQAFAAIros7PAAAAAElFTkSuQmCC);background-repeat:repeat-x;box-shadow:1px 1px 1px rgba(0,0,0,.4);-webkit-box-shadow:1px 1px 1px rgba(0,0,0,.4);-moz-box-shadow:1px 1px 1px rgba(0,0,0,.4);-o-box-shadow:1px 1px 1px rgba(0,0,0,.4)}.fb-select-icon{position:absolute;bottom:6px;right:5px;width:16px;height:16px;box-sizing:content-box;background-position:center center;background-repeat:no-repeat;background-size:7px 4px;-webkit-background-size:7px 4px;background-image:url(data:image\\\\/png;base64,iVBORw0KGgoAAAANSUhEUgAAAAcAAAAECAYAAABCxiV9AAAABGdBTUEAALGPC\\\\/xhBQAAACBjSFJNAAB6JgAAgIQAAPoAAACA6AAAdTAAAOpgAAA6mAAAF3CculE8AAAABmJLR0QAAAAAAAD5Q7t\\\\/AAAACXBIWXMAAAsSAAALEgHS3X78AAAAKElEQVQI12Ps7Or6z4ADMDIwMDBgU1BeVsbICOMgKygvK2PEMAbdBAAhxA08t5Q3VgAAAABJRU5ErkJggg==)}.fb-select-shorter{position:relative;min-height:28px}.fb-type-container{line-height:28px;position:absolute;top:28px;width:100%;background-color:#fff;border:1px solid #ccc;z-index:300;margin-left:-1px;display:none}.fb-type-item,.fb-type-selected{height:28px;line-height:30px;padding-left:4px}.fb-type-item:hover{background:#f5F5F5}.fb-checkbox{position:relative;border-bottom:1px solid #eee;height:34px;line-height:35px}.fb-checkbox:last-child{border-bottom:0}.fb-list-wrapper{margin-top:-10px}.fb-textarea-sug textarea{margin-top:0}@media screen and (min-width:1921px){.slowmsg{left:50%!important;-webkit-transform:translateX(-50%);-ms-transform:translateX(-50%);transform:translateX(-50%)}.wrapper_l #head{-webkit-transform-style:preserve-3d;transform-style:preserve-3d}.head_wrapper{width:1196px;margin:0 auto;position:relative;-webkit-transform:translate3d(-52px,0,1px);transform:translate3d(-52px,0,1px)}#head .headBlock{-webkit-box-sizing:border-box;box-sizing:border-box;margin-left:auto;margin-right:auto;width:1196px;padding-left:121px;-webkit-transform:translate3d(-52px,0,0);transform:translate3d(-52px,0,0)}#s_tab.s_tab{padding-left:0}#s_tab.s_tab .s_tab_inner{display:block;-webkit-box-sizing:border-box;box-sizing:border-box;padding-left:77px;width:1212px;margin:0 auto}#con-at .result-op{margin-left:auto;margin-right:auto;-webkit-transform:translateX(-60px);-ms-transform:translateX(-60px);transform:translateX(-60px)}#wrapper_wrapper{margin-left:-88px}#container{-webkit-box-sizing:border-box;box-sizing:border-box;width:1212px;margin:0 auto}.foot-inner{width:1212px;margin:0 auto}}&lt;\\\\/style&gt;\";\\n    result_common_css=$(result_common_css);\\n    result_common_css.attr(\"data-for\",\"result\");\\n\\n    var index_css= $(\\'head [index]\\');\\n    var wrapper=$(\"#wrapper\");\\n    window.index_on=function(){\\n        index_css.insertAfter(\"meta:eq(0)\");\\n        result_common_css.remove();\\n        wrapper.show();\\n        if(bds.su&amp;&amp;bds.su.U&amp;&amp;bds.su.U.homeInit){\\n            bds.su.U.homeInit();\\n        }\\n        //$(\"#wrapper_wrapper\").remove();\\n    };\\n    window.index_off=function(){\\n        //不能操作dom，只能改css，否则会丢失输入法状态\\n        result_common_css.insertAfter(\"meta:eq(0)\");\\n        wrapper.show();\\n        index_css.remove();\\n\\n        //$(\"&lt;div id=\\'wrapper_wrapper\\'&gt;&lt;/div&gt;\").appendTo(\"#wrapper\");\\n    };\\n})();\\n\\n//首页UA diff 监控\\n$(window).on(\"load\",function() {\\n\\n\\tvar rand = Math.random();\\n\\n\\tif(rand &lt; 0.01) {\\n\\t\\ttry {\\n\\t\\tvar baseUrl = \"//www.baidu.com/nocache/fesplg/s.gif?log_type=hm&amp;type=uamonitor&amp;\",\\n\\t\\t\\tqueryString = \"\";\\n\\n\\t\\tqueryString += \"&amp;c_ua=\" + encodeURIComponent(navigator.userAgent);\\n\\t\\tqueryString += \"&amp;s_ua=\" + encodeURIComponent(bds.comm.userAgent);\\n\\n\\t\\tvar url=baseUrl+queryString,\\n\\t\\t\\timg = new Image(),\\n\\t\\t\\timg_rand=\"_LOG_\"+new Date().getTime();\\n\\t\\timg.onload=function(){\\n\\t\\t\\tdelete window[img_rand];\\n\\t\\t};\\n\\t\\twindow[img_rand]=img;\\n\\t\\timg.src=url;\\n\\t\\t} catch(e) {};\\n\\t}\\n});\\n\\n</script>\\n\\n<script type=\"text/javascript\">var Cookie={set:function(e,t,o,i,s,n){document.cookie=e+\"=\"+(n?t:escape(t))+(s?\"; expires=\"+s.toGMTString():\"\")+(i?\"; path=\"+i:\"; path=/\")+(o?\"; domain=\"+o:\"\")},get:function(e,t){var o=document.cookie.match(new RegExp(\"(^| )\"+e+\"=([^;]*)(;|$)\"));return null!=o?unescape(o[2]):t},clear:function(e,t,o){this.get(e)&amp;&amp;(document.cookie=e+\"=\"+(t?\"; path=\"+t:\"; path=/\")+(o?\"; domain=\"+o:\"\")+\";expires=Fri, 02-Jan-1970 00:00:00 GMT\")}};!function(){function save(e){var t=[];for(tmpName in options)options.hasOwnProperty(tmpName)&amp;&amp;\"duRobotState\"!==tmpName&amp;&amp;t.push(\\'\"\\'+tmpName+\\'\":\"\\'+options[tmpName]+\\'\"\\');\\nvar o=\"{\"+t.join(\",\")+\"}\";bds.comm.personalData?$.ajax({url:\"//www.baidu.com/ups/submit/addtips/?product=ps&amp;tips=\"+encodeURIComponent(o)+\"&amp;_r=\"+(new Date).getTime(),success:function(){writeCookie(),\"function\"==typeof e&amp;&amp;e()}}):(writeCookie(),\"function\"==typeof e&amp;&amp;setTimeout(e,0))}function set(e,t){options[e]=t}function get(e){return options[e]}function writeCookie(){if(options.hasOwnProperty(\"sugSet\")){var e=\"0\"==options.sugSet?\"0\":\"3\";clearCookie(\"sug\"),Cookie.set(\"sug\",e,document.domain,\"/\",expire30y)\\n}if(options.hasOwnProperty(\"sugStoreSet\")){var e=0==options.sugStoreSet?\"0\":\"1\";clearCookie(\"sugstore\"),Cookie.set(\"sugstore\",e,document.domain,\"/\",expire30y)}if(options.hasOwnProperty(\"isSwitch\")){var t={0:\"2\",1:\"0\",2:\"1\"},e=t[options.isSwitch];clearCookie(\"ORIGIN\"),Cookie.set(\"ORIGIN\",e,document.domain,\"/\",expire30y)}if(options.hasOwnProperty(\"imeSwitch\")){var e=options.imeSwitch;clearCookie(\"bdime\"),Cookie.set(\"bdime\",e,document.domain,\"/\",expire30y)}}function writeBAIDUID(){var e,t,o,i=Cookie.get(\"BAIDUID\");\\n/FG=(\\\\d+)/.test(i)&amp;&amp;(t=RegExp.$1),/SL=(\\\\d+)/.test(i)&amp;&amp;(o=RegExp.$1),/NR=(\\\\d+)/.test(i)&amp;&amp;(e=RegExp.$1),options.hasOwnProperty(\"resultNum\")&amp;&amp;(e=options.resultNum),options.hasOwnProperty(\"resultLang\")&amp;&amp;(o=options.resultLang),Cookie.set(\"BAIDUID\",i.replace(/:.*$/,\"\")+(\"undefined\"!=typeof o?\":SL=\"+o:\"\")+(\"undefined\"!=typeof e?\":NR=\"+e:\"\")+(\"undefined\"!=typeof t?\":FG=\"+t:\"\"),\".baidu.com\",\"/\",expire30y,!0)}function clearCookie(e){Cookie.clear(e,\"/\"),Cookie.clear(e,\"/\",document.domain),Cookie.clear(e,\"/\",\".\"+document.domain),Cookie.clear(e,\"/\",\".baidu.com\")\\n}function reset(e){options=defaultOptions,save(e)}var defaultOptions={sugSet:1,sugStoreSet:1,isSwitch:1,isJumpHttps:1,imeSwitch:0,resultNum:10,skinOpen:1,resultLang:0,duRobotState:\"000\"},options={},tmpName,expire30y=new Date;expire30y.setTime(expire30y.getTime()+94608e7);try{if(bds&amp;&amp;bds.comm&amp;&amp;bds.comm.personalData){if(\"string\"==typeof bds.comm.personalData&amp;&amp;(bds.comm.personalData=eval(\"(\"+bds.comm.personalData+\")\")),!bds.comm.personalData)return;for(tmpName in bds.comm.personalData)defaultOptions.hasOwnProperty(tmpName)&amp;&amp;bds.comm.personalData.hasOwnProperty(tmpName)&amp;&amp;\"SUCCESS\"==bds.comm.personalData[tmpName].ErrMsg&amp;&amp;(options[tmpName]=bds.comm.personalData[tmpName].value)\\n}try{parseInt(options.resultNum)||delete options.resultNum,parseInt(options.resultLang)||\"0\"==options.resultLang||delete options.resultLang}catch(e){}writeCookie(),\"sugSet\"in options||(options.sugSet=3!=Cookie.get(\"sug\",3)?0:1),\"sugStoreSet\"in options||(options.sugStoreSet=Cookie.get(\"sugstore\",0));var BAIDUID=Cookie.get(\"BAIDUID\");\"resultNum\"in options||(options.resultNum=/NR=(\\\\d+)/.test(BAIDUID)&amp;&amp;RegExp.$1?parseInt(RegExp.$1):10),\"resultLang\"in options||(options.resultLang=/SL=(\\\\d+)/.test(BAIDUID)&amp;&amp;RegExp.$1?parseInt(RegExp.$1):0),\"isSwitch\"in options||(options.isSwitch=2==Cookie.get(\"ORIGIN\",0)?0:1==Cookie.get(\"ORIGIN\",0)?2:1),\"imeSwitch\"in options||(options.imeSwitch=Cookie.get(\"bdime\",0))\\n}catch(e){}window.UPS={writeBAIDUID:writeBAIDUID,reset:reset,get:get,set:set,save:save}}(),function(){var e=\"https://ss1.bdstatic.com/5eN1bjq8AAUYm2zgoY3K/r/www/cache/static/protocol/https/plugins/every_cookie_4644b13.js\";(\"Mac68K\"==navigator.platform||\"MacPPC\"==navigator.platform||\"Macintosh\"==navigator.platform||\"MacIntel\"==navigator.platform)&amp;&amp;(e=\"https://ss1.bdstatic.com/5eN1bjq8AAUYm2zgoY3K/r/www/cache/static/protocol/https/plugins/every_cookie_mac_82990d4.js\"),setTimeout(function(){$.ajax({url:e,cache:!0,dataType:\"script\"})},0);var t=navigator&amp;&amp;navigator.userAgent?navigator.userAgent:\"\",o=document&amp;&amp;document.cookie?document.cookie:\"\",i=!!(t.match(/(msie [2-8])/i)||t.match(/windows.*safari/i)&amp;&amp;!t.match(/chrome/i)||t.match(/(linux.*firefox)/i)||t.match(/Chrome\\\\/29/i)||t.match(/mac os x.*firefox/i)||o.match(/\\\\bISSW=1/)||0==UPS.get(\"isSwitch\"));\\nbds&amp;&amp;bds.comm&amp;&amp;(bds.comm.supportis=!i,bds.comm.isui=!0),window.__restart_confirm_timeout=!0,window.__confirm_timeout=8e3,window.__disable_is_guide=!0,window.__disable_swap_to_empty=!0,window.__switch_add_mask=!0;var s=\"https://ss1.bdstatic.com/5eN1bjq8AAUYm2zgoY3K/r/www/cache/static/protocol/https/global/js/all_async_search_8002e03.js\",n=\"/script\";document.write(\"&lt;script src=\\'\"+s+\"\\'&gt;&lt;\"+n+\"&gt;\"),bds.comm.newindex&amp;&amp;$(window).on(\"index_off\",function(){$(\\'&lt;div class=\"c-tips-container\" id=\"c-tips-container\"&gt;&lt;/div&gt;\\').insertAfter(\"#wrapper\"),window.__sample_dynamic_tab&amp;&amp;$(\"#s_tab\").remove()\\n}),bds.comm&amp;&amp;bds.comm.ishome&amp;&amp;Cookie.get(\"H_PS_PSSID\")&amp;&amp;(bds.comm.indexSid=Cookie.get(\"H_PS_PSSID\"));var a=$(document).find(\"#s_tab\").find(\"a\");a&amp;&amp;a.length&gt;0&amp;&amp;a.each(function(e,t){t.innerHTML&amp;&amp;t.innerHTML.match(/新闻/)&amp;&amp;(t.innerHTML=\"资讯\",t.href=\"//www.baidu.com/s?rtt=1&amp;bsst=1&amp;cl=2&amp;tn=news&amp;word=\",t.setAttribute(\"sync\",!0))})}();</script><script src=\"https://ss1.bdstatic.com/5eN1bjq8AAUYm2zgoY3K/r/www/cache/static/protocol/https/global/js/all_async_search_8002e03.js\"></script>\\n\\n\\n\\n<script>\\nif(bds.comm.supportis){\\n    window.__restart_confirm_timeout=true;\\n    window.__confirm_timeout=8000;\\n    window.__disable_is_guide=true;\\n    window.__disable_swap_to_empty=true;\\n}\\ninitPreload({\\n    \\'isui\\':true,\\n    \\'index_form\\':\"#form\",\\n    \\'index_kw\\':\"#kw\",\\n    \\'result_form\\':\"#form\",\\n    \\'result_kw\\':\"#kw\"\\n});\\n</script>\\n\\n<script>\\nif(navigator.cookieEnabled){\\n\\tdocument.cookie=\"NOJS=;expires=Sat, 01 Jan 2000 00:00:00 GMT\";\\n}\\n</script>\\n\\n\\n\\n\\n\\n\\n\\n\\n\\n\\n</body></html>'"
      ]
     },
     "execution_count": 7,
     "metadata": {},
     "output_type": "execute_result"
    }
   ],
   "source": [
    "browser = webdriver.Chrome()\n",
    "browser.get('https://www.baidu.com/')\n",
    "browser.page_source\n"
   ]
  },
  {
   "cell_type": "markdown",
   "metadata": {},
   "source": [
    "## 抓取淘宝"
   ]
  },
  {
   "cell_type": "code",
   "execution_count": 3,
   "metadata": {},
   "outputs": [],
   "source": [
    "from selenium import webdriver\n",
    "from selenium.common.exceptions import TimeoutException\n",
    "from selenium.webdriver.common.by import By\n",
    "from selenium.webdriver.support import expected_conditions as EC\n",
    "from selenium.webdriver.support.wait import WebDriverWait\n",
    "from urllib.parse import quote\n",
    " \n",
    "chrome_options = webdriver.ChromeOptions()\n",
    "chrome_options.add_argument('--headless')\n",
    "browser = webdriver.Chrome(chrome_options=chrome_options)\n",
    "wait = WebDriverWait(browser, 10)\n",
    "KEYWORD = 'iPad'\n",
    " \n",
    "def index_page(page,KEYWORD = 'iPad'):\n",
    "    \"\"\"\n",
    "    抓取索引页\n",
    "    :param page: 页码\n",
    "    \"\"\"\n",
    "    print('正在爬取第', page, '页')\n",
    "    try:\n",
    "        url = 'https://s.taobao.com/search?q=' + quote(KEYWORD)\n",
    "        browser.get(url)\n",
    "        if page > 1:\n",
    "            input = wait.until(\n",
    "                EC.presence_of_element_located((By.CSS_SELECTOR, '#mainsrp-pager div.form > input')))\n",
    "            submit = wait.until(\n",
    "                EC.element_to_be_clickable((By.CSS_SELECTOR, '#mainsrp-pager div.form > span.btn.J_Submit')))\n",
    "            input.clear()\n",
    "            input.send_keys(page)\n",
    "            submit.click()\n",
    "        wait.until(\n",
    "            EC.text_to_be_present_in_element((By.CSS_SELECTOR, '#mainsrp-pager li.item.active > span'), str(page)))\n",
    "        wait.until(EC.presence_of_element_located((By.CSS_SELECTOR, '.m-itemlist .items .item')))\n",
    "        get_products()\n",
    "    except TimeoutException:\n",
    "        index_page(page)\n",
    "from pyquery import PyQuery as pq\n",
    "def get_products():\n",
    "    \"\"\"\n",
    "    提取商品数据\n",
    "    \"\"\"\n",
    "    html = browser.page_source\n",
    "    doc = pq(html)\n",
    "    items = doc('#mainsrp-itemlist .items .item').items()\n",
    "    for item in items:\n",
    "        product = {\n",
    "            'image': item.find('.pic .img').attr('data-src'),\n",
    "            'price': item.find('.price').text(),\n",
    "            'deal': item.find('.deal-cnt').text(),\n",
    "            'title': item.find('.title').text(),\n",
    "            'shop': item.find('.shop').text(),\n",
    "            'location': item.find('.location').text()\n",
    "        }\n",
    "        print(product)\n",
    "        save_to_mongo(product)"
   ]
  },
  {
   "cell_type": "code",
   "execution_count": 45,
   "metadata": {},
   "outputs": [],
   "source": [
    "import pymongo\n",
    "MONGO_URL = 'localhost'\n",
    "MONGO_DB = 'taobao'\n",
    "MONGO_COLLECTION = 'products'\n",
    "client = pymongo.MongoClient(MONGO_URL)\n",
    "db = client[MONGO_DB]\n",
    "def save_to_mongo(result):\n",
    "    \"\"\"\n",
    "    保存至MongoDB\n",
    "    :param result: 结果\n",
    "    \"\"\"\n",
    "    try:\n",
    "        if db[MONGO_COLLECTION].insert(result):\n",
    "            print('存储到MongoDB成功')\n",
    "    except Exception:\n",
    "        print('存储到MongoDB失败')"
   ]
  },
  {
   "cell_type": "code",
   "execution_count": 14,
   "metadata": {},
   "outputs": [],
   "source": [
    "MAX_PAGE = 1\n",
    "def main():\n",
    "    \"\"\"\n",
    "    遍历每一页\n",
    "    \"\"\"\n",
    "    for i in range(1, MAX_PAGE + 1):\n",
    "        index_page(i,'本子')"
   ]
  },
  {
   "cell_type": "code",
   "execution_count": 15,
   "metadata": {
    "collapsed": true
   },
   "outputs": [
    {
     "name": "stdout",
     "output_type": "stream",
     "text": [
      "正在爬取第 1 页\n",
      "{'image': '//g-search1.alicdn.com/img/bao/uploaded/i4/imgextra/i4/125294160/TB2hVPEAiCYBuNkSnaVXXcMsVXa_!!0-saturn_solar.jpg', 'price': '¥\\n6.90', 'deal': '6611人付款', 'title': '订做笔记\\n本子\\n文具\\n本子\\n厚记事本商务会议记录本创意复古日记本手账本A5定制logo韩国小清新大学生办公用品简约', 'shop': 'ssba旗舰店', 'location': '浙江 温州'}\n",
      "存储到MongoDB成功\n",
      "{'image': '//g-search2.alicdn.com/img/bao/uploaded/i4/i1/743905254/TB22i2_JKuSBuNjSsplXXbe8pXa_!!743905254-0-item_pic.jpg', 'price': '¥\\n18.80', 'deal': '31687人付款', 'title': '日本国誉淡彩曲奇活页本外壳可拆卸笔记\\n本子\\n记事活页夹文具A4A5B5小清新手帐大号可拆线圈分类大学生学习用品', 'shop': '联新办公专营店', 'location': '上海'}\n",
      "存储到MongoDB成功\n",
      "{'image': '//g-search3.alicdn.com/img/bao/uploaded/i4/i2/743905254/TB2H9TRDpuWBuNjSszbXXcS7FXa_!!743905254-0-item_pic.jpg', 'price': '¥\\n9.90', 'deal': '19652人付款', 'title': '日本国誉kokuyo活页纸替芯英语方格笔记\\n本子\\n记事26孔20孔内芯A5B5文具手帐本夹可拆卸线圈网格错题空白替换芯', 'shop': '联新办公专营店', 'location': '上海'}\n",
      "存储到MongoDB成功\n",
      "{'image': '//g-search1.alicdn.com/img/bao/uploaded/i4/i1/3011592897/TB28EHpJQKWBuNjy1zjXXcOypXa_!!3011592897-0-item_pic.jpg', 'price': '¥\\n21.90', 'deal': '42043人付款', 'title': '得力笔记\\n本子\\n记事本文具加厚批发A5B5考研大号简约大学生小清新16K工作笔记本', 'shop': '得力中科创举专卖店', 'location': '上海'}\n",
      "存储到MongoDB成功\n",
      "{'image': '//g-search1.alicdn.com/img/bao/uploaded/i4/i2/650577164/TB2UO3DpcyYBuNkSnfoXXcWgVXa_!!650577164.jpg', 'price': '¥\\n25.80', 'deal': '12728人付款', 'title': '四本装B5大本加厚胶套本16k笔记本文具简约学生记事\\n本子\\n批发', 'shop': '寒烟落地', 'location': '山东 临沂'}\n",
      "存储到MongoDB成功\n",
      "{'image': '//g-search2.alicdn.com/img/bao/uploaded/i4/i2/2781701349/TB2uG_hyIuYBuNkSmRyXXcA3pXa_!!2781701349-0-item_pic.jpg', 'price': '¥\\n18.00', 'deal': '8196人付款', 'title': '10本装包邮 晨光A5/B5记事\\n本子\\n韩国小清新笔记本文具大学生软面抄创意商务办公学生用大号日记本批发', 'shop': '贤伊办公用品专营店', 'location': '上海'}\n",
      "存储到MongoDB成功\n",
      "{'image': '//g-search3.alicdn.com/img/bao/uploaded/i4/i2/512192628/TB1iN4lp_lYBeNjSszcXXbwhFXa_!!0-item_pic.jpg', 'price': '¥\\n18.80', 'deal': '5572人付款', 'title': '记事笔记本文具\\n本子\\n韩国小清新简约大学生用B5软抄A4空白车线批发', 'shop': '娟娟62889', 'location': '山东 临沂'}\n",
      "存储到MongoDB成功\n",
      "{'image': '//g-search1.alicdn.com/img/bao/uploaded/i4/i4/3159614613/TB2H1J9rcIrBKNjSZK9XXagoVXa_!!3159614613-0-item_pic.jpg', 'price': '¥\\n22.80', 'deal': '37511人付款', 'title': '得力笔记\\n本子\\n记事本加厚韩国小清新简约b5大号软面抄大学生用创意大a5小\\n本子\\n日记本学生文具店读书文具笔记本', 'shop': '得力文具专卖店', 'location': '上海'}\n",
      "存储到MongoDB成功\n",
      "{'image': '//g-search2.alicdn.com/img/bao/uploaded/i4/i1/2452932317/TB1oC30SFXXXXXcXVXXXXXXXXXX_!!0-item_pic.jpg', 'price': '¥\\n26.00', 'deal': '2412人付款', 'title': '小号骑马钉笔记本文具办公用品小可爱\\n本子\\n记事本小随身本100本装卡通小\\n本子\\n便携小清新学生奖品文具批发', 'shop': '佳周深源专卖店', 'location': '浙江 温州'}\n",
      "存储到MongoDB成功\n",
      "{'image': '//g-search3.alicdn.com/img/bao/uploaded/i4/i3/591087936/TB2fn6ms1uSBuNjy1XcXXcYjFXa_!!591087936.jpg', 'price': '¥\\n23.80', 'deal': '8816人付款', 'title': 'B5笔记本文具大号\\n本子\\n学生车线本软面抄韩国小清新简约记事本加厚', 'shop': '萍萍345', 'location': '山东 临沂'}\n",
      "存储到MongoDB成功\n",
      "{'image': '//g-search2.alicdn.com/img/bao/uploaded/i4/i3/2925927232/TB2Ys.tFFuWBuNjSszbXXcS7FXa_!!2925927232.png', 'price': '¥\\n29.90', 'deal': '95人付款', 'title': '手工复古真干花\\n本子\\n文艺清新情侣情人节礼物真花压花记事本创意本', 'shop': '时光与树z', 'location': '湖南 邵阳'}\n",
      "存储到MongoDB成功\n",
      "{'image': '//g-search3.alicdn.com/img/bao/uploaded/i4/i4/58167044/TB2zrnYufiSBuNkSnhJXXbDcpXa_!!58167044.jpg', 'price': '¥\\n13.92', 'deal': '7015人付款', 'title': '韩国小清新简约笔记\\n本子\\na5b5记事本练习本大学生软抄本文具批发', 'shop': 'angoo旗舰店', 'location': '上海'}\n",
      "存储到MongoDB成功\n",
      "{'image': '//g-search3.alicdn.com/img/bao/uploaded/i4/i2/2734869553/TB2K3d6H21TBuNjy0FjXXajyXXa_!!2734869553.jpg', 'price': '¥\\n18.80', 'deal': '2391人付款', 'title': '笔记\\n本子\\n记事本商务小清新简约文具a5大学生日记本加厚笔记本定制', 'shop': '龙a18778380866', 'location': '浙江 金华'}\n",
      "存储到MongoDB成功\n",
      "{'image': '//g-search1.alicdn.com/img/bao/uploaded/i4/i2/650577164/TB2IkXJXmFjpuFjSszhXXaBuVXa_!!650577164.jpg', 'price': '¥\\n27.90', 'deal': '867人付款', 'title': 'B5大号\\n本子\\n笔记本文具 空白纸速写本 纯黑色 16k初高中学生创意本', 'shop': '寒烟落地', 'location': '山东 临沂'}\n",
      "存储到MongoDB成功\n",
      "{'image': '//g-search3.alicdn.com/img/bao/uploaded/i4/i2/648158652/TB2c1cSy7KWBuNjy1zjXXcOypXa_!!648158652-0-item_pic.jpg', 'price': '¥\\n13.80', 'deal': '24500人付款', 'title': 'A5笔记本文具大\\n本子\\n日记本学生软面抄B5简约商务办公用批发32k大学生软抄本手账本练习本 笔记\\n本子\\n记事本', 'shop': '凯影数码专营店', 'location': '上海'}\n",
      "存储到MongoDB成功\n",
      "{'image': '//g-search1.alicdn.com/img/bao/uploaded/i4/i1/306493012/TB2IC_UlxPI8KJjSspfXXcCFXXa_!!306493012.jpg', 'price': '¥\\n15.66', 'deal': '1584人付款', 'title': 'ins少女心笔记本情侣火烈鸟记事\\n本子\\n手账礼盒送女生闺蜜生日礼物', 'shop': 'xueshangzi', 'location': '浙江 金华'}\n",
      "存储到MongoDB成功\n",
      "{'image': '//g-search1.alicdn.com/img/bao/uploaded/i4/i4/2967632267/TB2V0qNxQKWBuNjy1zjXXcOypXa_!!2967632267-0-item_pic.jpg', 'price': '¥\\n23.50', 'deal': '10751人付款', 'title': '江苏省统一学生作业本3-6年级英语/数学/语文/作文本送10张\\n本子\\n皮', 'shop': '优加良品文具专营店', 'location': '江苏 无锡'}\n",
      "存储到MongoDB成功\n",
      "{'image': '//g-search3.alicdn.com/img/bao/uploaded/i4/i3/63804709/TB16brqvbwrBKNjSZPcXXXpapXa_!!0-item_pic.jpg', 'price': '¥\\n19.90', 'deal': '6849人付款', 'title': '本子\\nb5笔记\\n本子\\n记事本文具简约大学生a5牛皮纸网格笔记本空白批发', 'shop': 'wakdmfcu', 'location': '山东 临沂'}\n",
      "存储到MongoDB成功\n",
      "{'image': '//g-search1.alicdn.com/img/bao/uploaded/i4/i4/3216414411/TB2vYTwJr5YBuNjSspoXXbeNFXa_!!3216414411.jpg', 'price': '¥\\n15.80', 'deal': '2432人付款', 'title': '笔记\\n本子\\na5记事本文具商务大本日记本b5活页高档软皮定制可印logo', 'shop': '温州巨达文具有限公司', 'location': '浙江 温州'}\n",
      "存储到MongoDB成功\n",
      "{'image': '//g-search2.alicdn.com/img/bao/uploaded/i4/i2/460936263/TB1B3T1d7fb_uJkSmLyXXcxoXXa_!!0-item_pic.jpg', 'price': '¥\\n38.00', 'deal': '227人付款', 'title': '【千鹤寻音】浮世绘和风 烫金 日记本手账\\n本子\\n礼物 A5 飞鹤 仙鹤', 'shop': '自然醒o', 'location': '福建 南平'}\n",
      "存储到MongoDB成功\n",
      "{'image': '//g-search2.alicdn.com/img/bao/uploaded/i4/i4/2014491970/TB1NcjAseSSBuNjy0FlXXbBpVXa_!!0-item_pic.jpg', 'price': '¥\\n22.80', 'deal': '2259人付款', 'title': 'A4大笔记\\n本子\\n文具记事本加厚16开批发大号网络格子网格本方格创意学生用韩国简约小清新大学生纯色牛皮笔记本', 'shop': '金沽长办公专营店', 'location': '广东 深圳'}\n",
      "存储到MongoDB成功\n",
      "{'image': '//g-search2.alicdn.com/img/bao/uploaded/i4/i2/1034653723/TB2cFhgpb3nBKNjSZFMXXaUSFXa_!!1034653723-0-item_pic.jpg', 'price': '¥\\n19.90', 'deal': '21205人付款', 'title': '誉品笔记\\n本子\\n记事本文具加厚软面抄A5B5韩国小清新简约大学生批发大号考研学生用16K16开软抄创意\\n本子\\n笔记本', 'shop': '坚雄数码专营店', 'location': '上海'}\n",
      "存储到MongoDB成功\n",
      "{'image': '//g-search1.alicdn.com/img/bao/uploaded/i4/i3/1991644228/TB1oDYydOOYBuNjSsD4XXbSkFXa_!!0-item_pic.jpg', 'price': '¥\\n15.50', 'deal': '1032人付款', 'title': '16k笔记本缝线本 简约牛皮封面b5横线\\n本子\\na4空白复古车线本记事本', 'shop': '维品生活馆', 'location': '北京'}\n",
      "存储到MongoDB成功\n",
      "{'image': '//g-search2.alicdn.com/img/bao/uploaded/i4/i3/3525040859/O1CN011IDSfOWkrXqWFS7_!!3525040859.jpg', 'price': '¥\\n15.80', 'deal': '9959人付款', 'title': '田字格本作业\\n本子\\n批发汉语拼音本小学生1-2年级3-6语文英语田字格写字本幼儿园儿童生字本数学一年级统一全国', 'shop': '唯阅办公专营店', 'location': '上海'}\n",
      "存储到MongoDB成功\n",
      "{'image': '//g-search1.alicdn.com/img/bao/uploaded/i4/i2/2473189965/TB29fhEaZGfF1Jjy1XdXXapppXa_!!2473189965.jpg', 'price': '¥\\n29.80', 'deal': '2035人付款', 'title': '10本装学生文具牛皮笔记本加厚16k大软面抄B5记事本英语作文\\n本子', 'shop': '静舒的店', 'location': '湖北 武汉'}\n",
      "存储到MongoDB成功\n",
      "{'image': '//g-search3.alicdn.com/img/bao/uploaded/i4/i2/2889919167/TB15m.0yVGWBuNjy0FbXXb4sXXa_!!0-item_pic.jpg', 'price': '¥\\n24.60', 'deal': '8321人付款', 'title': '笔记\\n本子\\n文具日记本记事本批发A5/32k简约小清新学生办公用品加厚\\n本子\\n笔记本创意读书笔记小\\n本子\\n读书练习本', 'shop': '荣麒办公专营店', 'location': '浙江 金华'}\n",
      "存储到MongoDB成功\n",
      "{'image': '//g-search2.alicdn.com/img/bao/uploaded/i4/i2/686445466/TB2jX1ap8smBKNjSZFsXXaXSVXa_!!686445466.jpg', 'price': '¥\\n98.00', 'deal': '21人付款', 'title': '日本BAILA杂志6月刊正品限定GUCCI\\n本子\\n手账本笔记本', 'shop': 'jpdg1234', 'location': '浙江 嘉兴'}\n",
      "存储到MongoDB成功\n",
      "{'image': '//g-search1.alicdn.com/img/bao/uploaded/i4/i2/1075250557/TB2kXzIsXooBKNjSZFPXXXa2XXa_!!1075250557.jpg', 'price': '¥\\n16.80', 'deal': '4311人付款', 'title': '笔记\\n本子\\n记事本商务a5加厚复古大学生简约文具工作创意日记本定制', 'shop': '许纯寒', 'location': '浙江 金华'}\n",
      "存储到MongoDB成功\n",
      "{'image': '//g-search3.alicdn.com/img/bao/uploaded/i4/i1/2385422703/TB1bO3fr1OSBuNjy0FdXXbDnVXa_!!0-item_pic.jpg', 'price': '¥\\n24.80', 'deal': '31375人付款', 'title': '晨光拼音本小学生作业\\n本子\\n田字格本幼儿园田字格生字全国统一1-2年级田格本儿童汉语写字语文数学标准小字本', 'shop': 'mg晨光成都专卖店', 'location': '湖北 武汉'}\n",
      "存储到MongoDB成功\n",
      "{'image': '//g-search3.alicdn.com/img/bao/uploaded/i4/i3/3015959647/TB2wvR9fIj_B1NjSZFHXXaDWpXa_!!3015959647.jpg', 'price': '¥\\n17.80', 'deal': '4519人付款', 'title': '田字格本方格三线拼音四线本幼儿园小学生双面作业\\n本子\\n数学本批发', 'shop': '步步高教育用品商行', 'location': '山东 临沂'}\n",
      "存储到MongoDB成功\n",
      "{'image': '//g-search3.alicdn.com/img/bao/uploaded/i4/i3/3216414411/TB2k.BfJqSWBuNjSsrbXXa0mVXa_!!3216414411.jpg', 'price': '¥\\n12.80', 'deal': '3993人付款', 'title': '定制笔记\\n本子\\n记事本a5大号商务办公本加厚b5学生日记本定做印logo', 'shop': '温州巨达文具有限公司', 'location': '浙江 温州'}\n",
      "存储到MongoDB成功\n",
      "{'image': '//g-search3.alicdn.com/img/bao/uploaded/i4/i2/2720031485/TB1rbA3u0knBKNjSZKPXXX6OFXa_!!0-item_pic.jpg', 'price': '¥\\n24.66', 'deal': '4148人付款', 'title': '笔记\\n本子\\n记事本韩国小清新简约加厚b5车线本16k大学生创意文具', 'shop': 'and_hanzou', 'location': '山东 临沂'}\n",
      "存储到MongoDB成功\n",
      "{'image': '//g-search3.alicdn.com/img/bao/uploaded/i4/i2/TB1xLVzRXXXXXbZaXXXXXXXXXXX_!!0-item_pic.jpg', 'price': '¥\\n34.80', 'deal': '4642人付款', 'title': '锦一方格本 网格本日记本格子本手账本文具\\n本子\\n手帐日式可爱大学生 A5小清新胶套本简约加厚笔记\\n本子\\n记事本', 'shop': '锦一文具旗舰店', 'location': '江苏 无锡'}\n",
      "存储到MongoDB成功\n",
      "{'image': '//g-search1.alicdn.com/img/bao/uploaded/i4/i4/1685372067/TB2JRUktkSWBuNjSszdXXbeSpXa_!!1685372067-0-item_pic.jpg', 'price': '¥\\n18.80', 'deal': '44356人付款', 'title': '康奈尔笔记\\n本子\\nA5文具可拆卸方格夹B5活页纸线圈错题网格本高效法外壳可拆格子记事本', 'shop': '懿仝办公专营店', 'location': '上海'}\n",
      "存储到MongoDB成功\n",
      "{'image': '//g-search2.alicdn.com/img/bao/uploaded/i4/i4/3159614613/TB18C_Odf9TBuNjy1zbXXXpepXa_!!0-item_pic.jpg', 'price': '¥\\n13.00', 'deal': '5670人付款', 'title': '得力笔记\\n本子\\n记事本文具韩国小清新简约加厚大学生日记本笔记本', 'shop': '得力文具专卖店', 'location': '上海'}\n",
      "存储到MongoDB成功\n",
      "{'image': '//g-search3.alicdn.com/img/bao/uploaded/i4/i2/671727347/TB2VeB8jCMmBKNjSZTEXXasKpXa_!!671727347.jpg', 'price': '¥\\n23.50', 'deal': '403人付款', 'title': '纯手工干花笔记本 真花笔记\\n本子\\n记事本手帐本女生礼品礼物 包邮', 'shop': '只赚一点钱', 'location': '重庆'}\n",
      "存储到MongoDB成功\n",
      "{'image': '//g-search3.alicdn.com/img/bao/uploaded/i4/i4/2345268323/TB2yWuHn04opuFjSZFLXXX8mXXa_!!2345268323.jpg', 'price': '¥\\n9.90', 'deal': '12578人付款', 'title': '卡通记事本小\\n本子\\n便携小学生奖励奖品礼物批发随身笔记本文具迷你', 'shop': '简爱芳菲', 'location': '浙江 金华'}\n",
      "存储到MongoDB成功\n",
      "{'image': '//g-search2.alicdn.com/img/bao/uploaded/i4/i2/548402626/TB1MfBSvdknBKNjSZKPXXX6OFXa_!!0-item_pic.jpg', 'price': '¥\\n12.50', 'deal': '13072人付款', 'title': '笔记本文具加厚A5记事本韩国小清新简约大学生B5线圈\\n本子\\n套装批发', 'shop': '妆满爱', 'location': '上海'}\n",
      "存储到MongoDB成功\n",
      "{'image': '//g-search3.alicdn.com/img/bao/uploaded/i4/i2/139880604/TB2Kn8tXhsIL1JjSZFqXXceCpXa_!!139880604.jpg', 'price': '¥\\n14.50', 'deal': '482人付款', 'title': '复古彩页日记本欧式个性精装牛皮纸创意手绘插画笔记\\n本子\\n学生礼品', 'shop': '人生十年_2008', 'location': '上海'}\n",
      "存储到MongoDB成功\n",
      "{'image': '//g-search2.alicdn.com/img/bao/uploaded/i4/i4/134263074/TB2I8fCgKGSBuNjSspbXXciipXa_!!134263074.jpg', 'price': '¥\\n29.80', 'deal': '1473人付款', 'title': '加厚记事\\n本子\\n复古笔记本文具小清新创意大学生错题本日记本手帐', 'shop': 'fengliujiajia', 'location': '江苏 无锡'}\n",
      "存储到MongoDB成功\n",
      "{'image': '//g-search3.alicdn.com/img/bao/uploaded/i4/i4/2255604212/TB2.zdGnWAoBKNjSZSyXXaHAVXa_!!2255604212.jpg', 'price': '¥\\n15.00', 'deal': '39237人付款', 'title': '超值\\n本子\\n福袋文具武汉四方伙伴软面抄精品手账本加厚笔记本方格本', 'shop': '武汉四方伙伴', 'location': '湖北 武汉'}\n",
      "存储到MongoDB成功\n",
      "{'image': '//g-search3.alicdn.com/img/bao/uploaded/i4/i3/53422791/TB28QXiwUR1BeNjy0FmXXb0wVXa_!!53422791.jpg', 'price': '¥\\n19.50', 'deal': '17594人付款', 'title': '笔记本文具\\n本子\\n小清新大学生加厚韩国创意简约记事日记胶套本批发', 'shop': 'taofenguuu', 'location': '安徽 合肥'}\n",
      "存储到MongoDB成功\n",
      "{'image': '//g-search3.alicdn.com/img/bao/uploaded/i4/i3/3082337353/TB1GDtvnBTH8KJjy0FiXXcRsXXa_!!0-item_pic.jpg', 'price': '¥\\n13.00', 'deal': '4212人付款', 'title': 'a5笔记\\n本子\\n批发文具韩国文艺小清新记事本练习简约学生用B5软面抄车线本大学生创意用品摘抄本16K软抄本可爱', 'shop': '昱晗文具专营店', 'location': '上海'}\n",
      "存储到MongoDB成功\n",
      "{'image': '//g-search2.alicdn.com/img/bao/uploaded/i4/i4/1640360232/TB1LmBtqhSYBuNjSspjXXX73VXa_!!0-item_pic.jpg', 'price': '¥\\n12.80', 'deal': '35945人付款', 'title': 'A5方格本软线圈B5笔记\\n本子\\n记事本手帐空白大学生错题小格子韩国小清新简约网格本文具', 'shop': '淮安亿时代办公用品专营店', 'location': '江苏 淮安'}\n",
      "存储到MongoDB成功\n",
      "{'image': '//g-search3.alicdn.com/img/bao/uploaded/i4/i4/2258013893/TB2RNqdhHsTMeJjSszhXXcGCFXa_!!2258013893.jpg', 'price': '¥\\n58.65', 'deal': '359人付款', 'title': '笔记\\n本子\\n记事本高档工作商务会议记录本办公文具简约黑日程计划本', 'shop': '米是mi的米', 'location': '浙江 宁波'}\n",
      "存储到MongoDB成功\n",
      "{'image': '//g-search3.alicdn.com/img/bao/uploaded/i4/i3/346073084/O1CN011YeVvBr8HpkR31K_!!346073084.jpg', 'price': '¥\\n24.80', 'deal': '5892人付款', 'title': '16k线装\\n本子\\n笔记本b5大号缝线本日记学生练习本批发记事本文具', 'shop': '秋心有耳', 'location': '山东 临沂'}\n",
      "存储到MongoDB成功\n",
      "{'image': '//g-search1.alicdn.com/img/bao/uploaded/i4/i4/3222639628/TB1G5hECKuSBuNjSsplXXbe8pXa_!!0-item_pic.jpg', 'price': '¥\\n27.85', 'deal': '1968人付款', 'title': '16K软面抄车线本大号学生用B5笔记\\n本子\\n16开文具韩国批发记事本小清新简约加厚日记本创意本手绘可爱复古免邮', 'shop': '不同生活馆', 'location': '山东 临沂'}\n",
      "存储到MongoDB成功\n",
      "{'image': '//g-search3.alicdn.com/img/bao/uploaded/i4/i3/2367240368/TB25GcMgNPI8KJjSspoXXX6MFXa_!!2367240368.jpg', 'price': '¥\\n14.90', 'deal': '589人付款', 'title': '笔记\\n本子\\n文具用品韩国16k牛皮纸记事\\n本子\\n批发小清新简约大学生b5', 'shop': '随遇而安昊昊', 'location': '山东 临沂'}\n",
      "存储到MongoDB成功\n"
     ]
    },
    {
     "name": "stderr",
     "output_type": "stream",
     "text": [
      "C:\\Users\\d\\Anaconda3\\lib\\site-packages\\ipykernel_launcher.py:13: DeprecationWarning: insert is deprecated. Use insert_one or insert_many instead.\n",
      "  del sys.path[0]\n"
     ]
    }
   ],
   "source": [
    "main()"
   ]
  },
  {
   "cell_type": "code",
   "execution_count": null,
   "metadata": {},
   "outputs": [],
   "source": [
    "import os\n",
    "os.system(\"mongod --dbpath d://data//\") "
   ]
  },
  {
   "cell_type": "code",
   "execution_count": null,
   "metadata": {},
   "outputs": [],
   "source": [
    "# 转移到pands\n",
    "\n",
    "import pandas as pd\n",
    "df=pd.DataFrame(list(client.taobao.products.find({})))\n",
    "df.info()  "
   ]
  },
  {
   "cell_type": "markdown",
   "metadata": {},
   "source": [
    "# 验证码识别"
   ]
  },
  {
   "cell_type": "markdown",
   "metadata": {},
   "source": [
    "## 图形验证码（未完成）"
   ]
  },
  {
   "cell_type": "code",
   "execution_count": null,
   "metadata": {},
   "outputs": [],
   "source": [
    "# 下载tesseract下载地址： http://digi.bib.uni-mannheim.de/tesseract"
   ]
  },
  {
   "cell_type": "code",
   "execution_count": 2,
   "metadata": {
    "collapsed": true
   },
   "outputs": [
    {
     "ename": "TesseractError",
     "evalue": "(1, 'Error opening data file \\\\Program Files (x86)\\\\Tesseract-OCR\\\\tessdata/chi_sim.traineddata Please make sure the TESSDATA_PREFIX environment variable is set to the parent directory of your \"tessdata\" directory. Failed loading language \\'chi_sim\\' Tesseract couldn\\'t load any languages! Could not initialize tesseract.')",
     "output_type": "error",
     "traceback": [
      "\u001b[1;31m---------------------------------------------------------------------------\u001b[0m",
      "\u001b[1;31mTesseractError\u001b[0m                            Traceback (most recent call last)",
      "\u001b[1;32m<ipython-input-2-cbdc1f20a71f>\u001b[0m in \u001b[0;36m<module>\u001b[1;34m()\u001b[0m\n\u001b[0;32m      7\u001b[0m \u001b[1;31m# open image\u001b[0m\u001b[1;33m\u001b[0m\u001b[1;33m\u001b[0m\u001b[0m\n\u001b[0;32m      8\u001b[0m \u001b[0mimage\u001b[0m \u001b[1;33m=\u001b[0m \u001b[0mImage\u001b[0m\u001b[1;33m.\u001b[0m\u001b[0mopen\u001b[0m\u001b[1;33m(\u001b[0m\u001b[1;34m'test.png'\u001b[0m\u001b[1;33m)\u001b[0m\u001b[1;33m\u001b[0m\u001b[0m\n\u001b[1;32m----> 9\u001b[1;33m \u001b[0mcode\u001b[0m \u001b[1;33m=\u001b[0m \u001b[0mpytesseract\u001b[0m\u001b[1;33m.\u001b[0m\u001b[0mimage_to_string\u001b[0m\u001b[1;33m(\u001b[0m\u001b[0mimage\u001b[0m\u001b[1;33m,\u001b[0m \u001b[0mlang\u001b[0m\u001b[1;33m=\u001b[0m\u001b[1;34m'chi_sim'\u001b[0m\u001b[1;33m)\u001b[0m\u001b[1;33m\u001b[0m\u001b[0m\n\u001b[0m\u001b[0;32m     10\u001b[0m \u001b[0mprint\u001b[0m\u001b[1;33m(\u001b[0m\u001b[0mcode\u001b[0m\u001b[1;33m)\u001b[0m\u001b[1;33m\u001b[0m\u001b[0m\n",
      "\u001b[1;32m~\\Anaconda3\\lib\\site-packages\\pytesseract\\pytesseract.py\u001b[0m in \u001b[0;36mimage_to_string\u001b[1;34m(image, lang, config, nice, boxes, output_type)\u001b[0m\n\u001b[0;32m    293\u001b[0m         \u001b[0margs\u001b[0m\u001b[1;33m.\u001b[0m\u001b[0mappend\u001b[0m\u001b[1;33m(\u001b[0m\u001b[1;32mTrue\u001b[0m\u001b[1;33m)\u001b[0m\u001b[1;33m\u001b[0m\u001b[0m\n\u001b[0;32m    294\u001b[0m \u001b[1;33m\u001b[0m\u001b[0m\n\u001b[1;32m--> 295\u001b[1;33m     \u001b[1;32mreturn\u001b[0m \u001b[0mrun_and_get_output\u001b[0m\u001b[1;33m(\u001b[0m\u001b[1;33m*\u001b[0m\u001b[0margs\u001b[0m\u001b[1;33m)\u001b[0m\u001b[1;33m\u001b[0m\u001b[0m\n\u001b[0m\u001b[0;32m    296\u001b[0m \u001b[1;33m\u001b[0m\u001b[0m\n\u001b[0;32m    297\u001b[0m \u001b[1;33m\u001b[0m\u001b[0m\n",
      "\u001b[1;32m~\\Anaconda3\\lib\\site-packages\\pytesseract\\pytesseract.py\u001b[0m in \u001b[0;36mrun_and_get_output\u001b[1;34m(image, extension, lang, config, nice, return_bytes)\u001b[0m\n\u001b[0;32m    201\u001b[0m         }\n\u001b[0;32m    202\u001b[0m \u001b[1;33m\u001b[0m\u001b[0m\n\u001b[1;32m--> 203\u001b[1;33m         \u001b[0mrun_tesseract\u001b[0m\u001b[1;33m(\u001b[0m\u001b[1;33m**\u001b[0m\u001b[0mkwargs\u001b[0m\u001b[1;33m)\u001b[0m\u001b[1;33m\u001b[0m\u001b[0m\n\u001b[0m\u001b[0;32m    204\u001b[0m         \u001b[0mfilename\u001b[0m \u001b[1;33m=\u001b[0m \u001b[0mkwargs\u001b[0m\u001b[1;33m[\u001b[0m\u001b[1;34m'output_filename_base'\u001b[0m\u001b[1;33m]\u001b[0m \u001b[1;33m+\u001b[0m \u001b[0mos\u001b[0m\u001b[1;33m.\u001b[0m\u001b[0mextsep\u001b[0m \u001b[1;33m+\u001b[0m \u001b[0mextension\u001b[0m\u001b[1;33m\u001b[0m\u001b[0m\n\u001b[0;32m    205\u001b[0m         \u001b[1;32mwith\u001b[0m \u001b[0mopen\u001b[0m\u001b[1;33m(\u001b[0m\u001b[0mfilename\u001b[0m\u001b[1;33m,\u001b[0m \u001b[1;34m'rb'\u001b[0m\u001b[1;33m)\u001b[0m \u001b[1;32mas\u001b[0m \u001b[0moutput_file\u001b[0m\u001b[1;33m:\u001b[0m\u001b[1;33m\u001b[0m\u001b[0m\n",
      "\u001b[1;32m~\\Anaconda3\\lib\\site-packages\\pytesseract\\pytesseract.py\u001b[0m in \u001b[0;36mrun_tesseract\u001b[1;34m(input_filename, output_filename_base, extension, lang, config, nice)\u001b[0m\n\u001b[0;32m    177\u001b[0m \u001b[1;33m\u001b[0m\u001b[0m\n\u001b[0;32m    178\u001b[0m     \u001b[1;32mif\u001b[0m \u001b[0mstatus_code\u001b[0m\u001b[1;33m:\u001b[0m\u001b[1;33m\u001b[0m\u001b[0m\n\u001b[1;32m--> 179\u001b[1;33m         \u001b[1;32mraise\u001b[0m \u001b[0mTesseractError\u001b[0m\u001b[1;33m(\u001b[0m\u001b[0mstatus_code\u001b[0m\u001b[1;33m,\u001b[0m \u001b[0mget_errors\u001b[0m\u001b[1;33m(\u001b[0m\u001b[0merror_string\u001b[0m\u001b[1;33m)\u001b[0m\u001b[1;33m)\u001b[0m\u001b[1;33m\u001b[0m\u001b[0m\n\u001b[0m\u001b[0;32m    180\u001b[0m \u001b[1;33m\u001b[0m\u001b[0m\n\u001b[0;32m    181\u001b[0m     \u001b[1;32mreturn\u001b[0m \u001b[1;32mTrue\u001b[0m\u001b[1;33m\u001b[0m\u001b[0m\n",
      "\u001b[1;31mTesseractError\u001b[0m: (1, 'Error opening data file \\\\Program Files (x86)\\\\Tesseract-OCR\\\\tessdata/chi_sim.traineddata Please make sure the TESSDATA_PREFIX environment variable is set to the parent directory of your \"tessdata\" directory. Failed loading language \\'chi_sim\\' Tesseract couldn\\'t load any languages! Could not initialize tesseract.')"
     ]
    }
   ],
   "source": [
    "# https://blog.csdn.net/wwj_748/article/details/78109680?utm_source=tuicool&utm_medium=referral\n",
    "# https://blog.csdn.net/qiushi_1990/article/details/78041375\n",
    "\n",
    "import pytesseract\n",
    "from PIL import Image\n",
    "\n",
    "# open image\n",
    "image = Image.open('test.png')\n",
    "code = pytesseract.image_to_string(image, lang='chi_sim')\n",
    "print(code)"
   ]
  },
  {
   "cell_type": "markdown",
   "metadata": {},
   "source": [
    "## 滑动验证码"
   ]
  },
  {
   "cell_type": "code",
   "execution_count": 4,
   "metadata": {},
   "outputs": [],
   "source": [
    "#https://www.huxiu.com/\n",
    "from selenium import webdriver\n",
    "from selenium.webdriver.common.by import By\n",
    "from selenium.webdriver.support import expected_conditions as EC\n",
    "from selenium.webdriver.support.wait import WebDriverWait\n",
    "from functools import reduce\n",
    "from selenium.webdriver.common.action_chains import ActionChains\n",
    "\n",
    "class crack_geetest(object):\n",
    "    def __init__(self,brower,*arg,**kw):\n",
    "        '''\n",
    "        initial object url and browser\n",
    "        '''\n",
    "        self.url=kw['url']\n",
    "        self.browser=browser\n",
    "        self.wait=WebDriverWait(self.browser,20)\n",
    "        self.browser.set_window_size(1440, 900)\n",
    "        browser.get(self.url)\n",
    "#         self.email=email\n",
    "#         self.password=password\n",
    "    def get_geetset_button(self,class_name='//*[@class=\"js-register\"]'):\n",
    "        '''\n",
    "        get button\n",
    "        '''\n",
    "        button=self.wait.until(EC.element_to_be_clickable((By.XPATH, class_name)))     \n",
    "        return button\n",
    "    def get_position(self,class_name='js-register'):\n",
    "        '''\n",
    "        get valid code location\n",
    "        '''\n",
    "        img=self.wait.until(EC.presence_of_element_located((By.CLASS_NAME,class_name)))\n",
    "        time.sleep(2)\n",
    "        location=img.location\n",
    "        size=img.size\n",
    "        pos=location['y'],location[y]+size['height'],location['x'],location['x']+size['width']\n",
    "        return pos\n",
    "    def get_geetset_image(self,name):\n",
    "        '''\n",
    "        get image\n",
    "        '''\n",
    "        pos=self.get_position()\n",
    "        screenshot=self.get_screenshot()\n",
    "        captcha=screenshot.crop(pos)\n",
    "        return captcha\n",
    "    def get_slider(self):\n",
    "        '''\n",
    "        get slide\n",
    "        '''\n",
    "        slider=self.wait.until(EC.element_to_be_clickable((By.CLASS_NAME,'gt_slider_knob')))\n",
    "        return slider\n",
    "    def is_pixel_equal(self,img1,img2,x,y):\n",
    "        '''\n",
    "        measure the difference\n",
    "        '''\n",
    "        pixel1=img1.load()[x,y]\n",
    "        pixel2=img2.load()[x,y]\n",
    "        threshold=60\n",
    "        return reduce(lambda x, y: x and y,[abs(i-j)>threshold for i, in zip(pixel1,pixel2)])\n",
    "    \n",
    "    def get_gap(self,img1,img2):\n",
    "        '''\n",
    "        get gap\n",
    "        '''\n",
    "        left =60\n",
    "        for i in range(left,img1.size[0]):\n",
    "            for j in range(img1,size[1]):\n",
    "                if not self.is_pixel_equal(img1.img2,i,j):\n",
    "                    left=i\n",
    "                    return left\n",
    "        return left\n",
    "    def get_track(self,distance):\n",
    "        track=[]\n",
    "        current=0\n",
    "        mid=distance*4/5\n",
    "        t=0.2\n",
    "        v=0\n",
    "        \n",
    "        while current<distance:\n",
    "            if current<mid:\n",
    "                a=2\n",
    "            else:a=-2\n",
    "            v0=v\n",
    "            v=v0+a*t\n",
    "            x=vo+1/2*a*t^2\n",
    "            move=vo*t+1/2*a*t^2\n",
    "            current+=move\n",
    "            track.append(roudn(move))\n",
    "        return track        \n",
    "        \n",
    "    def click_button(self):\n",
    "        '''\n",
    "        click button interaction\n",
    "        '''\n",
    "        button=self.get_geetset_button()\n",
    "        button.click()\n",
    "    def click_slider(self):\n",
    "        '''\n",
    "        click slider interaction\n",
    "        '''\n",
    "        slider=self.get_slider()\n",
    "        slider.click()\n",
    "        return slider\n",
    "    def move_to_gap(self, slider, tracks):\n",
    "        '''\n",
    "        drag the img\n",
    "        '''\n",
    "        ActionChains(self.browser).click_and_hold(slider).perform()\n",
    "        for i in track:\n",
    "            Actionchains(self.browser).move_by_offset(xoffset=x,yoffset=0).perform()\n",
    "        time.sleep(0.5)\n",
    "        Actionchains(self.browser).release().perform()\n",
    "    def main(self):\n",
    "        self.get_geetset_button().click()\n",
    "        img1=self.get_geetset_image('captcha1.png')\n",
    "        slider=self.get_slider().slider()\n",
    "        img2=self.get_geetest_image('captcha2.png')\n",
    "        self.move_to_gap(slider, self.get_track(get_gap(img1,img2)-6))\n"
   ]
  },
  {
   "cell_type": "code",
   "execution_count": 10,
   "metadata": {
    "collapsed": true
   },
   "outputs": [
    {
     "name": "stdout",
     "output_type": "stream",
     "text": [
      "<selenium.webdriver.chrome.webdriver.WebDriver (session=\"61d36f41c5dbfe521899dcda0d7b9046\")>\n"
     ]
    },
    {
     "ename": "NameError",
     "evalue": "name 'y' is not defined",
     "output_type": "error",
     "traceback": [
      "\u001b[1;31m---------------------------------------------------------------------------\u001b[0m",
      "\u001b[1;31mNameError\u001b[0m                                 Traceback (most recent call last)",
      "\u001b[1;32m<ipython-input-10-44adbb24e1a6>\u001b[0m in \u001b[0;36m<module>\u001b[1;34m()\u001b[0m\n\u001b[0;32m      3\u001b[0m \u001b[0murl\u001b[0m\u001b[1;33m=\u001b[0m\u001b[1;34m'https://www.huxiu.com/'\u001b[0m\u001b[1;33m\u001b[0m\u001b[0m\n\u001b[0;32m      4\u001b[0m \u001b[0mhtml\u001b[0m\u001b[1;33m=\u001b[0m\u001b[0mcrack_geetest\u001b[0m\u001b[1;33m(\u001b[0m\u001b[0mbrowser\u001b[0m\u001b[1;33m,\u001b[0m\u001b[0murl\u001b[0m\u001b[1;33m=\u001b[0m\u001b[0murl\u001b[0m\u001b[1;33m)\u001b[0m\u001b[1;33m\u001b[0m\u001b[0m\n\u001b[1;32m----> 5\u001b[1;33m \u001b[0mhtml\u001b[0m\u001b[1;33m.\u001b[0m\u001b[0mmain\u001b[0m\u001b[1;33m(\u001b[0m\u001b[1;33m)\u001b[0m\u001b[1;33m\u001b[0m\u001b[0m\n\u001b[0m",
      "\u001b[1;32m<ipython-input-4-211e91f4705f>\u001b[0m in \u001b[0;36mmain\u001b[1;34m(self)\u001b[0m\n\u001b[0;32m    112\u001b[0m     \u001b[1;32mdef\u001b[0m \u001b[0mmain\u001b[0m\u001b[1;33m(\u001b[0m\u001b[0mself\u001b[0m\u001b[1;33m)\u001b[0m\u001b[1;33m:\u001b[0m\u001b[1;33m\u001b[0m\u001b[0m\n\u001b[0;32m    113\u001b[0m         \u001b[0mself\u001b[0m\u001b[1;33m.\u001b[0m\u001b[0mget_geetset_button\u001b[0m\u001b[1;33m(\u001b[0m\u001b[1;33m)\u001b[0m\u001b[1;33m.\u001b[0m\u001b[0mclick\u001b[0m\u001b[1;33m(\u001b[0m\u001b[1;33m)\u001b[0m\u001b[1;33m\u001b[0m\u001b[0m\n\u001b[1;32m--> 114\u001b[1;33m         \u001b[0mimg1\u001b[0m\u001b[1;33m=\u001b[0m\u001b[0mself\u001b[0m\u001b[1;33m.\u001b[0m\u001b[0mget_geetset_image\u001b[0m\u001b[1;33m(\u001b[0m\u001b[1;34m'captcha1.png'\u001b[0m\u001b[1;33m)\u001b[0m\u001b[1;33m\u001b[0m\u001b[0m\n\u001b[0m\u001b[0;32m    115\u001b[0m         \u001b[0mslider\u001b[0m\u001b[1;33m=\u001b[0m\u001b[0mself\u001b[0m\u001b[1;33m.\u001b[0m\u001b[0mget_slider\u001b[0m\u001b[1;33m(\u001b[0m\u001b[1;33m)\u001b[0m\u001b[1;33m.\u001b[0m\u001b[0mslider\u001b[0m\u001b[1;33m(\u001b[0m\u001b[1;33m)\u001b[0m\u001b[1;33m\u001b[0m\u001b[0m\n\u001b[0;32m    116\u001b[0m         \u001b[0mimg2\u001b[0m\u001b[1;33m=\u001b[0m\u001b[0mself\u001b[0m\u001b[1;33m.\u001b[0m\u001b[0mget_geetest_image\u001b[0m\u001b[1;33m(\u001b[0m\u001b[1;34m'captcha2.png'\u001b[0m\u001b[1;33m)\u001b[0m\u001b[1;33m\u001b[0m\u001b[0m\n",
      "\u001b[1;32m<ipython-input-4-211e91f4705f>\u001b[0m in \u001b[0;36mget_geetset_image\u001b[1;34m(self, name)\u001b[0m\n\u001b[0;32m     39\u001b[0m         \u001b[0mget\u001b[0m \u001b[0mimage\u001b[0m\u001b[1;33m\u001b[0m\u001b[0m\n\u001b[0;32m     40\u001b[0m         '''\n\u001b[1;32m---> 41\u001b[1;33m         \u001b[0mpos\u001b[0m\u001b[1;33m=\u001b[0m\u001b[0mself\u001b[0m\u001b[1;33m.\u001b[0m\u001b[0mget_position\u001b[0m\u001b[1;33m(\u001b[0m\u001b[1;33m)\u001b[0m\u001b[1;33m\u001b[0m\u001b[0m\n\u001b[0m\u001b[0;32m     42\u001b[0m         \u001b[0mscreenshot\u001b[0m\u001b[1;33m=\u001b[0m\u001b[0mself\u001b[0m\u001b[1;33m.\u001b[0m\u001b[0mget_screenshot\u001b[0m\u001b[1;33m(\u001b[0m\u001b[1;33m)\u001b[0m\u001b[1;33m\u001b[0m\u001b[0m\n\u001b[0;32m     43\u001b[0m         \u001b[0mcaptcha\u001b[0m\u001b[1;33m=\u001b[0m\u001b[0mscreenshot\u001b[0m\u001b[1;33m.\u001b[0m\u001b[0mcrop\u001b[0m\u001b[1;33m(\u001b[0m\u001b[0mpos\u001b[0m\u001b[1;33m)\u001b[0m\u001b[1;33m\u001b[0m\u001b[0m\n",
      "\u001b[1;32m<ipython-input-4-211e91f4705f>\u001b[0m in \u001b[0;36mget_position\u001b[1;34m(self, class_name)\u001b[0m\n\u001b[0;32m     33\u001b[0m         \u001b[0mlocation\u001b[0m\u001b[1;33m=\u001b[0m\u001b[0mimg\u001b[0m\u001b[1;33m.\u001b[0m\u001b[0mlocation\u001b[0m\u001b[1;33m\u001b[0m\u001b[0m\n\u001b[0;32m     34\u001b[0m         \u001b[0msize\u001b[0m\u001b[1;33m=\u001b[0m\u001b[0mimg\u001b[0m\u001b[1;33m.\u001b[0m\u001b[0msize\u001b[0m\u001b[1;33m\u001b[0m\u001b[0m\n\u001b[1;32m---> 35\u001b[1;33m         \u001b[0mpos\u001b[0m\u001b[1;33m=\u001b[0m\u001b[0mlocation\u001b[0m\u001b[1;33m[\u001b[0m\u001b[1;34m'y'\u001b[0m\u001b[1;33m]\u001b[0m\u001b[1;33m,\u001b[0m\u001b[0mlocation\u001b[0m\u001b[1;33m[\u001b[0m\u001b[0my\u001b[0m\u001b[1;33m]\u001b[0m\u001b[1;33m+\u001b[0m\u001b[0msize\u001b[0m\u001b[1;33m[\u001b[0m\u001b[1;34m'height'\u001b[0m\u001b[1;33m]\u001b[0m\u001b[1;33m,\u001b[0m\u001b[0mlocation\u001b[0m\u001b[1;33m[\u001b[0m\u001b[1;34m'x'\u001b[0m\u001b[1;33m]\u001b[0m\u001b[1;33m,\u001b[0m\u001b[0mlocation\u001b[0m\u001b[1;33m[\u001b[0m\u001b[1;34m'x'\u001b[0m\u001b[1;33m]\u001b[0m\u001b[1;33m+\u001b[0m\u001b[0msize\u001b[0m\u001b[1;33m[\u001b[0m\u001b[1;34m'width'\u001b[0m\u001b[1;33m]\u001b[0m\u001b[1;33m\u001b[0m\u001b[0m\n\u001b[0m\u001b[0;32m     36\u001b[0m         \u001b[1;32mreturn\u001b[0m \u001b[0mpos\u001b[0m\u001b[1;33m\u001b[0m\u001b[0m\n\u001b[0;32m     37\u001b[0m     \u001b[1;32mdef\u001b[0m \u001b[0mget_geetset_image\u001b[0m\u001b[1;33m(\u001b[0m\u001b[0mself\u001b[0m\u001b[1;33m,\u001b[0m\u001b[0mname\u001b[0m\u001b[1;33m)\u001b[0m\u001b[1;33m:\u001b[0m\u001b[1;33m\u001b[0m\u001b[0m\n",
      "\u001b[1;31mNameError\u001b[0m: name 'y' is not defined"
     ]
    }
   ],
   "source": [
    "browser = webdriver.Chrome()\n",
    "print(browser)\n",
    "url='https://www.huxiu.com/'\n",
    "html=crack_geetest(browser,url=url)\n",
    "html.main()"
   ]
  },
  {
   "cell_type": "code",
   "execution_count": 157,
   "metadata": {},
   "outputs": [],
   "source": [
    "# -*- coding: utf-8 -*-\n",
    "import random\n",
    "import time, re\n",
    "from selenium import webdriver\n",
    "from selenium.common.exceptions import TimeoutException\n",
    "from selenium.webdriver.common.by import By\n",
    "from selenium.webdriver.support.wait import WebDriverWait\n",
    "from selenium.webdriver.support import expected_conditions as EC\n",
    "from selenium.webdriver.common.action_chains import ActionChains\n",
    "from PIL import Image\n",
    "import requests\n",
    "from io import BytesIO\n",
    "\n",
    "class HuXiu(object):\n",
    "    def __init__(self):\n",
    "#         chrome_option = webdriver.ChromeOptions()\n",
    "#         # chrome_option.set_headless()\n",
    "\n",
    "        self.driver = webdriver.Chrome(\n",
    "#             executable_path=r\"/usr1/webdrivers/chromedriver\", chrome_options=chrome_option\n",
    "        )\n",
    "        self.driver.set_window_size(1440, 900)\n",
    "\n",
    "    def visit_index(self):\n",
    "        self.driver.get(\"https://www.huxiu.com/\")\n",
    "        WebDriverWait(self.driver, 10, 0.5).until(EC.element_to_be_clickable((By.XPATH, '//*[@class=\"js-register\"]')))\n",
    "        reg_element = self.driver.find_element_by_xpath('//*[@class=\"js-register\"]')\n",
    "        reg_element.click()\n",
    "\n",
    "        WebDriverWait(self.driver, 10, 0.5).until(EC.element_to_be_clickable((By.XPATH, '//div[@class=\"gt_slider_knob gt_show\"]')))\n",
    "\n",
    "        # 进入模拟拖动流程\n",
    "        self.analog_drag()\n",
    "\n",
    "    def analog_drag(self):\n",
    "        #鼠标移动到拖动按钮，显示出拖动图片\n",
    "        element = self.driver.find_element_by_xpath('//div[@class=\"gt_slider_knob gt_show\"]')\n",
    "        ActionChains(self.driver).move_to_element(element).perform()\n",
    "        time.sleep(3)\n",
    "\n",
    "        # 刷新一下极验图片\n",
    "        element = self.driver.find_element_by_xpath('//a[@class=\"gt_refresh_button\"]')\n",
    "        element.click()\n",
    "        time.sleep(1)\n",
    "\n",
    "        # 获取图片地址和位置坐标列表\n",
    "        cut_image_url, cut_location = self.get_image_url('//div[@class=\"gt_cut_bg_slice\"]')\n",
    "        full_image_url, full_location = self.get_image_url('//div[@class=\"gt_cut_fullbg_slice\"]')\n",
    "\n",
    "        # 根据坐标拼接图片\n",
    "        cut_image = self.mosaic_image(cut_image_url, cut_location)\n",
    "        full_image = self.mosaic_image(full_image_url, full_location)\n",
    "\n",
    "        # 保存图片方便查看\n",
    "        cut_image.save(\"cut.jpg\")\n",
    "        full_image.save(\"full.jpg\")\n",
    "\n",
    "        # 根据两个图片计算距离\n",
    "        distance = self.get_offset_distance(cut_image, full_image)\n",
    "\n",
    "        # 开始移动\n",
    "        self.start_move(distance)\n",
    "\n",
    "        # 如果出现error\n",
    "        try:\n",
    "            WebDriverWait(self.driver, 5, 0.5).until(EC.element_to_be_clickable((By.XPATH, '//div[@class=\"gt_ajax_tip gt_error\"]')))\n",
    "            print(\"验证失败\")\n",
    "            return\n",
    "        except TimeoutException as e:\n",
    "            pass\n",
    "\n",
    "        # 判断是否验证成功\n",
    "        try:\n",
    "            WebDriverWait(self.driver, 10, 0.5).until(EC.element_to_be_clickable((By.XPATH, '//div[@class=\"gt_ajax_tip gt_success\"]')))\n",
    "        except TimeoutException:\n",
    "            print(\"again times\")\n",
    "            time.sleep(5)\n",
    "            # 失败后递归执行拖动\n",
    "            self.analog_drag()\n",
    "        else:\n",
    "            # 成功后输入手机号，发送验证码\n",
    "            self.register()\n",
    "\n",
    "    # 获取图片和位置列表\n",
    "    def get_image_url(self, xpath):\n",
    "        link = re.compile('background-image: url\\(\"(.*?)\"\\); background-position: (.*?)px (.*?)px;')\n",
    "        elements = self.driver.find_elements_by_xpath(xpath)\n",
    "        image_url = None\n",
    "        location = list()\n",
    "        for element in elements:\n",
    "            style = element.get_attribute(\"style\")\n",
    "            groups = link.search(style)\n",
    "            url = groups[1]\n",
    "            x_pos = groups[2]\n",
    "            y_pos = groups[3]\n",
    "            location.append((int(x_pos), int(y_pos)))\n",
    "            image_url = url\n",
    "        return image_url, location\n",
    "\n",
    "    # 拼接图片\n",
    "    def mosaic_image(self, image_url, location):\n",
    "        resq = requests.get(image_url)\n",
    "        file = BytesIO(resq.content)\n",
    "        img = Image.open(file)\n",
    "        image_upper_lst = []\n",
    "        image_down_lst = []\n",
    "        for pos in location:\n",
    "            if pos[1] == 0:\n",
    "                # y值==0的图片属于上半部分，高度58\n",
    "                image_upper_lst.append(img.crop((abs(pos[0]), 0, abs(pos[0]) + 10, 58)))\n",
    "            else:\n",
    "                # y值==58的图片属于下半部分\n",
    "                image_down_lst.append(img.crop((abs(pos[0]), 58, abs(pos[0]) + 10, img.height)))\n",
    "\n",
    "        x_offset = 0\n",
    "        # 创建一张画布，x_offset主要为新画布使用\n",
    "        new_img = Image.new(\"RGB\", (260, img.height))\n",
    "        for img in image_upper_lst:\n",
    "            new_img.paste(img, (x_offset, 58))\n",
    "            x_offset += img.width\n",
    "\n",
    "        x_offset = 0\n",
    "        for img in image_down_lst:\n",
    "            new_img.paste(img, (x_offset, 0))\n",
    "            x_offset += img.width\n",
    "\n",
    "        return new_img\n",
    "\n",
    "    # 判断颜色是否相近\n",
    "    def is_similar_color(self, x_pixel, y_pixel):\n",
    "        for i, pixel in enumerate(x_pixel):\n",
    "            if abs(y_pixel[i] - pixel) > 50:\n",
    "                return False\n",
    "        return True\n",
    "\n",
    "    # 计算距离\n",
    "    def get_offset_distance(self, cut_image, full_image):\n",
    "        for x in range(cut_image.width):\n",
    "            for y in range(cut_image.height):\n",
    "                cpx = cut_image.getpixel((x, y))\n",
    "                fpx = full_image.getpixel((x, y))\n",
    "                if not self.is_similar_color(cpx, fpx):\n",
    "                    img = cut_image.crop((x, y, x + 50, y + 40))\n",
    "                    # 保存一下计算出来位置图片，看看是不是缺口部分\n",
    "                    img.save(\"1.jpg\")\n",
    "                    return x\n",
    "\n",
    "    # 开始移动\n",
    "    def start_move(self, distance):\n",
    "        element = self.driver.find_element_by_xpath('//div[@class=\"gt_slider_knob gt_show\"]')\n",
    "\n",
    "        # 这里就是根据移动进行调试，计算出来的位置不是百分百正确的，加上一点偏移\n",
    "        distance -= element.size.get('width') / 2\n",
    "        distance += 15\n",
    "\n",
    "        # 按下鼠标左键\n",
    "        ActionChains(self.driver).click_and_hold(element).perform()\n",
    "        time.sleep(0.5)\n",
    "        while distance > 0:\n",
    "            if distance > 10:\n",
    "                # 如果距离大于10，就让他移动快一点\n",
    "                span = random.randint(5, 8)\n",
    "            else:\n",
    "                # 快到缺口了，就移动慢一点\n",
    "                span = random.randint(2, 3)\n",
    "            ActionChains(self.driver).move_by_offset(span, 0).perform()\n",
    "            distance -= span\n",
    "            time.sleep(random.randint(10,50)/100)\n",
    "        \n",
    "        ActionChains(self.driver).move_by_offset(distance, 1).perform()\n",
    "        ActionChains(self.driver).release(on_element=element).perform()\n",
    "\n",
    "    def register(self):\n",
    "        element = self.driver.find_element_by_xpath('//input[@id=\"sms_username\"]')\n",
    "        element.clear()\n",
    "        element.send_keys(\"手机号\")\n",
    "\n",
    "        ele_captcha = self.driver.find_element_by_xpath('//span[@class=\"js-btn-captcha btn-captcha\"]')\n",
    "        ele_captcha.click()\n",
    "\n",
    "# if __name__ == \"__main__\":\n",
    "#     h = HuXiu()\n",
    "#     h.visit_index()\n"
   ]
  },
  {
   "cell_type": "markdown",
   "metadata": {},
   "source": [
    "# 模拟登陆"
   ]
  },
  {
   "cell_type": "code",
   "execution_count": null,
   "metadata": {},
   "outputs": [],
   "source": []
  },
  {
   "cell_type": "markdown",
   "metadata": {},
   "source": [
    "# APP抓包"
   ]
  },
  {
   "cell_type": "markdown",
   "metadata": {},
   "source": [
    "# pyspider"
   ]
  },
  {
   "cell_type": "markdown",
   "metadata": {},
   "source": [
    "# Scrapy "
   ]
  },
  {
   "cell_type": "code",
   "execution_count": 49,
   "metadata": {
    "collapsed": true
   },
   "outputs": [
    {
     "name": "stdout",
     "output_type": "stream",
     "text": [
      "Requirement already satisfied: Scrapy in c:\\users\\d\\anaconda3\\lib\\site-packages (1.5.0)\n",
      "Requirement already satisfied: Twisted>=13.1.0 in c:\\users\\d\\anaconda3\\lib\\site-packages (from Scrapy) (17.5.0)\n",
      "Requirement already satisfied: w3lib>=1.17.0 in c:\\users\\d\\anaconda3\\lib\\site-packages (from Scrapy) (1.19.0)\n",
      "Requirement already satisfied: queuelib in c:\\users\\d\\anaconda3\\lib\\site-packages (from Scrapy) (1.5.0)\n",
      "Requirement already satisfied: lxml in c:\\users\\d\\anaconda3\\lib\\site-packages (from Scrapy) (3.7.2)\n",
      "Requirement already satisfied: pyOpenSSL in c:\\users\\d\\anaconda3\\lib\\site-packages (from Scrapy) (17.5.0)\n",
      "Requirement already satisfied: cssselect>=0.9 in c:\\users\\d\\anaconda3\\lib\\site-packages (from Scrapy) (1.0.3)\n",
      "Requirement already satisfied: six>=1.5.2 in c:\\users\\d\\anaconda3\\lib\\site-packages (from Scrapy) (1.11.0)\n",
      "Requirement already satisfied: parsel>=1.1 in c:\\users\\d\\anaconda3\\lib\\site-packages (from Scrapy) (1.4.0)\n",
      "Requirement already satisfied: PyDispatcher>=2.0.5 in c:\\users\\d\\anaconda3\\lib\\site-packages (from Scrapy) (2.0.5)\n",
      "Requirement already satisfied: service_identity in c:\\users\\d\\anaconda3\\lib\\site-packages (from Scrapy) (17.0.0)\n",
      "Requirement already satisfied: zope.interface>=4.0.2 in c:\\users\\d\\anaconda3\\lib\\site-packages (from Twisted>=13.1.0->Scrapy) (4.5.0)\n",
      "Requirement already satisfied: constantly>=15.1 in c:\\users\\d\\anaconda3\\lib\\site-packages (from Twisted>=13.1.0->Scrapy) (15.1.0)\n",
      "Requirement already satisfied: incremental>=16.10.1 in c:\\users\\d\\anaconda3\\lib\\site-packages (from Twisted>=13.1.0->Scrapy) (17.5.0)\n",
      "Requirement already satisfied: Automat>=0.3.0 in c:\\users\\d\\anaconda3\\lib\\site-packages (from Twisted>=13.1.0->Scrapy) (0.7.0)\n",
      "Requirement already satisfied: hyperlink>=17.1.1 in c:\\users\\d\\anaconda3\\lib\\site-packages (from Twisted>=13.1.0->Scrapy) (18.0.0)\n",
      "Requirement already satisfied: cryptography>=2.1.4 in c:\\users\\d\\anaconda3\\lib\\site-packages (from pyOpenSSL->Scrapy) (2.1.4)\n",
      "Requirement already satisfied: attrs in c:\\users\\d\\anaconda3\\lib\\site-packages (from service_identity->Scrapy) (17.4.0)\n",
      "Requirement already satisfied: pyasn1 in c:\\users\\d\\anaconda3\\lib\\site-packages (from service_identity->Scrapy) (0.4.3)\n",
      "Requirement already satisfied: pyasn1-modules in c:\\users\\d\\anaconda3\\lib\\site-packages (from service_identity->Scrapy) (0.2.2)\n",
      "Requirement already satisfied: setuptools in c:\\users\\d\\anaconda3\\lib\\site-packages (from zope.interface>=4.0.2->Twisted>=13.1.0->Scrapy) (39.2.0)\n",
      "Requirement already satisfied: idna>=2.5 in c:\\users\\d\\anaconda3\\lib\\site-packages (from hyperlink>=17.1.1->Twisted>=13.1.0->Scrapy) (2.6)\n",
      "Requirement already satisfied: asn1crypto>=0.21.0 in c:\\users\\d\\anaconda3\\lib\\site-packages (from cryptography>=2.1.4->pyOpenSSL->Scrapy) (0.24.0)\n",
      "Requirement already satisfied: cffi>=1.7 in c:\\users\\d\\anaconda3\\lib\\site-packages (from cryptography>=2.1.4->pyOpenSSL->Scrapy) (1.11.4)\n",
      "Requirement already satisfied: pycparser in c:\\users\\d\\anaconda3\\lib\\site-packages (from cffi>=1.7->cryptography>=2.1.4->pyOpenSSL->Scrapy) (2.18)\n"
     ]
    }
   ],
   "source": [
    "!pip install Scrapy"
   ]
  },
  {
   "cell_type": "code",
   "execution_count": 50,
   "metadata": {},
   "outputs": [
    {
     "name": "stdout",
     "output_type": "stream",
     "text": [
      "New Scrapy project 'tutorial', using template directory 'C:\\\\Users\\\\d\\\\Anaconda3\\\\lib\\\\site-packages\\\\scrapy\\\\templates\\\\project', created in:\n",
      "    D:\\test\\ipynb\\clawer\\tutorial\n",
      "\n",
      "You can start your first spider with:\n",
      "    cd tutorial\n",
      "    scrapy genspider example example.com\n"
     ]
    }
   ],
   "source": [
    "!scrapy startproject tutorial"
   ]
  },
  {
   "cell_type": "markdown",
   "metadata": {},
   "source": [
    "# sav"
   ]
  },
  {
   "cell_type": "code",
   "execution_count": 1,
   "metadata": {},
   "outputs": [
    {
     "name": "stdout",
     "output_type": "stream",
     "text": [
      "Requirement already satisfied: savreaderwriter in c:\\users\\d\\anaconda3\\lib\\site-packages (3.4.2)\n"
     ]
    }
   ],
   "source": [
    "!pip install savreaderwriter"
   ]
  },
  {
   "cell_type": "code",
   "execution_count": 46,
   "metadata": {},
   "outputs": [],
   "source": [
    "import savReaderWriter\n",
    "df=savReaderWriter.SavReader('WeChat Data CFA.sav')\n",
    "df1=pd.DataFrame(columns=[str(i,encoding=\"utf-8\") for i in df.header])\n",
    "for i,j in zip(range(len(df)),df):\n",
    "    df1.loc[i]=j\n",
    "df1.to_csv('wechat.csv')"
   ]
  },
  {
   "cell_type": "code",
   "execution_count": null,
   "metadata": {},
   "outputs": [],
   "source": [
    "def a():\n",
    "    yield r\n",
    "    \n",
    "def b(a):\n",
    "    a.send()"
   ]
  },
  {
   "cell_type": "code",
   "execution_count": 47,
   "metadata": {},
   "outputs": [
    {
     "name": "stdout",
     "output_type": "stream",
     "text": [
      "<class 'pandas.core.frame.DataFrame'>\n",
      "Int64Index: 745 entries, 0 to 744\n",
      "Columns: 237 entries, Gender to WPUSSD\n",
      "dtypes: float64(237)\n",
      "memory usage: 1.4 MB\n"
     ]
    }
   ],
   "source": [
    "df1.info()"
   ]
  },
  {
   "cell_type": "code",
   "execution_count": 48,
   "metadata": {
    "scrolled": true
   },
   "outputs": [
    {
     "data": {
      "text/plain": [
       "2.0    455\n",
       "1.0    290\n",
       "Name: Gender, dtype: int64"
      ]
     },
     "execution_count": 48,
     "metadata": {},
     "output_type": "execute_result"
    }
   ],
   "source": [
    "df1['Gender'].value_counts()"
   ]
  },
  {
   "cell_type": "code",
   "execution_count": 5,
   "metadata": {},
   "outputs": [
    {
     "name": "stdout",
     "output_type": "stream",
     "text": [
      "['Hello World']\n"
     ]
    }
   ],
   "source": [
    "from scrapy import Selector\n",
    "body= '<html><head><title>Hello World</title></head><body></body></ html>'\n",
    "selector = Selector(text=body)\n",
    "title = selector.xpath('//title/text()').extract()\n",
    "print(title)"
   ]
  }
 ],
 "metadata": {
  "hide_input": false,
  "kernelspec": {
   "display_name": "Python 3",
   "language": "python",
   "name": "python3"
  },
  "language_info": {
   "codemirror_mode": {
    "name": "ipython",
    "version": 3
   },
   "file_extension": ".py",
   "mimetype": "text/x-python",
   "name": "python",
   "nbconvert_exporter": "python",
   "pygments_lexer": "ipython3",
   "version": "3.6.4"
  },
  "toc": {
   "base_numbering": 1,
   "nav_menu": {},
   "number_sections": true,
   "sideBar": true,
   "skip_h1_title": false,
   "title_cell": "Table of Contents",
   "title_sidebar": "Contents",
   "toc_cell": false,
   "toc_position": {
    "height": "calc(100% - 180px)",
    "left": "10px",
    "top": "150px",
    "width": "325px"
   },
   "toc_section_display": true,
   "toc_window_display": true
  },
  "varInspector": {
   "cols": {
    "lenName": "4",
    "lenType": 16,
    "lenVar": 40
   },
   "kernels_config": {
    "python": {
     "delete_cmd_postfix": "",
     "delete_cmd_prefix": "del ",
     "library": "var_list.py",
     "varRefreshCmd": "print(var_dic_list())"
    },
    "r": {
     "delete_cmd_postfix": ") ",
     "delete_cmd_prefix": "rm(",
     "library": "var_list.r",
     "varRefreshCmd": "cat(var_dic_list()) "
    }
   },
   "types_to_exclude": [
    "module",
    "function",
    "builtin_function_or_method",
    "instance",
    "_Feature"
   ],
   "window_display": false
  }
 },
 "nbformat": 4,
 "nbformat_minor": 2
}
