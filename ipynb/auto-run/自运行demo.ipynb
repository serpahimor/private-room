{
 "cells": [
  {
   "cell_type": "code",
   "execution_count": 5,
   "metadata": {},
   "outputs": [],
   "source": [
    "import tkinter\n",
    "import pygeoip\n",
    "\n",
    "class FindLocation(object):\n",
    "    def __init__(self):\n",
    "        self.gi = pygeoip.GeoIP(\"./GeoLiteCity.dat\")\n",
    "        # 创建主窗口,用于容纳其它组件\n",
    "        self.root = tkinter.Tk()\n",
    "        # 给主窗口设置标题内容\n",
    "        self.root.title(\"全球定位ip位置(离线版)\")\n",
    "        # 创建一个输入框,并设置尺寸\n",
    "        self.ip_input = tkinter.Entry(self.root,width=30)\n",
    "\n",
    "        # 创建一个回显列表\n",
    "        self.display_info = tkinter.Listbox(self.root, width=50)\n",
    "\n",
    "        # 创建一个查询结果的按钮\n",
    "        self.result_button = tkinter.Button(self.root, command = self.find_position, text = \"查询\")\n",
    "\n",
    "    # 完成布局\n",
    "    def gui_arrang(self):\n",
    "        self.ip_input.pack()\n",
    "        self.display_info.pack()\n",
    "        self.result_button.pack()    # 根据ip查找地理位置\n",
    "    def find_position(self):\n",
    "        # 获取输入信息\n",
    "        self.ip_addr = self.ip_input.get()\n",
    "        aim = self.gi.record_by_name(self.ip_addr)\n",
    "        # 为了避免非法值,导致程序崩溃,有兴趣可以用正则写一下具体的规则,我为了便于新手理解,减少代码量,就直接粗放的过滤了\n",
    "        try:\n",
    "\n",
    "            # 获取目标城市\n",
    "            city = aim[\"city\"]\n",
    "            # 获取目标国家\n",
    "            country = aim[\"country_name\"]\n",
    "            # 获取目标地区\n",
    "            region_code = aim[\"region_code\"]\n",
    "            # 获取目标经度\n",
    "            longitude = aim[\"longitude\"]\n",
    "            # 获取目标纬度\n",
    "            latitude = aim[\"latitude\"]\n",
    "        except:\n",
    "            pass\n",
    "        \n",
    "        # 创建临时列表\n",
    "        the_ip_info = [\"所在纬度:\"+str(latitude),\"所在经度:\"+str(longitude),\"地域代号:\"+str(region_code),\"所在城市:\"+str(city), \"所在国家或地区:\"+str(country), \"需要查询的ip:\"+str(self.ip_addr)]\n",
    "        #清空回显列表可见部分,类似clear命令\n",
    "        for item in range(10):\n",
    "            self.display_info.insert(0,\"\")\n",
    "\n",
    "        # 为回显列表赋值\n",
    "        for item in the_ip_info:\n",
    "            self.display_info.insert(0,item)\n",
    "        # 这里的返回值,没啥用,就是为了好看\n",
    "        return the_ip_info\n",
    "\n",
    "\n",
    "def main():\n",
    "    # 初始化对象\n",
    "    FL = FindLocation()\n",
    "    # 进行布局\n",
    "    FL.gui_arrang()\n",
    "    # 主程序执行\n",
    "    tkinter.mainloop()\n",
    "    pass\n",
    "\n",
    "\n",
    "if __name__ == \"__main__\":\n",
    "    main()"
   ]
  },
  {
   "cell_type": "code",
   "execution_count": 7,
   "metadata": {},
   "outputs": [
    {
     "name": "stdout",
     "output_type": "stream",
     "text": [
      "Collecting pygeoip\n",
      "  Downloading https://files.pythonhosted.org/packages/f2/48/a3ce59694fa05605fee44273fe2d8b7e9df0d808cdf3914de1771b8986c4/pygeoip-0.3.2-py2.py3-none-any.whl\n",
      "Installing collected packages: pygeoip\n",
      "Successfully installed pygeoip-0.3.2\n"
     ]
    }
   ],
   "source": [
    "!pip install pygeoip"
   ]
  },
  {
   "cell_type": "code",
   "execution_count": 3,
   "metadata": {},
   "outputs": [],
   "source": [
    "QtWidgets.QLineEdit?"
   ]
  },
  {
   "cell_type": "code",
   "execution_count": 25,
   "metadata": {},
   "outputs": [
    {
     "ename": "NameError",
     "evalue": "name 'QApplication' is not defined",
     "output_type": "error",
     "traceback": [
      "\u001b[1;31m---------------------------------------------------------------------------\u001b[0m",
      "\u001b[1;31mNameError\u001b[0m                                 Traceback (most recent call last)",
      "\u001b[1;32m<ipython-input-25-39e90a76b872>\u001b[0m in \u001b[0;36m<module>\u001b[1;34m()\u001b[0m\n\u001b[0;32m      3\u001b[0m \u001b[1;33m\u001b[0m\u001b[0m\n\u001b[0;32m      4\u001b[0m \u001b[1;32mif\u001b[0m \u001b[0m__name__\u001b[0m \u001b[1;33m==\u001b[0m \u001b[1;34m\"__main__\"\u001b[0m\u001b[1;33m:\u001b[0m\u001b[1;33m\u001b[0m\u001b[0m\n\u001b[1;32m----> 5\u001b[1;33m     \u001b[0mapp\u001b[0m \u001b[1;33m=\u001b[0m \u001b[0mQApplication\u001b[0m\u001b[1;33m(\u001b[0m\u001b[0msys\u001b[0m\u001b[1;33m.\u001b[0m\u001b[0margv\u001b[0m\u001b[1;33m)\u001b[0m\u001b[1;33m\u001b[0m\u001b[0m\n\u001b[0m\u001b[0;32m      6\u001b[0m     \u001b[0mlabel\u001b[0m \u001b[1;33m=\u001b[0m \u001b[0mQLabel\u001b[0m\u001b[1;33m(\u001b[0m\u001b[1;34m\"Hello World\"\u001b[0m\u001b[1;33m)\u001b[0m\u001b[1;33m\u001b[0m\u001b[0m\n\u001b[0;32m      7\u001b[0m     \u001b[0mlabel\u001b[0m\u001b[1;33m.\u001b[0m\u001b[0mshow\u001b[0m\u001b[1;33m(\u001b[0m\u001b[1;33m)\u001b[0m\u001b[1;33m\u001b[0m\u001b[0m\n",
      "\u001b[1;31mNameError\u001b[0m: name 'QApplication' is not defined"
     ]
    }
   ],
   "source": [
    "import sys\n",
    "import PySide2\n",
    "                                                     \n",
    "if __name__ == \"__main__\":\n",
    "    app = QApplication(sys.argv)\n",
    "    label = QLabel(\"Hello World\")\n",
    "    label.show()\n",
    "    sys.exit(app.exec_())"
   ]
  },
  {
   "cell_type": "code",
   "execution_count": 16,
   "metadata": {},
   "outputs": [
    {
     "name": "stdout",
     "output_type": "stream",
     "text": [
      "Collecting pyside2\n",
      "  Downloading https://files.pythonhosted.org/packages/75/e1/9158083203ddf0b21d56eae07ae4931d4714d16beba8c869f7a3c0e5b152/PySide2-5.11.1-5.11.1-cp35.cp36.cp37-none-win_amd64.whl (128.6MB)\n",
      "Installing collected packages: pyside2\n",
      "Successfully installed pyside2-5.11.1\n"
     ]
    }
   ],
   "source": [
    "!pip install pyside2"
   ]
  }
 ],
 "metadata": {
  "hide_input": false,
  "kernelspec": {
   "display_name": "Python 3",
   "language": "python",
   "name": "python3"
  },
  "toc": {
   "base_numbering": 1,
   "nav_menu": {},
   "number_sections": true,
   "sideBar": true,
   "skip_h1_title": false,
   "title_cell": "Table of Contents",
   "title_sidebar": "Contents",
   "toc_cell": false,
   "toc_position": {},
   "toc_section_display": true,
   "toc_window_display": false
  },
  "varInspector": {
   "cols": {
    "lenName": "4",
    "lenType": 16,
    "lenVar": 40
   },
   "kernels_config": {
    "python": {
     "delete_cmd_postfix": "",
     "delete_cmd_prefix": "del ",
     "library": "var_list.py",
     "varRefreshCmd": "print(var_dic_list())"
    },
    "r": {
     "delete_cmd_postfix": ") ",
     "delete_cmd_prefix": "rm(",
     "library": "var_list.r",
     "varRefreshCmd": "cat(var_dic_list()) "
    }
   },
   "types_to_exclude": [
    "module",
    "function",
    "builtin_function_or_method",
    "instance",
    "_Feature"
   ],
   "window_display": false
  }
 },
 "nbformat": 4,
 "nbformat_minor": 2
}
