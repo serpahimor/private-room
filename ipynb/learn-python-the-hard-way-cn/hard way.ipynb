{
 "cells": [
  {
   "cell_type": "code",
   "execution_count": 78,
   "metadata": {},
   "outputs": [
    {
     "name": "stdout",
     "output_type": "stream",
     "text": [
      "Collecting Django\n",
      "  Downloading https://files.pythonhosted.org/packages/51/1a/e0ac7886c7123a03814178d7517dc822af0fe51a72e1a6bff26153103322/Django-2.1-py3-none-any.whl (7.3MB)\n",
      "Requirement already satisfied: pytz in c:\\users\\d\\anaconda3\\lib\\site-packages (from Django) (2018.4)\n",
      "Installing collected packages: Django\n",
      "Successfully installed Django-2.1\n"
     ]
    }
   ],
   "source": [
    "!pip install Django"
   ]
  },
  {
   "cell_type": "code",
   "execution_count": 68,
   "metadata": {},
   "outputs": [
    {
     "name": "stdout",
     "output_type": "stream",
     "text": [
      "C:\\Users\\d\\learn-python-the-hard-way-cn\\projects\\gothonweb\\bin\\projects\n",
      "C:\\Users\\d\\learn-python-the-hard-way-cn\\projects\\gothonweb\\bin\\projects\\gothonweb\n"
     ]
    }
   ],
   "source": [
    "%mkdir projects\n",
    "%cd projects\n",
    "%mkdir gothonweb\n",
    "%cd gothonweb\n",
    "%mkdir bin gothonweb tests docs templates"
   ]
  },
  {
   "cell_type": "code",
   "execution_count": 59,
   "metadata": {},
   "outputs": [
    {
     "name": "stdout",
     "output_type": "stream",
     "text": [
      "Overwriting _init__.py\n"
     ]
    }
   ],
   "source": [
    "%%writefile _init__.py\n",
    "def"
   ]
  },
  {
   "cell_type": "code",
   "execution_count": 58,
   "metadata": {},
   "outputs": [
    {
     "name": "stdout",
     "output_type": "stream",
     "text": [
      "Overwriting tests/__init__.py\n"
     ]
    }
   ],
   "source": [
    "%%writefile tests/__init__.py\n",
    "def"
   ]
  },
  {
   "cell_type": "markdown",
   "metadata": {},
   "source": [
    "# diango"
   ]
  },
  {
   "cell_type": "code",
   "execution_count": 42,
   "metadata": {},
   "outputs": [
    {
     "data": {
      "text/plain": [
       "'2.1'"
      ]
     },
     "execution_count": 42,
     "metadata": {},
     "output_type": "execute_result"
    }
   ],
   "source": [
    "import django\n",
    "django.get_version()"
   ]
  },
  {
   "cell_type": "code",
   "execution_count": 2,
   "metadata": {},
   "outputs": [
    {
     "name": "stdout",
     "output_type": "stream",
     "text": [
      "Collecting Wget\n",
      "  Downloading https://files.pythonhosted.org/packages/47/6a/62e288da7bcda82b935ff0c6cfe542970f04e29c756b0e147251b2fb251f/wget-3.2.zip\n",
      "Building wheels for collected packages: Wget\n",
      "  Running setup.py bdist_wheel for Wget: started\n",
      "  Running setup.py bdist_wheel for Wget: finished with status 'done'\n",
      "  Stored in directory: C:\\Users\\d\\AppData\\Local\\pip\\Cache\\wheels\\40\\15\\30\\7d8f7cea2902b4db79e3fea550d7d7b85ecb27ef992b618f3f\n",
      "Successfully built Wget\n",
      "Installing collected packages: Wget\n",
      "Successfully installed Wget-3.2\n"
     ]
    }
   ],
   "source": [
    "!pip install Wget"
   ]
  },
  {
   "cell_type": "code",
   "execution_count": 19,
   "metadata": {},
   "outputs": [
    {
     "name": "stdout",
     "output_type": "stream",
     "text": [
      "\r",
      "  0% [                                                                                  ]   0 / 227\r",
      "100% [..................................................................................] 227 / 227"
     ]
    },
    {
     "data": {
      "text/plain": [
       "'demo1.html'"
      ]
     },
     "execution_count": 19,
     "metadata": {},
     "output_type": "execute_result"
    }
   ],
   "source": [
    "import wget\n",
    "Data=\"https://www.baidu.com/s?ie=utf-8&f=8&rsv_bp=1&rsv_idx=1&tn=baidu&wd=Wget%20python&oq=Wget&rsv_pq=f3da2bec0001f3ca&rsv_t=831dAb0C1Tjc%2F2QR0lj10k73Dbw7qhbUrfJ%2BsvSMkXrZJYBWnvcLkIInS58&rqlang=cn&rsv_enter=1&rsv_sug3=8&rsv_sug1=7&rsv_sug7=100&rsv_sug2=0&inputT=2554&rsv_sug4=2601\"\n",
    "fname='demo1.html'\n",
    "wget.download(Data,out=fname)"
   ]
  },
  {
   "cell_type": "code",
   "execution_count": 30,
   "metadata": {},
   "outputs": [
    {
     "name": "stdout",
     "output_type": "stream",
     "text": [
      "Collecting bashplotlib\n",
      "  Downloading https://files.pythonhosted.org/packages/ac/a7/b0871fd1bcc38a3be7b6d0a188876e5a84c16c52f62dac9fe28418d12fe0/bashplotlib-0.6.5.tar.gz\n",
      "Building wheels for collected packages: bashplotlib\n",
      "  Running setup.py bdist_wheel for bashplotlib: started\n",
      "  Running setup.py bdist_wheel for bashplotlib: finished with status 'done'\n",
      "  Stored in directory: C:\\Users\\d\\AppData\\Local\\pip\\Cache\\wheels\\39\\f0\\8b\\6e42f59f24ca2115413dc1a8195a2fb82f9daeed52839aa631\n",
      "Successfully built bashplotlib\n",
      "Installing collected packages: bashplotlib\n",
      "Successfully installed bashplotlib-0.6.5\n"
     ]
    }
   ],
   "source": [
    "!pip install bashplotlib"
   ]
  },
  {
   "cell_type": "code",
   "execution_count": 83,
   "metadata": {},
   "outputs": [],
   "source": [
    "class person(object):\n",
    "    def __init__(self,age=2):\n",
    "        self.age=age+2\n",
    "    def age1(self,length='f'):\n",
    "        return [self.age,self.age**2,length]\n"
   ]
  },
  {
   "cell_type": "code",
   "execution_count": 89,
   "metadata": {},
   "outputs": [
    {
     "data": {
      "text/plain": [
       "[9, 81, 'dddd']"
      ]
     },
     "execution_count": 89,
     "metadata": {},
     "output_type": "execute_result"
    }
   ],
   "source": [
    "a=person(7)\n",
    "a.age1('dddd')"
   ]
  },
  {
   "cell_type": "code",
   "execution_count": 151,
   "metadata": {},
   "outputs": [
    {
     "name": "stdout",
     "output_type": "stream",
     "text": [
      "[2, [...]]\n"
     ]
    }
   ],
   "source": [
    "b=[2]\n",
    "b.append(b)\n",
    "print(b[1][1])"
   ]
  },
  {
   "cell_type": "code",
   "execution_count": null,
   "metadata": {},
   "outputs": [],
   "source": []
  }
 ],
 "metadata": {
  "hide_input": false,
  "kernelspec": {
   "display_name": "Python 3",
   "language": "python",
   "name": "python3"
  },
  "language_info": {
   "codemirror_mode": {
    "name": "ipython",
    "version": 3
   },
   "file_extension": ".py",
   "mimetype": "text/x-python",
   "name": "python",
   "nbconvert_exporter": "python",
   "pygments_lexer": "ipython3",
   "version": "3.6.4"
  },
  "toc": {
   "base_numbering": 1,
   "nav_menu": {},
   "number_sections": true,
   "sideBar": true,
   "skip_h1_title": false,
   "title_cell": "Table of Contents",
   "title_sidebar": "Contents",
   "toc_cell": false,
   "toc_position": {},
   "toc_section_display": true,
   "toc_window_display": false
  },
  "varInspector": {
   "cols": {
    "lenName": "4",
    "lenType": 16,
    "lenVar": 40
   },
   "kernels_config": {
    "python": {
     "delete_cmd_postfix": "",
     "delete_cmd_prefix": "del ",
     "library": "var_list.py",
     "varRefreshCmd": "print(var_dic_list())"
    },
    "r": {
     "delete_cmd_postfix": ") ",
     "delete_cmd_prefix": "rm(",
     "library": "var_list.r",
     "varRefreshCmd": "cat(var_dic_list()) "
    }
   },
   "types_to_exclude": [
    "module",
    "function",
    "builtin_function_or_method",
    "instance",
    "_Feature"
   ],
   "window_display": false
  }
 },
 "nbformat": 4,
 "nbformat_minor": 2
}
