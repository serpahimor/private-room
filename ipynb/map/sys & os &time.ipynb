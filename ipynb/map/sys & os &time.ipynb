{
 "cells": [
  {
   "cell_type": "code",
   "execution_count": 2,
   "metadata": {},
   "outputs": [
    {
     "data": {
      "text/plain": [
       "['',\n",
       " 'C:\\\\Users\\\\d\\\\Anaconda2\\\\python27.zip',\n",
       " 'C:\\\\Users\\\\d\\\\Anaconda2\\\\DLLs',\n",
       " 'C:\\\\Users\\\\d\\\\Anaconda2\\\\lib',\n",
       " 'C:\\\\Users\\\\d\\\\Anaconda2\\\\lib\\\\plat-win',\n",
       " 'C:\\\\Users\\\\d\\\\Anaconda2\\\\lib\\\\lib-tk',\n",
       " 'C:\\\\Users\\\\d\\\\Anaconda2',\n",
       " 'C:\\\\Users\\\\d\\\\Anaconda2\\\\lib\\\\site-packages',\n",
       " 'C:\\\\Users\\\\d\\\\Anaconda2\\\\lib\\\\site-packages\\\\Shapely-1.5.11-py2.7-win-amd64.egg',\n",
       " 'C:\\\\Users\\\\d\\\\Anaconda2\\\\lib\\\\site-packages\\\\win32',\n",
       " 'C:\\\\Users\\\\d\\\\Anaconda2\\\\lib\\\\site-packages\\\\win32\\\\lib',\n",
       " 'C:\\\\Users\\\\d\\\\Anaconda2\\\\lib\\\\site-packages\\\\Pythonwin',\n",
       " 'C:\\\\Users\\\\d\\\\Anaconda2\\\\lib\\\\site-packages\\\\pywinpty-0.5-py2.7-win-amd64.egg',\n",
       " 'C:\\\\Users\\\\d\\\\Anaconda2\\\\lib\\\\site-packages\\\\IPython\\\\extensions',\n",
       " 'C:\\\\Users\\\\d\\\\.ipython']"
      ]
     },
     "execution_count": 2,
     "metadata": {},
     "output_type": "execute_result"
    }
   ],
   "source": [
    "import sys\n",
    "sys.path"
   ]
  },
  {
   "cell_type": "code",
   "execution_count": 3,
   "metadata": {},
   "outputs": [
    {
     "data": {
      "text/plain": [
       "'win32'"
      ]
     },
     "execution_count": 3,
     "metadata": {},
     "output_type": "execute_result"
    }
   ],
   "source": [
    "sys.platform"
   ]
  },
  {
   "cell_type": "code",
   "execution_count": 4,
   "metadata": {},
   "outputs": [
    {
     "data": {
      "text/plain": [
       "sys.getwindowsversion(major=6, minor=2, build=9200, platform=2, service_pack='')"
      ]
     },
     "execution_count": 4,
     "metadata": {},
     "output_type": "execute_result"
    }
   ],
   "source": [
    "sys.getwindowsversion()"
   ]
  },
  {
   "cell_type": "code",
   "execution_count": 5,
   "metadata": {},
   "outputs": [
    {
     "data": {
      "text/plain": [
       "'C:\\\\Users\\\\d\\\\map'"
      ]
     },
     "execution_count": 5,
     "metadata": {},
     "output_type": "execute_result"
    }
   ],
   "source": [
    "import os\n",
    "os.getcwd()"
   ]
  },
  {
   "cell_type": "code",
   "execution_count": 6,
   "metadata": {},
   "outputs": [
    {
     "data": {
      "text/plain": [
       "'.'"
      ]
     },
     "execution_count": 6,
     "metadata": {},
     "output_type": "execute_result"
    }
   ],
   "source": [
    "os.curdir"
   ]
  },
  {
   "cell_type": "code",
   "execution_count": 7,
   "metadata": {},
   "outputs": [
    {
     "data": {
      "text/plain": [
       "['.ipynb_checkpoints',\n",
       " '201404.csv',\n",
       " 'ex2.py',\n",
       " 'JANAF_CH4.txt',\n",
       " 'lena.jpg',\n",
       " 'map.ipynb',\n",
       " 'myfile.txt',\n",
       " 'newfile.txt',\n",
       " 'sys & os.ipynb',\n",
       " 'test.txt',\n",
       " '\\xcc\\xa8\\xb7\\xe7.json']"
      ]
     },
     "execution_count": 7,
     "metadata": {},
     "output_type": "execute_result"
    }
   ],
   "source": [
    "os.listdir(os.curdir)"
   ]
  },
  {
   "cell_type": "markdown",
   "metadata": {},
   "source": [
    "生成，重命名，删除"
   ]
  },
  {
   "cell_type": "code",
   "execution_count": 8,
   "metadata": {},
   "outputs": [
    {
     "name": "stdout",
     "output_type": "stream",
     "text": [
      "False\n",
      "True\n"
     ]
    }
   ],
   "source": [
    "f = open(\"test.file\", \"w\")\n",
    "f.close()\n",
    "os.rename(\"test.file\", \"test.new.file\")\n",
    "\n",
    "print \"test.file\" in os.listdir(os.curdir)\n",
    "print \"test.new.file\" in os.listdir(os.curdir)\n",
    "os.remove(\"test.new.file\")"
   ]
  },
  {
   "cell_type": "code",
   "execution_count": 48,
   "metadata": {},
   "outputs": [
    {
     "name": "stdout",
     "output_type": "stream",
     "text": [
      "Tuesday, 00/25/07\n",
      "2018-05-02\n",
      "15:38:00\n",
      "03:38, PM\n",
      "15:38:00, PM\n",
      "2018-05-02 17:00:25.350000\n"
     ]
    }
   ],
   "source": [
    "import datetime as dt\n",
    "d1 = dt.date(2007, 9, 25)\n",
    "d2 = dt.date(2008, 9, 25)\n",
    "print d1.strftime('%A, %M/%d/%y')\n",
    "print dt.date.today()\n",
    "t1 = dt.time(15, 38)\n",
    "t2 = dt.time(18)\n",
    "t3 = dt.datetime.now()\n",
    "print t1\n",
    "print t1.strftime('%I:%M, %p')\n",
    "print t1.strftime('%H:%M:%S, %p')\n",
    "print t3"
   ]
  }
 ],
 "metadata": {
  "kernelspec": {
   "display_name": "Python 2",
   "language": "python",
   "name": "python2"
  },
  "language_info": {
   "codemirror_mode": {
    "name": "ipython",
    "version": 2
   },
   "file_extension": ".py",
   "mimetype": "text/x-python",
   "name": "python",
   "nbconvert_exporter": "python",
   "pygments_lexer": "ipython2",
   "version": "2.7.14"
  }
 },
 "nbformat": 4,
 "nbformat_minor": 2
}
