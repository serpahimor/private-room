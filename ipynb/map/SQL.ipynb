{
 "cells": [
  {
   "cell_type": "code",
   "execution_count": 35,
   "metadata": {},
   "outputs": [],
   "source": [
    "import sqlite3 as db\n",
    "from sqlalchemy.ext.declarative import declarative_base\n",
    "from sqlalchemy import Column, Date, Float, Integer, String\n",
    "\n",
    "Base = declarative_base()\n",
    "\n",
    "class Order(Base):\n",
    "    __tablename__ = 'orders'\n",
    "    \n",
    "    order_id = Column(String, primary_key=True)\n",
    "    date = Column(Date)\n",
    "    symbol = Column(String)\n",
    "    quantity = Column(Integer)\n",
    "    price = Column(Float)\n",
    "    \n",
    "    def get_cost(self):\n",
    "        return self.quantity*self.price"
   ]
  },
  {
   "cell_type": "code",
   "execution_count": 36,
   "metadata": {},
   "outputs": [],
   "source": [
    "import datetime\n",
    "order = Order(order_id='A0004', date=datetime.date.today(), symbol='MSFT', quantity=-1000, price=187.54)"
   ]
  },
  {
   "cell_type": "code",
   "execution_count": 37,
   "metadata": {},
   "outputs": [
    {
     "data": {
      "text/plain": [
       "-187540.0"
      ]
     },
     "execution_count": 37,
     "metadata": {},
     "output_type": "execute_result"
    }
   ],
   "source": [
    "order.get_cost()"
   ]
  },
  {
   "cell_type": "code",
   "execution_count": 38,
   "metadata": {},
   "outputs": [
    {
     "name": "stdout",
     "output_type": "stream",
     "text": [
      "(u'A0002', u'2013-12-01', u'MSFT', 1500, 167.5)\n"
     ]
    }
   ],
   "source": [
    "from sqlalchemy import create_engine\n",
    "from sqlalchemy.orm import sessionmaker\n",
    "connection = db.connect(\"my_database.sqlite\")\n",
    "cursor = connection.cursor()\n",
    "cursor.execute(\"\"\"CREATE TABLE IF NOT EXISTS orders(\n",
    "        order_id TEXT PRIMARY KEY,\n",
    "        date TEXT,\n",
    "        symbol TEXT,\n",
    "        quantity INTEGER,\n",
    "        price NUMBER)\"\"\")\n",
    "cursor.execute(\"\"\"INSERT INTO orders VALUES\n",
    "        ('A0001', '2013-12-01', 'AAPL', 1000, 203.4)\"\"\")\n",
    "connection.commit()\n",
    "cursor.executemany(\"\"\"INSERT INTO orders VALUES\n",
    "    (?, ?, ?, ?, ?)\"\"\", orders)\n",
    "connection.commit()\n",
    "stock = 'MSFT'\n",
    "cursor.execute(\"\"\"SELECT *\n",
    "    FROM orders\n",
    "    WHERE symbol=?\n",
    "    ORDER BY quantity\"\"\", (stock,))\n",
    "for row in cursor:\n",
    "    print row\n",
    "engine = create_engine(\"sqlite:///my_database.sqlite\")   # 相当于 connection\n",
    "Session = sessionmaker(bind=engine) # 相当于 cursor\n",
    "session = Session()"
   ]
  },
  {
   "cell_type": "code",
   "execution_count": 7,
   "metadata": {},
   "outputs": [
    {
     "data": {
      "text/plain": [
       "'qmark'"
      ]
     },
     "execution_count": 7,
     "metadata": {},
     "output_type": "execute_result"
    }
   ],
   "source": [
    "db.paramstyle"
   ]
  },
  {
   "cell_type": "code",
   "execution_count": 39,
   "metadata": {},
   "outputs": [
    {
     "name": "stdout",
     "output_type": "stream",
     "text": [
      "(u'A0001', u'2013-12-01', u'AAPL', 1000, 203.4)\n",
      "(u'A0002', u'2013-12-01', u'MSFT', 1500, 167.5)\n",
      "(u'A0003', u'2013-12-02', u'GOOG', 1500, 167.5)\n",
      "(u'A0004', u'2018-05-28', u'MSFT', -1000, 187.54)\n"
     ]
    }
   ],
   "source": [
    "session.add(order)\n",
    "session.commit()\n",
    "for row in engine.execute(\"SELECT * FROM orders\"):\n",
    "    print row"
   ]
  },
  {
   "cell_type": "code",
   "execution_count": 40,
   "metadata": {},
   "outputs": [],
   "source": [
    "cursor.close()\n",
    "connection.close()"
   ]
  }
 ],
 "metadata": {
  "kernelspec": {
   "display_name": "Python 2",
   "language": "python",
   "name": "python2"
  },
  "language_info": {
   "codemirror_mode": {
    "name": "ipython",
    "version": 2
   },
   "file_extension": ".py",
   "mimetype": "text/x-python",
   "name": "python",
   "nbconvert_exporter": "python",
   "pygments_lexer": "ipython2",
   "version": "2.7.14"
  }
 },
 "nbformat": 4,
 "nbformat_minor": 2
}
