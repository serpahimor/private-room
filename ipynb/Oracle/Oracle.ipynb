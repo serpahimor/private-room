{
 "cells": [
  {
   "cell_type": "code",
   "execution_count": 4,
   "metadata": {},
   "outputs": [
    {
     "name": "stdout",
     "output_type": "stream",
     "text": [
      "Overwriting oracle.py\n"
     ]
    }
   ],
   "source": [
    "%%writefile oracle.py\n",
    "#orcl类：是一个数据库\n",
    "#login属性为xxxxx\n",
    "#方法为execute，close\n",
    "import pandas as pd\n",
    "import cx_Oracle as oracle\n",
    "class orcl(object):    \n",
    "    def __init__(self,login='BLS/bls2016@116.62.196.255:1521/orcl11g.us.oracle.com'):\n",
    "        self.db = oracle.connect(login, encoding = \"UTF-8\", nencoding = \"UTF-8\")\n",
    "    def execute(self,sql=\"select * from ASSI1001\"):\n",
    "        cr = self.db.cursor()\n",
    "        df=pd.DataFrame(cr.execute(sql).fetchall())\n",
    "        df.columns=[i[0] for i in cr.description]\n",
    "        return df\n",
    "    def close(self):\n",
    "        self.db.close()"
   ]
  },
  {
   "cell_type": "code",
   "execution_count": 283,
   "metadata": {},
   "outputs": [],
   "source": [
    "class animal(object):\n",
    "    def __init__(self,name):\n",
    "        self.name=name\n",
    "    def eat(self):\n",
    "        print('a animal name {} is eating'.format(self.name))\n",
    "class dog(animal):\n",
    "    def __init__(self,name,foot):\n",
    "        self.foot=foot\n",
    "        super().__init__(name)\n",
    "    def eat(self):\n",
    "        print('a dog name {} is eating'.format(self.name))      "
   ]
  },
  {
   "cell_type": "code",
   "execution_count": 286,
   "metadata": {},
   "outputs": [],
   "source": [
    "turtle=animal('turtle')\n",
    "snnopy=dog('snnopy','4')"
   ]
  },
  {
   "cell_type": "code",
   "execution_count": 294,
   "metadata": {},
   "outputs": [
    {
     "name": "stdout",
     "output_type": "stream",
     "text": [
      "a dog name snnopy is eating\n",
      "a animal name turtle is eating\n",
      "a animal name snnopy is eating\n",
      "a dog name snnopy is eating\n"
     ]
    }
   ],
   "source": [
    "snnopy.eat()\n",
    "turtle.eat()\n",
    "animal.eat(snnopy)\n",
    "dog.eat(snnopy)"
   ]
  },
  {
   "cell_type": "code",
   "execution_count": 7,
   "metadata": {},
   "outputs": [],
   "source": [
    "#orcl类：是一个数据库\n",
    "#login属性为xxxxx\n",
    "#方法为execute，close\n",
    "import pandas as pd\n",
    "import cx_Oracle as oracle\n",
    "class orcl(object):    \n",
    "    def __init__(self,login='BLS/bls2016@116.62.196.255:1521/orcl11g.us.oracle.com'):\n",
    "        self.db = oracle.connect(login, encoding = \"UTF-8\", nencoding = \"UTF-8\")\n",
    "    def execute(self,sql=\"select * from ASSI1001\"):\n",
    "        cr = self.db.cursor()\n",
    "        df=pd.DataFrame(cr.execute(sql).fetchall())\n",
    "        df.columns=[i[0] for i in cr.description]\n",
    "        return df\n",
    "    def close(self):\n",
    "        self.db.close()\n"
   ]
  },
  {
   "cell_type": "code",
   "execution_count": 8,
   "metadata": {},
   "outputs": [],
   "source": [
    "import oracle as orc\n",
    "df=orc.orcl()\n",
    "df.execute(\n",
    "'''\n",
    "SELECT tid,lid\n",
    "FROM ORDR1002\n",
    "WHERE ROWNUM <= 4\n",
    "'''\n",
    ")\n",
    "df.close()"
   ]
  },
  {
   "cell_type": "code",
   "execution_count": 9,
   "metadata": {},
   "outputs": [
    {
     "data": {
      "text/html": [
       "<div>\n",
       "<style scoped>\n",
       "    .dataframe tbody tr th:only-of-type {\n",
       "        vertical-align: middle;\n",
       "    }\n",
       "\n",
       "    .dataframe tbody tr th {\n",
       "        vertical-align: top;\n",
       "    }\n",
       "\n",
       "    .dataframe thead th {\n",
       "        text-align: right;\n",
       "    }\n",
       "</style>\n",
       "<table border=\"1\" class=\"dataframe\">\n",
       "  <thead>\n",
       "    <tr style=\"text-align: right;\">\n",
       "      <th></th>\n",
       "      <th>TID</th>\n",
       "      <th>LID</th>\n",
       "    </tr>\n",
       "  </thead>\n",
       "  <tbody>\n",
       "    <tr>\n",
       "      <th>0</th>\n",
       "      <td>1411400011708050001</td>\n",
       "      <td>10000231</td>\n",
       "    </tr>\n",
       "    <tr>\n",
       "      <th>1</th>\n",
       "      <td>1411400011708050002</td>\n",
       "      <td>10000226</td>\n",
       "    </tr>\n",
       "    <tr>\n",
       "      <th>2</th>\n",
       "      <td>1430100011708050002</td>\n",
       "      <td>10000255</td>\n",
       "    </tr>\n",
       "    <tr>\n",
       "      <th>3</th>\n",
       "      <td>1330500011708050002</td>\n",
       "      <td>10000216</td>\n",
       "    </tr>\n",
       "  </tbody>\n",
       "</table>\n",
       "</div>"
      ],
      "text/plain": [
       "                   TID       LID\n",
       "0  1411400011708050001  10000231\n",
       "1  1411400011708050002  10000226\n",
       "2  1430100011708050002  10000255\n",
       "3  1330500011708050002  10000216"
      ]
     },
     "execution_count": 9,
     "metadata": {},
     "output_type": "execute_result"
    }
   ],
   "source": [
    "df=orcl()\n",
    "df.execute(\n",
    "'''\n",
    "SELECT tid,lid\n",
    "FROM ORDR1002\n",
    "WHERE ROWNUM <= 4\n",
    "'''\n",
    ")\n"
   ]
  },
  {
   "cell_type": "code",
   "execution_count": null,
   "metadata": {},
   "outputs": [],
   "source": []
  },
  {
   "cell_type": "code",
   "execution_count": null,
   "metadata": {},
   "outputs": [],
   "source": []
  },
  {
   "cell_type": "code",
   "execution_count": 11,
   "metadata": {},
   "outputs": [],
   "source": [
    "df=orcl()\n",
    "df_budan=df.execute(\n",
    "'''\n",
    "SELECT org_lid,org_tid，tid\n",
    "FROM ORDR1007 \n",
    "'''\n",
    ")"
   ]
  },
  {
   "cell_type": "code",
   "execution_count": 726,
   "metadata": {},
   "outputs": [
    {
     "name": "stdout",
     "output_type": "stream",
     "text": [
      "<class 'pandas.core.frame.DataFrame'>\n",
      "RangeIndex: 4390 entries, 0 to 4389\n",
      "Data columns (total 3 columns):\n",
      "ORG_LID    4390 non-null int64\n",
      "ORG_TID    4390 non-null int64\n",
      "TID        4390 non-null int64\n",
      "dtypes: int64(3)\n",
      "memory usage: 103.0 KB\n"
     ]
    }
   ],
   "source": [
    "df_budan.info()"
   ]
  },
  {
   "cell_type": "code",
   "execution_count": 12,
   "metadata": {},
   "outputs": [
    {
     "data": {
      "text/html": [
       "<div>\n",
       "<style scoped>\n",
       "    .dataframe tbody tr th:only-of-type {\n",
       "        vertical-align: middle;\n",
       "    }\n",
       "\n",
       "    .dataframe tbody tr th {\n",
       "        vertical-align: top;\n",
       "    }\n",
       "\n",
       "    .dataframe thead th {\n",
       "        text-align: right;\n",
       "    }\n",
       "</style>\n",
       "<table border=\"1\" class=\"dataframe\">\n",
       "  <thead>\n",
       "    <tr style=\"text-align: right;\">\n",
       "      <th></th>\n",
       "      <th>budan_num</th>\n",
       "    </tr>\n",
       "  </thead>\n",
       "  <tbody>\n",
       "    <tr>\n",
       "      <th>count</th>\n",
       "      <td>1377.00000</td>\n",
       "    </tr>\n",
       "    <tr>\n",
       "      <th>mean</th>\n",
       "      <td>3.18809</td>\n",
       "    </tr>\n",
       "    <tr>\n",
       "      <th>std</th>\n",
       "      <td>3.27165</td>\n",
       "    </tr>\n",
       "    <tr>\n",
       "      <th>min</th>\n",
       "      <td>1.00000</td>\n",
       "    </tr>\n",
       "    <tr>\n",
       "      <th>25%</th>\n",
       "      <td>1.00000</td>\n",
       "    </tr>\n",
       "    <tr>\n",
       "      <th>50%</th>\n",
       "      <td>2.00000</td>\n",
       "    </tr>\n",
       "    <tr>\n",
       "      <th>75%</th>\n",
       "      <td>4.00000</td>\n",
       "    </tr>\n",
       "    <tr>\n",
       "      <th>max</th>\n",
       "      <td>42.00000</td>\n",
       "    </tr>\n",
       "  </tbody>\n",
       "</table>\n",
       "</div>"
      ],
      "text/plain": [
       "        budan_num\n",
       "count  1377.00000\n",
       "mean      3.18809\n",
       "std       3.27165\n",
       "min       1.00000\n",
       "25%       1.00000\n",
       "50%       2.00000\n",
       "75%       4.00000\n",
       "max      42.00000"
      ]
     },
     "execution_count": 12,
     "metadata": {},
     "output_type": "execute_result"
    }
   ],
   "source": [
    "%matplotlib inline\n",
    "df_budan['budan_num']=1\n",
    "df_budan.groupby(['ORG_LID']).aggregate({'budan_num':sum}).reset_index()[['budan_num']].describe()"
   ]
  },
  {
   "cell_type": "code",
   "execution_count": 364,
   "metadata": {},
   "outputs": [
    {
     "name": "stdout",
     "output_type": "stream",
     "text": [
      "<class 'pandas.core.frame.DataFrame'>\n",
      "Int64Index: 1377 entries, 0 to 4373\n",
      "Data columns (total 4 columns):\n",
      "ORG_LID      1377 non-null int64\n",
      "ORG_TID      1377 non-null int64\n",
      "TID          1377 non-null int64\n",
      "budan_num    1377 non-null int64\n",
      "dtypes: int64(4)\n",
      "memory usage: 53.8 KB\n"
     ]
    }
   ],
   "source": [
    "df_budan[df_budan.duplicated(['ORG_LID'])==False].info()"
   ]
  },
  {
   "cell_type": "code",
   "execution_count": 650,
   "metadata": {},
   "outputs": [],
   "source": [
    "df_dingdan=df.execute(\n",
    "'''\n",
    "SELECT lid\n",
    "FROM ORDR1002 \n",
    "'''\n",
    ")"
   ]
  },
  {
   "cell_type": "code",
   "execution_count": 383,
   "metadata": {},
   "outputs": [
    {
     "name": "stdout",
     "output_type": "stream",
     "text": [
      "<class 'pandas.core.frame.DataFrame'>\n",
      "Int64Index: 4048 entries, 0 to 30246\n",
      "Data columns (total 1 columns):\n",
      "LID    4048 non-null int64\n",
      "dtypes: int64(1)\n",
      "memory usage: 63.2 KB\n"
     ]
    }
   ],
   "source": [
    "df_dingdan[df_dingdan.duplicated(['LID'])==False].info()"
   ]
  },
  {
   "cell_type": "code",
   "execution_count": 13,
   "metadata": {},
   "outputs": [],
   "source": [
    "df_dingdan_time=df.execute(\n",
    "'''\n",
    "SELECT lid,add_time,tid\n",
    "FROM ORDR1002 \n",
    "'''\n",
    ")"
   ]
  },
  {
   "cell_type": "code",
   "execution_count": 720,
   "metadata": {},
   "outputs": [
    {
     "name": "stdout",
     "output_type": "stream",
     "text": [
      "<class 'pandas.core.frame.DataFrame'>\n",
      "RangeIndex: 30247 entries, 0 to 30246\n",
      "Data columns (total 3 columns):\n",
      "LID         30247 non-null int64\n",
      "ADD_TIME    30247 non-null datetime64[ns]\n",
      "TID         30247 non-null int64\n",
      "dtypes: datetime64[ns](1), int64(2)\n",
      "memory usage: 709.0 KB\n"
     ]
    }
   ],
   "source": [
    "df_dingdan_time.info()"
   ]
  },
  {
   "cell_type": "code",
   "execution_count": 14,
   "metadata": {},
   "outputs": [],
   "source": [
    "df_dingdan_time=df_dingdan_time.drop_duplicates('ADD_TIME')"
   ]
  },
  {
   "cell_type": "code",
   "execution_count": 729,
   "metadata": {},
   "outputs": [
    {
     "name": "stdout",
     "output_type": "stream",
     "text": [
      "<class 'pandas.core.frame.DataFrame'>\n",
      "Int64Index: 25678 entries, 0 to 30246\n",
      "Data columns (total 3 columns):\n",
      "LID         25678 non-null int64\n",
      "ADD_TIME    25678 non-null datetime64[ns]\n",
      "TID         25678 non-null int64\n",
      "dtypes: datetime64[ns](1), int64(2)\n",
      "memory usage: 802.4 KB\n"
     ]
    }
   ],
   "source": [
    "df_dingdan_time.info()"
   ]
  },
  {
   "cell_type": "code",
   "execution_count": 16,
   "metadata": {},
   "outputs": [],
   "source": [
    "def my_bayes(z):\n",
    "    x_tr,t_tr=z[z.columns[1]].as_matrix(),z[z.columns[0]].as_matrix()\n",
    "    def phi(x, M):\n",
    "        return x[:,None] ** np.arange(M + 1)\n",
    "    N=len(z)\n",
    "    M = N-1\n",
    "    alpha = 5e-3\n",
    "    beta = 11.1\n",
    "    lam = alpha / beta\n",
    "    phi_x_tr = phi(x_tr, M)\n",
    "    A_0 = phi_x_tr.T.dot(phi_x_tr) + lam * np.eye(M+1)\n",
    "    y_0 = t_tr.dot(phi_x_tr)\n",
    "    coeff = np.linalg.solve(A_0, y_0)[::-1]\n",
    "    f = np.poly1d(coeff)\n",
    "    xx = np.linspace(0, 1, 50)\n",
    "    S = np.linalg.inv(A_0 * beta)\n",
    "    m_xx = beta * phi(xx, M).dot(S).dot(y_0)\n",
    "    s_xx = np.sqrt(1 / beta + phi(xx, M).dot(S).dot(phi(xx, M).T).diagonal())\n",
    "    fig, ax = plt.subplots()\n",
    "    ax.plot(x_tr, t_tr, 'co')\n",
    "    ax.plot(xx, f(xx), 'r')\n",
    "    ax.fill_between(xx, (m_xx-s_xx), (m_xx+s_xx), color=\"pink\")\n",
    "    plt.show()"
   ]
  },
  {
   "cell_type": "code",
   "execution_count": 34,
   "metadata": {},
   "outputs": [
    {
     "data": {
      "image/png": "[encoded data removed]",
      "text/plain": [
       "<Figure size 432x288 with 1 Axes>"
      ]
     },
     "metadata": {},
     "output_type": "display_data"
    },
    {
     "data": {
      "image/png": "[encoded data removed]",
      "text/plain": [
       "<Figure size 432x288 with 1 Axes>"
      ]
     },
     "metadata": {},
     "output_type": "display_data"
    },
    {
     "name": "stdout",
     "output_type": "stream",
     "text": [
      "                     dingdan_num  budan_num  budan_rate\n",
      "ADD_TIME                                               \n",
      "2018-01-28 17:21:58          879      691.0    0.786121\n",
      "66.57%\n"
     ]
    }
   ],
   "source": [
    "import matplotlib.pyplot as plt\n",
    "for i in range(18,19):\n",
    "    x=df_dingdan_time.merge(df_budan,left_on='LID',right_on='ORG_LID',how='left').drop_duplicates('TID_x').fillna(0).eval('dingdan_num=1').groupby([pd.Grouper(key=\"ADD_TIME\",freq='{}d'.format(i))])[\"dingdan_num\",\"budan_num\"].sum().eval('budan_rate=budan_num/dingdan_num').query('budan_rate!=1.0')\n",
    "    y=x['budan_rate']\n",
    "    plt.plot(x.index,y,'c')\n",
    "    plt.plot(x.index,x*0+y.median(), 'r--')\n",
    "    z={}\n",
    "    z[0],z[1]=x['budan_num'],x['budan_rate']\n",
    "    my_bayes(pd.DataFrame(z))\n",
    "    print(x.query('budan_rate==budan_rate.max()'))\n",
    "    print('{:.2%}'.format(y.median()))"
   ]
  }
 ],
 "metadata": {
  "hide_input": false,
  "kernelspec": {
   "display_name": "Python 3",
   "language": "python",
   "name": "python3"
  },
  "language_info": {
   "codemirror_mode": {
    "name": "ipython",
    "version": 3
   },
   "file_extension": ".py",
   "mimetype": "text/x-python",
   "name": "python",
   "nbconvert_exporter": "python",
   "pygments_lexer": "ipython3",
   "version": "3.6.4"
  },
  "toc": {
   "base_numbering": 1,
   "nav_menu": {},
   "number_sections": true,
   "sideBar": true,
   "skip_h1_title": false,
   "title_cell": "Table of Contents",
   "title_sidebar": "Contents",
   "toc_cell": false,
   "toc_position": {},
   "toc_section_display": true,
   "toc_window_display": false
  },
  "varInspector": {
   "cols": {
    "lenName": "4",
    "lenType": 16,
    "lenVar": 40
   },
   "kernels_config": {
    "python": {
     "delete_cmd_postfix": "",
     "delete_cmd_prefix": "del ",
     "library": "var_list.py",
     "varRefreshCmd": "print(var_dic_list())"
    },
    "r": {
     "delete_cmd_postfix": ") ",
     "delete_cmd_prefix": "rm(",
     "library": "var_list.r",
     "varRefreshCmd": "cat(var_dic_list()) "
    }
   },
   "types_to_exclude": [
    "module",
    "function",
    "builtin_function_or_method",
    "instance",
    "_Feature"
   ],
   "window_display": false
  }
 },
 "nbformat": 4,
 "nbformat_minor": 2
}
